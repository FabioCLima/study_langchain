{
 "cells": [
  {
   "cell_type": "markdown",
   "metadata": {},
   "source": [
    "# Runnables"
   ]
  },
  {
   "cell_type": "markdown",
   "metadata": {},
   "source": [
    "## Métodos dos Runnables de LCEL\n",
    "\n",
    "A interface padrão de LCEL inclui os seguintes métodos:\n",
    "\n",
    "- **stream:** transmitir de volta fragmentos da resposta\n",
    "- **invoke:** chamar a cadeia com um input\n",
    "- **batch:** chamar a cadeia com uma lista de inputs\n",
    "\n",
    "Esses também possuem métodos assíncronos correspondentes que devem ser usados com a sintaxe `asyncio await` para concorrência:\n",
    "\n",
    "- **astream:** transmitir de volta fragmentos da resposta de forma assíncrona\n",
    "- **ainvoke:** chamar a cadeia com um input de forma assíncrona\n",
    "- **abatch:** chamar a cadeia com uma lista de inputs de forma assíncrona"
   ]
  },
  {
   "cell_type": "code",
   "execution_count": 1,
   "metadata": {},
   "outputs": [],
   "source": [
    "from langchain_openai import ChatOpenAI\n",
    "from langchain_core.prompts import ChatPromptTemplate\n",
    "from dotenv import load_dotenv, find_dotenv\n",
    "from langchain_core.runnables import RunnableLambda, RunnableParallel\n",
    "import os"
   ]
  },
  {
   "cell_type": "code",
   "execution_count": 2,
   "metadata": {},
   "outputs": [
    {
     "name": "stdout",
     "output_type": "stream",
     "text": [
      "The sky is **blue** (during the day) due to the scattering of sunlight by the atmosphere. This phenomenon is called **Rayleigh scattering**. At sunrise and sunset, the sky can appear **red, orange, or pink** because the sunlight passes through more atmosphere, scattering shorter blue wavelengths and allowing longer red wavelengths to dominate.\n",
      "\n",
      "At night, the sky appears **dark or black**, dotted with stars, because the sun is no longer illuminating the atmosphere above you.\n",
      "\n",
      "So, the sky **can be blue, red, orange, pink, gray, or black** depending on the time of day, weather, and atmospheric conditions!\n"
     ]
    }
   ],
   "source": [
    "#! TODO - Instantiate your chat model\n",
    "# * Carrega as variáveis de ambiente\n",
    "_ = load_dotenv(find_dotenv())\n",
    "\n",
    "# * Verifica se a API key está configurada\n",
    "if not os.getenv(\"OPENAI_API_KEY\"):\n",
    "    raise ValueError(\"OPENAI_API_KEY não encontrada no arquivo .env\")\n",
    "\n",
    "# * Configura o modelo com parâmetros específicos\n",
    "model: ChatOpenAI = ChatOpenAI(\n",
    "    model=\"gpt-4.1\",\n",
    "    temperature=0.0,  # Controla a criatividade das respostas\n",
    ")  # type: ignore\n",
    "\n",
    "response = model.invoke(\"The Sky is ?\")\n",
    "print(response.content)"
   ]
  },
  {
   "cell_type": "code",
   "execution_count": 3,
   "metadata": {},
   "outputs": [],
   "source": [
    "model = ChatOpenAI()\n",
    "prompt = ChatPromptTemplate.from_template(\"Crie uma frase sobre o assunto: {assunto}\")\n",
    "\n",
    "chain = prompt | model"
   ]
  },
  {
   "cell_type": "markdown",
   "metadata": {},
   "source": [
    "## Invoke\n",
    "\n",
    "O invoke é o método básico para inserir uma input na cadeia e receber uma resposta"
   ]
  },
  {
   "cell_type": "code",
   "execution_count": 4,
   "metadata": {},
   "outputs": [
    {
     "data": {
      "text/plain": [
       "AIMessage(content='Os cachorrinhos são seres incrivelmente leais e amorosos, capazes de nos trazer alegria e companhia em todos os momentos da vida.', additional_kwargs={'refusal': None}, response_metadata={'token_usage': {'completion_tokens': 37, 'prompt_tokens': 20, 'total_tokens': 57, 'completion_tokens_details': {'accepted_prediction_tokens': 0, 'audio_tokens': 0, 'reasoning_tokens': 0, 'rejected_prediction_tokens': 0}, 'prompt_tokens_details': {'audio_tokens': 0, 'cached_tokens': 0}}, 'model_name': 'gpt-3.5-turbo-0125', 'system_fingerprint': None, 'id': 'chatcmpl-C1Alc1SagKFG65a3UqzkJpFnfFcTp', 'service_tier': 'default', 'finish_reason': 'stop', 'logprobs': None}, id='run--306fe8e9-40fd-427a-9810-bbd6db36ed64-0', usage_metadata={'input_tokens': 20, 'output_tokens': 37, 'total_tokens': 57, 'input_token_details': {'audio': 0, 'cache_read': 0}, 'output_token_details': {'audio': 0, 'reasoning': 0}})"
      ]
     },
     "execution_count": 4,
     "metadata": {},
     "output_type": "execute_result"
    }
   ],
   "source": [
    "chain.invoke({'assunto': 'cachorrinhos'})"
   ]
  },
  {
   "cell_type": "markdown",
   "metadata": {},
   "source": [
    "Ele pode ser rodado como uma simples string quando existe apenas uma input no prompt, mas a forma mais recomendada é informando especificamente o nome da input através de um dicionário."
   ]
  },
  {
   "cell_type": "code",
   "execution_count": 5,
   "metadata": {},
   "outputs": [
    {
     "data": {
      "text/plain": [
       "AIMessage(content='Cachorrinhos são anjos de quatro patas que enchem nossas vidas de amor e alegria.', additional_kwargs={'refusal': None}, response_metadata={'token_usage': {'completion_tokens': 27, 'prompt_tokens': 20, 'total_tokens': 47, 'completion_tokens_details': {'accepted_prediction_tokens': 0, 'audio_tokens': 0, 'reasoning_tokens': 0, 'rejected_prediction_tokens': 0}, 'prompt_tokens_details': {'audio_tokens': 0, 'cached_tokens': 0}}, 'model_name': 'gpt-3.5-turbo-0125', 'system_fingerprint': None, 'id': 'chatcmpl-C1AlrE2b9GWv0Q4hknIQjmcBsk9ir', 'service_tier': 'default', 'finish_reason': 'stop', 'logprobs': None}, id='run--4bb0ae23-4f5b-4c22-a761-2f369d47456b-0', usage_metadata={'input_tokens': 20, 'output_tokens': 27, 'total_tokens': 47, 'input_token_details': {'audio': 0, 'cache_read': 0}, 'output_token_details': {'audio': 0, 'reasoning': 0}})"
      ]
     },
     "execution_count": 5,
     "metadata": {},
     "output_type": "execute_result"
    }
   ],
   "source": [
    "chain.invoke('cachorrinhos')"
   ]
  },
  {
   "cell_type": "markdown",
   "metadata": {},
   "source": [
    "## Stream\n",
    "\n",
    "Para recebermos uma saída conforme ela é gerada pelo modelo utilizamos o stream\n"
   ]
  },
  {
   "cell_type": "code",
   "execution_count": 6,
   "metadata": {},
   "outputs": [
    {
     "name": "stdout",
     "output_type": "stream",
     "text": [
      "Cachorrinhos nos ensinam a amar incondicionalmente e nos alegram todos os dias com sua alegria contagiante."
     ]
    }
   ],
   "source": [
    "for stream in chain.stream('cachorrinhos'):\n",
    "    print(stream.content, end='') "
   ]
  },
  {
   "cell_type": "markdown",
   "metadata": {},
   "source": [
    "## Batch\n",
    "\n",
    "Para fazermos múltiplas requisições em paralelo utilizamos o batch"
   ]
  },
  {
   "cell_type": "code",
   "execution_count": 7,
   "metadata": {},
   "outputs": [
    {
     "data": {
      "text/plain": [
       "[AIMessage(content='Cachorrinhos são a pura essência de amor e fofura, capazes de alegrar nossos dias com apenas um olhar.', additional_kwargs={'refusal': None}, response_metadata={'token_usage': {'completion_tokens': 33, 'prompt_tokens': 20, 'total_tokens': 53, 'completion_tokens_details': {'accepted_prediction_tokens': 0, 'audio_tokens': 0, 'reasoning_tokens': 0, 'rejected_prediction_tokens': 0}, 'prompt_tokens_details': {'audio_tokens': 0, 'cached_tokens': 0}}, 'model_name': 'gpt-3.5-turbo-0125', 'system_fingerprint': None, 'id': 'chatcmpl-C1AyWymdUbi4Zd1zwjXookBoukZFM', 'service_tier': 'default', 'finish_reason': 'stop', 'logprobs': None}, id='run--03ff903a-2f7a-4b8c-a255-3d61e02780f4-0', usage_metadata={'input_tokens': 20, 'output_tokens': 33, 'total_tokens': 53, 'input_token_details': {'audio': 0, 'cache_read': 0}, 'output_token_details': {'audio': 0, 'reasoning': 0}}),\n",
       " AIMessage(content='\"Os gatinhos são verdadeiras bolinhas de pelo fofinhas e cheias de amor para dar.\"', additional_kwargs={'refusal': None}, response_metadata={'token_usage': {'completion_tokens': 25, 'prompt_tokens': 19, 'total_tokens': 44, 'completion_tokens_details': {'accepted_prediction_tokens': 0, 'audio_tokens': 0, 'reasoning_tokens': 0, 'rejected_prediction_tokens': 0}, 'prompt_tokens_details': {'audio_tokens': 0, 'cached_tokens': 0}}, 'model_name': 'gpt-3.5-turbo-0125', 'system_fingerprint': None, 'id': 'chatcmpl-C1AyV9ko5q1u1A7p01gyooR2Msxvj', 'service_tier': 'default', 'finish_reason': 'stop', 'logprobs': None}, id='run--5e0172e8-a154-4182-992e-2fad40c109f5-0', usage_metadata={'input_tokens': 19, 'output_tokens': 25, 'total_tokens': 44, 'input_token_details': {'audio': 0, 'cache_read': 0}, 'output_token_details': {'audio': 0, 'reasoning': 0}}),\n",
       " AIMessage(content='Os cavalinhos de carrossel trazem memórias e nostalgia de uma infância feliz e cheia de diversão.', additional_kwargs={'refusal': None}, response_metadata={'token_usage': {'completion_tokens': 28, 'prompt_tokens': 19, 'total_tokens': 47, 'completion_tokens_details': {'accepted_prediction_tokens': 0, 'audio_tokens': 0, 'reasoning_tokens': 0, 'rejected_prediction_tokens': 0}, 'prompt_tokens_details': {'audio_tokens': 0, 'cached_tokens': 0}}, 'model_name': 'gpt-3.5-turbo-0125', 'system_fingerprint': None, 'id': 'chatcmpl-C1AyVRobhymgnF9KP8QWyD6e9qGIz', 'service_tier': 'default', 'finish_reason': 'stop', 'logprobs': None}, id='run--ac973e82-1435-4f8a-a06f-552fced49e7b-0', usage_metadata={'input_tokens': 19, 'output_tokens': 28, 'total_tokens': 47, 'input_token_details': {'audio': 0, 'cache_read': 0}, 'output_token_details': {'audio': 0, 'reasoning': 0}})]"
      ]
     },
     "execution_count": 7,
     "metadata": {},
     "output_type": "execute_result"
    }
   ],
   "source": [
    "chain.batch([{'assunto': 'cachorrinhos'}, {'assunto': 'gatinhos'}, {'assunto': 'cavalinhos'}])"
   ]
  },
  {
   "cell_type": "code",
   "execution_count": 8,
   "metadata": {},
   "outputs": [
    {
     "data": {
      "text/plain": [
       "[AIMessage(content='Cachorrinhos são seres repletos de amor e lealdade, que nos ensinam o verdadeiro significado da felicidade e companheirismo.', additional_kwargs={'refusal': None}, response_metadata={'token_usage': {'completion_tokens': 38, 'prompt_tokens': 20, 'total_tokens': 58, 'completion_tokens_details': {'accepted_prediction_tokens': 0, 'audio_tokens': 0, 'reasoning_tokens': 0, 'rejected_prediction_tokens': 0}, 'prompt_tokens_details': {'audio_tokens': 0, 'cached_tokens': 0}}, 'model_name': 'gpt-3.5-turbo-0125', 'system_fingerprint': None, 'id': 'chatcmpl-C1AygZKvl7cXykouJrBd8eJpwJLZn', 'service_tier': 'default', 'finish_reason': 'stop', 'logprobs': None}, id='run--17817e92-b9cf-41c7-a668-5a0a0f7c3ad5-0', usage_metadata={'input_tokens': 20, 'output_tokens': 38, 'total_tokens': 58, 'input_token_details': {'audio': 0, 'cache_read': 0}, 'output_token_details': {'audio': 0, 'reasoning': 0}}),\n",
       " AIMessage(content='Os gatinhos são seres adoráveis e fofos que trazem alegria e carinho para nossas vidas.', additional_kwargs={'refusal': None}, response_metadata={'token_usage': {'completion_tokens': 30, 'prompt_tokens': 19, 'total_tokens': 49, 'completion_tokens_details': {'accepted_prediction_tokens': 0, 'audio_tokens': 0, 'reasoning_tokens': 0, 'rejected_prediction_tokens': 0}, 'prompt_tokens_details': {'audio_tokens': 0, 'cached_tokens': 0}}, 'model_name': 'gpt-3.5-turbo-0125', 'system_fingerprint': None, 'id': 'chatcmpl-C1AyhiTZKrwBFULiQbVEIkpWgx5yS', 'service_tier': 'default', 'finish_reason': 'stop', 'logprobs': None}, id='run--5ecd1c23-7513-422b-9323-10d4c17dd9e1-0', usage_metadata={'input_tokens': 19, 'output_tokens': 30, 'total_tokens': 49, 'input_token_details': {'audio': 0, 'cache_read': 0}, 'output_token_details': {'audio': 0, 'reasoning': 0}}),\n",
       " AIMessage(content='Os cavalinhos de carrossel são brinquedos encantadores que nos levam a passear pela nossa imaginação.', additional_kwargs={'refusal': None}, response_metadata={'token_usage': {'completion_tokens': 29, 'prompt_tokens': 19, 'total_tokens': 48, 'completion_tokens_details': {'accepted_prediction_tokens': 0, 'audio_tokens': 0, 'reasoning_tokens': 0, 'rejected_prediction_tokens': 0}, 'prompt_tokens_details': {'audio_tokens': 0, 'cached_tokens': 0}}, 'model_name': 'gpt-3.5-turbo-0125', 'system_fingerprint': None, 'id': 'chatcmpl-C1AyhFRbj6QoDYJJKICfWGNZ9BgHH', 'service_tier': 'default', 'finish_reason': 'stop', 'logprobs': None}, id='run--2e800fef-e2a1-4f93-bdcd-086c1d9092ad-0', usage_metadata={'input_tokens': 19, 'output_tokens': 29, 'total_tokens': 48, 'input_token_details': {'audio': 0, 'cache_read': 0}, 'output_token_details': {'audio': 0, 'reasoning': 0}})]"
      ]
     },
     "execution_count": 8,
     "metadata": {},
     "output_type": "execute_result"
    }
   ],
   "source": [
    "chain.batch([{'assunto': 'cachorrinhos'}, {'assunto': 'gatinhos'}, {'assunto': 'cavalinhos'}], config={'max_concurrency': 2})"
   ]
  },
  {
   "cell_type": "markdown",
   "metadata": {},
   "source": [
    "## Runnables especiais"
   ]
  },
  {
   "cell_type": "markdown",
   "metadata": {},
   "source": [
    "### Rodando em paralelo\n",
    "```\n",
    "     Input      \n",
    "      / \\       \n",
    "     /   \\      \n",
    " Branch1 Branch2\n",
    "     \\   /      \n",
    "      \\ /       \n",
    "      Combine   \n",
    "```"
   ]
  },
  {
   "cell_type": "code",
   "execution_count": 9,
   "metadata": {},
   "outputs": [],
   "source": [
    "from langchain_openai import ChatOpenAI\n",
    "from langchain_core.prompts import ChatPromptTemplate\n",
    "from langchain_core.output_parsers import StrOutputParser\n",
    "from langchain_core.runnables import RunnableParallel\n",
    "\n",
    "\n",
    "model = ChatOpenAI()\n",
    "prompt = ChatPromptTemplate.from_template(\"Crie um nome para o seguinte produto: {produto}\")\n",
    "\n",
    "chain_nome = prompt | model | StrOutputParser()"
   ]
  },
  {
   "cell_type": "code",
   "execution_count": 10,
   "metadata": {},
   "outputs": [
    {
     "name": "stdout",
     "output_type": "stream",
     "text": [
      "{'output_parser': 'O cliente potencial para um notebook pode ser bastante variado, já que se trata de um produto de uso muito comum nos dias de hoje. No entanto, podemos identificar algumas características comuns entre os potenciais compradores desse tipo de produto.\\n\\nEm primeiro lugar, o público-alvo de notebooks costuma ser formado por pessoas que trabalham em escritórios ou que precisam ter acesso constante à internet e a ferramentas de trabalho, como estudantes, profissionais liberais, empreendedores e executivos.\\n\\nAlém disso, o cliente potencial para um notebook geralmente possui um estilo de vida bastante dinâmico, precisa de mobilidade e praticidade no dia a dia e valoriza a tecnologia e a inovação em seus dispositivos ele eletrônicos.\\n\\nPor fim, é importante ressaltar que o público interessado em notebooks pode ter diferentes faixas etárias e níveis de conhecimento em tecnologia, sendo necessário oferecer produtos de diferentes faixas de preço e especificações técnicas para atender às diferentes necessidades e preferências dos consumidores.', 'log': None}\n",
      "[AIMessage(content='O cliente potencial para um notebook pode ser bastante variado, já que se trata de um produto de uso muito comum nos dias de hoje. No entanto, podemos identificar algumas características comuns entre os potenciais compradores desse tipo de produto.\\n\\nEm primeiro lugar, o público-alvo de notebooks costuma ser formado por pessoas que trabalham em escritórios ou que precisam ter acesso constante à internet e a ferramentas de trabalho, como estudantes, profissionais liberais, empreendedores e executivos.\\n\\nAlém disso, o cliente potencial para um notebook geralmente possui um estilo de vida bastante dinâmico, precisa de mobilidade e praticidade no dia a dia e valoriza a tecnologia e a inovação em seus dispositivos ele eletrônicos.\\n\\nPor fim, é importante ressaltar que o público interessado em notebooks pode ter diferentes faixas etárias e níveis de conhecimento em tecnologia, sendo necessário oferecer produtos de diferentes faixas de preço e especificações técnicas para atender às diferentes necessidades e preferências dos consumidores.', additional_kwargs={'refusal': None}, response_metadata={'token_usage': {'completion_tokens': 235, 'prompt_tokens': 21, 'total_tokens': 256, 'completion_tokens_details': {'accepted_prediction_tokens': 0, 'audio_tokens': 0, 'reasoning_tokens': 0, 'rejected_prediction_tokens': 0}, 'prompt_tokens_details': {'audio_tokens': 0, 'cached_tokens': 0}}, 'model_name': 'gpt-3.5-turbo-0125', 'system_fingerprint': None, 'id': 'chatcmpl-C1AzWgssa7PDNcGvn3S0An8rfRb4v', 'service_tier': 'default', 'finish_reason': 'stop', 'logprobs': None}, id='run--d80250e1-36ce-4538-8493-0436792d2af3-0', usage_metadata={'input_tokens': 21, 'output_tokens': 235, 'total_tokens': 256, 'input_token_details': {'audio': 0, 'cache_read': 0}, 'output_token_details': {'audio': 0, 'reasoning': 0}})]\n"
     ]
    }
   ],
   "source": [
    "from langchain_core.runnables import RunnableLambda\n",
    "\n",
    "logs = []\n",
    "model = ChatOpenAI()\n",
    "prompt = ChatPromptTemplate.from_template(\"Descreva o cliente potencial para o seguinte produto: {produto}\")\n",
    "\n",
    "parser = StrOutputParser()\n",
    "parser_and_log_output_chain = RunnableParallel(\n",
    "    output_parser=parser,\n",
    "    log = RunnableLambda(lambda x: logs.append(x))\n",
    ")\n",
    "\n",
    "chain_clientes = prompt | model | parser_and_log_output_chain\n",
    "\n",
    "response = chain_clientes.invoke({\"produto\": \"notebook\"})\n",
    "print(response)\n",
    "print(logs)"
   ]
  },
  {
   "cell_type": "code",
   "execution_count": 11,
   "metadata": {},
   "outputs": [],
   "source": [
    "model = ChatOpenAI()\n",
    "prompt = ChatPromptTemplate.from_template(\"\"\"Dado o produto com o seguinte nome e seguinte\n",
    "público potencial, desenvolva um anúncio para o produto.\n",
    "                                          \n",
    "Nome do produto: {nome_produto}\n",
    "Público: {publico}\"\"\")"
   ]
  },
  {
   "cell_type": "code",
   "execution_count": 12,
   "metadata": {},
   "outputs": [
    {
     "data": {
      "text/plain": [
       "{'nome_produto': 'Ultra Resist Cup',\n",
       " 'publico': {'output_parser': 'O cliente potencial para um copo inquebrável seria alguém que valoriza a durabilidade e resistência de seus utensílios domésticos. Pode ser uma pessoa que tem crianças pequenas em casa, que são propensas a derrubar e quebrar objetos acidentalmente, ou alguém que gosta de praticar atividades ao ar livre e precisa de um copo resistente para levar em suas aventuras. Além disso, pessoas que trabalham em ambientes mais agitados ou movimentados também podem se interessar por um copo inquebrável, pois não terão que se preocupar com possíveis danos causados por quedas acidentais.',\n",
       "  'log': None}}"
      ]
     },
     "execution_count": 12,
     "metadata": {},
     "output_type": "execute_result"
    }
   ],
   "source": [
    "parallel = RunnableParallel({'nome_produto': chain_nome, 'publico': chain_clientes})\n",
    "parallel.invoke({'produto': 'Um copo inquebrável'})"
   ]
  },
  {
   "cell_type": "code",
   "execution_count": 13,
   "metadata": {},
   "outputs": [
    {
     "data": {
      "text/plain": [
       "'🌟 Apresentamos o Copo Ultrarresistente, o companheiro ideal para quem vive uma vida agitada e está sempre em movimento! 🌟\\n\\nSe você é um pai ou mãe de crianças pequenas, um esportista, um festeiro ou alguém que simplesmente tem o azar de derrubar coisas com frequência, o Copo Ultrarresistente foi feito pensando em você!\\n\\nFeito com um material super resistente, esse copo é praticamente inquebrável, garantindo que você possa usá-lo sem preocupações em qualquer situação do dia a dia. Seja no trabalho, em casa ou durante suas atividades favoritas, o Copo Ultrarresistente estará lá para te acompanhar.\\n\\nNão deixe mais seus utensílios domésticos quebrarem facilmente! Invista em durabilidade e praticidade com o Copo Ultrarresistente. Peça já o seu! 🌟🥤🔝'"
      ]
     },
     "execution_count": 13,
     "metadata": {},
     "output_type": "execute_result"
    }
   ],
   "source": [
    "chain = parallel | prompt | ChatOpenAI() | StrOutputParser()\n",
    "chain.invoke({'produto': 'Um copo inquebrável'})"
   ]
  },
  {
   "cell_type": "code",
   "execution_count": 14,
   "metadata": {},
   "outputs": [
    {
     "name": "stdout",
     "output_type": "stream",
     "text": [
      "Olá, Maria!\n"
     ]
    }
   ],
   "source": [
    "from langchain_core.runnables import RunnableLambda\n",
    "\n",
    "def cumprimentar(nome):\n",
    "    return f'Olá, {nome}!'\n",
    "\n",
    "runnable_cumprimentar = RunnableLambda(cumprimentar)\n",
    "\n",
    "resultado = runnable_cumprimentar.invoke('Maria')\n",
    "print(resultado)"
   ]
  },
  {
   "cell_type": "code",
   "execution_count": 15,
   "metadata": {},
   "outputs": [
    {
     "data": {
      "text/plain": [
       "'🌟 Anúncio 🌟\\n\\nProcurando por um copo resistente e durável que não quebra facilmente? Conheça o DurávelCopo StrongFlex!\\n\\nFeito com material de alta qualidade, nosso copo inquebrável é perfeito para uso diário em ambientes agitados, como casas com crianças e animais de estimação. Além disso, é ideal para atividades ao ar livre, como acampamentos, festas e eventos, pois resistente a impactos e quedas.\\n\\nNão se preocupe mais com copos quebrados! Garanta já o seu DurávelCopo StrongFlex e tenha um produto de qualidade e durabilidade incomparáveis.\\n\\nAproveite essa oportunidade e adquira o seu copo inquebrável agora mesmo! 🌟🥤👌 #DurávelCopo #StrongFlex #Durabilidade #Resistência #CopoInquebrável'"
      ]
     },
     "execution_count": 15,
     "metadata": {},
     "output_type": "execute_result"
    }
   ],
   "source": [
    "from langchain_core.runnables import RunnablePassthrough\n",
    "model = ChatOpenAI()\n",
    "prompt = ChatPromptTemplate.from_template(\"\"\"Dado o produto com o seguinte nome e seguinte\n",
    "público potencial, desenvolva um anúncio para o produto.\n",
    "                                          \n",
    "Nome do produto: {nome_produto}\n",
    "Característica do produto: {produto}\n",
    "Público: {publico}\"\"\")\n",
    "\n",
    "parallel = RunnablePassthrough().assign(**{'nome_produto': chain_nome, 'publico': chain_clientes})\n",
    "chain = parallel | prompt | ChatOpenAI() | StrOutputParser()\n",
    "chain.invoke({'produto': 'Copo inquebrável'})"
   ]
  }
 ],
 "metadata": {
  "kernelspec": {
   "display_name": ".venv",
   "language": "python",
   "name": "python3"
  },
  "language_info": {
   "codemirror_mode": {
    "name": "ipython",
    "version": 3
   },
   "file_extension": ".py",
   "mimetype": "text/x-python",
   "name": "python",
   "nbconvert_exporter": "python",
   "pygments_lexer": "ipython3",
   "version": "3.13.3"
  }
 },
 "nbformat": 4,
 "nbformat_minor": 2
}
