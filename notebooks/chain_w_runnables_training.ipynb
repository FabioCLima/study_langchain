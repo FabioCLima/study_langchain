{
 "cells": [
  {
   "cell_type": "markdown",
   "id": "ae91daa9",
   "metadata": {},
   "source": [
    "### Unindo a prática de criar chains com os conectores \n",
    "___"
   ]
  },
  {
   "cell_type": "markdown",
   "id": "9764083b",
   "metadata": {},
   "source": [
    "## =============================================================================\n",
    "## CONCEITOS FUNDAMENTAIS DO LANGCHAIN\n",
    "## =============================================================================\n",
    "\n",
    "\"\"\"\n",
    "🎯 CORE COMPONENTS DE UMA APLICAÇÃO LANGCHAIN:\n",
    "\n",
    "1. ENTRADA (Input) - Dicionário simples com os dados de entrada\n",
    "2. PROMPT - Template formatado usando ChatPromptTemplate.from_messages\n",
    "3. MODELO - LLM (Large Language Model) - OpenAI no nosso caso\n",
    "4. PARSER DE SAÍDA - StrOutputParser() ou with_structured_output()\n",
    "\n",
    "🔗 LCEL (LangChain Expression Language):\n",
    "- Sintaxe: input | prompt | llm | output_parser\n",
    "- O operador \"|\" (pipe) conecta os componentes em sequência\n",
    "- Cada componente processa a saída do anterior\n",
    "\"\"\"\n",
    "---\n",
    "#### Langchain Conectores\n",
    "\n",
    "\n",
    "* RunnableLambda\n",
    "* RunnableParallel\n",
    "* RunnablePassThrough\n"
   ]
  },
  {
   "cell_type": "markdown",
   "id": "1f47c593",
   "metadata": {},
   "source": [
    "#### Setup do ambiente"
   ]
  },
  {
   "cell_type": "code",
   "execution_count": 1,
   "id": "e2910deb",
   "metadata": {},
   "outputs": [
    {
     "name": "stdout",
     "output_type": "stream",
     "text": [
      "✅ Variáveis de ambiente carregadas com sucesso!\n",
      "🔑 OPENAI_API_KEY: ✓\n",
      "🔑 LANGCHAIN_API_KEY: ✓\n",
      "📊 LANGCHAIN_TRACING: true\n",
      "🎯 LANGCHAIN_PROJECT: Langchain studies - FabioLima\n"
     ]
    }
   ],
   "source": [
    "# --- CÉLULA 1: Setup do ambiente ---\n",
    "import os\n",
    "from dotenv import find_dotenv, load_dotenv\n",
    "\n",
    "# Carregar variáveis do .env\n",
    "if not load_dotenv(find_dotenv()):\n",
    "    print(\"⚠️ Arquivo .env não encontrado. Verificando variáveis do sistema.\")\n",
    "\n",
    "# Verificar TODAS as variáveis necessárias\n",
    "required_vars = [\"OPENAI_API_KEY\", \"LANGCHAIN_API_KEY\"]\n",
    "missing_vars = []\n",
    "\n",
    "for var in required_vars:\n",
    "    if not os.getenv(var):\n",
    "        missing_vars.append(var)\n",
    "\n",
    "if missing_vars:\n",
    "    raise ValueError(f\"❌ Variáveis não encontradas: {missing_vars}\")\n",
    "\n",
    "print(\"✅ Variáveis de ambiente carregadas com sucesso!\")\n",
    "print(f\"🔑 OPENAI_API_KEY: {'✓' if os.getenv('OPENAI_API_KEY') else '✗'}\")\n",
    "print(f\"🔑 LANGCHAIN_API_KEY: {'✓' if os.getenv('LANGCHAIN_API_KEY') else '✗'}\")\n",
    "print(f\"📊 LANGCHAIN_TRACING: {os.getenv('LANGCHAIN_TRACING_V2', 'Not set')}\")\n",
    "print(f\"🎯 LANGCHAIN_PROJECT: {os.getenv('LANGCHAIN_PROJECT', 'Not set')}\")"
   ]
  },
  {
   "cell_type": "markdown",
   "id": "64adfad3",
   "metadata": {},
   "source": [
    "#### Configuração do LangChain e LangSmith"
   ]
  },
  {
   "cell_type": "code",
   "execution_count": 2,
   "id": "2841a322",
   "metadata": {},
   "outputs": [
    {
     "name": "stdout",
     "output_type": "stream",
     "text": [
      "\n",
      "🔍 Verificando configurações LangSmith:\n",
      "LANGCHAIN_TRACING_V2: true\n",
      "LANGCHAIN_ENDPOINT: https://api.smith.langchain.com\n",
      "LANGCHAIN_PROJECT: Langchain studies - FabioLima\n",
      "LANGCHAIN_API_KEY: SET\n",
      "✅ LLM configurado com sucesso!\n"
     ]
    }
   ],
   "source": [
    "# --- CÉLULA 2: Configuração do LangChain + LangSmith ---\n",
    "from langchain_openai import ChatOpenAI\n",
    "\n",
    "# IMPORTANTE: NÃO sobrescreva as variáveis do .env aqui!\n",
    "# Apenas verifique se estão definidas\n",
    "print(\"\\n🔍 Verificando configurações LangSmith:\")\n",
    "print(f\"LANGCHAIN_TRACING_V2: {os.getenv('LANGCHAIN_TRACING_V2')}\")\n",
    "print(f\"LANGCHAIN_ENDPOINT: {os.getenv('LANGCHAIN_ENDPOINT')}\")\n",
    "print(f\"LANGCHAIN_PROJECT: {os.getenv('LANGCHAIN_PROJECT')}\")\n",
    "print(f\"LANGCHAIN_API_KEY: {'SET' if os.getenv('LANGCHAIN_API_KEY') else 'NOT SET'}\")\n",
    "\n",
    "# Instanciando o LLM\n",
    "llm = ChatOpenAI(model=\"gpt-4o-mini\")\n",
    "\n",
    "print(\"✅ LLM configurado com sucesso!\")\n"
   ]
  },
  {
   "cell_type": "markdown",
   "id": "cceabf4b",
   "metadata": {},
   "source": [
    "#### --- Bibliotecas Iniciais para LCEL ---"
   ]
  },
  {
   "cell_type": "code",
   "execution_count": 3,
   "id": "b5f2d771",
   "metadata": {},
   "outputs": [],
   "source": [
    "# --- CÉLULA 3: Imports Essenciais para LCEL ---\n",
    "from langchain_core.prompts import ChatPromptTemplate # type: ignore\n",
    "from langchain_core.output_parsers import StrOutputParser # type: ignore\n",
    "from langchain.schema.runnable import (\n",
    "    RunnableLambda,# type: ignore\n",
    "    RunnableParallel,# type: ignore\n",
    "    RunnablePassthrough) # type: ignore\n",
    "\n",
    "from langchain_core.runnables import Runnable, RunnableSerializable\n",
    "from pydantic import BaseModel, Field\n",
    "from typing import List, Dict, Any\n"
   ]
  },
  {
   "cell_type": "markdown",
   "id": "018847a9",
   "metadata": {},
   "source": [
    "**-- Teste rápido do LLM --**"
   ]
  },
  {
   "cell_type": "code",
   "execution_count": 4,
   "id": "e2474961",
   "metadata": {},
   "outputs": [
    {
     "name": "stdout",
     "output_type": "stream",
     "text": [
      "🧪 Iniciando teste de conexão com LangSmith...\n",
      "❌ Erro durante a execução: Connection error.\n"
     ]
    },
    {
     "data": {
      "text/plain": [
       "False"
      ]
     },
     "execution_count": 4,
     "metadata": {},
     "output_type": "execute_result"
    },
    {
     "name": "stderr",
     "output_type": "stream",
     "text": [
      "Failed to get info from https://api.smith.langchain.com: LangSmithConnectionError('Connection error caused failure to GET /info in LangSmith API. Please confirm your internet connection. ConnectionError(MaxRetryError(\\'HTTPSConnectionPool(host=\\\\\\'api.smith.langchain.com\\\\\\', port=443): Max retries exceeded with url: /info (Caused by NameResolutionError(\"<urllib3.connection.HTTPSConnection object at 0x7f2854327ed0>: Failed to resolve \\\\\\'api.smith.langchain.com\\\\\\' ([Errno -3] Temporary failure in name resolution)\"))\\'))\\nContent-Length: None\\nAPI Key: lsv2_********************************************40')\n"
     ]
    }
   ],
   "source": [
    "# --- CÉLULA 4: Teste com debugging melhorado ---\n",
    "def test_langsmith_connection():\n",
    "    \"\"\"Testa a conexão com LangSmith de forma mais detalhada\"\"\"\n",
    "    print(\"🧪 Iniciando teste de conexão com LangSmith...\")\n",
    "    \n",
    "    try:\n",
    "        resposta = llm.invoke(\"Diga 'Olá mundo' em português.\")\n",
    "        print(\"✅ Resposta do modelo:\", resposta.content)\n",
    "        print(\"🎯 Se você não viu erros acima, o LangSmith está funcionando!\")\n",
    "        return True\n",
    "    except Exception as e:\n",
    "        print(f\"❌ Erro durante a execução: {e}\")\n",
    "        return False\n",
    "\n",
    "# Execute o teste\n",
    "test_langsmith_connection()"
   ]
  },
  {
   "cell_type": "markdown",
   "id": "2f620ace",
   "metadata": {},
   "source": [
    "`Exercício: Extrair o nome de um diretor dado o nome do filme`"
   ]
  },
  {
   "cell_type": "code",
   "execution_count": 5,
   "id": "2c04c204",
   "metadata": {},
   "outputs": [
    {
     "name": "stdout",
     "output_type": "stream",
     "text": [
      "🚀 Executando chain com LangSmith tracking...\n",
      "❌ Erro na execução: Connection error.\n",
      "💡 Dica: Verifique se todas as variáveis de ambiente estão corretas\n"
     ]
    }
   ],
   "source": [
    "# --- CÉLULA 5: Seu exercício com melhor debugging ---\n",
    "class DirectorMovie(BaseModel):\n",
    "    nome: str = Field(..., description=\"Nome do diretor do filme\")\n",
    "\n",
    "# Modelo com temperatura para precisão\n",
    "llm = ChatOpenAI(model=\"gpt-4o-mini\", temperature=0.3)\n",
    "\n",
    "# Entrada\n",
    "input_data = {\"filme\": \"O Poderoso Chefão\"} \n",
    "\n",
    "# Prompt\n",
    "prompt = ChatPromptTemplate([\n",
    "    (\"system\", \"Você é um especialista em filmes.\"),\n",
    "    (\"user\", \"Quem é o diretor do filme : {filme}? Responda apenas com o nome.\")\n",
    "])\n",
    "\n",
    "# Parser estruturado\n",
    "llm_structured = llm.with_structured_output(DirectorMovie)\n",
    "\n",
    "# Chain\n",
    "chain = prompt | llm_structured\n",
    "\n",
    "print(\"🚀 Executando chain com LangSmith tracking...\")\n",
    "\n",
    "try:\n",
    "    # Execute a chain\n",
    "    result = chain.invoke(input_data)\n",
    "    \n",
    "    # Resultado\n",
    "    print(f\"🔍 Entrada: {input_data}, type: {type(input_data)}\")\n",
    "    print(f\"🔄 Processamento: Prompt → LLM → Parser\")\n",
    "    print(f\"✨ Resultado: {result.nome}\")\n",
    "    \n",
    "    print(\"\\n🎉 Sucesso! Verifique no LangSmith:\")\n",
    "    print(f\"🌐 https://smith.langchain.com/projects/{os.getenv('LANGCHAIN_PROJECT', '').replace(' ', '%20')}\")\n",
    "    \n",
    "except Exception as e:\n",
    "    print(f\"❌ Erro na execução: {e}\")\n",
    "    print(\"💡 Dica: Verifique se todas as variáveis de ambiente estão corretas\")"
   ]
  },
  {
   "cell_type": "markdown",
   "id": "e0332abe",
   "metadata": {},
   "source": [
    "`Exercício: **fazer a saída da primeira chain com letras maísculas`**"
   ]
  },
  {
   "cell_type": "code",
   "execution_count": 6,
   "id": "ab6ff8ae",
   "metadata": {},
   "outputs": [
    {
     "name": "stdout",
     "output_type": "stream",
     "text": [
      "🚀 Executando chain com LangSmith tracking...\n",
      "🔍 Entrada: O Poderoso Chefão, type: <class 'dict'>\n",
      "🔄 Processamento: Prompt → LLM → Parser → to_upper\n",
      "✨ Resultado:(String em maíuscula) nome='Francis Ford Coppola'\n",
      "\n",
      "🎉 Sucesso! Verifique no LangSmith:\n",
      "🌐 https://smith.langchain.com/projects/Langchain%20studies%20-%20FabioLima\n"
     ]
    }
   ],
   "source": [
    "class DirectorMovie(BaseModel):\n",
    "    nome: str = Field(..., description=\"Nome do diretor do filme\")\n",
    "\n",
    "# Modelo com temperatura para precisão\n",
    "llm = ChatOpenAI(model=\"gpt-4o-mini\", temperature=0.1)\n",
    "\n",
    "# Entrada\n",
    "input_data = {\"filme\": \"O Poderoso Chefão\"} \n",
    "\n",
    "# Prompt\n",
    "prompt = ChatPromptTemplate([\n",
    "    (\"system\", \"Você é um especialista em filmes.\"),\n",
    "    (\"user\", \"Quem é o diretor do filme : {filme}? Responda apenas com o nome.\")\n",
    "])\n",
    "\n",
    "# Parser estruturado\n",
    "llm_structured = llm.with_structured_output(DirectorMovie)\n",
    "\n",
    "# Chain\n",
    "chain_movie_director = prompt | llm_structured\n",
    "\n",
    "print(\"🚀 Executando chain com LangSmith tracking...\")\n",
    "\n",
    "# Transformar a saída da primeira chain com letras maísculas\n",
    "to_upper = RunnableLambda(lambda input_str: input_str.upper())\n",
    "\n",
    "# Chain composta\n",
    "#* input_dicionario -> Prompt -> LLM(Pydantic) -> extrai nome do diretor do filme -> Converte para maísculas\n",
    "chain_upper = chain_movie_director | to_upper\n",
    "try:\n",
    "    # Execute a chain\n",
    "    result = chain.invoke(input_data)\n",
    "    \n",
    "    # Resultado\n",
    "    print(f\"🔍 Entrada: {input_data['filme']}, type: {type(input_data)}\")\n",
    "    print(f\"🔄 Processamento: Prompt → LLM → Parser → to_upper\")\n",
    "    print(f\"✨ Resultado:(String em maíuscula) {result}\")\n",
    "    \n",
    "    print(\"\\n🎉 Sucesso! Verifique no LangSmith:\")\n",
    "    print(f\"🌐 https://smith.langchain.com/projects/{os.getenv('LANGCHAIN_PROJECT', '').replace(' ', '%20')}\")\n",
    "    \n",
    "except Exception as e:\n",
    "    print(f\"❌ Erro na execução: {e}\")\n",
    "    print(\"💡 Dica: Verifique se todas as variáveis de ambiente estão corretas\")"
   ]
  },
  {
   "cell_type": "markdown",
   "id": "b98d5411",
   "metadata": {},
   "source": [
    "Exercício: Utilizar o pydantic para extrair mais informações."
   ]
  },
  {
   "cell_type": "code",
   "execution_count": 7,
   "id": "558b5941",
   "metadata": {},
   "outputs": [
    {
     "name": "stdout",
     "output_type": "stream",
     "text": [
      "🚀 Executando chain com LangSmith tracking...\n",
      "🔍 Entrada: Lord of the Rings, type: <class 'dict'>\n",
      "🔄 Processamento: Prompt → LLM → Parser(structured output)\n",
      "✨ Diretor:Peter Jackson\n",
      "✨ Ano de lançamento:2001\n",
      "✨ Gênero:Fantasia\n",
      "\n",
      "🎉 Sucesso! Verifique no LangSmith:\n",
      "🌐 https://smith.langchain.com/projects/Langchain%20studies%20-%20FabioLima\n"
     ]
    }
   ],
   "source": [
    "class MovieInfo(BaseModel):\n",
    "    diretor: str = Field(..., description=\"Nome do diretor do filme\")\n",
    "    ano: int = Field(..., description=\"Ano de lançamento do filme\")\n",
    "    genero: str = Field(..., description=\"Gênero principal do filme\")\n",
    "\n",
    "# Modelo com temperatura para precisão\n",
    "llm = ChatOpenAI(model=\"gpt-4o\", temperature=0.0)\n",
    "\n",
    "# Entrada\n",
    "input_data = {\"filme\": \"Lord of the Rings\"} \n",
    "\n",
    "# Prompt\n",
    "prompt = ChatPromptTemplate([\n",
    "    (\"system\", \n",
    "     \"Você é um especialista em cinema. \"\n",
    "     \"Responda sempre com informações confiáveis. \"\n",
    "     \"Se não souber, use 'Não encontrado'.\"),\n",
    "    (\"user\", \"Forneça informações sobre o filme {filme}.\")\n",
    "])\n",
    "\n",
    "# Parser estruturado\n",
    "llm_structured = llm.with_structured_output(MovieInfo)\n",
    "\n",
    "# Chain\n",
    "chain_movie_info = prompt | llm_structured\n",
    "\n",
    "print(\"🚀 Executando chain com LangSmith tracking...\")\n",
    "\n",
    "# Chain composta\n",
    "#* input_dicionario -> Prompt -> LLM(Pydantic) -> extrai informações definidas sobre o filme\n",
    "\n",
    "try:\n",
    "    # Execute a chain\n",
    "    result = chain_movie_info.invoke(input_data)\n",
    "    \n",
    "    # Resultado\n",
    "    print(f\"🔍 Entrada: {input_data['filme']}, type: {type(input_data)}\")\n",
    "    print(f\"🔄 Processamento: Prompt → LLM → Parser(structured output)\")\n",
    "    print(f\"✨ Diretor:{result.diretor}\")\n",
    "    print(f\"✨ Ano de lançamento:{result.ano}\")\n",
    "    print(f\"✨ Gênero:{result.genero}\")\n",
    "    \n",
    "    print(\"\\n🎉 Sucesso! Verifique no LangSmith:\")\n",
    "    print(f\"🌐 https://smith.langchain.com/projects/{os.getenv('LANGCHAIN_PROJECT', '').replace(' ', '%20')}\")\n",
    "    \n",
    "except Exception as e:\n",
    "    print(f\"❌ Erro na execução: {e}\")\n",
    "    print(\"💡 Dica: Verifique se todas as variáveis de ambiente estão corretas\")"
   ]
  },
  {
   "cell_type": "markdown",
   "id": "9df4d73f",
   "metadata": {},
   "source": [
    "Vamos retirar outras informações utilizando os dados anteriores."
   ]
  },
  {
   "cell_type": "code",
   "execution_count": 8,
   "id": "6f77dc50",
   "metadata": {},
   "outputs": [
    {
     "name": "stdout",
     "output_type": "stream",
     "text": [
      "Filme: The Hobbit\n",
      "Diretor: Peter Jackson\n",
      "Ano: 2012\n",
      "Gênero: Aventura\n",
      "Crítica Fictícia: \"The Hobbit\" oferece uma jornada visualmente deslumbrante, mas se estende demais ao tentar replicar a grandiosidade de \"O Senhor dos Anéis\" em três partes.\n"
     ]
    }
   ],
   "source": [
    "class MovieInfo(BaseModel):\n",
    "    diretor: str = Field(..., description=\"Nome do diretor do filme\")\n",
    "    ano: int = Field(..., description=\"Ano de lançamento do filme\")\n",
    "    genero: str = Field(..., description=\"Gênero principal do filme\")\n",
    "\n",
    "# Modelo com temperatura para precisão\n",
    "llm = ChatOpenAI(model=\"gpt-4o\", temperature=0.0)\n",
    "llm_structured = llm.with_structured_output(MovieInfo)\n",
    "\n",
    "# Entrada\n",
    "input_data = {\"filme\": \"The Hobbit\"} \n",
    "\n",
    "#* Chain principal que usará a nova estrutura\n",
    "#* Prompt mais poderoso para extrair a informação do filme\n",
    "prompt_movie = ChatPromptTemplate([\n",
    "    (\"system\", \n",
    "     \"Você é um especialista em cinema. \"\n",
    "     \"Responda sempre com informações confiáveis. \"\n",
    "     \"Se não souber, use 'Não encontrado'.\"),\n",
    "    (\"user\", \"Forneça informações sobre o filme {filme}.\")\n",
    "])\n",
    "\n",
    "chain_movie_info = ( # type: ignore\n",
    "   prompt_movie | llm_structured\n",
    ") \n",
    "\n",
    "#* Crie uma chain paralela\n",
    "#* Utilizando o nome do filme como entrada\n",
    "#* Criando o prompt para extrair a crítica ficticia\n",
    "prompt_critica = ChatPromptTemplate([\n",
    "    (\"system\", \n",
    "     \"Você é um especialista em cinema. \"\n",
    "     \"Responda sempre com informações confiáveis. \"\n",
    "     \"Se não souber, use 'Não encontrado'.\"),\n",
    "    (\"user\", \"Escreva uma crítica de uma linha para o filme {filme}.\")\n",
    "])\n",
    "\n",
    "#* A runnable parallel recebe um dicionário de runnables\n",
    "chain_critica_ficticia = prompt_critica | llm | StrOutputParser() # type: ignore\n",
    "\n",
    "parallel_chains = RunnableParallel({ # type: ignore\n",
    "    \"info_movie\" : chain_movie_info,\n",
    "    \"critica_ficticia\" : chain_critica_ficticia \n",
    "})\n",
    "\n",
    "#* Executando a chain paralela\n",
    "resultado_paralelo = parallel_chains.invoke(input_data) # type: ignore\n",
    "\n",
    "info_movie = resultado_paralelo['info_movie']\n",
    "critica = resultado_paralelo['critica_ficticia']\n",
    "\n",
    "print(f\"Filme: {input_data['filme']}\")\n",
    "print(f\"Diretor: {info_movie.diretor}\")\n",
    "print(f\"Ano: {info_movie.ano}\")\n",
    "print(f\"Gênero: {info_movie.genero}\")\n",
    "print(f\"Crítica Fictícia: {critica}\")\n",
    "\n"
   ]
  },
  {
   "cell_type": "markdown",
   "id": "a835d90f",
   "metadata": {},
   "source": [
    "Usando a `RunnablePassthrough` para enriquecer a entrada inicial do fluxo\n",
    "\n",
    "1. `RunnablePassthrough()`: recebe o dicionário de entrada ({\"filme\" : \"The Hobbit\"}) e o passa adiante intacto.\n",
    "\n",
    "2. `.assign`(**movie_info = chain_movie_info**): Executa a chain_movie_info e adiciona o seu resultado (o objeto `MovieInfo`) ao dicionário, sobe nova chave - \n",
    "`\"movie_info\"`."
   ]
  },
  {
   "cell_type": "code",
   "execution_count": 9,
   "id": "153836f3",
   "metadata": {},
   "outputs": [],
   "source": [
    "from langchain_core.runnables import RunnablePassthrough\n",
    "\n",
    "#* Reutilizamos a sua chain que já busca as informações do filme\n",
    "#* chain_movie_info = prompt_movie | llm_structured\n",
    "\n",
    "#* primeira parte da chain final \n",
    "chain_enriched = RunnablePassthrough.assign(\n",
    "    # A chave 'movie_info' guardará o resultado de chain_movie_info\n",
    "    movie_info = chain_movie_info\n",
    ")\n",
    "\n",
    "#* Criamos um prompt simples para a sugestão \n",
    "prompt_sugestao = ChatPromptTemplate([\n",
    "    (\"system\", \"\"\"Você é um especialista em cinema. Responda de forma concisa e direta. Usando no máximo 5 palavras.\"\"\"),\n",
    "    (\"user\",   \"\"\"Sugira um outro filme famoso do mesmo diretor {diretor}.\"\"\")\n",
    "])\n",
    "\n",
    "#* Criamos a chain completa, adicionando a segunda \"parada\"\n",
    "\n",
    "chain_final = chain_enriched | RunnablePassthrough.assign(\n",
    "    sugestao_movie = (\n",
    "                    # Esta lambda extrai o nome do diretor do passo anterior\n",
    "                    # e o formata para o próximo prompt.\n",
    "                    (lambda x: {\"diretor\": x['movie_info'].diretor})\n",
    "                    | prompt_sugestao\n",
    "                    | llm\n",
    "                    | StrOutputParser()\n",
    "                )\n",
    "             )"
   ]
  },
  {
   "cell_type": "code",
   "execution_count": 10,
   "id": "f52f358c",
   "metadata": {},
   "outputs": [],
   "source": [
    "chain_final_sequencial = (RunnablePassthrough.assign(\n",
    "    movie_info = chain_movie_info\n",
    ")\n",
    "| RunnablePassthrough.assign(   \n",
    "    sugestao_movie = (\n",
    "        (lambda x: {\"diretor\": x['movie_info'].diretor})\n",
    "        | prompt_sugestao\n",
    "        | llm\n",
    "        | StrOutputParser()\n",
    "      )\n",
    "    )\n",
    ")"
   ]
  },
  {
   "cell_type": "code",
   "execution_count": 11,
   "id": "d7647f47",
   "metadata": {},
   "outputs": [
    {
     "name": "stdout",
     "output_type": "stream",
     "text": [
      "--- Análise Sequencial do Filme ---\n",
      "Filme Analisado: The Hobbit\n",
      "Diretor: Peter Jackson\n",
      "Ano: 2012\n",
      "\n",
      "--- Informação Adicional Gerada ---\n",
      "Sugestão de outro filme do mesmo diretor: \"O Senhor dos Anéis\".\n"
     ]
    }
   ],
   "source": [
    "# --- Execução e Resultado ---\n",
    "resultado_final = chain_final_sequencial.invoke(input_data)\n",
    "\n",
    "print(\"--- Análise Sequencial do Filme ---\")\n",
    "print(f\"Filme Analisado: {resultado_final['filme']}\")\n",
    "print(f\"Diretor: {resultado_final['movie_info'].diretor}\")\n",
    "print(f\"Ano: {resultado_final['movie_info'].ano}\")\n",
    "print(\"\\n--- Informação Adicional Gerada ---\")\n",
    "print(f\"Sugestão de outro filme do mesmo diretor: {resultado_final['sugestao_movie']}\")"
   ]
  },
  {
   "cell_type": "markdown",
   "id": "084393fa",
   "metadata": {},
   "source": [
    "## Exercícios de fixação: \n",
    "____"
   ]
  },
  {
   "cell_type": "markdown",
   "id": "92f9ec32",
   "metadata": {},
   "source": [
    "Objetivo: Obter informações básicas sobre um filme:\n",
    "\n",
    "1. `input_data` = {\"movie\": \"Um Sonho de Liberdade\"}\n",
    "\n",
    "2. `movie_info_data`= {\n",
    "\n",
    "    \"Diretor\" : str,\n",
    "\n",
    "    \"Atores\": list[str],\n",
    "\n",
    "    \"Ano\": int\n",
    "}"
   ]
  },
  {
   "cell_type": "code",
   "execution_count": 12,
   "id": "098d2e11",
   "metadata": {},
   "outputs": [
    {
     "name": "stdout",
     "output_type": "stream",
     "text": [
      "---- Resultado da chain  ----\n",
      "Diretor: Frank Darabont\n",
      "Atores: ['Tim Robbins', 'Morgan Freeman', 'Bob Gunton']\n",
      "Ano: 1994\n",
      "Gênero: Drama\n",
      "Roteiristas: ['Frank Darabont']\n"
     ]
    }
   ],
   "source": [
    "import json\n",
    "\n",
    "class MovieInfoData(BaseModel):\n",
    "    diretor: str = Field(..., description=\"Nome do diretor do filme\")\n",
    "    atores: list[str] = Field(..., description=\"Lista de atores do filme\")\n",
    "    roteiristas: list[str] = Field(..., description=\"Lista de roteiristas do filme\")\n",
    "    ano: int = Field(..., description=\"Ano de lançamento do filme\")\n",
    "    genero: str = Field(..., description=\"Gênero do filme\")\n",
    "\n",
    "#* Definindo a llm que será usada para extrair as informações\n",
    "# Modelo com temperatura para precisão\n",
    "llm = ChatOpenAI(model=\"gpt-4o\", temperature=0.0)\n",
    "llm_structured = llm.with_structured_output(MovieInfoData) # type: ignore\n",
    "\n",
    "#* Criando o prompt para instruir o LLM a extrair as informações \n",
    "prompt_movie_data = ChatPromptTemplate([    \n",
    "    (\"system\", \"\"\"Você é um especialista em cinema. \n",
    "     Responda sempre com informações confiáveis. Se não souber, use 'Não encontrado'.\"\"\"),\n",
    "    (\"user\", \"\"\"Forneça informações sobre o filme {movie}.\"\"\")\n",
    "])\n",
    "\n",
    "#* Criando a chain principal\n",
    "chain_movie_data = prompt_movie_data | llm_structured # type: ignore\n",
    "\n",
    "#* Input data\n",
    "input_data = {\"movie\": \"Um Sonho de Liberdade\"}\n",
    "\n",
    "#* Executando a chain\n",
    "result = chain_movie_data.invoke(input_data) # type: ignore\n",
    "\n",
    "#* Exibindo o resultado\n",
    "print(\"---- Resultado da chain  ----\")\n",
    "print(f\"Diretor: {result.diretor}\")\n",
    "print(f\"Atores: {result.atores[:3]}\")\n",
    "print(f\"Ano: {result.ano}\")\n",
    "print(f\"Gênero: {result.genero}\")\n",
    "print(f\"Roteiristas: {result.roteiristas}\")"
   ]
  },
  {
   "cell_type": "markdown",
   "id": "7cd3802d",
   "metadata": {},
   "source": [
    "Na tarefa anterior, extraímos algumas informações a partir do dicionário:\n",
    "\n",
    "    * input_data = {\"movie\": \"Um Sonho de Liberdade\"}\n",
    "\n",
    "    * output_data: result = {\n",
    "        diretor: ...,\n",
    "        atores: ...,\n",
    "        ano: ...,\n",
    "        gênero: ...,\n",
    "        roteiristas: ...\n",
    "    }\n",
    "\n",
    "A nova tarefa consiste em conseguir o nome do filme na lingua inglesa, não é uma tradução é uma busca do nome do filme, portanto o input da segunda tarefa é o mesmo que da primeira, dessa forma podemos usar um `RunnableParallel`, para executar as duas tarefas ao mesmo tempo."
   ]
  },
  {
   "cell_type": "markdown",
   "id": "3bdedfc0",
   "metadata": {},
   "source": [
    "Para manter a estrutura system/user, a forma correta é usar o `system`para definir a persona e o comportamento e o `user`para fazer a pergunta."
   ]
  },
  {
   "cell_type": "code",
   "execution_count": 13,
   "id": "683fb4fa",
   "metadata": {},
   "outputs": [],
   "source": [
    "# Prompt específico para a nova tarefa\n",
    "prompt_titulo_ingles = ChatPromptTemplate([\n",
    "    (\"system\", \"Você é um pesquisador especialista em cinema que responde de forma direta. Com apenas o título do filme.\"),\n",
    "    (\"user\", \"Qual é o título original em inglês do filme '{movie}'?\")\n",
    "])\n",
    "\n",
    "# Chain para a nova tarefa\n",
    "chain_titulo_ingles = prompt_titulo_ingles | llm | StrOutputParser()"
   ]
  },
  {
   "cell_type": "code",
   "execution_count": 14,
   "id": "5c0cdca8",
   "metadata": {},
   "outputs": [],
   "source": [
    "from langchain_core.runnables import RunnableParallel\n",
    "\n",
    "# Sua chain original que busca os dados\n",
    "# chain_movie_data = prompt_movie_data | llm_structured\n",
    "\n",
    "# Juntando as duas tarefas independentes\n",
    "tarefas_paralelas = RunnableParallel({\n",
    "    \"dados_filme\": chain_movie_data,      # Tarefa 1\n",
    "    \"titulo_ingles\": chain_titulo_ingles, # Tarefa 2\n",
    "})"
   ]
  },
  {
   "cell_type": "code",
   "execution_count": 15,
   "id": "043be7f3",
   "metadata": {},
   "outputs": [
    {
     "name": "stdout",
     "output_type": "stream",
     "text": [
      "--- Análise do Filme: Um Sonho de Liberdade ---\n",
      "Título Original: The Shawshank Redemption.\n",
      "Diretor: Frank Darabont\n",
      "Atores: ['Tim Robbins', 'Morgan Freeman', 'Bob Gunton', 'William Sadler', 'Clancy Brown', 'Gil Bellows', 'James Whitmore']\n",
      "Ano: 1994\n"
     ]
    }
   ],
   "source": [
    "# O mesmo input de antes\n",
    "input_data = {\"movie\": \"Um Sonho de Liberdade\"}\n",
    "\n",
    "# Executa as duas tarefas ao mesmo tempo\n",
    "resultado_final = tarefas_paralelas.invoke(input_data)\n",
    "\n",
    "# Extrai os resultados de cada chave\n",
    "dados = resultado_final['dados_filme']\n",
    "titulo_en = resultado_final['titulo_ingles']\n",
    "\n",
    "# Exibe o resultado combinado\n",
    "print(f\"--- Análise do Filme: {input_data['movie']} ---\")\n",
    "print(f\"Título Original: {titulo_en}\")\n",
    "print(f\"Diretor: {dados.diretor}\")\n",
    "print(f\"Atores: {dados.atores}\")\n",
    "print(f\"Ano: {dados.ano}\")"
   ]
  },
  {
   "cell_type": "markdown",
   "id": "309b3562",
   "metadata": {},
   "source": [
    "Exercício adicional ao anterior: Incluir filmografia do ator principal\n",
    "\n",
    "1. As informações originais do filme(MovieInfoData)\n",
    "2. extrair do MovieInfoData - o ator principal que deve ser o primeiro da lista do objeto de saída\n",
    "3. montar prompt pra extrair filmografia\n",
    "\n",
    "\n",
    "Como o fluxo acima é sequencial, podemos usar o RunnablePassthrough.assign() para orquestrar o processo\n"
   ]
  },
  {
   "cell_type": "code",
   "execution_count": 1,
   "id": "66ed6c40",
   "metadata": {},
   "outputs": [
    {
     "name": "stdout",
     "output_type": "stream",
     "text": [
      "--- Análise para o filme: Um Sonho de Liberdade ---\n",
      "Ator principal identificado: Tim Robbins (do filme de 1994)\n",
      "\n",
      "--- Filmografia do ator desde então ---\n",
      "- Dead Man Walking (1995)\n",
      "- Arlington Road (1999)\n",
      "- The Shawshank Redemption (1994)\n",
      "- High Fidelity (2000)\n",
      "- Antitrust (2001)\n",
      "- The Truth About Charlie (2002)\n",
      "- Mystic River (2003)\n",
      "- Code 46 (2003)\n",
      "- War of the Worlds (2005)\n",
      "- Zathura: A Space Adventure (2005)\n",
      "- Catch a Fire (2006)\n",
      "- Noise (2007)\n",
      "- City of Ember (2008)\n",
      "- Green Lantern (2011)\n",
      "- Back to 1942 (2012)\n",
      "- A Perfect Day (2015)\n",
      "- Marjorie Prime (2017)\n",
      "- Dark Waters (2019)\n",
      "- VHYes (2019)\n",
      "- Here and Now (2018)\n"
     ]
    }
   ],
   "source": [
    "import os\n",
    "import datetime\n",
    "from langchain_openai import ChatOpenAI\n",
    "from langchain_core.prompts import ChatPromptTemplate\n",
    "from langchain_core.runnables import RunnablePassthrough\n",
    "from langchain_core.output_parsers import StrOutputParser\n",
    "from pydantic import BaseModel, Field\n",
    "from typing import List\n",
    "from dotenv import load_dotenv, find_dotenv\n",
    "\n",
    "# Carregar variáveis de ambiente (necessário para a chave da API)\n",
    "load_dotenv(find_dotenv())\n",
    "\n",
    "# --- PASSO 0: DEFINIÇÃO DAS ESTRUTURAS DE DADOS (Modelos Pydantic) ---\n",
    "# Estrutura para os dados iniciais do filme\n",
    "class MovieInfoData(BaseModel):\n",
    "    diretor: str = Field(..., description=\"Nome do diretor do filme\")\n",
    "    atores: List[str] = Field(..., description=\"Lista de atores principais do filme\")\n",
    "    ano: int = Field(..., description=\"Ano de lançamento do filme\")\n",
    "\n",
    "# Estrutura para a saída da filmografia\n",
    "class Filmografia(BaseModel):\n",
    "    filmes: List[str] = Field(description=\"Lista de filmes notáveis em que o ator participou\")\n",
    "\n",
    "# --- PASSO 1: CONSTRUÇÃO DAS \"FERRAMENTAS\" (As Sub-Chains Isoladas) ---\n",
    "\n",
    "# Configuração do LLM\n",
    "llm = ChatOpenAI(model=\"gpt-4o\", temperature=0.0)\n",
    "\n",
    "# Ferramenta 1: Chain para buscar os dados iniciais do filme\n",
    "prompt_movie_data = ChatPromptTemplate.from_template(\n",
    "    \"\"\"Você é um especialista em cinema. \n",
    "    Forneça o diretor, o ano e a lista dos 3 atores principais do filme {movie}.\"\"\"\n",
    ")\n",
    "chain_busca_dados_filme = prompt_movie_data | llm.with_structured_output(MovieInfoData)\n",
    "\n",
    "# Ferramenta 2: Chain para buscar a filmografia de um ator\n",
    "ano_atual = datetime.datetime.now().year\n",
    "prompt_filmografia = ChatPromptTemplate.from_template(\n",
    "    \"\"\"Você é um especialista em filmografia de atores.\n",
    "    Liste filmes notáveis em que o ator {ator} participou, lançados estritamente depois do ano {ano_inicio} até o ano {ano_corrente}.\n",
    "    Não inclua o filme do ano {ano_inicio}. Responda apenas com a lista de filmes.\"\"\"\n",
    ")\n",
    "chain_busca_filmografia = prompt_filmografia | llm.with_structured_output(Filmografia)\n",
    "\n",
    "# --- PASSO 2: MONTAGEM DA LINHA DE PRODUÇÃO (Pipeline Sequencial) ---\n",
    "\n",
    "# Estação 1: Pega o nome do filme e adiciona os dados completos.\n",
    "# Saída deste pipeline: {'movie': ..., 'dados_filme': MovieInfoData(...)}\n",
    "pipeline_passo_1_info_filme = RunnablePassthrough.assign(\n",
    "    dados_filme=chain_busca_dados_filme\n",
    ")\n",
    "\n",
    "# Estação 2: Pega o resultado anterior e adiciona o ator principal e o ano.\n",
    "# Saída deste pipeline: {'movie': ..., 'dados_filme': ..., 'ator_principal': ..., 'ano_filme': ...}\n",
    "pipeline_passo_2_ator_e_ano = pipeline_passo_1_info_filme | RunnablePassthrough.assign(\n",
    "    ator_principal=(lambda x: x[\"dados_filme\"].atores[0]),\n",
    "    ano_filme=(lambda x: x[\"dados_filme\"].ano)\n",
    ")\n",
    "\n",
    "# Estação 3: Pega o resultado anterior e adiciona a filmografia.\n",
    "# Primeiro, criamos o \"adaptador\" para a Ferramenta 2.\n",
    "adaptador_para_filmografia = lambda x: {\n",
    "    \"ator\": x[\"ator_principal\"],\n",
    "    \"ano_inicio\": x[\"ano_filme\"],\n",
    "    \"ano_corrente\": ano_atual\n",
    "}\n",
    "# E agora, a pipeline final\n",
    "pipeline_final_com_filmografia = pipeline_passo_2_ator_e_ano | RunnablePassthrough.assign(\n",
    "    filmografia_resultado=(adaptador_para_filmografia | chain_busca_filmografia)\n",
    ")\n",
    "\n",
    "\n",
    "# --- PASSO 3: EXECUÇÃO E EXIBIÇÃO ---\n",
    "input_data = {\"movie\": \"Um Sonho de Liberdade\"}\n",
    "resultado_final = pipeline_final_com_filmografia.invoke(input_data)\n",
    "\n",
    "print(f\"--- Análise para o filme: {resultado_final['movie']} ---\")\n",
    "print(f\"Ator principal identificado: {resultado_final['ator_principal']} (do filme de {resultado_final['ano_filme']})\")\n",
    "print(\"\\n--- Filmografia do ator desde então ---\")\n",
    "# Acessamos o resultado final e o atributo .filmes do objeto Pydantic\n",
    "for filme in resultado_final['filmografia_resultado'].filmes:\n",
    "    print(f\"- {filme}\")"
   ]
  },
  {
   "cell_type": "markdown",
   "id": "916f7b73",
   "metadata": {},
   "source": [
    "# Nossa meta: definir esta pipeline completa.\n",
    "# Ela representa a sequência de TODAS as nossas operações.\n",
    "pipeline_completa = (\n",
    "    etapa_1_busca_paralela_de_dados\n",
    "    |\n",
    "    etapa_2_extracao_de_ator_e_ano\n",
    "    |\n",
    "    etapa_3_busca_de_filmografia\n",
    ")"
   ]
  },
  {
   "cell_type": "markdown",
   "id": "93370fe7",
   "metadata": {},
   "source": [
    "### Contrato de dados que serão usados no pipeline"
   ]
  },
  {
   "cell_type": "code",
   "execution_count": 2,
   "id": "116f0e00",
   "metadata": {},
   "outputs": [],
   "source": [
    "from pydantic import BaseModel, Field\n",
    "from typing import List\n",
    "\n",
    "# Contrato para os dados principais do filme\n",
    "class MovieInfoData(BaseModel):\n",
    "    diretor: str = Field(..., description=\"Nome do diretor do filme\")\n",
    "    atores: List[str] = Field(..., description=\"Lista de atores principais do filme\")\n",
    "    ano: int = Field(..., description=\"Ano de lançamento do filme\")\n",
    "\n",
    "# Contrato para o resultado da filmografia\n",
    "class Filmografia(BaseModel):\n",
    "    filmes: List[str] = Field(description=\"Lista de filmes notáveis em que o ator participou\")"
   ]
  },
  {
   "cell_type": "markdown",
   "id": "1fb7a37c",
   "metadata": {},
   "source": [
    "`Passo 3: Construir Cada Etapa (Preenchendo o Esqueleto)`\n",
    "\n",
    "Agora, vamos criar as peças para preencher nosso esqueleto do Passo 1.\n",
    "\n",
    "    3.A - Construindo a etapa_1_busca_paralela_de_dados\n",
    "\n",
    "        Objetivo: Buscar os dados do filme e o título em inglês ao mesmo tempo.\n",
    "\n",
    "        Ferramenta: RunnableParallel.\n",
    "\n",
    "    Código:"
   ]
  },
  {
   "cell_type": "markdown",
   "id": "bee4aa3a",
   "metadata": {},
   "source": [
    "Pense no .assign() não como algo que vem depois da primeira etapa, mas como a ferramenta que constrói cada etapa sequencial que adiciona dados, incluindo a primeira.\n",
    "\n",
    "No nosso exemplo \"Top-Down\":\n",
    "\n",
    "etapa_1_busca_paralela_de_dados foi a primeira etapa, e ela não usou .assign porque era um RunnableParallel.\n",
    "\n",
    "etapa_2_extracao_de_ator_e_ano foi a segunda etapa, e ela foi construída com um .assign.\n",
    "\n",
    "`A regra é: sempre que você quiser pegar o dicionário que está fluindo na pipeline e adicionar uma nova chave a ele, você constrói essa etapa com um RunnablePassthrough.assign()`"
   ]
  },
  {
   "cell_type": "markdown",
   "id": "7cb8ab5f",
   "metadata": {},
   "source": [
    "Vamos formalizar o seu modelo, que é um resumo fantástico:\n",
    "\n",
    "`chain = prompt | llm | output_parser`\n",
    "\n",
    "Onde:\n",
    "\n",
    "    1. A chain (A Ferramenta Completa): É a unidade de trabalho que resolve um problema específico. Ex: chain_busca_dados_filme.\n",
    "\n",
    "    2. O prompt (O Manual de Instruções): Exatamente como você disse, é a \"ferramenta para o problema a resolver\". Ele define a tarefa, o contexto, as regras e o que se espera do motor.\n",
    "\n",
    "    3. O llm (O Motor / A CPU): É o componente que processa as instruções do manual e gera o resultado bruto. É a força de trabalho intelectual.\n",
    "\n",
    "    4. O output_parser (O Molde / O Acabamento): É a etapa final que pega o resultado bruto do motor e o formata exatamente \"como queremos que o output saia\", seja transformando-o em um objeto Pydantic, uma string limpa, uma lista, etc."
   ]
  },
  {
   "cell_type": "code",
   "execution_count": 3,
   "id": "59fd1521",
   "metadata": {},
   "outputs": [
    {
     "name": "stdout",
     "output_type": "stream",
     "text": [
      "Executando teste da Ferramenta 1: chain_busca_dados_filme...\n",
      "diretor='Frank Darabont' atores=['Tim Robbins', 'Morgan Freeman', 'Bob Gunton'] ano=1994\n"
     ]
    }
   ],
   "source": [
    "# --- CONSTRUÇÃO DA FERRAMENTA 1: chain_busca_dados_filme ---\n",
    "\n",
    "# 1. Definição do LLM (corrigindo o nome do modelo para 'gpt-4o')\n",
    "llm = ChatOpenAI(model=\"gpt-4o\", temperature=0.0)\n",
    "\n",
    "# 2. Vinculando o LLM à nossa estrutura de dados Pydantic\n",
    "llm_structured = llm.with_structured_output(MovieInfoData)\n",
    "\n",
    "# 3. Definição do Prompt (Manual de Instruções)\n",
    "# Corrigindo a sintaxe para uma lista de tuplas: [ (\"role\", \"message\") ]\n",
    "prompt_movie_data = ChatPromptTemplate([\n",
    "    (\"system\", \"Você é um especialista em cinema. Responda com as informações solicitadas.\"),\n",
    "    (\"user\", \"Forneça o diretor, o ano e a lista dos 3 atores principais do filme {movie}.\")\n",
    "])\n",
    "\n",
    "# 4. Montagem final da Ferramenta/Chain\n",
    "# Usando o nome da variável que planejamos na nossa arquitetura\n",
    "chain_busca_dados_filme = prompt_movie_data | llm_structured\n",
    "\n",
    "# --- TESTE ISOLADO DA FERRAMENTA ---\n",
    "# Corrigindo a sintaxe do dicionário (chaves e valores de texto precisam de aspas)\n",
    "input_teste = {\"movie\": \"Um Sonho de Liberdade\"}\n",
    "\n",
    "print(\"Executando teste da Ferramenta 1: chain_busca_dados_filme...\")\n",
    "resultado_ferramenta_1 = chain_busca_dados_filme.invoke(input_teste)\n",
    "\n",
    "# Imprime o objeto Pydantic resultante\n",
    "print(resultado_ferramenta_1)"
   ]
  },
  {
   "cell_type": "code",
   "execution_count": 4,
   "id": "ca314cfd",
   "metadata": {},
   "outputs": [
    {
     "name": "stdout",
     "output_type": "stream",
     "text": [
      "Executando teste da Ferramenta 2: chain_busca_titulo_en...\n",
      "Resultado do teste: 'O título original em inglês do filme \"Um Sonho de Liberdade\" é \"The Shawshank Redemption\".'\n",
      "Tipo do resultado: <class 'str'>\n"
     ]
    }
   ],
   "source": [
    "# --- CONSTRUÇÃO DA FERRAMENTA 2: chain_busca_titulo_en ---\n",
    "\n",
    "from langchain_core.output_parsers import StrOutputParser\n",
    "\n",
    "# 1. Definição do Prompt (Manual de Instruções)\n",
    "prompt_titulo_en = ChatPromptTemplate([\n",
    "    (\"system\", \"Você é um pesquisador especialista em cinema que responde de forma concisa, direta e apenas com a informação solicitada.\"),\n",
    "    (\"user\", \"Qual é o título original em inglês do filme '{movie}'?\")\n",
    "])\n",
    "\n",
    "# 2. Montagem final da Ferramenta/Chain\n",
    "#    Usando o mesmo llm que já definimos antes.\n",
    "chain_busca_titulo_en = prompt_titulo_en | llm | StrOutputParser()\n",
    "\n",
    "\n",
    "# --- TESTE ISOLADO DA FERRAMENTA ---\n",
    "input_teste = {\"movie\": \"Um Sonho de Liberdade\"}\n",
    "\n",
    "print(\"Executando teste da Ferramenta 2: chain_busca_titulo_en...\")\n",
    "resultado_ferramenta_2 = chain_busca_titulo_en.invoke(input_teste)\n",
    "\n",
    "# Imprime o resultado e o tipo para confirmar que é uma string\n",
    "print(f\"Resultado do teste: '{resultado_ferramenta_2}'\")\n",
    "print(f\"Tipo do resultado: {type(resultado_ferramenta_2)}\")"
   ]
  },
  {
   "cell_type": "code",
   "execution_count": 5,
   "id": "e4e1edfc",
   "metadata": {},
   "outputs": [
    {
     "name": "stdout",
     "output_type": "stream",
     "text": [
      "Executando teste da Etapa 1: Busca Paralela...\n",
      "\n",
      "--- Resultado da Etapa Paralela ---\n",
      "{'dados_filme': MovieInfoData(diretor='Frank Darabont', atores=['Tim Robbins', 'Morgan Freeman', 'Bob Gunton'], ano=1994), 'titulo_en': 'O título original em inglês do filme \"Um Sonho de Liberdade\" é \"The Shawshank Redemption\".'}\n",
      "\n",
      "--- Detalhes do Resultado ---\n",
      "Dados do Filme (tipo: <class '__main__.MovieInfoData'>): diretor='Frank Darabont' atores=['Tim Robbins', 'Morgan Freeman', 'Bob Gunton'] ano=1994\n",
      "Título em Inglês (tipo: <class 'str'>): 'O título original em inglês do filme \"Um Sonho de Liberdade\" é \"The Shawshank Redemption\".'\n"
     ]
    }
   ],
   "source": [
    "# --- MONTAGEM DA ETAPA 1: A Busca Paralela ---\n",
    "\n",
    "from langchain_core.runnables import RunnableParallel\n",
    "\n",
    "# Nossas duas ferramentas já foram definidas nos passos anteriores:\n",
    "# chain_busca_dados_filme  -> Retorna um objeto MovieInfoData\n",
    "# chain_busca_titulo_en    -> Retorna uma string\n",
    "\n",
    "# Agora, criamos a etapa que executa as duas em paralelo\n",
    "etapa_1_busca_paralela_de_dados = RunnableParallel({\n",
    "    \"dados_filme\": chain_busca_dados_filme,\n",
    "    \"titulo_en\": chain_busca_titulo_en,\n",
    "})\n",
    "\n",
    "\n",
    "# --- TESTE ISOLADO DA ETAPA 1 ---\n",
    "input_teste = {\"movie\": \"Um Sonho de Liberdade\"}\n",
    "\n",
    "print(\"Executando teste da Etapa 1: Busca Paralela...\")\n",
    "resultado_etapa_1 = etapa_1_busca_paralela_de_dados.invoke(input_teste)\n",
    "\n",
    "# Exibindo o resultado completo da etapa\n",
    "print(\"\\n--- Resultado da Etapa Paralela ---\")\n",
    "# O resultado é um dicionário com as saídas de cada ferramenta\n",
    "print(resultado_etapa_1)\n",
    "\n",
    "print(\"\\n--- Detalhes do Resultado ---\")\n",
    "print(f\"Dados do Filme (tipo: {type(resultado_etapa_1['dados_filme'])}): {resultado_etapa_1['dados_filme']}\")\n",
    "print(f\"Título em Inglês (tipo: {type(resultado_etapa_1['titulo_en'])}): '{resultado_etapa_1['titulo_en']}'\")"
   ]
  },
  {
   "cell_type": "code",
   "execution_count": null,
   "id": "5c31ce78",
   "metadata": {},
   "outputs": [],
   "source": [
    "# Precisamos das duas \"ferramentas\" que esta etapa vai executar em paralelo\n",
    "chain_busca_dados_filme = ... # (vamos definir isso em breve)\n",
    "chain_busca_titulo_en = ...   # (vamos definir isso em breve)\n",
    "\n",
    "etapa_1_busca_paralela_de_dados = RunnableParallel({\n",
    "    \"dados_filme\": chain_busca_dados_filme,\n",
    "    \"titulo_en\": chain_busca_titulo_en,\n",
    "})\n",
    "\n",
    "# A SAÍDA DESTA ETAPA SERÁ UM DICIONÁRIO:\n",
    "# {'dados_filme': MovieInfoData(...), 'titulo_en': 'The Shawshank Redemption'}"
   ]
  },
  {
   "cell_type": "markdown",
   "id": "caaefaa0",
   "metadata": {},
   "source": [
    "3.B - Construindo a etapa_2_extracao_de_ator_e_ano\n",
    "\n",
    "    * Objetivo: Extrair o ator e o ano do resultado da etapa anterior.\n",
    "\n",
    "    * Ferramenta: RunnablePassthrough.assign com lambdas simples.\n",
    "\n",
    "    * Código:"
   ]
  },
  {
   "cell_type": "code",
   "execution_count": null,
   "id": "99b821ae",
   "metadata": {},
   "outputs": [],
   "source": [
    "etapa_2_extracao_de_ator_e_ano = RunnablePassthrough.assign(\n",
    "    ator_principal=(lambda x: x[\"dados_filme\"].atores[0]),\n",
    "    ano_filme=(lambda x: x[\"dados_filme\"].ano)\n",
    ")\n",
    "\n",
    "# A SAÍDA DESTA ETAPA SERÁ O DICIONÁRIO ANTERIOR, ENRIQUECIDO:\n",
    "# {'dados_filme': ..., 'titulo_en': ..., 'ator_principal': 'Tim Robbins', 'ano_filme': 1994}"
   ]
  },
  {
   "cell_type": "code",
   "execution_count": 8,
   "id": "54ac81ba",
   "metadata": {},
   "outputs": [
    {
     "name": "stdout",
     "output_type": "stream",
     "text": [
      "Executando teste da Etapa 2: Extração de Dados...\n",
      "\n",
      "--- Resultado após a Etapa 2 ---\n",
      "{'dados_filme': MovieInfoData(diretor='Frank Darabont', atores=['Tim Robbins', 'Morgan Freeman', 'Bob Gunton'], ano=1994), 'titulo_en': 'O título original em inglês é \"The Shawshank Redemption\".', 'ator_principal': 'Tim Robbins', 'ano_filme': 1994}\n"
     ]
    }
   ],
   "source": [
    "# Assumindo que a 'etapa_1_busca_paralela_de_dados' já foi criada\n",
    "# Saída da Etapa 1: {'dados_filme': MovieInfoData(...), 'titulo_en': '...'}\n",
    "import json\n",
    "\n",
    "etapa_2_extracao_de_ator_e_ano = etapa_1_busca_paralela_de_dados | RunnablePassthrough.assign(\n",
    "    ator_principal=(lambda x: x[\"dados_filme\"].atores[0]),\n",
    "    ano_filme=(lambda x: x[\"dados_filme\"].ano)\n",
    ")\n",
    "\n",
    "# --- TESTE ISOLADO DA ETAPA 2 ---\n",
    "input_teste = {\"movie\": \"Um Sonho de Liberdade\"}\n",
    "\n",
    "print(\"Executando teste da Etapa 2: Extração de Dados...\")\n",
    "resultado_etapa_2 = etapa_2_extracao_de_ator_e_ano.invoke(input_teste)\n",
    "\n",
    "print(\"\\n--- Resultado após a Etapa 2 ---\")\n",
    "# O dicionário agora está mais rico\n",
    "print(resultado_etapa_2)"
   ]
  },
  {
   "cell_type": "markdown",
   "id": "841ff3e7",
   "metadata": {},
   "source": [
    "3.C - Construindo a etapa_3_busca_de_filmografia\n",
    "\n",
    "    * Objetivo: Usar os dados extraídos para buscar a filmografia.\n",
    "    * Ferramenta: RunnablePassthrough.assign com uma sub-chain mais complexa.\n",
    "    * Código:"
   ]
  },
  {
   "cell_type": "code",
   "execution_count": null,
   "id": "c65d0bf1",
   "metadata": {},
   "outputs": [],
   "source": [
    "# Precisamos da \"ferramenta\" de busca de filmografia\n",
    "chain_busca_filmografia = ... # (vamos definir isso em breve)\n",
    "\n",
    "# E do \"adaptador\" para preparar os dados para essa ferramenta\n",
    "adaptador_para_filmografia = ... # (vamos definir isso em breve)\n",
    "\n",
    "etapa_3_busca_de_filmografia = RunnablePassthrough.assign(\n",
    "    filmografia_resultado=(adaptador_para_filmografia | chain_busca_filmografia)\n",
    ")\n",
    "\n",
    "# A SAÍDA FINAL SERÁ O DICIONÁRIO COMPLETO:\n",
    "# {'dados_filme': ..., 'titulo_en': ..., 'ator_principal': ..., 'ano_filme': ..., 'filmografia_resultado': Filmografia(...)}"
   ]
  },
  {
   "cell_type": "markdown",
   "id": "22f05000",
   "metadata": {},
   "source": [
    "Com prazer! Sua última frase é a conclusão perfeita de todo o nosso exercício. Você resumiu a função e a importância do RunnablePassthrough.assign de forma brilhante.\n",
    "\n",
    "\"...sempre que formos precisar de que os dados sejam preservados entre uma chain e outro é necessário usar RunnablePassthrough.assign, pois ele é um sequencial de chains, conservando os dados de entrada naquela sequência específica.\"\n",
    "\n",
    "Exatamente: o | (pipe) cria a sequência, e o .assign() em cada passo garante a conservação e o enriquecimento dos dados para a etapa seguinte.\n",
    "\n",
    "Chegou a hora de juntar tudo. Abaixo está o código completo da nossa arquitetura final. Ele está autocontido e pronto para rodar. Logo em seguida, apresento a saída detalhada, explicando a origem de cada parte do resultado, como você pediu."
   ]
  },
  {
   "cell_type": "code",
   "execution_count": null,
   "id": "93ae5907",
   "metadata": {},
   "outputs": [],
   "source": [
    "import os\n",
    "import datetime\n",
    "from langchain_openai import ChatOpenAI\n",
    "from langchain_core.prompts import ChatPromptTemplate\n",
    "from langchain_core.runnables import RunnablePassthrough, RunnableParallel\n",
    "from langchain_core.output_parsers import StrOutputParser\n",
    "from pydantic import BaseModel, Field\n",
    "from typing import List\n",
    "from dotenv import load_dotenv, find_dotenv\n",
    "\n",
    "# Carregar variáveis de ambiente (necessário para a chave da API)\n",
    "# Certifique-se de que seu .env está configurado para o LangSmith\n",
    "load_dotenv(find_dotenv())\n",
    "\n",
    "# --- ATO I: DEFINIÇÃO DAS ESTRUTURAS DE DADOS (Nossos \"Contratos\") ---\n",
    "class MovieInfoData(BaseModel):\n",
    "    diretor: str = Field(..., description=\"Nome do diretor do filme\")\n",
    "    atores: List[str] = Field(..., description=\"Lista dos 3 atores principais do filme\")\n",
    "    ano: int = Field(..., description=\"Ano de lançamento do filme\")\n",
    "\n",
    "class Filmografia(BaseModel):\n",
    "    filmes: List[str] = Field(description=\"Lista de filmes notáveis em que o ator participou\")\n",
    "\n",
    "# --- ATO II: CONSTRUÇÃO DAS \"FERRAMENTAS\" (Nossas Chains Independentes) ---\n",
    "\n",
    "# Configuração do LLM que será usado por todas as ferramentas\n",
    "llm = ChatOpenAI(model=\"gpt-4o\", temperature=0.0)\n",
    "\n",
    "# Ferramenta 1: Chain para buscar os dados iniciais do filme\n",
    "prompt_movie_data = ChatPromptTemplate.from_template(\n",
    "    \"Você é um especialista em cinema. Forneça o diretor, o ano e a lista dos 3 atores principais do filme {movie}.\"\n",
    ")\n",
    "chain_busca_dados_filme = prompt_movie_data | llm.with_structured_output(MovieInfoData)\n",
    "\n",
    "# Ferramenta 2: Chain para buscar o título em inglês\n",
    "prompt_titulo_en = ChatPromptTemplate.from_template(\n",
    "    \"Você é um pesquisador especialista em cinema. Qual é o título original em inglês do filme '{movie}'? Responda apenas com o título, nada mais.\"\n",
    ")\n",
    "chain_busca_titulo_en = prompt_titulo_en | llm | StrOutputParser()\n",
    "\n",
    "# Ferramenta 3: Chain para buscar a filmografia de um ator\n",
    "ano_atual = datetime.datetime.now().year\n",
    "prompt_filmografia = ChatPromptTemplate.from_template(\n",
    "    \"\"\"Você é um especialista em filmografia de atores.\n",
    "    Liste filmes notáveis em que o ator {ator} participou, lançados estritamente depois do ano {ano_inicio} até o ano {ano_corrente}.\n",
    "    Não inclua o filme do ano {ano_inicio}. Responda apenas com a lista de filmes.\"\"\"\n",
    ")\n",
    "chain_busca_filmografia = prompt_filmografia | llm.with_structured_output(Filmografia)\n",
    "\n",
    "# --- ATO III: MONTAGEM DA LINHA DE PRODUÇÃO (A Pipeline Completa) ---\n",
    "\n",
    "# Etapa 1: Busca paralela dos dados iniciais e do título em inglês\n",
    "etapa_1_busca_paralela = RunnableParallel({\n",
    "    \"dados_filme\": chain_busca_dados_filme,\n",
    "    \"titulo_en\": chain_busca_titulo_en,\n",
    "})\n",
    "\n",
    "# Etapa 2: Extração sequencial do ator e ano a partir dos dados da Etapa 1\n",
    "etapa_2_extracao = RunnablePassthrough.assign(\n",
    "    ator_principal=(lambda x: x[\"dados_filme\"].atores[0]),\n",
    "    ano_filme=(lambda x: x[\"dados_filme\"].ano)\n",
    ")\n",
    "\n",
    "# Etapa 3: Busca sequencial da filmografia usando os dados extraídos na Etapa 2\n",
    "adaptador_para_filmografia = lambda x: {\n",
    "    \"ator\": x[\"ator_principal\"],\n",
    "    \"ano_inicio\": x[\"ano_filme\"],\n",
    "    \"ano_corrente\": ano_atual\n",
    "}\n",
    "etapa_3_filmografia = RunnablePassthrough.assign(\n",
    "    filmografia_resultado=(adaptador_para_filmografia | chain_busca_filmografia)\n",
    ")\n",
    "\n",
    "# Montagem da Pipeline Completa (O Gerente Geral)\n",
    "pipeline_completa = etapa_1_busca_paralela | etapa_2_extracao | etapa_3_filmografia\n",
    "\n",
    "\n",
    "# --- ATO IV: EXECUÇÃO E ANÁLISE DO RESULTADO ---\n",
    "input_data = {\"movie\": \"Um Sonho de Liberdade\"}\n",
    "resultado_final = pipeline_completa.invoke(input_data)\n",
    "\n",
    "\n",
    "# --- ANÁLISE DETALHADA DO RESULTADO FINAL ---\n",
    "print(\"=\"*60)\n",
    "print(\"INÍCIO DA ANÁLISE DA PIPELINE\")\n",
    "print(\"=\"*60)\n",
    "\n",
    "print(f\"\\n➡️ 1. DADO DE ENTRADA (INPUT)\")\n",
    "print(f\"   - {input_data}\")\n",
    "\n",
    "print(\"\\n\\n✅ 2. DICIONÁRIO FINAL (OUTPUT ENRIQUECIDO)\")\n",
    "\n",
    "# Iterando sobre o dicionário final para explicar a origem de cada chave\n",
    "for chave, valor in resultado_final.items():\n",
    "    if chave == \"dados_filme\":\n",
    "        print(f\"\\n   - Chave '{chave}':\")\n",
    "        print(f\"     - Origem: Gerado pela 'chain_busca_dados_filme' dentro da Etapa 1 (Paralela).\")\n",
    "        print(f\"     - Valor: {valor}\")\n",
    "    elif chave == \"titulo_en\":\n",
    "        print(f\"\\n   - Chave '{chave}':\")\n",
    "        print(f\"     - Origem: Gerado pela 'chain_busca_titulo_en' dentro da Etapa 1 (Paralela).\")\n",
    "        print(f\"     - Valor: '{valor}'\")\n",
    "    elif chave == \"ator_principal\":\n",
    "        print(f\"\\n   - Chave '{chave}':\")\n",
    "        print(f\"     - Origem: Extraído por uma 'lambda' do campo 'atores' na Etapa 2 (Sequencial).\")\n",
    "        print(f\"     - Valor: '{valor}'\")\n",
    "    elif chave == \"ano_filme\":\n",
    "        print(f\"\\n   - Chave '{chave}':\")\n",
    "        print(f\"     - Origem: Extraído por uma 'lambda' do campo 'ano' na Etapa 2 (Sequencial).\")\n",
    "        print(f\"     - Valor: {valor}\")\n",
    "    elif chave == \"filmografia_resultado\":\n",
    "        print(f\"\\n   - Chave '{chave}':\")\n",
    "        print(f\"     - Origem: Gerado pela 'chain_busca_filmografia' na Etapa 3 (Sequencial).\")\n",
    "        print(f\"     - Valor: {valor.filmes}\")\n",
    "\n",
    "print(\"\\n\" + \"=\"*60)\n",
    "print(\"FIM DA ANÁLISE\")\n",
    "print(\"=\"*60)"
   ]
  }
 ],
 "metadata": {
  "kernelspec": {
   "display_name": ".venv",
   "language": "python",
   "name": "python3"
  },
  "language_info": {
   "codemirror_mode": {
    "name": "ipython",
    "version": 3
   },
   "file_extension": ".py",
   "mimetype": "text/x-python",
   "name": "python",
   "nbconvert_exporter": "python",
   "pygments_lexer": "ipython3",
   "version": "3.13.3"
  }
 },
 "nbformat": 4,
 "nbformat_minor": 5
}
