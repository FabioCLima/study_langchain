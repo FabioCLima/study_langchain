{
 "cells": [
  {
   "cell_type": "code",
   "execution_count": null,
   "metadata": {},
   "outputs": [
    {
     "data": {
      "text/plain": [
       "True"
      ]
     },
     "execution_count": 1,
     "metadata": {},
     "output_type": "execute_result"
    }
   ],
   "source": [
    "import getpass\n",
    "import os\n",
    "\n",
    "from dotenv import load_dotenv\n",
    "from langchain_core.messages import AIMessage, HumanMessage, SystemMessage\n",
    "from langchain_core.prompts import FewShotPromptTemplate, PromptTemplate\n",
    "from langchain_openai import ChatOpenAI\n",
    "\n",
    "load_dotenv()  # carrega primeiro o .env se existir"
   ]
  },
  {
   "cell_type": "code",
   "execution_count": null,
   "metadata": {},
   "outputs": [],
   "source": [
    "if not os.environ.get(\"OPENAI_API_KEY\"):\n",
    "    os.environ[\"OPENAI_API_KEY\"] = getpass.getpass(\"Enter API key for OpenAI: \\n\")"
   ]
  },
  {
   "cell_type": "code",
   "execution_count": null,
   "metadata": {},
   "outputs": [],
   "source": [
    "llm = ChatOpenAI(\n",
    "    model=\"gpt-4o-mini\",\n",
    "    temperature=0.0,\n",
    "    api_key=os.environ.get(\"OPENAI_API_KEY\"),  # Use os.environ.get()\n",
    ")"
   ]
  },
  {
   "cell_type": "code",
   "execution_count": null,
   "metadata": {},
   "outputs": [
    {
     "data": {
      "text/plain": [
       "AIMessage(content='Hello! How can I assist you today?', additional_kwargs={'refusal': None}, response_metadata={'token_usage': {'completion_tokens': 9, 'prompt_tokens': 9, 'total_tokens': 18, 'completion_tokens_details': {'accepted_prediction_tokens': 0, 'audio_tokens': 0, 'reasoning_tokens': 0, 'rejected_prediction_tokens': 0}, 'prompt_tokens_details': {'audio_tokens': 0, 'cached_tokens': 0}}, 'model_name': 'gpt-4o-mini-2024-07-18', 'system_fingerprint': 'fp_34a54ae93c', 'id': 'chatcmpl-BxWHIJssDu4SFkqNwJj8a5FPTTUni', 'service_tier': 'default', 'finish_reason': 'stop', 'logprobs': None}, id='run--394ad335-7ee9-4b72-9e8c-6ebffc4d44fb-0', usage_metadata={'input_tokens': 9, 'output_tokens': 9, 'total_tokens': 18, 'input_token_details': {'audio': 0, 'cache_read': 0}, 'output_token_details': {'audio': 0, 'reasoning': 0}})"
      ]
     },
     "execution_count": 4,
     "metadata": {},
     "output_type": "execute_result"
    }
   ],
   "source": [
    "llm.invoke(\"Hello there\")"
   ]
  },
  {
   "cell_type": "markdown",
   "metadata": {},
   "source": [
    "**Chat Structure**"
   ]
  },
  {
   "cell_type": "code",
   "execution_count": null,
   "metadata": {},
   "outputs": [],
   "source": [
    "messages = [\n",
    "    SystemMessage(\"You are a geography tutor\"),\n",
    "    HumanMessage(\"What's the capital of Brazil?\"),\n",
    "]"
   ]
  },
  {
   "cell_type": "code",
   "execution_count": null,
   "metadata": {},
   "outputs": [
    {
     "data": {
      "text/plain": [
       "AIMessage(content='The capital of Brazil is Brasília. It was officially inaugurated as the capital on April 21, 1960, and was designed by the architect Oscar Niemeyer and urban planner Lúcio Costa.', additional_kwargs={'refusal': None}, response_metadata={'token_usage': {'completion_tokens': 40, 'prompt_tokens': 22, 'total_tokens': 62, 'completion_tokens_details': {'accepted_prediction_tokens': 0, 'audio_tokens': 0, 'reasoning_tokens': 0, 'rejected_prediction_tokens': 0}, 'prompt_tokens_details': {'audio_tokens': 0, 'cached_tokens': 0}}, 'model_name': 'gpt-4o-mini-2024-07-18', 'system_fingerprint': 'fp_34a54ae93c', 'id': 'chatcmpl-BxWHsd0lbqJkiLss3q4s786jwmlBu', 'service_tier': 'default', 'finish_reason': 'stop', 'logprobs': None}, id='run--1c64e1f0-a606-4f77-94fb-16f4ed5ac118-0', usage_metadata={'input_tokens': 22, 'output_tokens': 40, 'total_tokens': 62, 'input_token_details': {'audio': 0, 'cache_read': 0}, 'output_token_details': {'audio': 0, 'reasoning': 0}})"
      ]
     },
     "execution_count": 6,
     "metadata": {},
     "output_type": "execute_result"
    }
   ],
   "source": [
    "llm.invoke(messages)"
   ]
  },
  {
   "cell_type": "code",
   "execution_count": null,
   "metadata": {},
   "outputs": [],
   "source": [
    "messages = [\n",
    "    SystemMessage(\"You are a geography tutor\"),\n",
    "    HumanMessage(\"What's the capital of Brazil?\"),\n",
    "    AIMessage(\"The capital of Brazil is Brasília\"),\n",
    "    HumanMessage(\"What's the capital of Canada?\"),\n",
    "]"
   ]
  },
  {
   "cell_type": "code",
   "execution_count": null,
   "metadata": {},
   "outputs": [
    {
     "data": {
      "text/plain": [
       "AIMessage(content='The capital of Canada is Ottawa.', additional_kwargs={'refusal': None}, response_metadata={'token_usage': {'completion_tokens': 7, 'prompt_tokens': 42, 'total_tokens': 49, 'completion_tokens_details': {'accepted_prediction_tokens': 0, 'audio_tokens': 0, 'reasoning_tokens': 0, 'rejected_prediction_tokens': 0}, 'prompt_tokens_details': {'audio_tokens': 0, 'cached_tokens': 0}}, 'model_name': 'gpt-4o-mini-2024-07-18', 'system_fingerprint': 'fp_34a54ae93c', 'id': 'chatcmpl-BxWI6fHAic6LB5NbwGBzIX9JiGa8h', 'service_tier': 'default', 'finish_reason': 'stop', 'logprobs': None}, id='run--ab4f0de4-2548-4879-a953-d45df99ead95-0', usage_metadata={'input_tokens': 42, 'output_tokens': 7, 'total_tokens': 49, 'input_token_details': {'audio': 0, 'cache_read': 0}, 'output_token_details': {'audio': 0, 'reasoning': 0}})"
      ]
     },
     "execution_count": 8,
     "metadata": {},
     "output_type": "execute_result"
    }
   ],
   "source": [
    "llm.invoke(messages)"
   ]
  },
  {
   "cell_type": "markdown",
   "metadata": {},
   "source": [
    "**Pure Python prompts: f-strings and str.format()**"
   ]
  },
  {
   "cell_type": "code",
   "execution_count": null,
   "metadata": {},
   "outputs": [
    {
     "data": {
      "text/plain": [
       "AIMessage(content='Why do Python programmers prefer dark mode?\\n\\nBecause light attracts bugs!', additional_kwargs={'refusal': None}, response_metadata={'token_usage': {'completion_tokens': 13, 'prompt_tokens': 13, 'total_tokens': 26, 'completion_tokens_details': {'accepted_prediction_tokens': 0, 'audio_tokens': 0, 'reasoning_tokens': 0, 'rejected_prediction_tokens': 0}, 'prompt_tokens_details': {'audio_tokens': 0, 'cached_tokens': 0}}, 'model_name': 'gpt-4o-mini-2024-07-18', 'system_fingerprint': 'fp_34a54ae93c', 'id': 'chatcmpl-BxWIG5PogLP3RoSfuh8fm2NGRCfdL', 'service_tier': 'default', 'finish_reason': 'stop', 'logprobs': None}, id='run--070eb5d3-ad79-41e7-b015-2b8fb3523444-0', usage_metadata={'input_tokens': 13, 'output_tokens': 13, 'total_tokens': 26, 'input_token_details': {'audio': 0, 'cache_read': 0}, 'output_token_details': {'audio': 0, 'reasoning': 0}})"
      ]
     },
     "execution_count": 9,
     "metadata": {},
     "output_type": "execute_result"
    }
   ],
   "source": [
    "topic = \"Python\"\n",
    "prompt = f\"Tell me a joke about {topic}\"\n",
    "llm.invoke(prompt)"
   ]
  },
  {
   "cell_type": "code",
   "execution_count": null,
   "metadata": {},
   "outputs": [
    {
     "name": "stdout",
     "output_type": "stream",
     "text": [
      "Why do Python programmers prefer dark mode?\n",
      "\n",
      "Because light attracts bugs!\n"
     ]
    }
   ],
   "source": [
    "ai_answer = llm.invoke(prompt)\n",
    "print(ai_answer.content)"
   ]
  },
  {
   "cell_type": "code",
   "execution_count": null,
   "metadata": {},
   "outputs": [
    {
     "data": {
      "text/plain": [
       "'Tell me a joke about Python'"
      ]
     },
     "execution_count": 11,
     "metadata": {},
     "output_type": "execute_result"
    }
   ],
   "source": [
    "prompt"
   ]
  },
  {
   "cell_type": "code",
   "execution_count": null,
   "metadata": {},
   "outputs": [
    {
     "data": {
      "text/plain": [
       "AIMessage(content='Why do Python programmers prefer dark mode?\\n\\nBecause light attracts bugs!', additional_kwargs={'refusal': None}, response_metadata={'token_usage': {'completion_tokens': 13, 'prompt_tokens': 13, 'total_tokens': 26, 'completion_tokens_details': {'accepted_prediction_tokens': 0, 'audio_tokens': 0, 'reasoning_tokens': 0, 'rejected_prediction_tokens': 0}, 'prompt_tokens_details': {'audio_tokens': 0, 'cached_tokens': 0}}, 'model_name': 'gpt-4o-mini-2024-07-18', 'system_fingerprint': 'fp_34a54ae93c', 'id': 'chatcmpl-BxWOud9P9nsUMdb1kOpTB1xCNHSCS', 'service_tier': 'default', 'finish_reason': 'stop', 'logprobs': None}, id='run--0adde7fe-c451-4665-8b3b-925f5e29fb44-0', usage_metadata={'input_tokens': 13, 'output_tokens': 13, 'total_tokens': 26, 'input_token_details': {'audio': 0, 'cache_read': 0}, 'output_token_details': {'audio': 0, 'reasoning': 0}})"
      ]
     },
     "execution_count": 12,
     "metadata": {},
     "output_type": "execute_result"
    }
   ],
   "source": [
    "prompt = \"Tell me a joke about {topic}\"\n",
    "llm.invoke(prompt.format(topic=\"Python\"))"
   ]
  },
  {
   "cell_type": "code",
   "execution_count": null,
   "metadata": {},
   "outputs": [
    {
     "data": {
      "text/plain": [
       "'Tell me a joke about Python'"
      ]
     },
     "execution_count": 13,
     "metadata": {},
     "output_type": "execute_result"
    }
   ],
   "source": [
    "prompt.format(topic=\"Python\")"
   ]
  },
  {
   "cell_type": "markdown",
   "metadata": {},
   "source": [
    "**Prompt Templates**"
   ]
  },
  {
   "cell_type": "code",
   "execution_count": null,
   "metadata": {},
   "outputs": [],
   "source": [
    "prompt_template = PromptTemplate(template=\"Tell me a joke about {topic}\")"
   ]
  },
  {
   "cell_type": "code",
   "execution_count": null,
   "metadata": {},
   "outputs": [
    {
     "data": {
      "text/plain": [
       "PromptTemplate(input_variables=['topic'], input_types={}, partial_variables={}, template='Tell me a joke about {topic}')"
      ]
     },
     "execution_count": 15,
     "metadata": {},
     "output_type": "execute_result"
    }
   ],
   "source": [
    "prompt_template"
   ]
  },
  {
   "cell_type": "code",
   "execution_count": null,
   "metadata": {},
   "outputs": [
    {
     "data": {
      "text/plain": [
       "'Tell me a joke about Python'"
      ]
     },
     "execution_count": 16,
     "metadata": {},
     "output_type": "execute_result"
    }
   ],
   "source": [
    "prompt_template.format(topic=\"Python\")"
   ]
  },
  {
   "cell_type": "code",
   "execution_count": null,
   "metadata": {},
   "outputs": [
    {
     "data": {
      "text/plain": [
       "StringPromptValue(text='Tell me a joke about Python')"
      ]
     },
     "execution_count": 17,
     "metadata": {},
     "output_type": "execute_result"
    }
   ],
   "source": [
    "prompt_template.invoke({\"topic\": \"Python\"})"
   ]
  },
  {
   "cell_type": "code",
   "execution_count": null,
   "metadata": {},
   "outputs": [
    {
     "data": {
      "text/plain": [
       "AIMessage(content='Why do Python programmers prefer dark mode?\\n\\nBecause light attracts bugs! 🐍✨', additional_kwargs={'refusal': None}, response_metadata={'token_usage': {'completion_tokens': 17, 'prompt_tokens': 13, 'total_tokens': 30, 'completion_tokens_details': {'accepted_prediction_tokens': 0, 'audio_tokens': 0, 'reasoning_tokens': 0, 'rejected_prediction_tokens': 0}, 'prompt_tokens_details': {'audio_tokens': 0, 'cached_tokens': 0}}, 'model_name': 'gpt-4o-mini-2024-07-18', 'system_fingerprint': 'fp_34a54ae93c', 'id': 'chatcmpl-BxWPlei9reQkJLHU4ss7BYMQdPPXA', 'service_tier': 'default', 'finish_reason': 'stop', 'logprobs': None}, id='run--6717cc8d-b4ab-49d7-99ae-fed62c3bffd9-0', usage_metadata={'input_tokens': 13, 'output_tokens': 17, 'total_tokens': 30, 'input_token_details': {'audio': 0, 'cache_read': 0}, 'output_token_details': {'audio': 0, 'reasoning': 0}})"
      ]
     },
     "execution_count": 18,
     "metadata": {},
     "output_type": "execute_result"
    }
   ],
   "source": [
    "llm.invoke(prompt_template.invoke({\"topic\": \"Python\"}))"
   ]
  },
  {
   "cell_type": "markdown",
   "metadata": {},
   "source": [
    "**Few Shot Prompt**"
   ]
  },
  {
   "cell_type": "code",
   "execution_count": null,
   "metadata": {},
   "outputs": [],
   "source": [
    "example_prompt = PromptTemplate(\n",
    "    template=\"Question: {input}\\nThought: {thought}\\nResponse: {output}\"\n",
    ")"
   ]
  },
  {
   "cell_type": "code",
   "execution_count": null,
   "metadata": {},
   "outputs": [],
   "source": [
    "examples = [\n",
    "    {\n",
    "        \"input\": \"A train leaves city A for city B at 60 km/h, and another train leaves city B for city A at 40 km/h. If the distance between them is 200 km, how long until they meet?\",\n",
    "        \"thought\": \"The trains are moving towards each other, so their relative speed is 60 + 40 = 100 km/h. The time to meet is distance divided by relative speed: 200 / 100 = 2 hours.\",\n",
    "        \"output\": \"2 hours\",\n",
    "    },\n",
    "    {\n",
    "        \"input\": \"If a store applies a 20% discount to a $50 item, what is the final price?\",\n",
    "        \"thought\": \"A 20% discount means multiplying by 0.8. So, $50 × 0.8 = $40.\",\n",
    "        \"output\": \"$40\",\n",
    "    },\n",
    "    {\n",
    "        \"input\": \"A farmer has chickens and cows. If there are 10 heads and 32 legs, how many of each animal are there?\",\n",
    "        \"thought\": \"Let x be chickens and y be cows. We have two equations: x + y = 10 (heads) and 2x + 4y = 32 (legs). Solving: x + y = 10 → x = 10 - y. Substituting: 2(10 - y) + 4y = 32 → 20 - 2y + 4y = 32 → 2y = 12 → y = 6, so x = 4.\",\n",
    "        \"output\": \"4 chickens, 6 cows\",\n",
    "    },\n",
    "    {\n",
    "        \"input\": \"If a car travels 90 km in 1.5 hours, what is its average speed?\",\n",
    "        \"thought\": \"Speed is distance divided by time: 90 km / 1.5 hours = 60 km/h.\",\n",
    "        \"output\": \"60 km/h\",\n",
    "    },\n",
    "    {\n",
    "        \"input\": \"John is twice as old as Alice. In 5 years, their combined age will be 35. How old is Alice now?\",\n",
    "        \"thought\": \"Let Alice's age be x. Then John’s age is 2x. In 5 years, their ages will be x+5 and 2x+5. Their sum is 35: x+5 + 2x+5 = 35 → 3x + 10 = 35 → 3x = 25 → x = 8.33.\",\n",
    "        \"output\": \"8.33 years old\",\n",
    "    },\n",
    "]"
   ]
  },
  {
   "cell_type": "code",
   "execution_count": null,
   "metadata": {},
   "outputs": [
    {
     "name": "stdout",
     "output_type": "stream",
     "text": [
      "Question: A train leaves city A for city B at 60 km/h, and another train leaves city B for city A at 40 km/h. If the distance between them is 200 km, how long until they meet?\n",
      "Thought: The trains are moving towards each other, so their relative speed is 60 + 40 = 100 km/h. The time to meet is distance divided by relative speed: 200 / 100 = 2 hours.\n",
      "Response: 2 hours\n"
     ]
    }
   ],
   "source": [
    "print(example_prompt.invoke(examples[0]).to_string())"
   ]
  },
  {
   "cell_type": "code",
   "execution_count": null,
   "metadata": {},
   "outputs": [],
   "source": [
    "prompt_template = FewShotPromptTemplate(\n",
    "    examples=examples,\n",
    "    example_prompt=example_prompt,\n",
    "    suffix=\"Question: {input}\",\n",
    "    input_variables=[\"input\"],\n",
    ")"
   ]
  },
  {
   "cell_type": "code",
   "execution_count": null,
   "metadata": {},
   "outputs": [
    {
     "name": "stdout",
     "output_type": "stream",
     "text": [
      "Thought: To find the day of the week in 10 days, we can calculate the remainder of 10 when divided by 7 (the number of days in a week). 10 ÷ 7 = 1 remainder 3. This means 10 days from Wednesday is 3 days later. Counting from Wednesday: Thursday (1), Friday (2), Saturday (3). \n",
      "\n",
      "Response: Saturday\n"
     ]
    }
   ],
   "source": [
    "response = llm.invoke(\n",
    "    prompt_template.invoke(\n",
    "        {\"input\": \"If today is Wednesday, what day will it be in 10 days?\"}\n",
    "    )\n",
    ")\n",
    "print(response.content)  # Response should be Saturday"
   ]
  },
  {
   "cell_type": "code",
   "execution_count": null,
   "metadata": {},
   "outputs": [
    {
     "name": "stdout",
     "output_type": "stream",
     "text": [
      "Era uma vez um jovem chamado Lucas, que sempre teve uma curiosidade insaciável sobre como as coisas funcionavam. Desde pequeno, ele desmontava brinquedos e eletrônicos, tentando entender seus mecanismos. Um dia, enquanto navegava na internet, ele se deparou com um vídeo sobre programação. Fascinado, Lucas decidiu que queria aprender a criar seus próprios jogos e aplicativos.\n",
      "\n",
      "No início, a jornada foi desafiadora. Ele se deparou com termos complicados e códigos que pareciam um emaranhado de letras e números. Muitas vezes, sentou-se à frente do computador, frustrado, pensando em desistir. Mas, em vez disso, ele decidiu buscar ajuda. Lucas se juntou a um grupo online de iniciantes, onde encontrou pessoas que compartilhavam suas dúvidas e conquistas.\n",
      "\n",
      "Com o tempo, ele começou a entender os conceitos básicos. Aprendeu sobre variáveis, loops e funções. Cada pequeno projeto que completava, como um simples jogo de adivinhação, trazia uma sensação de realização. Ele se lembrou de como se sentia ao desmontar um brinquedo e, agora, estava montando algo novo do zero.\n",
      "\n",
      "A jornada de Lucas não foi apenas sobre aprender a programar, mas também sobre perseverança e comunidade. Ele começou a participar de hackathons e a colaborar em projetos com outros programadores. Cada desafio o tornava mais confiante e criativo.\n",
      "\n",
      "Anos depois, Lucas se tornou um desenvolvedor respeitado, criando jogos que encantavam crianças e adultos. Ele nunca esqueceu de suas dificuldades iniciais e, por isso, decidiu ensinar programação para jovens em sua cidade. Assim, ele não apenas continuou sua própria jornada, mas também inspirou outros a embarcarem na aventura de aprender a programar.\n",
      "\n",
      "E assim, a curiosidade de um garoto se transformou em uma paixão que impactou a vida de muitos. A jornada de aprender a programar se tornou uma história de crescimento, amizade e a magia de transformar ideias em realidade."
     ]
    }
   ],
   "source": [
    "pergunta = \"Conte uma história breve sobre a jornada de aprender a programar\"\n",
    "\n",
    "for trecho in llm.stream(pergunta):\n",
    "    print(trecho.content, end=\"\", flush=True)"
   ]
  },
  {
   "cell_type": "code",
   "execution_count": 26,
   "metadata": {},
   "outputs": [
    {
     "name": "stdout",
     "output_type": "stream",
     "text": [
      "1 + 1 é igual a 2! Mas se você perguntar para um matemático, ele pode dizer que é \"um mais um\" e isso é uma piada em si! Quer ouvir uma piada sobre matemática?\n"
     ]
    }
   ],
   "source": [
    "mensagens = [\n",
    "    SystemMessage(content=\"Você é um assistente que conta piadas.\"),\n",
    "    HumanMessage(content=\"Quanto é 1 + 1?\"),\n",
    "]\n",
    "resposta = llm.invoke(mensagens)\n",
    "print(resposta.content)"
   ]
  }
 ],
 "metadata": {
  "kernelspec": {
   "display_name": "study-langchain",
   "language": "python",
   "name": "python3"
  },
  "language_info": {
   "codemirror_mode": {
    "name": "ipython",
    "version": 3
   },
   "file_extension": ".py",
   "mimetype": "text/x-python",
   "name": "python",
   "nbconvert_exporter": "python",
   "pygments_lexer": "ipython3",
   "version": "3.13.3"
  }
 },
 "nbformat": 4,
 "nbformat_minor": 2
}
