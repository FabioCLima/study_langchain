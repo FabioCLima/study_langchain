{
 "cells": [
  {
   "cell_type": "markdown",
   "metadata": {},
   "source": [
    "# Estudo de LangGraph: Do Workflow Linear ao Condicional\n",
    "\n",
    "**Tutor:** Gemini\n",
    "**Aluno:** Fábio\n",
    "\n",
    "---\n",
    "\n",
    "### Objetivo deste Estudo\n",
    "\n",
    "Este notebook é um guia prático e didático para entender os conceitos fundamentais do **LangGraph**. Nosso objetivo é evoluir de um agente com um fluxo de trabalho simples e linear para um agente mais inteligente, capaz de tomar decisões e seguir caminhos diferentes com base na entrada do usuário.\n",
    "\n",
    "Para isso, vamos construir dois agentes:\n",
    "\n",
    "1.  **O Assistente de Perguntas:** Um agente com um fluxo **linear** de duas etapas para otimizar e responder perguntas.\n",
    "2.  **O Agente de Viagens Inteligente:** Um agente com um fluxo **condicional**, que atua como um roteador para chamar ferramentas especializadas.\n",
    "\n",
    "Seguiremos um **framework de trabalho** estruturado em 4 fases: Conceito, Estrutura, Implementação e Validação."
   ]
  },
  {
   "cell_type": "markdown",
   "metadata": {},
   "source": [
    "## Parte 1: O Workflow Linear - O \"Assistente de Perguntas\"\n",
    "\n",
    "Neste primeiro exercício, construiremos um agente que executa um processo de duas etapas sequenciais. É um exemplo perfeito para entender os conceitos básicos de **Estado**, **Nós** e **Arestas**."
   ]
  },
  {
   "cell_type": "markdown",
   "metadata": {},
   "source": [
    "### Fase 1: ✍️ Conceito e Arquitetura\n",
    "\n",
    "**🎯 Missão:** Criar um agente que primeiro **reformula a pergunta** do usuário para ser mais clara e, em seguida, **responde** a essa nova pergunta, agindo como um tutor de Python.\n",
    "\n",
    "**🗺️ Fluxograma:**\n",
    "`START` -> `[Nó de Reformulação]` -> `[Nó de Resposta]` -> `END`"
   ]
  },
  {
   "cell_type": "markdown",
   "metadata": {},
   "source": [
    "### Fase 2: 🏛️ Estrutura (Estado e Ferramentas)\n",
    "\n",
    "Primeiro, importamos as bibliotecas e definimos o **Estado**, que é a memória compartilhada do nosso agente."
   ]
  },
  {
   "cell_type": "code",
   "execution_count": null,
   "metadata": {},
   "outputs": [],
   "source": [
    "import os\n",
    "from typing import TypedDict\n",
    "\n",
    "from dotenv import load_dotenv\n",
    "from IPython.display import Image, display\n",
    "from langchain_core.messages import HumanMessage, SystemMessage\n",
    "from langchain_openai import ChatOpenAI\n",
    "from langgraph.graph import END, START, StateGraph\n",
    "\n",
    "# Carrega as variáveis de ambiente (ex: OPENAI_API_KEY)\n",
    "load_dotenv()\n",
    "\n",
    "# Configuração do LLM que será usado pelos nós\n",
    "llm = ChatOpenAI(model=\"gpt-4o-mini\", temperature=0.0)\n",
    "\n",
    "\n",
    "# Definição do Estado\n",
    "class AgentStateLinear(TypedDict):\n",
    "    \"\"\"Define a estrutura de dados para o Assistente de Perguntas.\"\"\"\n",
    "    original_question: str\n",
    "    question_clarified: str\n",
    "    answer: str"
   ]
  },
  {
   "cell_type": "markdown",
   "metadata": {},
   "source": [
    "### Fase 3: ⚙️ Implementação (Nós e Grafo)\n",
    "\n",
    "Agora, codificamos os **Nós** (as funções que realizam o trabalho) e montamos o **Grafo**."
   ]
  },
  {
   "cell_type": "code",
   "execution_count": null,
   "metadata": {},
   "outputs": [],
   "source": [
    "# Definição dos Nós\n",
    "def reformulate_node(state: AgentStateLinear) -> dict:\n",
    "    \"\"\"Nó 1: Pega a pergunta original e a reformula para ser mais clara.\"\"\"\n",
    "    print(\"--- (Nó 1: Reformulando Pergunta) ---\")\n",
    "    original_question = state[\"original_question\"]\n",
    "    \n",
    "    prompt = [\n",
    "        SystemMessage(\"Sua tarefa é reformular a pergunta do usuário para que ela seja mais clara e direta. Retorne apenas a pergunta reformulada.\"),\n",
    "        HumanMessage(original_question)\n",
    "    ]\n",
    "    \n",
    "    response = llm.invoke(prompt)\n",
    "    reformulated = response.content\n",
    "    \n",
    "    return {\"question_clarified\": reformulated}\n",
    "\n",
    "def answer_node(state: AgentStateLinear) -> dict:\n",
    "    \"\"\"Nó 2: Pega a pergunta reformulada e a responde como um tutor de Python.\"\"\"\n",
    "    print(\"--- (Nó 2: Gerando Resposta) ---\")\n",
    "    reformulated_question = state[\"question_clarified\"]\n",
    "    \n",
    "    prompt = [\n",
    "        SystemMessage(\"Você é um tutor expert em Python. Responda de forma clara, didática e com exemplos de código.\"),\n",
    "        HumanMessage(reformulated_question)\n",
    "    ]\n",
    "    \n",
    "    response = llm.invoke(prompt)\n",
    "    answer = response.content\n",
    "    \n",
    "    return {\"answer\": answer}"
   ]
  },
  {
   "cell_type": "code",
   "execution_count": null,
   "metadata": {},
   "outputs": [],
   "source": [
    "# Montagem do Grafo\n",
    "workflow_linear = StateGraph(AgentStateLinear)\n",
    "\n",
    "workflow_linear.add_node(\"reformulate\", reformulate_node)\n",
    "workflow_linear.add_node(\"answer\", answer_node)\n",
    "\n",
    "# Define as arestas (o caminho)\n",
    "workflow_linear.set_entry_point(\"reformulate\")\n",
    "workflow_linear.add_edge(\"reformulate\", \"answer\")\n",
    "workflow_linear.add_edge(\"answer\", END)\n",
    "\n",
    "# Compilação\n",
    "agent_linear = workflow_linear.compile()"
   ]
  },
  {
   "cell_type": "markdown",
   "metadata": {},
   "source": [
    "### Fase 4: ✅ Validação (Execução e Análise)\n",
    "\n",
    "Finalmente, visualizamos o grafo para confirmar se a arquitetura está correta e executamos o agente."
   ]
  },
  {
   "cell_type": "code",
   "execution_count": null,
   "metadata": {},
   "outputs": [],
   "source": [
    "# Visualização do Grafo\n",
    "print(\"Arquitetura do Agente Linear:\")\n",
    "display(Image(agent_linear.get_graph().draw_mermaid_png()))"
   ]
  },
  {
   "cell_type": "code",
   "execution_count": null,
   "metadata": {},
   "outputs": [],
   "source": [
    "# Execução\n",
    "pergunta_usuario = \"como eu faço pra pegar só os numero par numa lista em python?\"\n",
    "initial_state = {\"original_question\": pergunta_usuario}\n",
    "\n",
    "final_state = agent_linear.invoke(initial_state)\n",
    "\n",
    "print(\"\\n--- RESULTADO FINAL ---\")\n",
    "print(f\"Pergunta Original: {final_state['original_question']}\")\n",
    "print(f\"Pergunta Reformulada: {final_state['question_clarified']}\")\n",
    "print(f\"Resposta: {final_state['answer']}\")"
   ]
  },
  {
   "cell_type": "markdown",
   "metadata": {},
   "source": [
    "## Parte 2: O Workflow Condicional - O \"Agente de Viagens Inteligente\"\n",
    "\n",
    "Agora, vamos ao nosso desafio principal: construir um agente que toma decisões. Este exercício irá introduzir o conceito de **Arestas Condicionais** e o padrão de projeto de usar **Chains** como ferramentas especializadas dentro dos nós."
   ]
  },
  {
   "cell_type": "markdown",
   "metadata": {},
   "source": [
    "### Fase 1: ✍️ Conceito e Arquitetura\n",
    "\n",
    "**🎯 Missão:** Gerar um roteiro de viagem personalizado de 3 dias com base no destino e no tipo de viagem (ex: \"praia\" ou \"aventura\") fornecidos pelo usuário.\n",
    "\n",
    "**🗺️ Fluxograma:**\n",
    "![Fluxograma do Agente de Viagens](https://i.imgur.com/g7vOQ0Q.png)\n",
    "\n",
    "> **Nota de Arquitetura:** O ponto chave aqui é a **decisão**. O agente não segue um caminho único. Ele analisa a entrada e **roteia** o trabalho para o especialista correto. "
   ]
  },
  {
   "cell_type": "markdown",
   "metadata": {},
   "source": [
    "### Fase 2: 🏛️ Estrutura (Ferramentas e Estado)\n",
    "\n",
    "Seguindo as boas práticas, primeiro construiremos nossa **ferramenta especializada** – a `Chain` para gerar roteiros – e a testaremos de forma isolada. Depois, definiremos o `AgentState`."
   ]
  },
  {
   "cell_type": "code",
   "execution_count": null,
   "metadata": {},
   "outputs": [],
   "source": [
    "import json\n",
    "from typing import List\n",
    "\n",
    "from langchain_core.output_parsers import JsonOutputParser\n",
    "from langchain_core.prompts import PromptTemplate\n",
    "from langchain_core.pydantic_v1 import BaseModel, Field\n",
    "from langchain_core.runnables import Runnable\n",
    "\n",
    "# --- 2.1: Definição da Ferramenta (Itinerary Chain) ---\n",
    "\n",
    "# Passo A: Definir a estrutura de saída com Pydantic\n",
    "class Itinerary(BaseModel):\n",
    "    \"\"\"Define a estrutura de um roteiro de viagem.\"\"\"\n",
    "    roteiro: List[str] = Field(description=\"Uma lista contendo o roteiro de 3 dias.\")\n",
    "\n",
    "# Passo B: Configurar o Parser\n",
    "parser = JsonOutputParser(pydantic_object=Itinerary)\n",
    "\n",
    "# Passo C: Criar o Prompt\n",
    "format_instructions = parser.get_format_instructions()\n",
    "prompt_template_str = \"\"\"Crie um roteiro de viagem de 3 dias para o local: {local}.\n",
    "O tema da viagem é: {tema}.\n",
    "A resposta deve ser um roteiro conciso e direto.\n",
    "{format_instructions}\n",
    "\"\"\"\n",
    "prompt = PromptTemplate(\n",
    "    template=prompt_template_str,\n",
    "    input_variables=[\"local\", \"tema\"],\n",
    "    partial_variables={\"format_instructions\": format_instructions}\n",
    ")\n",
    "\n",
    "# Passo D: Montar a Chain com LCEL (LangChain Expression Language)\n",
    "itinerary_chain: Runnable = prompt | llm | parser\n",
    "\n",
    "# --- Teste Isolado da Ferramenta ---\n",
    "print(\"--- Testando a itinerary_chain ---\")\n",
    "user_input_test = {\n",
    "    \"local\": \"Kyoto, Japão\",\n",
    "    \"tema\": \"templos históricos e cultura tradicional\",\n",
    "}\n",
    "response_test = itinerary_chain.invoke(user_input_test)\n",
    "\n",
    "print(\"Conteúdo da resposta (formatado como JSON):\")\n",
    "print(json.dumps(response_test, indent=2, ensure_ascii=False))"
   ]
  },
  {
   "cell_type": "code",
   "execution_count": null,
   "metadata": {},
   "outputs": [],
   "source": [
    "# --- 2.2: Modelagem do Estado ---\n",
    "\n",
    "class AgentStateConditional(TypedDict):\n",
    "    \"\"\"Define a memória compartilhada para o Agente de Viagens.\"\"\"\n",
    "    local: str\n",
    "    tipo_viagem: str\n",
    "    roteiro: List[str]\n",
    "    # Campo para guardar a decisão do roteador\n",
    "    route: str"
   ]
  },
  {
   "cell_type": "markdown",
   "metadata": {},
   "source": [
    "### Fase 3: ⚙️ Implementação (Nós e Grafo)\n",
    "\n",
    "Com nossa ferramenta (`itinerary_chain`) e nosso estado (`AgentStateConditional`) prontos, podemos construir os nós."
   ]
  },
  {
   "cell_type": "code",
   "execution_count": null,
   "metadata": {},
   "outputs": [],
   "source": [
    "# --- 3.1: Codificação dos Nós ---\n",
    "\n",
    "def classificar_viagem_node(state: AgentStateConditional) -> dict:\n",
    "    \"\"\"Nó Roteador: Analisa o tipo de viagem e atualiza o estado com a rota.\"\"\"\n",
    "    print(\"\\n--- [NÓ DE DECISÃO: Classificando Tipo de Viagem] ---\")\n",
    "    tipo_viagem = state[\"tipo_viagem\"].lower()\n",
    "\n",
    "    if \"praia\" in tipo_viagem:\n",
    "        print(\"  > Decisão: Roteiro de Praia.\")\n",
    "        return {\"route\": \"gerar_roteiro_praia\"}\n",
    "    \n",
    "    print(\"  > Decisão: Roteiro de Aventura.\")\n",
    "    return {\"route\": \"gerar_roteiro_aventura\"}\n",
    "\n",
    "\n",
    "def gerar_roteiro_praia_node(state: AgentStateConditional) -> dict:\n",
    "    \"\"\"Nó Especialista: Gera um roteiro de praia usando a itinerary_chain.\"\"\"\n",
    "    print(\"\\n--- [NÓ ESPECIALISTA: Gerando Roteiro de Praia] ---\")\n",
    "    tema = \"atividades relaxantes na praia e vida noturna\"\n",
    "    local = state[\"local\"]\n",
    "    \n",
    "    print(f\"  > Usando a chain para o local: '{local}' com o tema '{tema}'\")\n",
    "    resultado_chain = itinerary_chain.invoke({\"local\": local, \"tema\": tema})\n",
    "    \n",
    "    return {\"roteiro\": resultado_chain[\"roteiro\"]}\n",
    "\n",
    "\n",
    "def gerar_roteiro_aventura_node(state: AgentStateConditional) -> dict:\n",
    "    \"\"\"Nó Especialista: Gera um roteiro de aventura usando a itinerary_chain.\"\"\"\n",
    "    print(\"\\n--- [NÓ ESPECIALISTA: Gerando Roteiro de Aventura] ---\")\n",
    "    tema = \"trilhas, montanhismo e exploração da natureza\"\n",
    "    local = state[\"local\"]\n",
    "    \n",
    "    print(f\"  > Usando a chain para o local: '{local}' com o tema '{tema}'\")\n",
    "    resultado_chain = itinerary_chain.invoke({\"local\": local, \"tema\": tema})\n",
    "    \n",
    "    return {\"roteiro\": resultado_chain[\"roteiro\"]}"
   ]
  },
  {
   "cell_type": "code",
   "execution_count": null,
   "metadata": {},
   "outputs": [],
   "source": [
    "# --- 3.2: Montagem do Grafo ---\n",
    "\n",
    "workflow_conditional = StateGraph(AgentStateConditional)\n",
    "\n",
    "# Adiciona os nós\n",
    "workflow_conditional.add_node(\"classificar_viagem\", classificar_viagem_node)\n",
    "workflow_conditional.add_node(\"gerar_roteiro_praia\", gerar_roteiro_praia_node)\n",
    "workflow_conditional.add_node(\"gerar_roteiro_aventura\", gerar_roteiro_aventura_node)\n",
    "\n",
    "# Define o ponto de entrada\n",
    "workflow_conditional.set_entry_point(\"classificar_viagem\")\n",
    "\n",
    "# Define a Aresta Condicional\n",
    "workflow_conditional.add_conditional_edges(\n",
    "    \"classificar_viagem\",\n",
    "    lambda state: state[\"route\"], # Lê a rota do estado para decidir\n",
    "    {\n",
    "        \"gerar_roteiro_praia\": \"gerar_roteiro_praia\",\n",
    "        \"gerar_roteiro_aventura\": \"gerar_roteiro_aventura\"\n",
    "    }\n",
    ")\n",
    "\n",
    "# Define as arestas de saída\n",
    "workflow_conditional.add_edge(\"gerar_roteiro_praia\", END)\n",
    "workflow_conditional.add_edge(\"gerar_roteiro_aventura\", END)\n",
    "\n",
    "# Compila o grafo\n",
    "agent_conditional = workflow_conditional.compile()"
   ]
  },
  {
   "cell_type": "markdown",
   "metadata": {},
   "source": [
    "### Fase 4: ✅ Validação (Execução e Análise)\n",
    "\n",
    "Com o agente montado, vamos visualizar sua arquitetura e testar os dois caminhos condicionais."
   ]
  },
  {
   "cell_type": "code",
   "execution_count": null,
   "metadata": {},
   "outputs": [],
   "source": [
    "# --- 4.1: Visualização do Grafo ---\n",
    "print(\"Arquitetura do Agente de Viagens (Condicional):\")\n",
    "display(Image(agent_conditional.get_graph().draw_mermaid_png()))"
   ]
  },
  {
   "cell_type": "code",
   "execution_count": null,
   "metadata": {},
   "outputs": [],
   "source": [
    "# --- 4.2: Execução e Teste ---\n",
    "\n",
    "# Função auxiliar para imprimir os resultados de forma bonita\n",
    "def print_resultado(resultado: dict):\n",
    "    print(\"\\n\" + \"=\"*50)\n",
    "    print(\"🗺️  Roteiro de Viagem Final\")\n",
    "    print(f\"📍 Destino: {resultado['local']}\")\n",
    "    print(f\"🎭 Tema: {resultado['tipo_viagem']}\")\n",
    "    print(\"-\" * 50)\n",
    "    # CORREÇÃO: Removido o 'Dia X:' extra do print\n",
    "    for dia in resultado['roteiro']:\n",
    "        print(f\"👉 {dia}\")\n",
    "    print(\"=\"*50)\n",
    "\n",
    "# Teste 1: Viagem de praia\n",
    "print(\"\\n--- Testando o Agente de Viagens (PRAIA) ---\")\n",
    "input_praia = {\n",
    "    \"local\": \"Porto de Galinhas, Brasil\", \n",
    "    \"tipo_viagem\": \"quero relaxar na praia\", \n",
    "    \"roteiro\": []\n",
    "}\n",
    "resultado_praia = agent_conditional.invoke(input_praia)\n",
    "print_resultado(resultado_praia)\n",
    "\n",
    "# Teste 2: Viagem de aventura\n",
    "print(\"\\n--- Testando o Agente de Viagens (AVENTURA) ---\")\n",
    "input_aventura = {\n",
    "    \"local\": \"Chapada Diamantina, Brasil\",\n",
    "    \"tipo_viagem\": \"muita aventura e trilhas\",\n",
    "    \"roteiro\": []\n",
    "}\n",
    "resultado_aventura = agent_conditional.invoke(input_aventura)\n",
    "# CORREÇÃO DO BUG: Usando a variável 'resultado_aventura' para o print\n",
    "print_resultado(resultado_aventura)"
   ]
  }
 ],
 "metadata": {
  "kernelspec": {
   "display_name": "python3",
   "language": "python",
   "name": "python3"
  },
  "language_info": {
   "codemirror_mode": {
    "name": "ipython",
    "version": 3
   },
   "file_extension": ".py",
   "mimetype": "text/x-python",
   "name": "python",
   "nbconvert_exporter": "python",
   "pygments_lexer": "ipython3",
   "version": "3.10.9"
  }
 },
 "nbformat": 4,
 "nbformat_minor": 2
}