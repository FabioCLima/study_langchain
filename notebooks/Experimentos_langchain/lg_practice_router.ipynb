{
 "cells": [
  {
   "cell_type": "code",
   "execution_count": null,
   "id": "bd8fd170",
   "metadata": {},
   "outputs": [],
   "source": [
    "import sys\n",
    "import datetime\n",
    "from dotenv import load_dotenv, find_dotenv\n",
    "from IPython.display import Image, display  # pyright: ignore[reportUnknownVariableType]\n",
    "from langgraph.graph import END, START, StateGraph\n",
    "from loguru import logger\n",
    "from pydantic import BaseModel, Field\n",
    "from rich.console import Console\n",
    "from rich.panel import Panel\n",
    "\n",
    "# Crie uma instância global para usar em todo o notebook\n",
    "console = Console()\n",
    "\n",
    "\n",
    "_= load_dotenv(find_dotenv())"
   ]
  },
  {
   "cell_type": "markdown",
   "id": "3827a693",
   "metadata": {},
   "source": [
    "`Para Grafos, é melhor usar o LangSmith - tracing.`\n",
    "\n",
    "* Logging local - `loguru` -- INFO para marcos de alto nível\n",
    "* Tracing remoto - `Langsmith`: Para depuração detalhada e monitoramento."
   ]
  },
  {
   "cell_type": "code",
   "execution_count": 2,
   "id": "f8b99886",
   "metadata": {},
   "outputs": [
    {
     "data": {
      "text/plain": [
       "1"
      ]
     },
     "execution_count": 2,
     "metadata": {},
     "output_type": "execute_result"
    }
   ],
   "source": [
    "# Configuração básica do logger (apenas console)\n",
    "logger.remove()  # remove configuração padrão\n",
    "logger.add(sys.stdout, level=\"INFO\") # imprime no notebook sem duplicar"
   ]
  },
  {
   "cell_type": "code",
   "execution_count": 3,
   "id": "4c5ce7a4",
   "metadata": {},
   "outputs": [],
   "source": [
    "class State(BaseModel):\n",
    "    \"\"\"Estado do grafo para o problema de roteamento.\n",
    "    \n",
    "    Atributos:\n",
    "        nome(str): nome do usuário\n",
    "        idade(int): idade do usuário\n",
    "        ano_nascimento(int): ano de nascimento do usuário\n",
    "        ano_atual(int): ano atual\n",
    "        next_node(str): próximo nó a ser executado\n",
    "\n",
    "    \"\"\"\n",
    "    nome: str|None = Field(..., description=\"Nome do usuário\")\n",
    "    idade: int|None = Field(..., description=\"Idade do usuário\")\n",
    "    ano_nascimento: int|None = Field(..., description=\"Ano de nascimento do usuário\")\n",
    "    ano_atual: int = Field(default_factory=lambda:datetime.date.today().year,\\\n",
    "    description=\"Ano atual\")\n",
    "    next_node: str|None = Field(..., description=\"Próximo nó a ser executado\")\n"
   ]
  },
  {
   "cell_type": "code",
   "execution_count": 4,
   "id": "2152b7f4",
   "metadata": {},
   "outputs": [
    {
     "name": "stdout",
     "output_type": "stream",
     "text": [
      "Inicial state: {'nome': None, 'idade': None, 'ano_nascimento': None, 'ano_atual': 2025, 'next_node': None}\n"
     ]
    }
   ],
   "source": [
    "state = State(nome=None, idade=None, ano_nascimento=None, next_node=None)\n",
    "print(f\"Inicial state: {state.model_dump()}\")"
   ]
  },
  {
   "cell_type": "markdown",
   "id": "7ca4f163",
   "metadata": {},
   "source": [
    "Padrão do LangGraph é que os nós que modificam o estado devem retornar um **dicionário contendo apenas as chaves que foram alteradas**"
   ]
  },
  {
   "cell_type": "code",
   "execution_count": 5,
   "id": "4d7330fa",
   "metadata": {},
   "outputs": [],
   "source": [
    "def node_idade(state: State) -> dict[str, int]:\n",
    "    \"\"\"Get user age by calculating the difference between the current year and the year\n",
    "    of birth\n",
    "    Args:\n",
    "        state (State): The state of the graph\n",
    "    Returns:\n",
    "        State: The state of the graph with user's age\n",
    "    \"\"\"\n",
    "    logger.info(\"---> Executing the NODE: node_idade ---\")\n",
    "    if state.ano_nascimento is None:\n",
    "        error_msg = \"User's birth year is not set. Not possible to calculate age.\"\n",
    "        logger.error(f\"{error_msg}\")\n",
    "        return {}\n",
    "    \n",
    "    idade = int(state.ano_atual - state.ano_nascimento)\n",
    "    logger.debug(f\"User age: {idade}\")\n",
    "    \n",
    "    return {\"idade\": idade}"
   ]
  },
  {
   "cell_type": "markdown",
   "id": "d6f6816a",
   "metadata": {},
   "source": [
    "### The router node\n",
    "\n",
    "É uma função if/else, que retorna sempre uma string para indicar qual NODE será o destino."
   ]
  },
  {
   "cell_type": "code",
   "execution_count": 6,
   "id": "e408feb4",
   "metadata": {},
   "outputs": [],
   "source": [
    "def router(state: State) -> str:\n",
    "    \"\"\"Route the user to the appropriate node based on the user's age.\n",
    "\n",
    "    Args:\n",
    "        state (State): The state of the graph.\n",
    "\n",
    "    Returns:\n",
    "        State: The updated state with next_node set.\n",
    "    \"\"\"\n",
    "    logger.info(\"---Routing the user to the appropriate node---\")\n",
    "\n",
    "    if state.idade is None:\n",
    "        logger.error(\"User's age is not set. Ending the graph.\")\n",
    "        return END\n",
    "\n",
    "    if state.idade < 18:\n",
    "        logger.debug(\"User is under 18. Routing to the under_18 node.\")\n",
    "        return \"under_18\"\n",
    "    else:\n",
    "        logger.debug(\"User is 18 or older. Routing to the 18_or_older node.\")\n",
    "        return \"18_or_older\""
   ]
  },
  {
   "cell_type": "code",
   "execution_count": null,
   "id": "a70f74a1",
   "metadata": {},
   "outputs": [],
   "source": [
    "def node_under_18(state: State) -> None:\n",
    "    \"\"\"Node executed when the user is under 18.\"\"\"\n",
    "    \n",
    "    logger.info(\"---Executing node_under_18---\")\n",
    "    # Cria um painel vermelho para destacar a restrição\n",
    "    output_panel = Panel(\n",
    "        \"Você é menor de idade, então não pode beber 🚫\",\n",
    "        title=\"[bold red]Acesso Restrito[/bold red]\",\n",
    "        border_style=\"red\",\n",
    "        expand=False\n",
    "    )\n",
    "    console.print(output_panel)\n",
    "\n",
    "def node_18_or_older(state: State) -> None:\n",
    "    \"\"\"Node executed when the user is 18 or older.\"\"\"\n",
    "    \n",
    "    logger.info(\"---Executing node_18_or_older---\")\n",
    "    output_panel = Panel(\n",
    "        \"Você é maior de idade, então pode beber 🍺\",\n",
    "        title=\"[bold green]Acesso Permitido[/bold green]\",\n",
    "        border_style=\"green\",\n",
    "        expand=False\n",
    "    )\n",
    "    console.print(output_panel)"
   ]
  },
  {
   "cell_type": "markdown",
   "id": "fd3c294f",
   "metadata": {},
   "source": [
    "### Creating the Graph\n",
    "___"
   ]
  },
  {
   "cell_type": "code",
   "execution_count": 8,
   "id": "becb3751",
   "metadata": {},
   "outputs": [],
   "source": [
    "def build_graph() -> StateGraph:\n",
    "    \"\"\"Build the graph for the problem of routing the user to the appropriate node.\n",
    "    \"\"\"\n",
    "    # * 1. Create the graph\n",
    "    graph = StateGraph(State)\n",
    "    \n",
    "    # * 2. Add the nodes\n",
    "    graph.add_node(\"node_idade\", node_idade)\n",
    "    graph.add_node(\"under_18\", node_under_18)\n",
    "    graph.add_node(\"18_or_older\", node_18_or_older)\n",
    "    \n",
    "    \n",
    "    # * 3. Add the edges\n",
    "    \n",
    "    # * The node_idade is executed after the start node\n",
    "    graph.add_edge(START, \"node_idade\")\n",
    "    \n",
    "    # * The router node is executed and the decision is taken based on the user's age\n",
    "    graph.add_conditional_edges(\n",
    "        # * The decision is take after execution of the node_idade\n",
    "        \"node_idade\",\n",
    "        # * The router is called to take the decision which node to go\n",
    "        router,\n",
    "        # * The map of the router output -> next node based on the user's age\n",
    "        {\n",
    "            \"under_18\": \"under_18\",\n",
    "            \"18_or_older\": \"18_or_older\",\n",
    "        },\n",
    "    )\n",
    "    \n",
    "    # * 4 Add the edges between the operation's nodes to the END\n",
    "    graph.add_edge(\"under_18\", END)\n",
    "    graph.add_edge(\"18_or_older\", END)\n",
    "    \n",
    "    # * Compile the graph\n",
    "    logger.info(\"---Compiling the graph---\")\n",
    "    logger.success(\"Graph compiled successfully\")\n",
    "    \n",
    "    return graph.compile()"
   ]
  },
  {
   "cell_type": "code",
   "execution_count": 9,
   "id": "f196450a",
   "metadata": {},
   "outputs": [
    {
     "name": "stdout",
     "output_type": "stream",
     "text": [
      "\u001b[32m2025-09-18 21:08:13.887\u001b[0m | \u001b[1mINFO    \u001b[0m | \u001b[36m__main__\u001b[0m:\u001b[36mbuild_graph\u001b[0m:\u001b[36m36\u001b[0m - \u001b[1m---Compiling the graph---\u001b[0m\n",
      "\u001b[32m2025-09-18 21:08:13.887\u001b[0m | \u001b[32m\u001b[1mSUCCESS \u001b[0m | \u001b[36m__main__\u001b[0m:\u001b[36mbuild_graph\u001b[0m:\u001b[36m37\u001b[0m - \u001b[32m\u001b[1mGraph compiled successfully\u001b[0m\n"
     ]
    }
   ],
   "source": [
    "graph = build_graph()"
   ]
  },
  {
   "cell_type": "code",
   "execution_count": 10,
   "id": "331f59bb",
   "metadata": {},
   "outputs": [
    {
     "data": {
      "image/png": "[encoded data removed]",
      "text/plain": [
       "<IPython.core.display.Image object>"
      ]
     },
     "metadata": {},
     "output_type": "display_data"
    }
   ],
   "source": [
    "display(\n",
    "    Image(graph.get_graph().draw_mermaid_png())\n",
    ")"
   ]
  },
  {
   "cell_type": "code",
   "execution_count": 11,
   "id": "b7813445",
   "metadata": {},
   "outputs": [
    {
     "name": "stdout",
     "output_type": "stream",
     "text": [
      "\u001b[32m2025-09-18 21:08:14.503\u001b[0m | \u001b[1mINFO    \u001b[0m | \u001b[36m__main__\u001b[0m:\u001b[36m<module>\u001b[0m:\u001b[36m1\u001b[0m - \u001b[1m---Executing the graph---\u001b[0m\n",
      "\u001b[32m2025-09-18 21:08:14.687\u001b[0m | \u001b[1mINFO    \u001b[0m | \u001b[36m__main__\u001b[0m:\u001b[36mnode_idade\u001b[0m:\u001b[36m9\u001b[0m - \u001b[1m---> Executing the NODE: node_idade ---\u001b[0m\n",
      "\u001b[32m2025-09-18 21:08:14.688\u001b[0m | \u001b[1mINFO    \u001b[0m | \u001b[36m__main__\u001b[0m:\u001b[36mrouter\u001b[0m:\u001b[36m10\u001b[0m - \u001b[1m---Routing the user to the appropriate node---\u001b[0m\n",
      "\u001b[32m2025-09-18 21:08:14.689\u001b[0m | \u001b[1mINFO    \u001b[0m | \u001b[36m__main__\u001b[0m:\u001b[36mnode_18_or_older\u001b[0m:\u001b[36m11\u001b[0m - \u001b[1m---Executing node_18_or_older---\u001b[0m\n",
      "You are older, so you can drink 🍺\n",
      "\u001b[32m2025-09-18 21:08:14.690\u001b[0m | \u001b[1mINFO    \u001b[0m | \u001b[36m__main__\u001b[0m:\u001b[36m<module>\u001b[0m:\u001b[36m11\u001b[0m - \u001b[1mEstado final: {'nome': 'Fabio Lima', 'idade': 50, 'ano_nascimento': 1975, 'next_node': None}\u001b[0m\n",
      "\u001b[32m2025-09-18 21:08:14.691\u001b[0m | \u001b[32m\u001b[1mSUCCESS \u001b[0m | \u001b[36m__main__\u001b[0m:\u001b[36m<module>\u001b[0m:\u001b[36m12\u001b[0m - \u001b[32m\u001b[1mGraph executed successfully\u001b[0m\n"
     ]
    }
   ],
   "source": [
    "logger.info(\"---Executing the graph---\")\n",
    "initial_state = {\n",
    "    \"nome\": \"Fabio Lima\",\n",
    "    \"ano_nascimento\": 1975,\n",
    "    \"idade\": None,\n",
    "    \"next_node\" : None,\n",
    "}\n",
    "result = graph.invoke(initial_state)\n",
    "\n",
    "# O output do logger do LangSmith aparecerá aqui\n",
    "logger.info(f\"Estado final: {result}\")\n",
    "logger.success(\"Graph executed successfully\")"
   ]
  }
 ],
 "metadata": {
  "kernelspec": {
   "display_name": ".venv",
   "language": "python",
   "name": "python3"
  },
  "language_info": {
   "codemirror_mode": {
    "name": "ipython",
    "version": 3
   },
   "file_extension": ".py",
   "mimetype": "text/x-python",
   "name": "python",
   "nbconvert_exporter": "python",
   "pygments_lexer": "ipython3",
   "version": "3.13.3"
  }
 },
 "nbformat": 4,
 "nbformat_minor": 5
}
