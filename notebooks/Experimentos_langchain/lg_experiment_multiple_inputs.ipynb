{
 "cells": [
  {
   "cell_type": "code",
   "execution_count": 1,
   "id": "b56c1fb4",
   "metadata": {},
   "outputs": [],
   "source": [
    "import random\n",
    "from typing import Literal\n",
    "\n",
    "from IPython.display import Image, display\n",
    "from langgraph.graph import END, START, StateGraph\n",
    "from loguru import logger\n",
    "from pydantic import BaseModel, Field, ValidationError"
   ]
  },
  {
   "cell_type": "markdown",
   "id": "f059b901",
   "metadata": {},
   "source": [
    "# Conditional Graph 🚧\n",
    "\n",
    "## Objetivos:\n",
    "\n",
    "1.  Implementar lógica **condicional** para rotear o fluxo de dados para diferentes nós.\n",
    "2.  Usar os nós **START** e **END** para gerenciar explicitamente os pontos de entrada e saída.\n",
    "3.  Projetar múltiplos nós para realizar operações diferentes (**adição**, **subtração**).\n",
    "4.  Criar um **nó roteador** (`router node`) para lidar com a tomada de decisão e controlar o fluxo do grafo.\n",
    "\n",
    "## Objetivo Principal:\n",
    "\n",
    "Aprender a usar a função `add_conditional_edges()` para criar ramificações no fluxo."
   ]
  },
  {
   "cell_type": "markdown",
   "id": "fce4f5b7",
   "metadata": {},
   "source": [
    "### Definir o `Estado.`\n",
    "___"
   ]
  },
  {
   "cell_type": "markdown",
   "id": "c92c1d66",
   "metadata": {},
   "source": [
    "### Definir um simples logger com a biblioteca Loguru"
   ]
  },
  {
   "cell_type": "code",
   "execution_count": 2,
   "id": "d0158ad3",
   "metadata": {},
   "outputs": [
    {
     "data": {
      "text/plain": [
       "1"
      ]
     },
     "execution_count": 2,
     "metadata": {},
     "output_type": "execute_result"
    }
   ],
   "source": [
    "# Configuração básica do logger (apenas console)\n",
    "logger.remove()  # remove configuração padrão\n",
    "logger.add(lambda msg: print(msg, end=\"\"))  # imprime no notebook sem duplicar"
   ]
  },
  {
   "cell_type": "code",
   "execution_count": 3,
   "id": "abeea3d6",
   "metadata": {},
   "outputs": [],
   "source": [
    "class GraphState(BaseModel):\n",
    "    \"\"\"Define o estado do grafo para gerar e operar sobre uma lista de inteiros.\n",
    "\n",
    "    Atributos:\n",
    "        list_size (int): O tamanho da lista de inteiros a ser gerada.\n",
    "        min_value (int): O valor mínimo para os números aleatórios.\n",
    "        max_value (int): O valor máximo para os números aleatórios.\n",
    "        operation (Literal[\"sum\", \"subtraction\"]): A operação a ser executada na lista.\n",
    "        list_data (List[int]): A lista de inteiros gerada.\n",
    "        result (float): O resultado da operação na lista.\n",
    "    \"\"\"\n",
    "\n",
    "    # Inputs para o nó de geração da lista\n",
    "    list_size: int = Field(\n",
    "        default=15, description=\"O número de elementos a serem gerados na lista.\"\n",
    "    )\n",
    "    min_value: int = Field(\n",
    "        default=0, description=\"O valor mínimo para os números aleatórios.\"\n",
    "    )\n",
    "    max_value: int = Field(\n",
    "        default=100, description=\"O valor máximo para os números aleatórios.\"\n",
    "    )\n",
    "\n",
    "    # Campo para a operação a ser executada na lista\n",
    "    operation: Literal[\"sum\", \"subtraction\"] = Field(\n",
    "        description=\"A operação a ser executada na lista: 'sum' ou 'subtraction'.\"\n",
    "    )\n",
    "\n",
    "    # Campos que serão populados durante a execução do grafo\n",
    "    list_data: list[int] = Field(  # type: ignore  # noqa: PGH003\n",
    "        default_factory=list, description=\"A lista de inteiros gerada aleatoriamente.\"\n",
    "    )\n",
    "    result: float = Field(\n",
    "        default=0.0, description=\"O resultado da operação executada na lista.\"\n",
    "    )"
   ]
  },
  {
   "cell_type": "code",
   "execution_count": 4,
   "id": "7d95a2a1",
   "metadata": {},
   "outputs": [],
   "source": [
    "def node_random_create_integer_list(state: \"GraphState\") -> dict[str, list[int]]:\n",
    "    \"\"\"Gera uma lista de inteiros aleatórios com base nos parâmetros do estado.\n",
    "\n",
    "    Este nó lê os atributos 'list_size', 'min_value', e 'max_value' do estado,\n",
    "    cria uma lista de inteiros aleatórios e a armazena no atributo 'list_data'\n",
    "    do estado.\n",
    "\n",
    "    Args:\n",
    "        state (GraphState): O estado atual do grafo.\n",
    "\n",
    "    Returns:\n",
    "        dict: Um dicionário contendo a lista gerada para atualizar o campo\n",
    "    'list_data' do estado.\n",
    "\n",
    "    \"\"\"\n",
    "    list_size = state.list_size\n",
    "    min_val = state.min_value\n",
    "    max_val = state.max_value\n",
    "\n",
    "    logger.info(\n",
    "        f\"-> Executando node_generator: criando lista de {list_size} \"\n",
    "        f\"inteiros entre {min_val} e {max_val}.\"\n",
    "    )\n",
    "\n",
    "    # Usa list comprehension e random.randint para gerar a lista de forma concisa\n",
    "    generated_list = [random.randint(min_val, max_val) for _ in range(list_size)]  # noqa: S311\n",
    "\n",
    "    logger.debug(f\"Lista gerada: {generated_list}\")\n",
    "    logger.success(\"Lista de inteiros aleatórios criada com sucesso!\")\n",
    "\n",
    "    # Retorna o dicionário para que o LangGraph atualize o estado\n",
    "    return {\"list_data\": generated_list}"
   ]
  },
  {
   "cell_type": "code",
   "execution_count": 5,
   "id": "bb0e74a7",
   "metadata": {},
   "outputs": [],
   "source": [
    "def node_add_element(state: \"GraphState\") -> dict[str, list[int]]:\n",
    "    \"\"\"Adiciona um elemento inteiro à lista no estado.\n",
    "\n",
    "    Args:\n",
    "        state (GraphState): O estado atual do grafo. Deve conter os atributos:\n",
    "            - list_data (list[int]): A lista de inteiros existente.\n",
    "            - element (int): O elemento a ser adicionado.\n",
    "\n",
    "    Returns:\n",
    "        dict[str, list[int]]: Um dicionário contendo a lista atualizada sob a chave\n",
    "        \"list_data\".\n",
    "\n",
    "    \"\"\"\n",
    "    element: int = state.element  # type: ignore # noqa: PGH003\n",
    "\n",
    "    # Log para informar que o nó começou a ser executado\n",
    "    logger.info(\"-> Executando node_add_element para adicionar o elemento: %s\", element)\n",
    "\n",
    "    # Log de depuração para ver o estado ANTES da mudança\n",
    "    logger.debug(\"Lista ANTES da adição: %s\", state.list_data)\n",
    "\n",
    "    # Lógica principal: cria nova lista com o elemento adicionado\n",
    "    if element is None:\n",
    "        logger.error(\"O elemento fornecido é None e não pode ser adicionado à lista.\")\n",
    "        updated_list = state.list_data.copy()\n",
    "    else:\n",
    "        try:\n",
    "            updated_list = [*state.list_data, int(element)]\n",
    "        except (TypeError, ValueError) as e:\n",
    "            logger.error(f\"Erro ao converter o elemento para int: {e}\")\n",
    "            updated_list = state.list_data.copy()\n",
    "\n",
    "    # Log de depuração para ver o estado DEPOIS da mudança\n",
    "    logger.debug(\"Lista DEPOIS da adição: %s\", updated_list)\n",
    "\n",
    "    # Log de sucesso (info usado em vez de success por compatibilidade)\n",
    "    logger.info(\"Elemento adicionado com sucesso!\")\n",
    "\n",
    "    # Retorno no formato esperado pelo LangGraph\n",
    "    return {\"list_data\": updated_list}"
   ]
  },
  {
   "cell_type": "code",
   "execution_count": 6,
   "id": "2364de08",
   "metadata": {},
   "outputs": [],
   "source": [
    "def sum_node(state: \"GraphState\") -> dict[str, float]:\n",
    "    \"\"\"Calcula a soma de todos os elementos na lista de dados do estado.\n",
    "\n",
    "    Este nó lê a lista de inteiros do atributo 'list_data' do estado,\n",
    "    utiliza a função nativa sum() para calcular o total e atualiza o\n",
    "    atributo 'result' do estado com o valor calculado.\n",
    "\n",
    "    Args:\n",
    "        state (GraphState): O estado atual do grafo, contendo a 'list_data'.\n",
    "\n",
    "    Returns:\n",
    "        dict[str, float]: Um dicionário para que o LangGraph atualize o campo 'result'\n",
    "        do estado com a soma calculada.\n",
    "\n",
    "    \"\"\"\n",
    "    logger.info(\"-> Executando sum_node para calcular a soma da lista.\")\n",
    "\n",
    "    # 1. Acessa a lista original gerada a partir do estado.\n",
    "    list_to_sum = state.list_data\n",
    "    logger.debug(f\"Lista de entrada para a soma: {list_to_sum}\")\n",
    "\n",
    "    # 2. Usa a função sum() para somar os elementos.\n",
    "    total_sum = sum(list_to_sum)\n",
    "    logger.debug(f\"Resultado da soma: {total_sum}\")\n",
    "\n",
    "    logger.success(\"Soma calculada com sucesso!\")\n",
    "\n",
    "    # 3. Retorna o novo estado (apenas o campo que foi alterado).\n",
    "    #    A lista de entrada ('list_data') já está no estado, então não\n",
    "    #    precisamos retorná-la, apenas o novo resultado.\n",
    "    return {\"result\": total_sum}"
   ]
  },
  {
   "cell_type": "code",
   "execution_count": 7,
   "id": "3bd2a032",
   "metadata": {},
   "outputs": [],
   "source": [
    "def node_subtract_element(state: \"GraphState\") -> dict[str, list[int]]:\n",
    "    \"\"\"Remove um elemento inteiro da lista no estado.\n",
    "\n",
    "    Args:\n",
    "        state (GraphState): O estado atual do grafo. Deve conter os atributos:\n",
    "            - list_data (list[int]): A lista de inteiros existente.\n",
    "            - element (int): O elemento a ser removido.\n",
    "\n",
    "    Returns:\n",
    "        dict[str, list[int]]: Um dicionário contendo a lista atualizada sob a chave\n",
    "        \"list_data\".\n",
    "\n",
    "    \"\"\"\n",
    "    element: int = state.element  # type: ignore # noqa: PGH003\n",
    "\n",
    "    # Log para informar que o nó começou a ser executado\n",
    "    logger.info(\n",
    "        \"-> Executando node_subtract_element para remover o elemento: %s\", element\n",
    "    )\n",
    "\n",
    "    # Log de depuração para ver o estado ANTES da mudança\n",
    "    logger.debug(\"Lista ANTES da remoção: %s\", state.list_data)\n",
    "\n",
    "    # Lógica principal: cria nova lista sem o elemento removido\n",
    "    updated_list = state.list_data.remove(element)\n",
    "\n",
    "    # Log de depuração para ver o estado DEPOIS da mudança\n",
    "    logger.debug(\"Lista DEPOIS da remoção: %s\", updated_list)\n",
    "\n",
    "    # Log de sucesso (info usado em vez de success por compatibilidade)\n",
    "    logger.info(\"Elemento removido com sucesso!\")\n",
    "\n",
    "    # Retorno no formato esperado pelo LangGraph\n",
    "    return {\"list_data\": updated_list}"
   ]
  },
  {
   "cell_type": "code",
   "execution_count": 8,
   "id": "ab2a70bf",
   "metadata": {},
   "outputs": [],
   "source": [
    "# * Supondo que a classe GraphState já foi definida\n",
    "# from typing import Literal\n",
    "# from langchain_core.pydantic_v1 import BaseModel, Field\n",
    "# class GraphState(BaseModel):\n",
    "#     number1: float\n",
    "#     number2: float\n",
    "#     operation: Literal[\"addition\", \"subtraction\"]\n",
    "#     result: float = 0.0"
   ]
  },
  {
   "cell_type": "code",
   "execution_count": 9,
   "id": "23706af8",
   "metadata": {},
   "outputs": [],
   "source": [
    "def subtraction_node(state: \"GraphState\") -> dict[str, float]:\n",
    "    \"\"\"Calcula a diferença entre o maior e o menor elemento da lista.\n",
    "\n",
    "    Este nó lê a lista de inteiros do atributo 'list_data', encontra o\n",
    "    valor máximo e o valor mínimo, e calcula a diferença entre eles. O\n",
    "    resultado é armazenado no atributo 'result' do estado.\n",
    "\n",
    "    Args:\n",
    "        state (GraphState): O estado atual do grafo, contendo a 'list_data'.\n",
    "\n",
    "    Returns:\n",
    "        dict: Um dicionário para que o LangGraph atualize o campo 'result'\n",
    "    do estado com a diferença calculada.\n",
    "\n",
    "    \"\"\"\n",
    "    logger.info(\"-> Executando subtraction_node.\")\n",
    "\n",
    "    list_to_process = state.list_data\n",
    "    logger.debug(f\"Lista de entrada para a subtração: {list_to_process}\")\n",
    "\n",
    "    # Tratamento de caso especial: se a lista for  pequena, a operação não faz sentido.\n",
    "    if len(list_to_process) < 2:  # noqa: PLR2004\n",
    "        logger.warning(\n",
    "            \"A lista tem menos de dois elementos, não é possível subtrair.\\\n",
    "            Retornando 0.\"\n",
    "        )\n",
    "        return {\"result\": 0.0}\n",
    "\n",
    "    # 1. Usa as funções max() e min() para achar os números.\n",
    "    max_val = max(list_to_process)\n",
    "    min_val = min(list_to_process)\n",
    "    logger.debug(f\"Valor máximo encontrado: {max_val}, Valor mínimo: {min_val}\")\n",
    "\n",
    "    # 2. Executa a subtração.\n",
    "    result = max_val - min_val\n",
    "    logger.debug(f\"Resultado da subtração (max - min): {result}\")\n",
    "\n",
    "    logger.success(\"Subtração calculada com sucesso!\")\n",
    "\n",
    "    # 3. Retorna o dicionário para que o LangGraph atualize o estado.\n",
    "    return {\"result\": result}"
   ]
  },
  {
   "cell_type": "code",
   "execution_count": 10,
   "id": "e956e4be",
   "metadata": {},
   "outputs": [],
   "source": [
    "def router(state: GraphState) -> str:\n",
    "    \"\"\"Determine o próximo nó a ser executado com base na operação no estado.\n",
    "\n",
    "    Esta função atua como a ramificação condicional do grafo, lendo o\n",
    "    atributo `operation` do estado para decidir o próximo passo do fluxo.\n",
    "\n",
    "    Args:\n",
    "        state (GraphState): O estado atual do grafo. A função inspeciona\n",
    "            o atributo `state.operation`.\n",
    "\n",
    "    Returns:\n",
    "        str: O nome do próximo nó a ser executado, que pode ser\n",
    "            \"sum_node\" ou \"subtraction_node\".\n",
    "\n",
    "    Raises:\n",
    "        ValueError: Lançado se o `state.operation` contiver um valor\n",
    "            que não seja \"sum\" nem \"subtraction\".\n",
    "\n",
    "    \"\"\"\n",
    "    logger.info(\n",
    "        \"-> Roteador: decidindo o caminho para a operação '%s'\", state.operation\n",
    "    )\n",
    "\n",
    "    if state.operation == \"sum\":\n",
    "        return \"sum_node\"\n",
    "    if state.operation == \"subtraction\":\n",
    "        return \"subtraction_node\"\n",
    "\n",
    "    # Tratamento explícito de operações inválidas\n",
    "    logger.error(\"Operação desconhecida: %s\", state.operation)\n",
    "    raise ValueError(f\"Operação desconhecida: {state.operation}\")"
   ]
  },
  {
   "cell_type": "code",
   "execution_count": 11,
   "id": "39cadca1",
   "metadata": {},
   "outputs": [],
   "source": [
    "def build_graph() -> StateGraph:\n",
    "    \"\"\"Constrói, conecta e compila o grafo de geração e operação de listas.\n",
    "\n",
    "    Este grafo segue o fluxo:\n",
    "    1. Gera uma lista de números aleatórios.\n",
    "    2. Usa um roteador para decidir qual operação executar (soma ou subtração).\n",
    "    3. Executa a operação escolhida.\n",
    "    4. Termina.\n",
    "\n",
    "    Returns:\n",
    "        Um grafo LangGraph compilado e pronto para ser executado.\n",
    "\n",
    "    \"\"\"\n",
    "    grafo = StateGraph(GraphState)\n",
    "\n",
    "    # 1. Adiciona os nós que modificam o estado\n",
    "    grafo.add_node(\"random_list_generator\", node_random_create_integer_list)\n",
    "    grafo.add_node(\"sum_node\", sum_node)\n",
    "    grafo.add_node(\"subtraction_node\", subtraction_node)\n",
    "\n",
    "    # 2. Define o ponto de entrada do grafo\n",
    "    grafo.set_entry_point(\"random_list_generator\")\n",
    "\n",
    "    # 3. Adiciona a aresta condicional\n",
    "    #    Esta é a parte principal do exercício!\n",
    "    grafo.add_conditional_edges(\n",
    "        # A decisão é tomada APÓS a execução deste nó:\n",
    "        \"random_list_generator\",\n",
    "        # A função roteadora é chamada para decidir o caminho:\n",
    "        router,\n",
    "        # O mapa de \"saída do roteador\" -> \"nó de destino\":\n",
    "        {\n",
    "            \"sum_node\": \"sum_node\",\n",
    "            \"subtraction_node\": \"subtraction_node\",\n",
    "        },\n",
    "    )\n",
    "\n",
    "    # 4. Adiciona as arestas dos nós de operação para o fim do grafo\n",
    "    grafo.add_edge(\"sum_node\", END)\n",
    "    grafo.add_edge(\"subtraction_node\", END)\n",
    "\n",
    "    # 5. Compila e retorna a aplicação\n",
    "    logger.success(\"Grafo construído e compilado com sucesso!\")\n",
    "    return grafo.compile()"
   ]
  },
  {
   "cell_type": "code",
   "execution_count": 12,
   "id": "dabe516d",
   "metadata": {},
   "outputs": [
    {
     "name": "stdout",
     "output_type": "stream",
     "text": [
      "2025-09-18 18:10:42.025 | SUCCESS  | __main__:build_graph:43 - Grafo construído e compilado com sucesso!\n"
     ]
    }
   ],
   "source": [
    "graph = build_graph()"
   ]
  },
  {
   "cell_type": "code",
   "execution_count": 13,
   "id": "8fb56d92",
   "metadata": {},
   "outputs": [
    {
     "data": {
      "image/png": "[encoded data removed]",
      "text/plain": [
       "<IPython.core.display.Image object>"
      ]
     },
     "metadata": {},
     "output_type": "display_data"
    }
   ],
   "source": [
    "display(\n",
    "    Image(graph.get_graph().draw_mermaid_png())\n",
    ")"
   ]
  },
  {
   "cell_type": "code",
   "execution_count": 14,
   "id": "753630f7",
   "metadata": {},
   "outputs": [
    {
     "name": "stdout",
     "output_type": "stream",
     "text": [
      "--- EXECUTANDO TESTE DE SOMA ---\n",
      "2025-09-18 18:10:42.597 | INFO     | __main__:node_random_create_integer_list:20 - -> Executando node_generator: criando lista de 10 inteiros entre 1 e 50.\n",
      "2025-09-18 18:10:42.597 | DEBUG    | __main__:node_random_create_integer_list:28 - Lista gerada: [7, 1, 6, 11, 49, 14, 10, 15, 47, 46]\n",
      "2025-09-18 18:10:42.597 | SUCCESS  | __main__:node_random_create_integer_list:29 - Lista de inteiros aleatórios criada com sucesso!\n",
      "2025-09-18 18:10:42.597 | INFO     | __main__:router:20 - -> Roteador: decidindo o caminho para a operação '%s'\n",
      "2025-09-18 18:10:42.597 | INFO     | __main__:sum_node:16 - -> Executando sum_node para calcular a soma da lista.\n",
      "2025-09-18 18:10:42.597 | DEBUG    | __main__:sum_node:20 - Lista de entrada para a soma: [7, 1, 6, 11, 49, 14, 10, 15, 47, 46]\n",
      "2025-09-18 18:10:42.597 | DEBUG    | __main__:sum_node:24 - Resultado da soma: 206\n",
      "2025-09-18 18:10:42.597 | SUCCESS  | __main__:sum_node:26 - Soma calculada com sucesso!\n",
      "\n",
      "--- ✅ RESULTADO FINAL (SOMA) ---\n",
      "Lista Gerada..: [7, 1, 6, 11, 49, 14, 10, 15, 47, 46]\n",
      "Operação......: 'sum'\n",
      "Resultado.....: 206\n",
      "--------------------------------\n",
      "\n",
      "--- EXECUTANDO TESTE DE SUBTRAÇÃO ---\n",
      "2025-09-18 18:10:42.598 | INFO     | __main__:node_random_create_integer_list:20 - -> Executando node_generator: criando lista de 8 inteiros entre 10 e 20.\n",
      "2025-09-18 18:10:42.598 | DEBUG    | __main__:node_random_create_integer_list:28 - Lista gerada: [11, 20, 12, 15, 20, 11, 12, 13]\n",
      "2025-09-18 18:10:42.598 | SUCCESS  | __main__:node_random_create_integer_list:29 - Lista de inteiros aleatórios criada com sucesso!\n",
      "2025-09-18 18:10:42.598 | INFO     | __main__:router:20 - -> Roteador: decidindo o caminho para a operação '%s'\n",
      "2025-09-18 18:10:42.599 | INFO     | __main__:subtraction_node:16 - -> Executando subtraction_node.\n",
      "2025-09-18 18:10:42.599 | DEBUG    | __main__:subtraction_node:19 - Lista de entrada para a subtração: [11, 20, 12, 15, 20, 11, 12, 13]\n",
      "2025-09-18 18:10:42.599 | DEBUG    | __main__:subtraction_node:32 - Valor máximo encontrado: 20, Valor mínimo: 11\n",
      "2025-09-18 18:10:42.599 | DEBUG    | __main__:subtraction_node:36 - Resultado da subtração (max - min): 9\n",
      "2025-09-18 18:10:42.599 | SUCCESS  | __main__:subtraction_node:38 - Subtração calculada com sucesso!\n",
      "\n",
      "--- ✅ RESULTADO FINAL (SUBTRAÇÃO) ---\n",
      "Lista Gerada..: [11, 20, 12, 15, 20, 11, 12, 13]\n",
      "Operação......: 'subtraction'\n",
      "Resultado.....: 9\n",
      "------------------------------------\n",
      "\n"
     ]
    }
   ],
   "source": [
    "# --- Célula de Execução ---\n",
    "\n",
    "# --- Teste 1: Gerar lista e SOMAR ---\n",
    "print(\"--- EXECUTANDO TESTE DE SOMA ---\")\n",
    "# O input define a operação e os parâmetros para o gerador\n",
    "inputs_sum = {\"operation\": \"sum\", \"list_size\": 10, \"min_value\": 1, \"max_value\": 50}\n",
    "final_state_sum = graph.invoke(inputs_sum)\n",
    "\n",
    "print(\"\\n--- ✅ RESULTADO FINAL (SOMA) ---\")\n",
    "print(f\"Lista Gerada..: {final_state_sum['list_data']}\")\n",
    "print(f\"Operação......: '{final_state_sum['operation']}'\")\n",
    "print(f\"Resultado.....: {final_state_sum['result']}\")\n",
    "print(\"--------------------------------\\n\")\n",
    "\n",
    "\n",
    "# --- Teste 2: Gerar lista e SUBTRAIR (max - min) ---\n",
    "print(\"--- EXECUTANDO TESTE DE SUBTRAÇÃO ---\")\n",
    "inputs_sub = {\n",
    "    \"operation\": \"subtraction\",\n",
    "    \"list_size\": 8,\n",
    "    \"min_value\": 10,\n",
    "    \"max_value\": 20,\n",
    "}\n",
    "final_state_sub = graph.invoke(inputs_sub)\n",
    "\n",
    "print(\"\\n--- ✅ RESULTADO FINAL (SUBTRAÇÃO) ---\")\n",
    "print(f\"Lista Gerada..: {final_state_sub['list_data']}\")\n",
    "print(f\"Operação......: '{final_state_sub['operation']}'\")\n",
    "print(f\"Resultado.....: {final_state_sub['result']}\")\n",
    "print(\"------------------------------------\\n\")"
   ]
  },
  {
   "cell_type": "code",
   "execution_count": 15,
   "id": "3ffdba1c",
   "metadata": {},
   "outputs": [],
   "source": [
    "from rich.console import Console\n",
    "from rich.panel import Panel\n",
    "from rich.text import Text\n",
    "\n",
    "# Cria uma instância do console do Rich para imprimir saídas formatadas\n",
    "console = Console()"
   ]
  },
  {
   "cell_type": "code",
   "execution_count": 16,
   "id": "fe083696",
   "metadata": {},
   "outputs": [
    {
     "data": {
      "text/html": [
       "<pre style=\"white-space:pre;overflow-x:auto;line-height:normal;font-family:Menlo,'DejaVu Sans Mono',consolas,'Courier New',monospace\">\n",
       "<span style=\"color: #000080; text-decoration-color: #000080; font-weight: bold\">--- EXECUTANDO TESTE DE SOMA ---</span>\n",
       "</pre>\n"
      ],
      "text/plain": [
       "\n",
       "\u001b[1;34m--- EXECUTANDO TESTE DE SOMA ---\u001b[0m\n"
      ]
     },
     "metadata": {},
     "output_type": "display_data"
    },
    {
     "name": "stdout",
     "output_type": "stream",
     "text": [
      "2025-09-18 18:10:46.439 | INFO     | __main__:node_random_create_integer_list:20 - -> Executando node_generator: criando lista de 10 inteiros entre 1 e 50.\n",
      "2025-09-18 18:10:46.440 | DEBUG    | __main__:node_random_create_integer_list:28 - Lista gerada: [33, 36, 4, 11, 24, 34, 18, 48, 44, 4]\n",
      "2025-09-18 18:10:46.440 | SUCCESS  | __main__:node_random_create_integer_list:29 - Lista de inteiros aleatórios criada com sucesso!\n",
      "2025-09-18 18:10:46.440 | INFO     | __main__:router:20 - -> Roteador: decidindo o caminho para a operação '%s'\n",
      "2025-09-18 18:10:46.440 | INFO     | __main__:sum_node:16 - -> Executando sum_node para calcular a soma da lista.\n",
      "2025-09-18 18:10:46.440 | DEBUG    | __main__:sum_node:20 - Lista de entrada para a soma: [33, 36, 4, 11, 24, 34, 18, 48, 44, 4]\n",
      "2025-09-18 18:10:46.440 | DEBUG    | __main__:sum_node:24 - Resultado da soma: 256\n",
      "2025-09-18 18:10:46.440 | SUCCESS  | __main__:sum_node:26 - Soma calculada com sucesso!\n"
     ]
    },
    {
     "data": {
      "text/html": [
       "<pre style=\"white-space:pre;overflow-x:auto;line-height:normal;font-family:Menlo,'DejaVu Sans Mono',consolas,'Courier New',monospace\">╭────────────── <span style=\"color: #008000; text-decoration-color: #008000; font-weight: bold\">✅ RESULTADO FINAL (SOMA)</span> ───────────────╮\n",
       "│ <span style=\"font-weight: bold\">Lista Gerada..: </span>[33, 36, 4, 11, 24, 34, 18, 48, 44, 4] │\n",
       "│ <span style=\"font-weight: bold\">Operação......: </span>'sum'                                  │\n",
       "│ <span style=\"color: #008000; text-decoration-color: #008000; font-weight: bold\">Resultado.....: 256</span>                                    │\n",
       "╰────────────────────────────────────────────────────────╯\n",
       "</pre>\n"
      ],
      "text/plain": [
       "╭────────────── \u001b[1;32m✅ RESULTADO FINAL (SOMA)\u001b[0m ───────────────╮\n",
       "│ \u001b[1mLista Gerada..: \u001b[0m[33, 36, 4, 11, 24, 34, 18, 48, 44, 4] │\n",
       "│ \u001b[1mOperação......: \u001b[0m'sum'                                  │\n",
       "│ \u001b[1;32mResultado.....: \u001b[0m\u001b[1;32m256\u001b[0m                                    │\n",
       "╰────────────────────────────────────────────────────────╯\n"
      ]
     },
     "metadata": {},
     "output_type": "display_data"
    },
    {
     "data": {
      "text/html": [
       "<pre style=\"white-space:pre;overflow-x:auto;line-height:normal;font-family:Menlo,'DejaVu Sans Mono',consolas,'Courier New',monospace\">\n",
       "<span style=\"color: #000080; text-decoration-color: #000080; font-weight: bold\">--- EXECUTANDO TESTE DE SUBTRAÇÃO ---</span>\n",
       "</pre>\n"
      ],
      "text/plain": [
       "\n",
       "\u001b[1;34m--- EXECUTANDO TESTE DE SUBTRAÇÃO ---\u001b[0m\n"
      ]
     },
     "metadata": {},
     "output_type": "display_data"
    },
    {
     "name": "stdout",
     "output_type": "stream",
     "text": [
      "2025-09-18 18:10:46.444 | INFO     | __main__:node_random_create_integer_list:20 - -> Executando node_generator: criando lista de 8 inteiros entre 10 e 20.\n",
      "2025-09-18 18:10:46.444 | DEBUG    | __main__:node_random_create_integer_list:28 - Lista gerada: [10, 11, 19, 10, 14, 14, 16, 12]\n",
      "2025-09-18 18:10:46.444 | SUCCESS  | __main__:node_random_create_integer_list:29 - Lista de inteiros aleatórios criada com sucesso!\n",
      "2025-09-18 18:10:46.444 | INFO     | __main__:router:20 - -> Roteador: decidindo o caminho para a operação '%s'\n",
      "2025-09-18 18:10:46.444 | INFO     | __main__:subtraction_node:16 - -> Executando subtraction_node.\n",
      "2025-09-18 18:10:46.444 | DEBUG    | __main__:subtraction_node:19 - Lista de entrada para a subtração: [10, 11, 19, 10, 14, 14, 16, 12]\n",
      "2025-09-18 18:10:46.444 | DEBUG    | __main__:subtraction_node:32 - Valor máximo encontrado: 19, Valor mínimo: 10\n",
      "2025-09-18 18:10:46.444 | DEBUG    | __main__:subtraction_node:36 - Resultado da subtração (max - min): 9\n",
      "2025-09-18 18:10:46.444 | SUCCESS  | __main__:subtraction_node:38 - Subtração calculada com sucesso!\n"
     ]
    },
    {
     "data": {
      "text/html": [
       "<pre style=\"white-space:pre;overflow-x:auto;line-height:normal;font-family:Menlo,'DejaVu Sans Mono',consolas,'Courier New',monospace\">╭───────── <span style=\"color: #008000; text-decoration-color: #008000; font-weight: bold\">✅ RESULTADO FINAL (SUBTRAÇÃO)</span> ─────────╮\n",
       "│ <span style=\"font-weight: bold\">Lista Gerada..: </span>[10, 11, 19, 10, 14, 14, 16, 12] │\n",
       "│ <span style=\"font-weight: bold\">Operação......: </span>'subtraction'                    │\n",
       "│ <span style=\"color: #008000; text-decoration-color: #008000; font-weight: bold\">Resultado.....: 9</span>                                │\n",
       "╰──────────────────────────────────────────────────╯\n",
       "</pre>\n"
      ],
      "text/plain": [
       "╭───────── \u001b[1;32m✅ RESULTADO FINAL (SUBTRAÇÃO)\u001b[0m ─────────╮\n",
       "│ \u001b[1mLista Gerada..: \u001b[0m[10, 11, 19, 10, 14, 14, 16, 12] │\n",
       "│ \u001b[1mOperação......: \u001b[0m'subtraction'                    │\n",
       "│ \u001b[1;32mResultado.....: \u001b[0m\u001b[1;32m9\u001b[0m                                │\n",
       "╰──────────────────────────────────────────────────╯\n"
      ]
     },
     "metadata": {},
     "output_type": "display_data"
    }
   ],
   "source": [
    "# --- Célula de Execução Aprimorada ---\n",
    "\n",
    "# Supondo que a célula que compila o 'app' já foi executada\n",
    "\n",
    "# --- Teste 1: Gerar lista e SOMAR ---\n",
    "console.print(\"\\n[bold blue]--- EXECUTANDO TESTE DE SOMA ---[/bold blue]\")\n",
    "inputs_sum = {\"operation\": \"sum\", \"list_size\": 10, \"min_value\": 1, \"max_value\": 50}\n",
    "final_state_sum = graph.invoke(inputs_sum)\n",
    "\n",
    "# Cria um painel visualmente agradável para o resultado\n",
    "result_text_sum = Text()\n",
    "result_text_sum.append(\"Lista Gerada..: \", style=\"bold\")\n",
    "result_text_sum.append(f\"{final_state_sum['list_data']}\\n\")\n",
    "result_text_sum.append(\"Operação......: \", style=\"bold\")\n",
    "result_text_sum.append(f\"'{final_state_sum['operation']}'\\n\")\n",
    "result_text_sum.append(\"Resultado.....: \", style=\"bold green\")\n",
    "result_text_sum.append(f\"{final_state_sum['result']}\", style=\"bold green\")\n",
    "\n",
    "console.print(\n",
    "    Panel(\n",
    "        result_text_sum,\n",
    "        title=\"[bold green]✅ RESULTADO FINAL (SOMA)[/bold green]\",\n",
    "        expand=False,\n",
    "    )\n",
    ")\n",
    "\n",
    "\n",
    "# --- Teste 2: Gerar lista e SUBTRAIR (max - min) ---\n",
    "console.print(\"\\n[bold blue]--- EXECUTANDO TESTE DE SUBTRAÇÃO ---[/bold blue]\")\n",
    "inputs_sub = {\n",
    "    \"operation\": \"subtraction\",\n",
    "    \"list_size\": 8,\n",
    "    \"min_value\": 10,\n",
    "    \"max_value\": 20,\n",
    "}\n",
    "final_state_sub = graph.invoke(inputs_sub)\n",
    "\n",
    "result_text_sub = Text()\n",
    "result_text_sub.append(\"Lista Gerada..: \", style=\"bold\")\n",
    "result_text_sub.append(f\"{final_state_sub['list_data']}\\n\")\n",
    "result_text_sub.append(\"Operação......: \", style=\"bold\")\n",
    "result_text_sub.append(f\"'{final_state_sub['operation']}'\\n\")\n",
    "result_text_sub.append(\"Resultado.....: \", style=\"bold green\")\n",
    "result_text_sub.append(f\"{final_state_sub['result']}\", style=\"bold green\")\n",
    "\n",
    "console.print(\n",
    "    Panel(\n",
    "        result_text_sub,\n",
    "        title=\"[bold green]✅ RESULTADO FINAL (SUBTRAÇÃO)[/bold green]\",\n",
    "        expand=False,\n",
    "    )\n",
    ")"
   ]
  }
 ],
 "metadata": {
  "kernelspec": {
   "display_name": ".venv",
   "language": "python",
   "name": "python3"
  },
  "language_info": {
   "codemirror_mode": {
    "name": "ipython",
    "version": 3
   },
   "file_extension": ".py",
   "mimetype": "text/x-python",
   "name": "python",
   "nbconvert_exporter": "python",
   "pygments_lexer": "ipython3",
   "version": "3.13.3"
  }
 },
 "nbformat": 4,
 "nbformat_minor": 5
}
