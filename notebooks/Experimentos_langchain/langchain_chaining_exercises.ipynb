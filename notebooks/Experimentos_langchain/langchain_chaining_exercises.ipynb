{
 "cells": [
  {
   "cell_type": "markdown",
   "metadata": {},
   "source": [
    "# Chains\n",
    "___"
   ]
  },
  {
   "cell_type": "code",
   "execution_count": 1,
   "metadata": {},
   "outputs": [],
   "source": [
    "from dotenv import find_dotenv, load_dotenv\n",
    "from langchain_core.prompts import ChatPromptTemplate\n",
    "from langchain_openai import ChatOpenAI"
   ]
  },
  {
   "cell_type": "code",
   "execution_count": 2,
   "metadata": {},
   "outputs": [],
   "source": [
    "# Desabilitar LangSmith para evitar erros de API\n",
    "import os\n",
    "\n",
    "os.environ[\"LANGCHAIN_TRACING_V2\"] = \"false\"\n",
    "os.environ[\"LANGCHAIN_ENDPOINT\"] = \"\"\n",
    "os.environ[\"LANGCHAIN_API_KEY\"] = \"\"\n",
    "os.environ[\"LANGCHAIN_PROJECT\"] = \"\""
   ]
  },
  {
   "cell_type": "code",
   "execution_count": 3,
   "metadata": {},
   "outputs": [
    {
     "data": {
      "text/plain": [
       "True"
      ]
     },
     "execution_count": 3,
     "metadata": {},
     "output_type": "execute_result"
    }
   ],
   "source": [
    "load_dotenv(find_dotenv())"
   ]
  },
  {
   "cell_type": "code",
   "execution_count": 4,
   "metadata": {},
   "outputs": [],
   "source": [
    "model = ChatOpenAI(model=\"gpt-4o-mini\", temperature=0)"
   ]
  },
  {
   "cell_type": "code",
   "execution_count": 5,
   "metadata": {},
   "outputs": [],
   "source": [
    "prompt = ChatPromptTemplate.from_template(\"Explique o conceito de {topico} em 3 frases\")"
   ]
  },
  {
   "cell_type": "code",
   "execution_count": 6,
   "metadata": {},
   "outputs": [
    {
     "name": "stdout",
     "output_type": "stream",
     "text": [
      "Machine Learning é um ramo da inteligência artificial que permite que sistemas aprendam e melhorem automaticamente a partir de dados, sem serem explicitamente programados. Ele utiliza algoritmos para identificar padrões e fazer previsões ou decisões com base em informações anteriores. Essa abordagem é amplamente aplicada em diversas áreas, como reconhecimento de voz, recomendação de produtos e diagnóstico médico.\n"
     ]
    }
   ],
   "source": [
    "chain = prompt | model\n",
    "\n",
    "result = chain.invoke({\"topico\": \"Machine Learning\"})\n",
    "print(result.content)"
   ]
  },
  {
   "cell_type": "markdown",
   "metadata": {},
   "source": [
    "Modificar o prompt para gerar a resposta em português formal\n"
   ]
  },
  {
   "cell_type": "code",
   "execution_count": 7,
   "metadata": {},
   "outputs": [],
   "source": [
    "prompt = ChatPromptTemplate.from_template(\"\"\"\n",
    "Você é um especialista em estatística e machine learning, explique o tópico a seguir:{topico}\n",
    "Em um português formal e de forma educativa.\n",
    "\"\"\")"
   ]
  },
  {
   "cell_type": "code",
   "execution_count": 8,
   "metadata": {},
   "outputs": [
    {
     "name": "stdout",
     "output_type": "stream",
     "text": [
      "**Machine Learning: Uma Introdução ao Aprendizado de Máquina**\n",
      "\n",
      "O termo \"Machine Learning\", ou aprendizado de máquina, refere-se a um subcampo da inteligência artificial que se concentra no desenvolvimento de algoritmos e modelos que permitem que os computadores aprendam a partir de dados. Em vez de serem programados explicitamente para realizar uma tarefa específica, os sistemas de aprendizado de máquina são projetados para identificar padrões e fazer previsões com base em informações previamente adquiridas.\n",
      "\n",
      "### 1. Fundamentos do Aprendizado de Máquina\n",
      "\n",
      "O aprendizado de máquina pode ser classificado em três categorias principais:\n",
      "\n",
      "- **Aprendizado Supervisionado**: Neste tipo de aprendizado, o modelo é treinado utilizando um conjunto de dados rotulado, ou seja, onde as entradas estão associadas a saídas conhecidas. O objetivo é que o modelo aprenda a mapear as entradas para as saídas corretas. Exemplos incluem a classificação de e-mails como \"spam\" ou \"não spam\" e a previsão de preços de imóveis com base em características como localização e tamanho.\n",
      "\n",
      "- **Aprendizado Não Supervisionado**: Ao contrário do aprendizado supervisionado, neste caso, os dados não possuem rótulos. O modelo deve identificar padrões ou estruturas subjacentes nos dados por conta própria. Um exemplo comum é a segmentação de clientes em grupos com comportamentos semelhantes, o que pode ser útil em estratégias de marketing.\n",
      "\n",
      "- **Aprendizado por Reforço**: Este tipo de aprendizado envolve um agente que interage com um ambiente e aprende a tomar decisões através de recompensas e punições. O objetivo é maximizar a recompensa total ao longo do tempo. Um exemplo clássico é o treinamento de um robô para navegar em um labirinto, onde ele recebe recompensas por alcançar a saída e punições por colidir com paredes.\n",
      "\n",
      "### 2. Processos de Aprendizado\n",
      "\n",
      "O processo de aprendizado de máquina geralmente envolve as seguintes etapas:\n",
      "\n",
      "- **Coleta de Dados**: A primeira etapa é a coleta de dados relevantes e de qualidade, que servirão como base para o treinamento do modelo.\n",
      "\n",
      "- **Pré-processamento de Dados**: Os dados coletados muitas vezes precisam ser limpos e transformados. Isso pode incluir a remoção de valores ausentes, a normalização de dados e a conversão de variáveis categóricas em numéricas.\n",
      "\n",
      "- **Divisão dos Dados**: Os dados são frequentemente divididos em conjuntos de treinamento e teste. O conjunto de treinamento é utilizado para treinar o modelo, enquanto o conjunto de teste é usado para avaliar seu desempenho.\n",
      "\n",
      "- **Treinamento do Modelo**: Nesta fase, o algoritmo é aplicado ao conjunto de treinamento para aprender os padrões presentes nos dados.\n",
      "\n",
      "- **Avaliação do Modelo**: Após o treinamento, o modelo é avaliado utilizando métricas apropriadas, como acurácia, precisão, recall e F1-score, dependendo do tipo de problema.\n",
      "\n",
      "- **Ajuste e Validação**: Com base na avaliação, o modelo pode ser ajustado e validado para melhorar seu desempenho. Isso pode incluir a escolha de diferentes algoritmos, ajuste de hiperparâmetros ou a inclusão de mais dados.\n",
      "\n",
      "### 3. Aplicações do Aprendizado de Máquina\n",
      "\n",
      "O aprendizado de máquina tem uma ampla gama de aplicações em diversos setores, incluindo:\n",
      "\n",
      "- **Saúde**: Diagnóstico de doenças, análise de imagens médicas e personalização de tratamentos.\n",
      "- **Finanças**: Detecção de fraudes, análise de risco de crédito e previsão de mercado.\n",
      "- **Marketing**: Segmentação de clientes, recomendação de produtos e otimização de campanhas publicitárias.\n",
      "- **Transporte**: Veículos autônomos, otimização de rotas e previsão de demanda.\n",
      "\n",
      "### 4. Desafios e Considerações Éticas\n",
      "\n",
      "Embora o aprendizado de máquina ofereça inúmeras oportunidades, também apresenta desafios significativos. Questões como viés nos dados, privacidade e segurança, e a interpretabilidade dos modelos são preocupações importantes que devem ser abordadas. É fundamental que os profissionais da área considerem as implicações éticas de suas aplicações e busquem desenvolver soluções justas e transparentes.\n",
      "\n",
      "### Conclusão\n",
      "\n",
      "O aprendizado de máquina é uma ferramenta poderosa que está transformando a maneira como interagimos com a tecnologia e tomamos decisões baseadas em dados. Compreender seus princípios fundamentais e suas aplicações é essencial para aproveitar ao máximo seu potencial e enfrentar os desafios que surgem em um mundo cada vez mais orientado por dados.\n"
     ]
    }
   ],
   "source": [
    "chain = prompt | model\n",
    "\n",
    "result = chain.invoke({\"topico\": \"Machine Learning\"})\n",
    "print(result.content)"
   ]
  },
  {
   "cell_type": "code",
   "execution_count": 9,
   "metadata": {},
   "outputs": [],
   "source": [
    "prompt = ChatPromptTemplate.from_template(\"\"\"\n",
    "Como especialista em {topico}, forneça uma explicação formal e educativa que inclua:\n",
    "1. Definição clara do conceito\n",
    "2. Aplicações práticas\n",
    "3. Importância no contexto atual\n",
    "4. Resposta concisa em até 5 linhas.\n",
    "\n",
    "Use linguagem formal e acadêmica em português.\n",
    "\"\"\")"
   ]
  },
  {
   "cell_type": "code",
   "execution_count": 10,
   "metadata": {},
   "outputs": [
    {
     "name": "stdout",
     "output_type": "stream",
     "text": [
      "Agentes de Inteligência Artificial (IA) são sistemas computacionais que percebem seu ambiente e tomam decisões autônomas para alcançar objetivos específicos, utilizando algoritmos de aprendizado de máquina e raciocínio lógico. Suas aplicações práticas incluem assistentes virtuais, sistemas de recomendação, automação industrial e diagnósticos médicos. No contexto atual, a relevância dos agentes de IA se destaca na otimização de processos, na melhoria da eficiência e na inovação em diversos setores, contribuindo para a transformação digital e a tomada de decisões informadas.\n"
     ]
    }
   ],
   "source": [
    "chain = prompt | model\n",
    "\n",
    "result = chain.invoke({\"topico\": \"Agentes de IA\"})\n",
    "print(result.content)"
   ]
  },
  {
   "cell_type": "markdown",
   "metadata": {},
   "source": [
    "### Exercício 01 - chain simples com PromptTemplate\n",
    "___\n",
    "\n",
    "Chain Simples com PromptTemplate\n",
    "Crie uma chain que recebe um nome de animal e gera uma descrição básica usando um PromptTemplate.\n",
    "Tarefa:\n",
    "\n",
    "Use PromptTemplate para criar um template que pergunta sobre um animal\n",
    "Conecte com um LLM usando o operador |\n",
    "Teste com diferentes animais"
   ]
  },
  {
   "cell_type": "code",
   "execution_count": 11,
   "metadata": {},
   "outputs": [
    {
     "name": "stdout",
     "output_type": "stream",
     "text": [
      "O Brasil abriga diversas espécies de tartarugas marinhas, que são importantes tanto ecologicamente quanto culturalmente. As principais espécies que podem ser encontradas nas costas brasileiras incluem:\n",
      "\n",
      "1. **Tartaruga-verde (Chelonia mydas)**:\n",
      "   - **Tamanho**: Adultos podem atingir até 1,5 metros de comprimento e pesar entre 150 a 200 kg.\n",
      "   - **Características**: Possui um casco em forma de coração e é conhecida por sua dieta herbívora, alimentando-se principalmente de algas e plantas marinhas.\n",
      "\n",
      "2. **Tartaruga-de-pente (Eretmochelys imbricata)**:\n",
      "   - **Tamanho**: Geralmente atinge entre 70 a 90 cm de comprimento e pesa de 50 a 80 kg.\n",
      "   - **Características**: Possui um casco ornamentado e é conhecida por sua dieta que inclui esponjas marinhas. É uma espécie ameaçada devido à caça e à degradação de seu habitat.\n",
      "\n",
      "3. **Tartaruga-cabeçuda (Caretta caretta)**:\n",
      "   - **Tamanho**: Pode chegar a 1,2 metros de comprimento e pesar entre 90 a 200 kg.\n",
      "   - **Características**: Tem uma cabeça grande e robusta, adaptada para uma dieta que inclui moluscos e crustáceos. É uma das espécies mais comuns nas águas brasileiras.\n",
      "\n",
      "4. **Tartaruga-oliva (Lepidochelys olivacea)**:\n",
      "   - **Tamanho**: Adultos geralmente medem entre 70 a 90 cm e pesam de 35 a 50 kg.\n",
      "   - **Características**: É a menor das tartarugas marinhas e é conhecida por suas grandes desovas em praias, especialmente na costa nordeste do Brasil.\n",
      "\n",
      "5. **Tartaruga-de-couro (Dermochelys coriacea)**:\n",
      "   - **Tamanho**: É a maior das tartarugas marinhas, podendo atingir até 2,5 metros de comprimento e pesar mais de 700 kg.\n",
      "   - **Características**: Possui um casco flexível e é conhecida por sua dieta que inclui principalmente águas-vivas. É uma espécie vulnerável devido à captura acidental e à poluição.\n",
      "\n",
      "Essas tartarugas desempenham papéis ecológicos cruciais, como o controle de populações de algas e a manutenção da saúde dos ecossistemas marinhos. Infelizmente, todas essas espécies enfrentam ameaças, como a perda de habitat, a poluição e a captura acidental em redes de pesca, o que torna a conservação dessas espécies uma prioridade.\n"
     ]
    }
   ],
   "source": [
    "prompt = ChatPromptTemplate.from_template(\"\"\"\n",
    "Como um especialista em biologia marinha, explique sobre os tipos de {animal} que existem na costa do Brasil. Citando seus tipos e tamanhos que alcançam na idade adulta.\"\"\")\n",
    "\n",
    "chain_one = prompt | model\n",
    "result = chain_one.invoke({\"animal\": \"tartaruga\"})\n",
    "print(result.content)"
   ]
  },
  {
   "cell_type": "code",
   "execution_count": 12,
   "metadata": {},
   "outputs": [
    {
     "name": "stdout",
     "output_type": "stream",
     "text": [
      "### Espécies de Tartarugas na Costa do Brasil\n",
      "\n",
      "#### 1. Tartaruga-verde (*Chelonia mydas*)\n",
      "- **Características**: \n",
      "  - Carapaça em forma de coração, com coloração que varia do verde ao marrom.\n",
      "  - Pode atingir até 1,5 metros de comprimento e pesar até 200 kg.\n",
      "  - Alimenta-se principalmente de algas e plantas marinhas.\n",
      "  \n",
      "- **Conservação**: \n",
      "  - Classificada como \"Em Perigo\" pela IUCN.\n",
      "  - Ameaças incluem captura acidental em redes de pesca e degradação de habitats de nidificação.\n",
      "\n",
      "#### 2. Tartaruga-de-pente (*Eretmochelys imbricata*)\n",
      "- **Características**: \n",
      "  - Carapaça com escamas sobrepostas, geralmente colorida em tons de marrom e amarelo.\n",
      "  - Tamanho médio de 70 a 90 cm e peso de até 80 kg.\n",
      "  - Alimenta-se principalmente de esponjas e outros invertebrados marinhos.\n",
      "\n",
      "- **Conservação**: \n",
      "  - Classificada como \"Criticamente Em Perigo\" pela IUCN.\n",
      "  - Ameaças incluem comércio ilegal de suas conchas e perda de habitat.\n",
      "\n",
      "#### 3. Tartaruga-cabeçuda (*Caretta caretta*)\n",
      "- **Características**: \n",
      "  - Carapaça robusta e cabeça grande, com coloração marrom-alaranjada.\n",
      "  - Pode medir até 1,2 metros e pesar até 200 kg.\n",
      "  - Alimenta-se de moluscos, crustáceos e peixes.\n",
      "\n",
      "- **Conservação**: \n",
      "  - Classificada como \"Vulnerável\" pela IUCN.\n",
      "  - Ameaças incluem captura acidental e poluição marinha.\n",
      "\n",
      "#### 4. Tartaruga-de-pente (*Lepidochelys olivacea*)\n",
      "- **Características**: \n",
      "  - Menor das tartarugas marinhas, com carapaça em forma de coração e coloração oliva.\n",
      "  - Mede cerca de 70 cm e pesa até 45 kg.\n",
      "  - Alimenta-se de crustáceos e moluscos.\n",
      "\n",
      "- **Conservação**: \n",
      "  - Classificada como \"Vulnerável\" pela IUCN.\n",
      "  - Ameaças incluem captura acidental e degradação de áreas de nidificação.\n",
      "\n",
      "#### 5. Tartaruga-de-couro (*Dermochelys coriacea*)\n",
      "- **Características**: \n",
      "  - Maior tartaruga marinha, podendo atingir até 2,5 metros e pesar mais de 700 kg.\n",
      "  - Carapaça sem escamas, com pele flexível e coloração escura.\n",
      "  - Alimenta-se principalmente de águas-vivas.\n",
      "\n",
      "- **Conservação**: \n",
      "  - Classificada como \"Vulnerável\" pela IUCN.\n",
      "  - Ameaças incluem captura acidental, poluição e mudanças climáticas.\n",
      "\n",
      "### Informações Gerais sobre Conservação\n",
      "As tartarugas marinhas enfrentam diversas ameaças, incluindo:\n",
      "- **Captura acidental** em redes de pesca.\n",
      "- **Destruição de habitats** de nidificação devido à urbanização e poluição.\n",
      "- **Mudanças climáticas**, que afetam a temperatura das areias de nidificação e a disponibilidade de alimentos.\n",
      "\n",
      "Programas de conservação e proteção de áreas de nidificação são essenciais para a preservação dessas espécies. A conscientização pública e a regulamentação da pesca também são fundamentais para garantir a sobrevivência das tartarugas marinhas no Brasil.\n"
     ]
    }
   ],
   "source": [
    "prompt = ChatPromptTemplate.from_template(\"\"\"\n",
    "Como um especialista em biologia marinha, explique sobre as espécies de {animal} que existem na costa do Brasil.\n",
    "Organize a resposta com:\n",
    "- Lista das principais espécies.\n",
    "- Características básicas de cada uma.\n",
    "- Informação sobre conservação.\n",
    "\n",
    "Seja conciso e use formatação clara.                                         \n",
    "\"\"\")\n",
    "chain_one_modified = prompt | model\n",
    "result = chain_one_modified.invoke({\"animal\": \"tartaruga\"})\n",
    "print(result.content)"
   ]
  },
  {
   "cell_type": "code",
   "execution_count": 13,
   "metadata": {},
   "outputs": [
    {
     "name": "stdout",
     "output_type": "stream",
     "text": [
      "## Espécies de Tartarugas na Costa do Brasil\n",
      "\n",
      "### 1. Tartaruga-verde (*Chelonia mydas*)\n",
      "- **Características**: Possui um casco em forma de coração e é conhecida por sua coloração verde, que se deve à gordura sob sua pele. É herbívora, alimentando-se principalmente de algas e plantas marinhas.\n",
      "\n",
      "### 2. Tartaruga-de-pente (*Eretmochelys imbricata*)\n",
      "- **Características**: Reconhecida por seu casco ornamentado e colorido, é uma espécie carnívora que se alimenta de esponjas e outros invertebrados marinhos. É uma das tartarugas mais ameaçadas de extinção.\n",
      "\n",
      "### 3. Tartaruga-cabeçuda (*Caretta caretta*)\n",
      "- **Características**: Tem um casco robusto e uma cabeça grande, adaptada para quebrar conchas de moluscos. É uma espécie onívora, consumindo uma variedade de alimentos, incluindo crustáceos e peixes.\n",
      "\n",
      "## Conservação\n",
      "As tartarugas marinhas enfrentam diversas ameaças, como a perda de habitat, a captura acidental em redes de pesca e a poluição dos oceanos. No Brasil, várias iniciativas de conservação estão em andamento, incluindo a proteção de áreas de nidificação e programas de conscientização para reduzir a captura acidental. A preservação dessas espécies é crucial, não apenas para a biodiversidade marinha, mas também para a saúde dos ecossistemas oceânicos.\n"
     ]
    }
   ],
   "source": [
    "prompt = ChatPromptTemplate.from_template(\n",
    "    \"\"\"\n",
    "Como um especialista em biologia marinha, explique sobre as espécies de {animal} que existem na costa do Brasil.\n",
    "Organize a resposta com:\n",
    "- Lista das principais espécies (máximo de 3).\n",
    "- Características básicas de cada uma (1-2 frases por espécie).\n",
    "- Informação sobre conservação (1 parágrafo).\n",
    "\n",
    "IMPORTANTE: Use formatação markdown com títulos (##), listas (-) e destaque (**texto**) para facilitar a leitura.\n",
    "Seja conciso e direto ao ponto.                                         \n",
    "\"\"\"\n",
    ")\n",
    "chain_one_refined = prompt | model\n",
    "result = chain_one_refined.invoke({\"animal\": \"tartaruga\"})\n",
    "print(result.content)"
   ]
  },
  {
   "cell_type": "markdown",
   "metadata": {},
   "source": [
    "### Especificando o tom e estilo"
   ]
  },
  {
   "cell_type": "code",
   "execution_count": 14,
   "metadata": {},
   "outputs": [
    {
     "name": "stdout",
     "output_type": "stream",
     "text": [
      "Claro! Vamos falar sobre as espécies de peixe frade que podem ser encontradas na costa do Brasil. O peixe frade, também conhecido como \"mola-mola\", é um peixe fascinante e único. Aqui está uma visão geral:\n",
      "\n",
      "### Principais Espécies de Peixe Frade na Costa do Brasil\n",
      "\n",
      "1. **Mola mola (Peixe Frade Comum)**\n",
      "   - **Características**: \n",
      "     - É o maior peixe ósseo do mundo, podendo pesar até 1.000 kg e medir até 3,3 metros de comprimento.\n",
      "     - Tem um corpo achatado e forma quase circular, com uma pele grossa e áspera.\n",
      "     - Possui nadadeiras longas e é conhecido por sua aparência peculiar, que lembra uma \"tampa\" em vez de um corpo típico de peixe.\n",
      "   - **Conservação**: \n",
      "     - Classificado como \"Vulnerável\" pela IUCN. A principal ameaça é a captura acidental em redes de pesca e a degradação do habitat marinho.\n",
      "\n",
      "2. **Mola ramsayi (Peixe Frade de Ramsay)**\n",
      "   - **Características**: \n",
      "     - Menor que o Mola mola, geralmente atinge até 2,5 metros de comprimento.\n",
      "     - Tem uma coloração mais escura e é menos comum que o Mola mola.\n",
      "     - Também apresenta um corpo achatado, mas com características morfológicas ligeiramente diferentes.\n",
      "   - **Conservação**: \n",
      "     - Status de conservação ainda não bem definido, mas enfrenta ameaças semelhantes, como a pesca e a poluição.\n",
      "\n",
      "3. **Mola tecta (Peixe Frade de Tectus)**\n",
      "   - **Características**: \n",
      "     - Pode atingir até 2,5 metros de comprimento.\n",
      "     - Tem uma forma mais alongada em comparação com o Mola mola e Mola ramsayi.\n",
      "     - É menos estudado, mas é conhecido por sua coloração mais clara e padrões distintos na pele.\n",
      "   - **Conservação**: \n",
      "     - Também classificado como \"Vulnerável\", com ameaças semelhantes às outras espécies, incluindo captura acidental e degradação do habitat.\n",
      "\n",
      "### Informações sobre Conservação\n",
      "\n",
      "- **Ameaças**: As principais ameaças aos peixes frade incluem:\n",
      "  - Captura acidental em redes de pesca.\n",
      "  - Poluição marinha, que afeta a qualidade do habitat.\n",
      "  - Mudanças climáticas, que podem impactar a distribuição e a abundância de suas presas.\n",
      "\n",
      "- **Medidas de Conservação**: \n",
      "  - É importante promover práticas de pesca sustentável e a proteção de áreas marinhas.\n",
      "  - Aumentar a conscientização sobre a importância desses peixes para o ecossistema marinho.\n",
      "  - Monitoramento e pesquisa contínuos para entender melhor suas populações e habitats.\n",
      "\n",
      "Essas informações ajudam a entender a importância dos peixes frade e a necessidade de protegê-los para garantir a saúde dos oceanos. Se você tiver mais perguntas ou quiser saber mais sobre algum aspecto específico, fique à vontade para perguntar!\n"
     ]
    }
   ],
   "source": [
    "prompt = ChatPromptTemplate.from_template(\n",
    "    \"\"\"\n",
    "Como um especialista em biologia marinha, explique sobre as espécies de {animal} que existem na costa do Brasil.\n",
    "Organize a resposta com:\n",
    "- Lista das principais espécies.\n",
    "- Características básicas de cada uma.\n",
    "- Informação sobre conservação.\n",
    "\n",
    "Use linguagem clara e acessível, como se estivesse explicando para um estudante interessado em biologia marinha.\n",
    "Seja conciso e use formatação clara.                                        \n",
    "\"\"\"\n",
    ")\n",
    "chain = prompt | model\n",
    "result = chain.invoke({\"animal\": \"peixe frade\"})\n",
    "print(result.content)"
   ]
  },
  {
   "cell_type": "markdown",
   "metadata": {},
   "source": [
    "### Mudando algumas coisas no modelo \n",
    "\n",
    "Use o parâmetro temperature do modelo:\n",
    "* temperature=0 (que você já usa): respostas mais consistentes e factuais\n",
    "* temperature=0.1: ligeiramente mais criativo, mas ainda controlado\n",
    "* temperature=0.3: mais variado nas explicações"
   ]
  },
  {
   "cell_type": "code",
   "execution_count": 15,
   "metadata": {},
   "outputs": [],
   "source": [
    "temp = [0.0, 0.3, 0.5, 0.7]"
   ]
  },
  {
   "cell_type": "code",
   "execution_count": 16,
   "metadata": {},
   "outputs": [],
   "source": [
    "def chain_study(temp: list[float]) -> None:\n",
    "    prompt = ChatPromptTemplate.from_template(\n",
    "        \"\"\"\n",
    "        Você é um especialista em biologia marinha com experiência em educação.\n",
    "        Sua tarefa é explicar sobre as espécies de {animal} que existem na costa do Brasil.\n",
    "\n",
    "        Organize a resposta com:\n",
    "        - Lista das principais espécies.(máximo de 3)\n",
    "        - Características básicas de cada uma.\n",
    "        - Informação sobre conservação.\n",
    "\n",
    "        Lembre-se: você está explicando para alguém que está aprendendo, então seja claro e didático.                                        \n",
    "        \"\"\"\n",
    "    )\n",
    "    for t in temp:\n",
    "        model = ChatOpenAI(model=\"gpt-4o-mini\", temperature=t)\n",
    "        chain = prompt | model\n",
    "        result = chain.invoke({\"animal\": \"tubarão\"})\n",
    "        print(result.content)"
   ]
  },
  {
   "cell_type": "code",
   "execution_count": 17,
   "metadata": {},
   "outputs": [
    {
     "name": "stdout",
     "output_type": "stream",
     "text": [
      "Claro! Vamos falar sobre algumas das principais espécies de tubarões que podem ser encontradas na costa do Brasil. Aqui estão três delas:\n",
      "\n",
      "### 1. Tubarão-martelo (Sphyrna spp.)\n",
      "- **Características Básicas**: \n",
      "  - O tubarão-martelo é facilmente reconhecível pelo formato peculiar de sua cabeça, que se assemelha a um martelo. Essa forma ajuda na localização de presas, pois aumenta a capacidade sensorial.\n",
      "  - Existem várias espécies de tubarões-martelo, sendo o tubarão-martelo grande (Sphyrna lewini) e o tubarão-martelo comum (Sphyrna zygaena) as mais conhecidas.\n",
      "  - Eles podem atingir até 4 metros de comprimento e são encontrados em águas costeiras e oceânicas.\n",
      "\n",
      "- **Conservação**: \n",
      "  - Os tubarões-martelo estão ameaçados devido à pesca excessiva e à captura acidental em redes de pesca. Muitas espécies estão listadas como vulneráveis ou em perigo pela União Internacional para a Conservação da Natureza (IUCN).\n",
      "\n",
      "### 2. Tubarão-tigre (Galeocerdo cuvier)\n",
      "- **Características Básicas**: \n",
      "  - O tubarão-tigre é conhecido por suas listras verticais que se assemelham a marcas de tigre, especialmente quando jovem. Essas listras vão desaparecendo à medida que o tubarão envelhece.\n",
      "  - Ele pode atingir até 5 metros de comprimento e é um predador oportunista, alimentando-se de uma ampla variedade de presas, incluindo peixes, tartarugas e até outros tubarões.\n",
      "  - É encontrado em águas costeiras e em alto-mar.\n",
      "\n",
      "- **Conservação**: \n",
      "  - O tubarão-tigre é considerado vulnerável devido à sobrepesca e à degradação de seu habitat. A proteção de áreas marinhas e a regulamentação da pesca são essenciais para sua conservação.\n",
      "\n",
      "### 3. Tubarão-de-pontas-negras (Carcharhinus spp.)\n",
      "- **Características Básicas**: \n",
      "  - Os tubarões-de-pontas-negras são conhecidos por suas nadadeiras escuras, que contrastam com o corpo mais claro. Eles são menores em comparação com outras espécies, geralmente medindo entre 1,5 e 2,5 metros.\n",
      "  - Existem várias espécies, como o tubarão-de-pontas-negras-de-recife (Carcharhinus melanopterus), que é comum em recifes de coral.\n",
      "  - Eles são predadores ágeis e se alimentam principalmente de peixes e crustáceos.\n",
      "\n",
      "- **Conservação**: \n",
      "  - Muitas espécies de tubarões-de-pontas-negras estão ameaçadas devido à pesca comercial e à destruição de seus habitats. A criação de áreas marinhas protegidas é uma estratégia importante para ajudar na recuperação dessas populações.\n",
      "\n",
      "### Considerações Finais\n",
      "Os tubarões desempenham um papel crucial nos ecossistemas marinhos, ajudando a manter o equilíbrio das populações de outras espécies. A conservação dessas criaturas é vital não apenas para a saúde dos oceanos, mas também para a biodiversidade global. A educação e a conscientização sobre a importância dos tubarões são passos fundamentais para garantir sua sobrevivência.\n",
      "Claro! Vamos falar sobre algumas das principais espécies de tubarões que podem ser encontradas na costa do Brasil. Aqui estão três delas:\n",
      "\n",
      "### 1. Tubarão-martelo (Sphyrna spp.)\n",
      "**Características Básicas:**\n",
      "- **Forma do corpo:** Possui uma cabeça em forma de martelo, que é uma das suas características mais distintivas.\n",
      "- **Tamanho:** Pode atingir até 4 metros de comprimento, dependendo da espécie.\n",
      "- **Comportamento:** É um tubarão social, frequentemente encontrado em grupos, especialmente durante a época de reprodução.\n",
      "\n",
      "**Informação sobre Conservação:**\n",
      "Os tubarões-martelo estão ameaçados devido à pesca excessiva e à captura acidental em redes de pesca. Muitas espécies são consideradas vulneráveis ou em perigo, e esforços de conservação estão sendo feitos para proteger seus habitats e regular a pesca.\n",
      "\n",
      "### 2. Tubarão-tigre (Galeocerdo cuvier)\n",
      "**Características Básicas:**\n",
      "- **Aparência:** Tem um corpo robusto e é facilmente reconhecido por suas listras verticais, que se assemelham a marcas de tigre, especialmente em jovens.\n",
      "- **Tamanho:** Pode crescer até 5 metros ou mais.\n",
      "- **Dieta:** É um predador oportunista, alimentando-se de uma variedade de presas, incluindo peixes, tartarugas e até mesmo outros tubarões.\n",
      "\n",
      "**Informação sobre Conservação:**\n",
      "O tubarão-tigre é classificado como \"vulnerável\" pela União Internacional para a Conservação da Natureza (IUCN). A pesca comercial e a degradação de seus habitats são as principais ameaças, e iniciativas de proteção estão sendo implementadas em várias regiões.\n",
      "\n",
      "### 3. Tubarão-de-pontas-negras (Carcharhinus limbatus)\n",
      "**Características Básicas:**\n",
      "- **Identificação:** Tem nadadeiras pretas nas pontas, o que dá origem ao seu nome.\n",
      "- **Tamanho:** Geralmente atinge entre 1,5 e 2,5 metros de comprimento.\n",
      "- **Habitat:** Prefere águas rasas e é frequentemente encontrado em estuários e áreas costeiras.\n",
      "\n",
      "**Informação sobre Conservação:**\n",
      "Embora o tubarão-de-pontas-negras não esteja tão ameaçado quanto outras espécies, a pesca e a perda de habitat ainda representam riscos. A proteção de áreas costeiras e a regulamentação da pesca são essenciais para garantir a sobrevivência desta espécie.\n",
      "\n",
      "### Conclusão\n",
      "Os tubarões são fundamentais para a saúde dos ecossistemas marinhos, e a conservação dessas espécies é crucial. A educação e a conscientização sobre a importância dos tubarões ajudam a promover a proteção e a preservação desses incríveis animais. Se você estiver interessado, há muitas iniciativas e projetos de pesquisa que buscam proteger a vida marinha no Brasil!\n",
      "Claro! Vamos falar sobre algumas das principais espécies de tubarões que podem ser encontradas na costa do Brasil. Aqui estão três delas, com suas características e informações sobre conservação.\n",
      "\n",
      "### 1. Tubarão-martelo (Sphyrna spp.)\n",
      "- **Características Básicas:**\n",
      "  - O tubarão-martelo é facilmente reconhecido por sua cabeça em forma de \"martelo\", que ajuda na localização de presas e na navegação.\n",
      "  - Existem várias espécies de tubarões-martelo, e eles podem atingir até 4 metros de comprimento.\n",
      "  - São conhecidos por serem sociais, frequentemente encontrados em grupos.\n",
      "\n",
      "- **Conservação:**\n",
      "  - Os tubarões-martelo estão ameaçados devido à pesca excessiva e à captura acidental em redes de pesca. \n",
      "  - A pesca de tubarões-martelo é regulada em várias áreas, mas ainda é um problema em muitos lugares.\n",
      "\n",
      "### 2. Tubarão-tigre (Galeocerdo cuvier)\n",
      "- **Características Básicas:**\n",
      "  - O tubarão-tigre é um dos maiores tubarões, podendo chegar a mais de 5 metros de comprimento.\n",
      "  - Possui uma coloração característica com listras verticais, especialmente visíveis em jovens, que se tornam menos evidentes em adultos.\n",
      "  - É um predador versátil, alimentando-se de peixes, tartarugas e até mesmo de outros tubarões.\n",
      "\n",
      "- **Conservação:**\n",
      "  - O tubarão-tigre é considerado uma espécie vulnerável devido à degradação do habitat e à pesca comercial. \n",
      "  - Iniciativas de conservação estão em andamento, mas a conscientização sobre a importância dos tubarões para os ecossistemas marinhos é crucial.\n",
      "\n",
      "### 3. Tubarão-lixa (Ginglymostoma cirratum)\n",
      "- **Características Básicas:**\n",
      "  - O tubarão-lixa é um tubarão de corpo robusto, que pode atingir até 3 metros de comprimento.\n",
      "  - É conhecido por seu comportamento tranquilo e por se esconder em buracos e fendas de recifes de coral durante o dia.\n",
      "  - Alimenta-se principalmente de crustáceos e moluscos.\n",
      "\n",
      "- **Conservação:**\n",
      "  - Embora não esteja tão ameaçado quanto outras espécies, o tubarão-lixa enfrenta riscos devido à perda de habitat e à pesca.\n",
      "  - A proteção de áreas marinhas e a regulamentação da pesca são importantes para garantir a sobrevivência dessa espécie.\n",
      "\n",
      "### Considerações Finais\n",
      "Os tubarões desempenham um papel vital nos ecossistemas marinhos, ajudando a manter o equilíbrio das populações de outras espécies. A conservação deles é essencial, não apenas para a saúde dos oceanos, mas também para a biodiversidade global. A educação e a conscientização sobre a importância dos tubarões são fundamentais para promover a proteção dessas incríveis criaturas.\n",
      "Claro! Vamos falar sobre algumas das principais espécies de tubarões que podem ser encontradas na costa do Brasil. Aqui estão três delas, com suas características e informações sobre conservação:\n",
      "\n",
      "### 1. Tubarão-de-pontas-negras (Carcharhinus limbatus)\n",
      "\n",
      "**Características Básicas:**\n",
      "- **Tamanho:** Pode atingir até 2 metros de comprimento.\n",
      "- **Aparência:** Possui uma coloração cinza-escura nas costas e um ventre claro. Suas pontas das nadadeiras são escuras, o que dá origem ao nome.\n",
      "- **Habitat:** Geralmente encontrado em águas costeiras e em estuários, gosta de ambientes rasos.\n",
      "\n",
      "**Informação sobre Conservação:**\n",
      "O tubarão-de-pontas-negras é considerado uma espécie vulnerável devido à pesca excessiva e à degradação de seu habitat. A proteção de áreas marinhas e a regulamentação da pesca são essenciais para sua conservação.\n",
      "\n",
      "### 2. Tubarão-martelo (Sphyrna spp.)\n",
      "\n",
      "**Características Básicas:**\n",
      "- **Tamanho:** Dependendo da espécie, pode variar de 2 a 6 metros de comprimento.\n",
      "- **Aparência:** Tem uma cabeça em forma de martelo, que ajuda na localização de presas e na manobra durante a natação. Sua coloração é geralmente cinza ou bronze.\n",
      "- **Habitat:** Prefere águas tropicais e subtropicais, podendo ser encontrado próximo à costa ou em alto-mar.\n",
      "\n",
      "**Informação sobre Conservação:**\n",
      "Os tubarões-martelo estão ameaçados devido à pesca ilegal e ao comércio de suas barbatanas. Muitas espécies são consideradas em risco, e esforços de proteção incluem proibições de pesca e regulamentação de práticas de captura.\n",
      "\n",
      "### 3. Tubarão-branco (Carcharodon carcharias)\n",
      "\n",
      "**Características Básicas:**\n",
      "- **Tamanho:** Um dos maiores tubarões, podendo atingir até 6 metros ou mais.\n",
      "- **Aparência:** Tem um corpo robusto, com uma coloração cinza na parte superior e branca na parte inferior. É conhecido por sua poderosa mandíbula e dentes afiados.\n",
      "- **Habitat:** Prefere águas mais frias e pode ser encontrado em algumas regiões do Brasil, principalmente ao longo da costa sul.\n",
      "\n",
      "**Informação sobre Conservação:**\n",
      "O tubarão-branco é considerado uma espécie vulnerável. As ameaças incluem a pesca acidental e a caça por suas barbatanas e carne. Programas de conservação estão em andamento para proteger essa espécie, como a criação de áreas marinhas protegidas.\n",
      "\n",
      "### Resumo\n",
      "\n",
      "Os tubarões são essenciais para a saúde dos ecossistemas marinhos, e a conservação dessas espécies é crucial para manter o equilíbrio do ambiente. A pesca sustentável e a proteção dos habitats marinhos são fundamentais para garantir que esses magníficos animais continuem a viver nas águas do Brasil.\n"
     ]
    }
   ],
   "source": [
    "chain_study(temp=[0.0, 0.3, 0.5, 0.7])"
   ]
  },
  {
   "cell_type": "code",
   "execution_count": 18,
   "metadata": {},
   "outputs": [
    {
     "name": "stdout",
     "output_type": "stream",
     "text": [
      "=== PROMPT BÁSICO ===\n",
      "Salvador é a capital do estado da Bahia, no Brasil, e é uma das cidades mais importantes e históricas do país. Fundada em 1549, Salvador foi a primeira capital do Brasil colonial e desempenhou um papel crucial na história do país, especialmente durante o período colonial e a escravidão.\n",
      "\n",
      "### Cultura\n",
      "Salvador é conhecida por sua rica cultura afro-brasileira, que se reflete na música, dança, culinária e festividades. O Carnaval de Salvador é um dos maiores e mais animados do mundo, atraindo milhões de turistas todos os anos. A cidade é famosa por suas manifestações culturais, como o samba de roda, o axé e o candomblé.\n",
      "\n",
      "### Patrimônio Histórico\n",
      "O centro histórico de Salvador, conhecido como Pelourinho, é um Patrimônio Mundial da UNESCO e é famoso por sua arquitetura colonial, igrejas barrocas e ruas de paralelepípedos. O Elevador Lacerda, que liga a Cidade Alta à Cidade Baixa, é um dos ícones da cidade.\n",
      "\n",
      "### Gastronomia\n",
      "A culinária de Salvador é uma das mais ricas do Brasil, com pratos típicos como acarajé, vatapá, moqueca e cocada. A influência africana é forte na gastronomia local, e muitos pratos são preparados com ingredientes como dendê e peixe.\n",
      "\n",
      "### Clima\n",
      "Salvador possui um clima tropical, com temperaturas quentes durante todo o ano. A cidade é banhada pelo Oceano Atlântico, o que proporciona belas praias, como a Praia do Porto da Barra, a Praia de Ondina e a Praia de Itapuã.\n",
      "\n",
      "### Economia\n",
      "A economia de Salvador é diversificada, com setores como turismo, comércio, serviços e indústria. O turismo é uma das principais fontes de renda da cidade, atraindo visitantes tanto nacionais quanto internacionais.\n",
      "\n",
      "### Atrações Turísticas\n",
      "Além do Pelourinho, Salvador oferece diversas atrações turísticas, como o Mercado Modelo, a Igreja de São Francisco, o Farol da Barra e o Parque Metropolitano de Pituaçu. A cidade também é um ponto de partida para explorar as belezas naturais da Bahia, como as praias do litoral norte e as ilhas da região.\n",
      "\n",
      "Em resumo, Salvador é uma cidade vibrante, rica em história e cultura, que oferece uma experiência única tanto para os moradores quanto para os visitantes.\n",
      "\n",
      "==================================================\n",
      "\n"
     ]
    }
   ],
   "source": [
    "# Crie este prompt básico primeiro\n",
    "prompt_basico = ChatPromptTemplate.from_template(\n",
    "    \"Fale sobre a cidade de {cidade} no Brasil\"\n",
    ")\n",
    "\n",
    "# Teste com uma cidade\n",
    "chain_basica = prompt_basico | model\n",
    "resultado = chain_basica.invoke({\"cidade\": \"Salvador\"})\n",
    "print(\"=== PROMPT BÁSICO ===\")\n",
    "print(resultado.content)\n",
    "print(\"\\n\" + \"=\" * 50 + \"\\n\")"
   ]
  },
  {
   "cell_type": "code",
   "execution_count": 19,
   "metadata": {},
   "outputs": [
    {
     "name": "stdout",
     "output_type": "stream",
     "text": [
      "=== PROMPT ESTRUTURADO ===\n",
      "Claro! Aqui estão alguns tópicos sobre a cidade de Salvador, na Bahia, Brasil:\n",
      "\n",
      "### 1. **História**\n",
      "   - **Fundação**: Salvador foi fundada em 1549 por Tomé de Souza, sendo a primeira capital do Brasil colonial.\n",
      "   - **Cultura Afro-Brasileira**: A cidade é um importante centro da cultura afro-brasileira, resultado da influência dos africanos trazidos como escravizados.\n",
      "\n",
      "### 2. **Geografia**\n",
      "   - **Localização**: Situada na costa nordeste do Brasil, Salvador é a capital do estado da Bahia.\n",
      "   - **Clima**: O clima é tropical, com temperaturas médias variando entre 24°C e 30°C ao longo do ano.\n",
      "\n",
      "### 3. **Cultura**\n",
      "   - **Música**: Salvador é famosa pelo axé, samba, e outros ritmos como o pagode e a MPB. O Carnaval de Salvador é um dos maiores do mundo.\n",
      "   - **Culinária**: A gastronomia baiana é rica e diversificada, destacando pratos como acarajé, moqueca e vatapá.\n",
      "\n",
      "### 4. **Turismo**\n",
      "   - **Centro Histórico**: O Pelourinho, com suas ruas de paralelepípedos e arquitetura colonial, é Patrimônio Mundial da UNESCO.\n",
      "   - **Praias**: Salvador possui diversas praias, como Porto da Barra, Farol da Barra e Praia do Flamengo, que atraem turistas durante todo o ano.\n",
      "\n",
      "### 5. **Economia**\n",
      "   - **Setores**: A economia de Salvador é baseada em turismo, comércio, serviços e indústria.\n",
      "   - **Emprego**: O setor de turismo é um dos principais geradores de emprego na cidade.\n",
      "\n",
      "### 6. **Educação**\n",
      "   - **Universidades**: Salvador abriga instituições de ensino superior, como a Universidade Federal da Bahia (UFBA) e a Universidade do Estado da Bahia (UNEB).\n",
      "\n",
      "### 7. **Eventos**\n",
      "   - **Carnaval**: O Carnaval de Salvador é famoso por seus trios elétricos e blocos de rua, atraindo milhões de foliões.\n",
      "   - **Festa de Iemanjá**: Celebrada em 2 de fevereiro, é uma das festas mais tradicionais, homenageando a deusa das águas.\n",
      "\n",
      "### 8. **Transporte**\n",
      "   - **Aeroporto**: O Aeroporto Internacional de Salvador (Deputado Luís Eduardo Magalhães) conecta a cidade a várias partes do Brasil e do mundo.\n",
      "   - **Transporte Público**: A cidade conta com ônibus, metrô e táxis, além de serviços de transporte por aplicativo.\n",
      "\n",
      "### 9. **Desafios**\n",
      "   - **Desigualdade Social**: Salvador enfrenta desafios relacionados à desigualdade social e à violência urbana.\n",
      "   - **Infraestrutura**: A cidade trabalha para melhorar a infraestrutura e os serviços públicos, especialmente em áreas mais carentes.\n",
      "\n",
      "### 10. **Pontos Turísticos**\n",
      "   - **Elevador Lacerda**: Um dos cartões-postais da cidade, conecta a Cidade Alta à Cidade Baixa.\n",
      "   - **Igreja de São Francisco**: Conhecida por sua rica decoração em ouro, é um exemplo da arquitetura barroca.\n",
      "\n",
      "Esses tópicos oferecem uma visão geral sobre Salvador, destacando sua importância histórica, cultural e econômica no Brasil.\n",
      "\n",
      "==================================================\n",
      "\n"
     ]
    }
   ],
   "source": [
    "# Refine o prompt adicionando estrutura\n",
    "prompt_estruturado = ChatPromptTemplate.from_template(\n",
    "    \"Fale sobre a cidade de {cidade} no Brasil. Organize em tópicos.\"\n",
    ")\n",
    "\n",
    "# Teste novamente\n",
    "chain_estruturada = prompt_estruturado | model\n",
    "resultado = chain_estruturada.invoke({\"cidade\": \"Salvador\"})\n",
    "print(\"=== PROMPT ESTRUTURADO ===\")\n",
    "print(resultado.content)\n",
    "print(\"\\n\" + \"=\" * 50 + \"\\n\")"
   ]
  },
  {
   "cell_type": "code",
   "execution_count": 20,
   "metadata": {},
   "outputs": [
    {
     "name": "stdout",
     "output_type": "stream",
     "text": [
      "=== PROMPT FORMATADO ===\n",
      "- **Localização geográfica:** Salvador está situada na costa nordeste do Brasil, no estado da Bahia, e é a capital do estado.\n",
      "- **Uma característica cultural:** Salvador é conhecida por sua rica herança afro-brasileira, manifestada na música, dança e culinária, especialmente no Carnaval e nas festas de Iemanjá.\n",
      "- **Uma atração turística:** O Pelourinho, um bairro histórico com arquitetura colonial, é famoso por suas ruas de paralelepípedos, igrejas barrocas e vibrante vida cultural.\n",
      "\n",
      "==================================================\n",
      "\n"
     ]
    }
   ],
   "source": [
    "# Refine ainda mais com limites e formatação\n",
    "prompt_formatado = ChatPromptTemplate.from_template(\n",
    "    \"Descreva a cidade de {cidade} no Brasil de forma concisa. Inclua apenas:\\n\"\n",
    "    \"- Localização geográfica\\n\"\n",
    "    \"- Uma característica cultural\\n\"\n",
    "    \"- Uma atração turística\\n\"\n",
    "    \"\\n\"\n",
    "    \"Use formatação com marcadores (-) e seja direto ao ponto.\"\n",
    ")\n",
    "\n",
    "# Teste\n",
    "chain_formatada = prompt_formatado | model\n",
    "resultado = chain_formatada.invoke({\"cidade\": \"Salvador\"})\n",
    "print(\"=== PROMPT FORMATADO ===\")\n",
    "print(resultado.content)\n",
    "print(\"\\n\" + \"=\" * 50 + \"\\n\")"
   ]
  },
  {
   "cell_type": "code",
   "execution_count": 21,
   "metadata": {},
   "outputs": [
    {
     "name": "stdout",
     "output_type": "stream",
     "text": [
      "=== PROMPT FINAL ===\n",
      "Bem-vindo a Salvador, a vibrante capital da Bahia! Esta cidade é única por sua rica mistura de culturas africanas, indígenas e europeias, refletida em sua arquitetura colonial e nas cores vibrantes das ruas do Pelourinho. Uma experiência cultural imperdível é assistir a uma apresentação de capoeira, uma arte marcial que é também uma dança, cheia de ritmo e energia! E não deixe de experimentar o acarajé, um bolinho de feijão-fradinho recheado com camarão, que é uma verdadeira iguaria baiana. Salvador é um lugar onde a alegria e a música estão sempre no ar!\n"
     ]
    }
   ],
   "source": [
    "# Refinamento final com tom específico\n",
    "prompt_final = ChatPromptTemplate.from_template(\n",
    "    \"Você é um guia turístico experiente do Brasil.\\n\"\n",
    "    \"Apresente a cidade de {cidade} para um turista estrangeiro que nunca visitou o Brasil.\\n\"\n",
    "    \"\\n\"\n",
    "    \"Inclua:\\n\"\n",
    "    \"- O que torna esta cidade única\\n\"\n",
    "    \"- Uma experiência cultural imperdível\\n\"\n",
    "    \"- Uma dica local (comida, música, arte, etc.)\\n\"\n",
    "    \"\\n\"\n",
    "    \"Seja entusiasmado e use linguagem acessível. Máximo 8 linhas.\"\n",
    ")\n",
    "\n",
    "# Teste final\n",
    "chain_final = prompt_final | model\n",
    "resultado = chain_final.invoke({\"cidade\": \"Salvador\"})\n",
    "print(\"=== PROMPT FINAL ===\")\n",
    "print(resultado.content)"
   ]
  },
  {
   "cell_type": "markdown",
   "metadata": {},
   "source": [
    "## Formatação de chains"
   ]
  },
  {
   "cell_type": "code",
   "execution_count": 22,
   "metadata": {},
   "outputs": [
    {
     "name": "stdout",
     "output_type": "stream",
     "text": [
      "=== COM StrOutputParser ===\n",
      "Salvador é a capital do estado da Bahia, no Brasil, e é uma das cidades mais importantes e históricas do país. Fundada em 1549, Salvador foi a primeira capital do Brasil e desempenhou um papel crucial durante o período colonial, especialmente no comércio de açúcar e na escravidão.\n",
      "\n",
      "A cidade é famosa por sua rica cultura, que é uma mistura de influências africanas, indígenas e europeias. Essa diversidade se reflete na música, na dança, na culinária e nas festividades locais. O Carnaval de Salvador, por exemplo, é um dos maiores e mais animados do mundo, atraindo milhões de turistas todos os anos.\n",
      "\n",
      "O centro histórico de Salvador, conhecido como Pelourinho, é um Patrimônio Mundial da UNESCO e é caracterizado por suas ruas de paralelepípedos, igrejas barrocas e coloridos edifícios coloniais. A Igreja de São Francisco, com seu interior ricamente decorado em ouro, é uma das principais atrações turísticas.\n",
      "\n",
      "Salvador também é conhecida por suas belas praias, como a Praia do Porto da Barra, a Praia de Stella Maris e a Praia de Itapuã, que oferecem opções de lazer e relaxamento. A culinária baiana é outro destaque, com pratos típicos como acarajé, moqueca e vatapá, que refletem a influência africana na gastronomia local.\n",
      "\n",
      "Além disso, Salvador é um importante centro de arte e cultura, com diversas manifestações artísticas, como o samba de roda, o axé e o candomblé, que são parte integrante da identidade baiana. A cidade também abriga festivais, exposições e eventos culturais ao longo do ano.\n",
      "\n",
      "Em resumo, Salvador é uma cidade vibrante, rica em história e cultura, que oferece uma experiência única tanto para os moradores quanto para os visitantes.\n",
      "Tipo: <class 'str'>\n"
     ]
    }
   ],
   "source": [
    "from langchain_core.output_parsers import StrOutputParser\n",
    "\n",
    "# Prompt simples\n",
    "prompt = ChatPromptTemplate.from_template(\"\"\"\n",
    "Descreva a cidade de {cidade} \"\"\")\n",
    "\n",
    "output_parser = StrOutputParser()\n",
    "\n",
    "# chain com o output parser\n",
    "chain_basica = prompt | model | output_parser\n",
    "\n",
    "# Execução\n",
    "resultado = chain_basica.invoke({\"cidade\": \"Salvador\"})\n",
    "print(\"=== COM StrOutputParser ===\")\n",
    "print(resultado)  # Note: resultado é string direta, não resultado.content\n",
    "print(f\"Tipo: {type(resultado)}\")"
   ]
  },
  {
   "cell_type": "markdown",
   "metadata": {},
   "source": [
    "### StrOutputParser\n",
    "____\n",
    "\n",
    "* StrOutputParser simplifica o acesso aos dados\n",
    "* Sem parser: resultado.content\n",
    "* Com parser: resultado (string direta)"
   ]
  },
  {
   "cell_type": "markdown",
   "metadata": {},
   "source": [
    "## Usando Pydantic\n",
    "___\n"
   ]
  },
  {
   "cell_type": "code",
   "execution_count": 23,
   "metadata": {},
   "outputs": [
    {
     "name": "stdout",
     "output_type": "stream",
     "text": [
      "Buscando dados para: Petrópolis\n",
      "\n",
      "Tipo do resultado: <class '__main__.Cidade'>\n",
      "É uma instância de Cidade? True\n",
      "\n",
      "Nome: Petrópolis\n",
      "Estado: Rio de Janeiro\n",
      "População: 300.000\n",
      "Clima: tropical de altitude\n"
     ]
    }
   ],
   "source": [
    "from langchain_core.output_parsers import PydanticOutputParser\n",
    "from pydantic import BaseModel, Field\n",
    "\n",
    "\n",
    "class Cidade(BaseModel):\n",
    "    nome: str = Field(description=\"O nome da cidade\")\n",
    "    estado: str = Field(description=\"Estado onde fica a cidade\")\n",
    "    populacao: int = Field(description=\"População da cidade\")\n",
    "    clima: str = Field(description=\"Clima da cidade\")\n",
    "\n",
    "\n",
    "# Criando o parser\n",
    "output_parser = PydanticOutputParser(pydantic_object=Cidade)\n",
    "\n",
    "prompt = ChatPromptTemplate.from_template(\"\"\"\n",
    "Descreva a cidade a {cidade} do Brasil.\n",
    "\n",
    "Importante: Retorne apenas o JSON, sem texto adicional\n",
    "{format_instructions}\n",
    "\"\"\")\n",
    "\n",
    "\n",
    "chain = prompt | model | output_parser\n",
    "\n",
    "cidade_para_buscar = \"Petrópolis\"\n",
    "resultado = chain.invoke(\n",
    "    {\n",
    "        \"cidade\": cidade_para_buscar,\n",
    "        \"format_instructions\": output_parser.get_format_instructions(),\n",
    "    }\n",
    ")\n",
    "\n",
    "print(f\"Buscando dados para: {cidade_para_buscar}\\n\")\n",
    "print(f\"Tipo do resultado: {type(resultado)}\")\n",
    "print(f\"É uma instância de Cidade? {isinstance(resultado, Cidade)}\\n\")\n",
    "\n",
    "# Agora você pode acessar os atributos diretamente com segurança!\n",
    "print(f\"Nome: {resultado.nome}\")\n",
    "print(f\"Estado: {resultado.estado}\")\n",
    "print(f\"População: {resultado.populacao:,}\".replace(\",\", \".\"))\n",
    "print(f\"Clima: {resultado.clima}\")"
   ]
  },
  {
   "cell_type": "code",
   "execution_count": 24,
   "metadata": {},
   "outputs": [
    {
     "name": "stdout",
     "output_type": "stream",
     "text": [
      "Tipo do resultado: <class '__main__.Cidade'>\n",
      "É instância de Cidade? True\n",
      "\n",
      "Nome: Itaguaí\n",
      "Estado: Rio de Janeiro\n",
      "População: 134.352\n",
      "Clima: Tropical\n"
     ]
    }
   ],
   "source": [
    "from langchain_core.output_parsers import PydanticOutputParser\n",
    "from langchain_core.prompts import ChatPromptTemplate\n",
    "from langchain_openai import ChatOpenAI\n",
    "from pydantic import BaseModel, Field\n",
    "\n",
    "\n",
    "# Modelo Pydantic\n",
    "class Cidade(BaseModel):\n",
    "    nome: str = Field(description=\"O nome da cidade\")\n",
    "    estado: str = Field(description=\"Estado onde fica a cidade\")\n",
    "    populacao: int = Field(description=\"População da cidade\")\n",
    "    clima: str = Field(description=\"Clima da cidade\")\n",
    "\n",
    "\n",
    "# Parser\n",
    "output_parser = PydanticOutputParser(pydantic_object=Cidade)\n",
    "\n",
    "# Modelo GPT-4.1\n",
    "model = ChatOpenAI(model=\"gpt-4.1\", temperature=0)\n",
    "\n",
    "# Prompt com instruções de formato\n",
    "prompt = ChatPromptTemplate.from_template(\"\"\"\n",
    "Descreva a cidade {cidade} do Brasil.\n",
    "\n",
    "Retorne apenas JSON válido no seguinte formato:\n",
    "{format_instructions}\n",
    "\"\"\")\n",
    "\n",
    "# Encadeando: prompt → modelo → parser\n",
    "chain = prompt | model | output_parser\n",
    "\n",
    "# Execução\n",
    "cidade_para_buscar = \"Itaguaí\"\n",
    "resultado = chain.invoke(\n",
    "    {\n",
    "        \"cidade\": cidade_para_buscar,\n",
    "        \"format_instructions\": output_parser.get_format_instructions(),\n",
    "    }\n",
    ")\n",
    "\n",
    "print(f\"Tipo do resultado: {type(resultado)}\")\n",
    "print(f\"É instância de Cidade? {isinstance(resultado, Cidade)}\\n\")\n",
    "\n",
    "print(f\"Nome: {resultado.nome}\")\n",
    "print(f\"Estado: {resultado.estado}\")\n",
    "print(f\"População: {resultado.populacao:,}\".replace(\",\", \".\"))\n",
    "print(f\"Clima: {resultado.clima}\")"
   ]
  },
  {
   "cell_type": "code",
   "execution_count": 25,
   "metadata": {},
   "outputs": [
    {
     "name": "stdout",
     "output_type": "stream",
     "text": [
      "Nome: Petrópolis\n",
      "Estado: Rio de Janeiro\n",
      "População: 307.431\n",
      "Clima: Tropical de altitude\n"
     ]
    }
   ],
   "source": [
    "from langchain_core.output_parsers import PydanticOutputParser\n",
    "from langchain_core.prompts import ChatPromptTemplate\n",
    "from langchain_openai import ChatOpenAI\n",
    "from pydantic import BaseModel, Field\n",
    "\n",
    "\n",
    "# Modelo Pydantic\n",
    "class Cidade(BaseModel):\n",
    "    nome: str = Field(description=\"O nome da cidade\")\n",
    "    estado: str = Field(description=\"Estado onde fica a cidade\")\n",
    "    populacao: int = Field(description=\"População da cidade\")\n",
    "    clima: str = Field(description=\"Clima da cidade\")\n",
    "\n",
    "\n",
    "# Parser\n",
    "output_parser = PydanticOutputParser(pydantic_object=Cidade)\n",
    "\n",
    "# Modelo LLM\n",
    "model = ChatOpenAI(model=\"gpt-4.1\", temperature=0)\n",
    "\n",
    "# Prompt\n",
    "prompt = ChatPromptTemplate.from_messages(\n",
    "    [\n",
    "        (\"system\", \"Você é um assistente que responde em JSON estruturado.\"),\n",
    "        (\n",
    "            \"user\",\n",
    "            \"Descreva a cidade {cidade} do Brasil, de forma sucinta.\\n{format_instructions}\",\n",
    "        ),\n",
    "    ]\n",
    ")\n",
    "\n",
    "# ✅ Corrigido: usar partial\n",
    "prompt = prompt.partial(format_instructions=output_parser.get_format_instructions())\n",
    "\n",
    "# Chain\n",
    "chain = prompt | model | output_parser\n",
    "\n",
    "# Execução\n",
    "resultado = chain.invoke({\"cidade\": \"Petrópolis\"})\n",
    "\n",
    "print(f\"Nome: {resultado.nome}\")\n",
    "print(f\"Estado: {resultado.estado}\")\n",
    "print(f\"População: {resultado.populacao:,}\".replace(\",\", \".\"))\n",
    "print(f\"Clima: {resultado.clima}\")"
   ]
  },
  {
   "cell_type": "code",
   "execution_count": 26,
   "metadata": {},
   "outputs": [
    {
     "name": "stdout",
     "output_type": "stream",
     "text": [
      "É Cidade? True\n",
      "Nome: Paraty\n",
      "Estado: Rio de Janeiro\n",
      "População: 42000\n",
      "Clima: Tropical\n"
     ]
    }
   ],
   "source": [
    "from langchain_core.output_parsers import PydanticOutputParser\n",
    "from langchain_core.prompts import ChatPromptTemplate\n",
    "from langchain_openai import ChatOpenAI\n",
    "from pydantic import BaseModel, Field\n",
    "\n",
    "\n",
    "class Cidade(BaseModel):\n",
    "    nome: str = Field(description=\"O nome da cidade\")\n",
    "    estado: str = Field(description=\"Estado onde fica a cidade\")\n",
    "    populacao: int = Field(description=\"População da cidade\")\n",
    "    clima: str = Field(description=\"Clima da cidade\")\n",
    "\n",
    "\n",
    "output_parser = PydanticOutputParser(pydantic_object=Cidade)\n",
    "model = ChatOpenAI(model=\"gpt-4o-mini\", temperature=0)\n",
    "\n",
    "# ✅ CORRETO: Usar from_template() que é mais simples\n",
    "prompt = ChatPromptTemplate.from_template(\n",
    "    \"Você é um assistente que responde estritamente em JSON estruturado.\\n\"\n",
    "    \"Descreva a cidade {cidade} do Brasil de forma sucinta e clara.\\n\\n\"\n",
    "    \"{format_instructions}\"\n",
    ")\n",
    "\n",
    "chain = prompt | model | output_parser\n",
    "\n",
    "resultado = chain.invoke(\n",
    "    {\"cidade\": \"Parati\", \"format_instructions\": output_parser.get_format_instructions()}\n",
    ")\n",
    "\n",
    "print(f\"É Cidade? {isinstance(resultado, Cidade)}\")\n",
    "print(f\"Nome: {resultado.nome}\")\n",
    "print(f\"Estado: {resultado.estado}\")\n",
    "print(f\"População: {resultado.populacao}\")\n",
    "print(f\"Clima: {resultado.clima}\")"
   ]
  },
  {
   "cell_type": "markdown",
   "metadata": {},
   "source": [
    "## Formato atual mais recomendado"
   ]
  },
  {
   "cell_type": "code",
   "execution_count": 27,
   "metadata": {},
   "outputs": [
    {
     "name": "stdout",
     "output_type": "stream",
     "text": [
      "É Cidade? True\n",
      "Nome: Alto Paraíso\n",
      "Estado: Goiás\n",
      "População: 6000\n",
      "Clima: Tropical de altitude\n"
     ]
    }
   ],
   "source": [
    "from langchain_core.output_parsers import PydanticOutputParser\n",
    "from langchain_core.prompts import ChatPromptTemplate\n",
    "from langchain_openai import ChatOpenAI\n",
    "from pydantic import BaseModel, Field\n",
    "\n",
    "\n",
    "class Cidade(BaseModel):\n",
    "    nome: str = Field(description=\"O nome da cidade\")\n",
    "    estado: str = Field(description=\"Estado onde fica a cidade\")\n",
    "    populacao: int = Field(description=\"População da cidade\")\n",
    "    clima: str = Field(description=\"Clima da cidade\")\n",
    "\n",
    "\n",
    "output_parser = PydanticOutputParser(pydantic_object=Cidade)\n",
    "model = ChatOpenAI(model=\"gpt-4o-mini\", temperature=0)\n",
    "\n",
    "# ✅ CORRETO: Criar o prompt primeiro, depois usar .partial()\n",
    "prompt = ChatPromptTemplate.from_messages(\n",
    "    [\n",
    "        (\n",
    "            \"system\",\n",
    "            \"Você é um assistente que responde estritamente em JSON estruturado.\",\n",
    "        ),\n",
    "        (\n",
    "            \"user\",\n",
    "            \"Descreva a cidade {cidade} do Brasil de forma sucinta e clara.\\n\\n{format_instructions}\",\n",
    "        ),\n",
    "    ]\n",
    ")\n",
    "\n",
    "# ✅ CORRETO: Usar .partial() para definir variáveis parciais\n",
    "prompt = prompt.partial(format_instructions=output_parser.get_format_instructions())\n",
    "\n",
    "chain = prompt | model | output_parser\n",
    "\n",
    "resultado = chain.invoke({\"cidade\": \"Alto Paraíso\"})\n",
    "\n",
    "print(f\"É Cidade? {isinstance(resultado, Cidade)}\")\n",
    "print(f\"Nome: {resultado.nome}\")\n",
    "print(f\"Estado: {resultado.estado}\")\n",
    "print(f\"População: {resultado.populacao}\")\n",
    "print(f\"Clima: {resultado.clima}\")"
   ]
  },
  {
   "cell_type": "code",
   "execution_count": 28,
   "metadata": {},
   "outputs": [
    {
     "name": "stdout",
     "output_type": "stream",
     "text": [
      "É Cidade? True\n",
      "Nome: Angra dos Reis\n",
      "Estado: Rio de Janeiro\n",
      "População: 200000\n",
      "Clima: Tropical\n"
     ]
    }
   ],
   "source": [
    "from langchain_core.output_parsers import PydanticOutputParser\n",
    "from langchain_core.prompts import ChatPromptTemplate\n",
    "from langchain_openai import ChatOpenAI\n",
    "from pydantic import BaseModel, Field\n",
    "\n",
    "\n",
    "class Cidade(BaseModel):\n",
    "    nome: str = Field(description=\"O nome da cidade\")\n",
    "    estado: str = Field(description=\"Estado onde fica a cidade\")\n",
    "    populacao: int = Field(description=\"População aproximada da cidade\")\n",
    "    clima: str = Field(description=\"Clima predominante da cidade\")\n",
    "\n",
    "\n",
    "# Parser que garante a saída no formato Pydantic\n",
    "output_parser = PydanticOutputParser(pydantic_object=Cidade)\n",
    "\n",
    "# Modelo\n",
    "model = ChatOpenAI(model=\"gpt-4o-mini\", temperature=0)\n",
    "\n",
    "# Prompt\n",
    "prompt = ChatPromptTemplate.from_template(\n",
    "    \"Você é um assistente que responde estritamente em JSON estruturado.\\n\"\n",
    "    \"Descreva a cidade {cidade} do Brasil de forma sucinta e clara.\\n\\n\"\n",
    "    \"{format_instructions}\"\n",
    ")\n",
    "\n",
    "# Pipeline\n",
    "chain = prompt | model | output_parser\n",
    "\n",
    "# Execução\n",
    "resultado = chain.invoke(\n",
    "    {\n",
    "        \"cidade\": \"Angra dos Reis\",\n",
    "        \"format_instructions\": output_parser.get_format_instructions(),\n",
    "    }\n",
    ")\n",
    "\n",
    "print(f\"É Cidade? {isinstance(resultado, Cidade)}\")\n",
    "print(f\"Nome: {resultado.nome}\")\n",
    "print(f\"Estado: {resultado.estado}\")\n",
    "print(f\"População: {resultado.populacao}\")\n",
    "print(f\"Clima: {resultado.clima}\")"
   ]
  },
  {
   "cell_type": "markdown",
   "metadata": {},
   "source": [
    "`Só funciona com modelos mais atuais`"
   ]
  },
  {
   "cell_type": "code",
   "execution_count": 29,
   "metadata": {},
   "outputs": [
    {
     "name": "stdout",
     "output_type": "stream",
     "text": [
      "[Structured] Nome: Curitiba\n",
      "[Structured] Estado: Paraná\n",
      "[Structured] População: 1948626\n",
      "[Structured] Clima: Subtropical úmido\n"
     ]
    }
   ],
   "source": [
    "# O mesmo modelo Pydantic\n",
    "class Cidade(BaseModel):\n",
    "    nome: str\n",
    "    estado: str\n",
    "    populacao: int\n",
    "    clima: str\n",
    "\n",
    "\n",
    "# Atalho direto no modelo\n",
    "structured_model = model.with_structured_output(Cidade)\n",
    "\n",
    "prompt2 = ChatPromptTemplate.from_template(\n",
    "    \"Descreva a cidade {cidade} do Brasil de forma sucinta.\"\n",
    ")\n",
    "\n",
    "chain2 = prompt2 | structured_model\n",
    "\n",
    "resultado2 = chain2.invoke({\"cidade\": \"Curitiba\"})\n",
    "\n",
    "print(f\"[Structured] Nome: {resultado2.nome}\")\n",
    "print(f\"[Structured] Estado: {resultado2.estado}\")\n",
    "print(f\"[Structured] População: {resultado2.populacao}\")\n",
    "print(f\"[Structured] Clima: {resultado2.clima}\")"
   ]
  },
  {
   "cell_type": "markdown",
   "metadata": {},
   "source": [
    "| Parser / Método                    | Como funciona                                                                                 | Quando usar                                                             | Observação                                              |\n",
    "| ---------------------------------- | --------------------------------------------------------------------------------------------- | ----------------------------------------------------------------------- | ------------------------------------------------------- |\n",
    "| `PydanticOutputParser`             | Força a saída em um modelo Pydantic (`BaseModel`).                                            | Quando você já tem **um schema fixo** bem definido (nome, idade, etc.). | O modelo pode quebrar se a LLM não respeitar o formato. |\n",
    "| `RetryWithErrorOutputParser`       | Envolve outro parser. Se a LLM erra o formato, ele **refaz a chamada** instruindo a corrigir. | Quando o modelo erra muito no formato JSON.                             | Ajuda a robustez, mas pode aumentar custo/latência.     |\n",
    "| `.with_structured_output(MyModel)` | Atalho direto: pede à LLM para retornar **já estruturado** em um `BaseModel`.                 | Quando você quer código mais limpo e direto (menos boilerplate).        | Mais simples, mas depende do suporte do modelo.         |\n",
    "| `.invoke()`                        | Executa uma chain ou runnable uma vez.                                                        | Quando você quer rodar **uma entrada → uma saída**.                     | Retorna objeto Python pronto.                           |\n",
    "| `.batch()`                         | Executa em lote (lista de entradas).                                                          | Quando precisa processar **vários inputs** de uma vez.                  | Mais eficiente do que laço `for`.                       |\n",
    "| `.stream()`                        | Retorna saída parcial em fluxo (streaming).                                                   | Para casos de **chat em tempo real** ou geração longa.                  | Precisa tratar iteração da resposta.                    |\n"
   ]
  },
  {
   "cell_type": "markdown",
   "metadata": {},
   "source": [
    "## Vamos definir como estruturalmente deve ser uma chamada de chain, usando as melhores práticas."
   ]
  },
  {
   "cell_type": "code",
   "execution_count": 30,
   "metadata": {},
   "outputs": [
    {
     "name": "stdout",
     "output_type": "stream",
     "text": [
      "É Cidade? True\n",
      "Nome: Rio de Janeiro\n",
      "Estado: Rio de Janeiro\n",
      "População: 6748000\n",
      "Clima: Tropical\n"
     ]
    }
   ],
   "source": [
    "from langchain_core.prompts import ChatPromptTemplate\n",
    "from langchain_openai import ChatOpenAI\n",
    "from pydantic import BaseModel, Field\n",
    "\n",
    "\n",
    "class Cidade(BaseModel):\n",
    "    nome: str = Field(description=\"Nome da cidade\")\n",
    "    estado: str = Field(description=\"Estado da cidade\")\n",
    "    populacao: int = Field(description=\"População da cidade\")\n",
    "    clima: str = Field(description=\"Clima da cidade\")\n",
    "\n",
    "\n",
    "# * Instanciar o modelo\n",
    "model = ChatOpenAI(model=\"gpt-4o-mini\", temperature=0)\n",
    "\n",
    "# * Prompt mais limpo\n",
    "prompt = ChatPromptTemplate.from_messages(\n",
    "    [\n",
    "        (\"system\", \"Você é um assistente útil.\"),\n",
    "        (\"user\", \"Descreva a cidade {cidade} do Brasil de forma sucinta e clara.\"),\n",
    "    ]\n",
    ")\n",
    "\n",
    "# ✅ Criar o modelo com a saída estruturada\n",
    "model_with_output = model.with_structured_output(Cidade)\n",
    "\n",
    "# ✅ Definir a chain completa\n",
    "chain = prompt | model_with_output\n",
    "\n",
    "# ✅ Executar a chain\n",
    "resultado = chain.invoke({\"cidade\": \"Rio de Janeiro\"})\n",
    "print(f\"É Cidade? {isinstance(resultado, Cidade)}\")\n",
    "print(f\"Nome: {resultado.nome}\")\n",
    "print(f\"Estado: {resultado.estado}\")\n",
    "print(f\"População: {resultado.populacao}\")\n",
    "print(f\"Clima: {resultado.clima}\")"
   ]
  },
  {
   "cell_type": "code",
   "execution_count": 31,
   "metadata": {},
   "outputs": [
    {
     "name": "stdout",
     "output_type": "stream",
     "text": [
      "<class '__main__.Cidade'>\n"
     ]
    }
   ],
   "source": [
    "print(type(resultado))"
   ]
  },
  {
   "cell_type": "code",
   "execution_count": 32,
   "metadata": {},
   "outputs": [
    {
     "name": "stdout",
     "output_type": "stream",
     "text": [
      "Resultado final:\n",
      "Para o clima tropical de altitude, é ideal usar roupas leves e confortáveis durante o dia, como camisetas de manga curta e calças leves. À noite, pode esfriar, então leve um casaco ou uma jaqueta. Não esqueça de um chapéu e protetor solar para se proteger do sol! 😊\n"
     ]
    }
   ],
   "source": [
    "from langchain_core.prompts import ChatPromptTemplate\n",
    "from langchain_core.runnables import RunnableLambda\n",
    "from langchain_openai import ChatOpenAI\n",
    "from pydantic import BaseModel, Field\n",
    "\n",
    "\n",
    "# ---- Parte 1: Definição da Saída Estruturada (Pydantic) ----\n",
    "class Cidade(BaseModel):\n",
    "    nome: str = Field(description=\"Nome da cidade\")\n",
    "    estado: str = Field(description=\"Estado da cidade\")\n",
    "    populacao: int = Field(description=\"População da cidade\")\n",
    "    clima: str = Field(description=\"Clima da cidade\")\n",
    "\n",
    "\n",
    "# ---- Parte 2: O Primeiro Elo da Chain (Obter a Cidade) ----\n",
    "model_cidade = ChatOpenAI(model=\"gpt-4o-mini\", temperature=0).with_structured_output(\n",
    "    Cidade\n",
    ")\n",
    "\n",
    "prompt_cidade = ChatPromptTemplate.from_messages(\n",
    "    [\n",
    "        (\"system\", \"Você é um assistente que fornece dados de cidades.\"),\n",
    "        (\"user\", \"Descreva a cidade {cidade} do Brasil.\"),\n",
    "    ]\n",
    ")\n",
    "\n",
    "# A primeira chain, que retorna um objeto Pydantic\n",
    "chain_cidade = prompt_cidade | model_cidade\n",
    "\n",
    "# ---- Parte 3: O Segundo Elo da Chain (Recomendação de Vestuário) ----\n",
    "model_clima = ChatOpenAI(model=\"gpt-4o-mini\", temperature=0)\n",
    "\n",
    "prompt_clima = ChatPromptTemplate.from_template(\n",
    "    \"Com base no clima '{clima}', qual tipo de roupa seria adequado para usar? Responda de forma curta e amigável.\"\n",
    ")\n",
    "\n",
    "chain_clima = prompt_clima | model_clima\n",
    "\n",
    "# ---- Parte 4: A Chain Principal que Une as Duas Partes (Solução Simples) ----\n",
    "# ✅ SOLUÇÃO: Esta única RunnableLambda faz a 'ponte' que você precisa.\n",
    "# Ela pega o objeto Pydantic da chain_cidade e extrai o atributo 'clima'.\n",
    "# E o coloca em um dicionário que é a entrada que a chain_clima espera.\n",
    "extrai_clima = RunnableLambda(lambda obj_cidade: {\"clima\": obj_cidade.clima})\n",
    "\n",
    "# ✅ A chain principal combinada\n",
    "final_chain = chain_cidade | extrai_clima | chain_clima\n",
    "\n",
    "# ✅ Executando a chain combinada\n",
    "# Note que a chain_cidade agora é usada para retornar o objeto Pydantic completo\n",
    "# A chain 'extrai_clima' recebe o objeto Pydantic e não a AIMessage\n",
    "resultado_final = final_chain.invoke({\"cidade\": \"Petrópolis\"})\n",
    "\n",
    "print(\"Resultado final:\")\n",
    "print(resultado_final.content)"
   ]
  },
  {
   "cell_type": "code",
   "execution_count": 33,
   "metadata": {},
   "outputs": [
    {
     "name": "stdout",
     "output_type": "stream",
     "text": [
      "--- Detalhes da Cidade ---\n",
      "Nome: Petrópolis\n",
      "Estado: Rio de Janeiro\n",
      "População: 304000\n",
      "Clima: Tropical de altitude\n",
      "\n",
      "--- Recomendação de Vestuário ---\n",
      "Para o clima tropical de altitude, é ideal usar roupas leves e confortáveis durante o dia, como camisetas de manga curta e calças leves. À noite, pode esfriar, então leve um casaco ou uma jaqueta. Não esqueça de um chapéu e protetor solar para se proteger do sol! 😊\n",
      "\n"
     ]
    }
   ],
   "source": [
    "from langchain_core.prompts import ChatPromptTemplate\n",
    "from langchain_core.runnables import RunnableLambda, RunnablePassthrough\n",
    "from langchain_openai import ChatOpenAI\n",
    "from pydantic import BaseModel, Field\n",
    "\n",
    "\n",
    "# ---- Definições (sem mudanças) ----\n",
    "class Cidade(BaseModel):\n",
    "    nome: str = Field(description=\"Nome da cidade\")\n",
    "    estado: str = Field(description=\"Estado da cidade\")\n",
    "    populacao: int = Field(description=\"População da cidade\")\n",
    "    clima: str = Field(description=\"Clima da cidade\")\n",
    "\n",
    "\n",
    "model_cidade = ChatOpenAI(model=\"gpt-4o-mini\", temperature=0).with_structured_output(\n",
    "    Cidade\n",
    ")\n",
    "prompt_cidade = ChatPromptTemplate.from_messages(\n",
    "    [\n",
    "        (\"system\", \"Você é um assistente que fornece dados de cidades.\"),\n",
    "        (\"user\", \"Descreva a cidade {cidade} do Brasil.\"),\n",
    "    ]\n",
    ")\n",
    "chain_cidade = prompt_cidade | model_cidade\n",
    "\n",
    "model_clima = ChatOpenAI(model=\"gpt-4o-mini\", temperature=0)\n",
    "prompt_clima = ChatPromptTemplate.from_template(\n",
    "    \"Com base no clima '{clima}', qual tipo de roupa seria adequado para usar? Responda de forma curta e amigável.\"\n",
    ")\n",
    "chain_clima_part = prompt_clima | model_clima\n",
    "\n",
    "# ---- A Chain Mestre Corrigida ----\n",
    "\n",
    "# Primeiro, criamos a sub-cadeia para a recomendação.\n",
    "# Ela espera um dicionário de entrada que já tenha a chave 'cidade_obj'.\n",
    "sub_chain_recomendacao = (\n",
    "    RunnableLambda(lambda x: {\"clima\": x[\"cidade_obj\"].clima}) | chain_clima_part\n",
    ")\n",
    "\n",
    "# Agora, construímos a cadeia principal de forma sequencial\n",
    "final_chain = (\n",
    "    # Passo 1: Executa a primeira chain e ADICIONA seu resultado (um objeto Cidade)\n",
    "    # ao fluxo de dados sob a chave 'cidade_obj'.\n",
    "    # A saída deste passo é: {\"cidade\": \"Petrópolis\", \"cidade_obj\": <Objeto Cidade>}\n",
    "    RunnablePassthrough.assign(cidade_obj=chain_cidade)\n",
    "    # Passo 2: Executa a segunda chain e ADICIONA seu resultado (uma AIMessage)\n",
    "    # ao fluxo sob a chave 'recomendacao'.\n",
    "    # A entrada para este passo já contém 'cidade_obj', então a sub_chain_recomendacao funciona.\n",
    "    # A saída deste passo é: {\"cidade\": ..., \"cidade_obj\": ..., \"recomendacao\": <AIMessage>}\n",
    "    | RunnablePassthrough.assign(recomendacao=sub_chain_recomendacao)\n",
    "    # Passo 3: Formata a resposta final usando as chaves que foram adicionadas ao fluxo.\n",
    "    | RunnableLambda(\n",
    "        lambda x: f\"--- Detalhes da Cidade ---\\n\"\n",
    "        f\"Nome: {x['cidade_obj'].nome}\\n\"\n",
    "        f\"Estado: {x['cidade_obj'].estado}\\n\"\n",
    "        f\"População: {x['cidade_obj'].populacao}\\n\"\n",
    "        f\"Clima: {x['cidade_obj'].clima}\\n\\n\"\n",
    "        f\"--- Recomendação de Vestuário ---\\n\"\n",
    "        f\"{x['recomendacao'].content}\\n\"\n",
    "    )\n",
    ")\n",
    "\n",
    "\n",
    "# ✅ Executando a chain final\n",
    "resultado_final = final_chain.invoke({\"cidade\": \"Petrópolis\"})\n",
    "\n",
    "print(resultado_final)"
   ]
  },
  {
   "cell_type": "markdown",
   "metadata": {},
   "source": [
    "Exercício 1: Encadeamento Simples (Saída de String)\n",
    "Objetivo: Criar uma cadeia de dois passos que usa a saída de texto do primeiro passo como a entrada para o segundo.\n",
    "\n",
    "Cenário:\n",
    "\n",
    "Primeiro Elo: Uma cadeia que recebe o nome de um país e retorna uma frase curta sobre sua capital.\n",
    "\n",
    "Segundo Elo: Uma cadeia que recebe uma frase e pergunta uma curiosidade relacionada.\n",
    "\n",
    "Tarefa:\n",
    "Escreva uma única chain_final que:\n",
    "\n",
    "Use ChatPromptTemplate e ChatOpenAI.\n",
    "\n",
    "Encadeie a primeira cadeia (país -> capital) com a segunda (frase -> curiosidade).\n",
    "\n",
    "Use um RunnableLambda para garantir que a saída de texto da primeira cadeia seja passada como a entrada da segunda.\n",
    "\n",
    "Exemplo de Execução: chain_final.invoke({\"pais\": \"França\"})\n",
    "Saída Esperada: Algo como: \"A capital da França é Paris. Diga uma curiosidade sobre Paris.\""
   ]
  },
  {
   "cell_type": "code",
   "execution_count": 35,
   "metadata": {},
   "outputs": [
    {
     "name": "stdout",
     "output_type": "stream",
     "text": [
      "É país? True\n",
      "Nome: Suíça\n",
      "Capital: Berna\n"
     ]
    }
   ],
   "source": [
    "from langchain_core.prompts import ChatPromptTemplate\n",
    "from langchain_core.runnables import RunnableLambda, RunnablePassthrough\n",
    "from langchain_openai import ChatOpenAI\n",
    "from pydantic import BaseModel, Field\n",
    "\n",
    "# ! TODO: Escrever uma única chain_final que:\n",
    "# ! Use ChatPromptTemplate e ChatOpenAI.\n",
    "\n",
    "\n",
    "class Pais(BaseModel):\n",
    "    nome: str = Field(description=\"Nome do país\")\n",
    "    capital: str = Field(description=\"Capital do país\")\n",
    "\n",
    "\n",
    "# * Instancia o modelo\n",
    "model = ChatOpenAI(model=\"gpt-4o-mini\", temperature=0)\n",
    "\n",
    "prompt_pais = ChatPromptTemplate.from_messages(\n",
    "    [\n",
    "        (\"system\", \"Você é um assistente que sabe informações sobre países.\"),\n",
    "        (\"user\", \"Qual é a capital do {pais}?\"),\n",
    "    ]\n",
    ")\n",
    "\n",
    "# * Criar o modelo com a saída estruturada\n",
    "model_pais = model.with_structured_output(Pais)\n",
    "\n",
    "chain_pais = prompt_pais | model_pais\n",
    "resultado = chain_pais.invoke({\"pais\": \"Suiça\"})\n",
    "\n",
    "print(f\"É país? {isinstance(resultado, Pais)}\")\n",
    "print(f\"Nome: {resultado.nome}\")\n",
    "print(f\"Capital: {resultado.capital}\")"
   ]
  },
  {
   "cell_type": "code",
   "execution_count": 39,
   "metadata": {},
   "outputs": [],
   "source": [
    "from langchain_core.output_parsers import StrOutputParser\n",
    "from langchain_core.runnables import RunnableLambda, RunnablePassthrough\n",
    "\n",
    "model_city = ChatOpenAI(model=\"gpt-4o-mini\", temperature=0)\n",
    "\n",
    "prompt_city = ChatPromptTemplate.from_messages(\n",
    "    [\n",
    "        (\"system\", \"Você é um assistente que sabe informações sobre cidades.\"),\n",
    "        (\"user\", \"Diga uma curiosidade sobre a {cidade}\"),\n",
    "    ]\n",
    ")\n",
    "\n",
    "chain_city = prompt_city | model_city\n",
    "\n",
    "sub_chain_city = (\n",
    "    RunnableLambda(lambda x: {\"cidade\": x[\"pais_obj\"].capital}) | chain_city\n",
    ")"
   ]
  },
  {
   "cell_type": "code",
   "execution_count": 40,
   "metadata": {},
   "outputs": [],
   "source": [
    "final_chain = (\n",
    "    RunnablePassthrough.assign(pais_obj=chain_pais)\n",
    "    | RunnablePassthrough.assign(curiosity_city=sub_chain_city)\n",
    "    # * Passo 3: Formata a resposta final usando as chaves que foram adicionadas ao fluxo.\n",
    "    | RunnableLambda(\n",
    "        lambda x: f\"--- Detalhes do Pais ---\\n\"\n",
    "        f\"Nome: {x['pais_obj'].nome}\\n\"\n",
    "        f\"Capital: {x['pais_obj'].capital}\\n\\n\"\n",
    "        f\"--- Curiosidade da Cidade ---\\n\"\n",
    "        f\"{x['curiosity_city'].content}\\n\"\n",
    "    )\n",
    ")"
   ]
  },
  {
   "cell_type": "code",
   "execution_count": 41,
   "metadata": {},
   "outputs": [
    {
     "name": "stdout",
     "output_type": "stream",
     "text": [
      "--- Detalhes do Pais ---\n",
      "Nome: Suíça\n",
      "Capital: Berna\n",
      "\n",
      "--- Curiosidade da Cidade ---\n",
      "Uma curiosidade interessante sobre Berna, a capital da Suíça, é que a cidade possui um famoso urso como símbolo. O Urso de Berna é um ícone local e está presente no escudo da cidade. Além disso, há um parque chamado \"Bärengraben\" (Fossa dos Ursos), onde você pode ver ursos em um ambiente que simula seu habitat natural. A tradição de ter ursos na cidade remonta ao século 12, quando o fundador da cidade, Bertold IV, trouxe um urso como parte de uma expedição. Desde então, os ursos se tornaram uma parte importante da identidade cultural de Berna.\n",
      "\n"
     ]
    }
   ],
   "source": [
    "resultado_final = final_chain.invoke({\"pais\": \"Suiça\"})\n",
    "print(resultado_final)"
   ]
  },
  {
   "cell_type": "markdown",
   "metadata": {},
   "source": [
    "### Exercícios:\n",
    "---\n",
    "\n",
    "`Exercício 1: Encadeamento Simples (Saída de String)`\n",
    "\n",
    "Objetivo: Criar uma cadeia de dois passos que usa a saída de texto do primeiro passo como a entrada para o segundo.\n",
    "\n",
    "Cenário:\n",
    "\n",
    "Primeiro Elo: Uma cadeia que recebe o nome de um país e retorna uma frase curta sobre sua capital.\n",
    "\n",
    "Segundo Elo: Uma cadeia que recebe uma frase e pergunta uma curiosidade relacionada.\n",
    "\n",
    "Tarefa:\n",
    "Escreva uma única chain_final que:\n",
    "\n",
    "Use ChatPromptTemplate e ChatOpenAI.\n",
    "\n",
    "Encadeie a primeira cadeia (país -> capital) com a segunda (frase -> curiosidade).\n",
    "\n",
    "Use um RunnableLambda para garantir que a saída de texto da primeira cadeia seja passada como a entrada da segunda.\n",
    "\n",
    "Exemplo de Execução: chain_final.invoke({\"pais\": \"França\"})\n",
    "Saída Esperada: Algo como: \"A capital da França é Paris. Diga uma curiosidade sobre Paris.\"\n",
    "\n",
    "\n",
    "{\"pais\": \"Suíça\"} \n",
    "    ↓\n",
    "chain_pais → {\"nome\": \"Suíça\", \"capital\": \"Berna\"}\n",
    "    ↓\n",
    "sub_chain_city → {\"cidade\": \"Berna\"} → Curiosidade sobre Berna\n",
    "    ↓\n",
    "Formatação → Detalhes do país + Curiosidade da capital"
   ]
  },
  {
   "cell_type": "code",
   "execution_count": null,
   "metadata": {},
   "outputs": [],
   "source": [
    "# ============================================================================\n",
    "# TEMPLATE: CHAIN SEQUENCIAL COM TRANSFORMAÇÃO DE DADOS ENTRE ETAPAS\n",
    "# ============================================================================\n",
    "#\n",
    "# PROBLEMA: Como criar uma chain que execute múltiplas etapas sequenciais,\n",
    "# onde uma etapa retorna dados estruturados (Pydantic) e etapas posteriores\n",
    "# precisam transformar esses dados para diferentes formatos de entrada?\n",
    "#\n",
    "# SOLUÇÃO: Pipeline com RunnablePassthrough.assign() + Sub-chains de transformação\n",
    "# ============================================================================\n",
    "\n",
    "# ---- PASSO 1: DEFINIR MODELOS DE DADOS ESTRUTURADOS ----\n",
    "# Sempre comece definindo as estruturas de dados que serão usadas\n",
    "from langchain_core.prompts import ChatPromptTemplate\n",
    "from langchain_core.runnables import RunnableLambda, RunnablePassthrough\n",
    "from langchain_openai import ChatOpenAI\n",
    "from pydantic import BaseModel, Field\n",
    "\n",
    "\n",
    "class Pais(BaseModel):\n",
    "    nome: str = Field(description=\"Nome do país\")\n",
    "    capital: str = Field(description=\"Capital do país\")\n",
    "\n",
    "\n",
    "# ---- PASSO 2: CRIAR CHAINS INDIVIDUAIS COM RESPONSABILIDADES ESPECÍFICAS ----\n",
    "# Cada chain deve ter uma responsabilidade bem definida e retornar dados consistentes\n",
    "\n",
    "# Chain 1: Obter informações estruturadas sobre um país\n",
    "model = ChatOpenAI(model=\"gpt-4o-mini\", temperature=0)\n",
    "prompt_pais = ChatPromptTemplate.from_messages(\n",
    "    [\n",
    "        (\"system\", \"Você é um assistente que sabe informações sobre países.\"),\n",
    "        (\"user\", \"Qual é a capital do {pais}?\"),\n",
    "    ]\n",
    ")\n",
    "\n",
    "# ✅ IMPORTANTE: Usar .with_structured_output() para garantir dados estruturados\n",
    "model_pais = model.with_structured_output(Pais)\n",
    "chain_pais = prompt_pais | model_pais\n",
    "\n",
    "# Chain 2: Obter curiosidades sobre uma cidade\n",
    "model_city = ChatOpenAI(model=\"gpt-4o-mini\", temperature=0)\n",
    "prompt_city = ChatPromptTemplate.from_messages(\n",
    "    [\n",
    "        (\"system\", \"Você é um assistente que sabe informações sobre cidades.\"),\n",
    "        (\"user\", \"Diga uma curiosidade sobre a {cidade}\"),\n",
    "    ]\n",
    ")\n",
    "\n",
    "chain_city = prompt_city | model_city\n",
    "\n",
    "# ! ---- PASSO 3: CRIAR SUB-CHAINS DE TRANSFORMAÇÃO ----\n",
    "# ! Sub-chains fazem a ponte entre diferentes formatos de dados\n",
    "# ! PROBLEMA: chain_pais retorna objeto Pais, mas chain_city espera {\"cidade\": \"valor\"}\n",
    "\n",
    "sub_chain_city = (\n",
    "    # TRANSFORMAÇÃO: De objeto Pais para dicionário {\"cidade\": capital}\n",
    "    # x[\"pais_obj\"] é o objeto Pais retornado pela chain_pais\n",
    "    # x[\"pais_obj\"].capital extrai o atributo capital\n",
    "    RunnableLambda(lambda x: {\"cidade\": x[\"pais_obj\"].capital})\n",
    "    | chain_city  # Esta chain espera {\"cidade\": \"valor\"}\n",
    ")\n",
    "\n",
    "# ! ---- PASSO 4: CONSTRUIR CHAIN PRINCIPAL SEQUENCIAL ----\n",
    "# * ARQUITETURA: Cada etapa ADICIONA dados ao fluxo usando RunnablePassthrough.assign()\n",
    "\n",
    "final_chain = (\n",
    "    # * ETAPA 1: Obter dados do país e ADICIONAR ao fluxo\n",
    "    # * Entrada: {\"pais\": \"Suíça\"}\n",
    "    # * Saída: {\"pais\": \"Suíça\", \"pais_obj\": <objeto_Pais>}\n",
    "    RunnablePassthrough.assign(pais_obj=chain_pais)\n",
    "    # * ETAPA 2: Obter curiosidade da capital e ADICIONAR ao fluxo\n",
    "    # * Entrada: {\"pais\": \"Suíça\", \"pais_obj\": <objeto_Pais>}\n",
    "    # * Saída: {\"pais\": \"Suíça\", \"pais_obj\": <objeto_Pais>, \"curiosity_city\": <AIMessage>}\n",
    "    | RunnablePassthrough.assign(curiosity_city=sub_chain_city)\n",
    "    # * ETAPA 3: Formatar resultado final usando TODOS os dados coletados\n",
    "    # * Entrada: Dicionário completo com todas as chaves\n",
    "    # * Saída: String formatada com informações consolidadas\n",
    "    | RunnableLambda(\n",
    "        lambda x: f\"--- Detalhes do Pais ---\\n\"\n",
    "        f\"Nome: {x['pais_obj'].nome}\\n\"\n",
    "        f\"Capital: {x['pais_obj'].capital}\\n\\n\"\n",
    "        f\"--- Curiosidade da Cidade ---\\n\"\n",
    "        f\"{x['curiosity_city'].content}\\n\"\n",
    "    )\n",
    ")\n",
    "\n",
    "# ---- PASSO 5: EXECUTAR E TESTAR ----\n",
    "# Sempre teste com dados simples primeiro\n",
    "resultado_final = final_chain.invoke({\"pais\": \"Paris\"})\n",
    "print(resultado_final)\n",
    "\n",
    "# ============================================================================\n",
    "# ! REGRAS DE OURO PARA CHAINS SEQUENCIAIS COM TRANSFORMAÇÃO:\n",
    "# ============================================================================\n",
    "# ! 1. Identifique onde os formatos de dados mudam entre etapas\n",
    "# ! 2. Use sub-chains com RunnableLambda para transformar dados\n",
    "# ! 3. Cada etapa deve ADICIONAR dados (não substituir) com RunnablePassthrough.assign()\n",
    "# ! 4. A última etapa consolida todos os dados coletados\n",
    "# ! 5. Teste cada etapa isoladamente antes de integrar\n",
    "# 6. Use .with_structured_output() quando precisar de dados estruturados\n",
    "# ============================================================================"
   ]
  },
  {
   "cell_type": "markdown",
   "metadata": {},
   "source": [
    "Resumo da Arquitetura\n",
    "Padrão Principal: Pipeline de Enriquecimento com Transformação de Dados\n",
    "Entrada simples → Dados estruturados → Transformação → Saída consolidada\n",
    "Sub-chains fazem a ponte entre diferentes formatos de dados\n",
    "Dependências são resolvidas pela sequência e transformações\n",
    "Para problemas complexos futuros:\n",
    "Identifique mudanças de formato entre etapas\n",
    "Crie sub-chains de transformação para cada mudança\n",
    "Mantenha o fluxo de dados sempre crescente\n",
    "Use .with_structured_output() quando precisar de dados estruturados\n",
    "Teste cada etapa isoladamente antes de integrar\n",
    "Esta arquitetura é escalável e pode ser aplicada a problemas muito mais complexos mantendo a mesma estrutura mental!"
   ]
  },
  {
   "cell_type": "markdown",
   "metadata": {},
   "source": [
    "Exercício 2: Encadeamento Complexo (Saída Estruturada)\n",
    "Objetivo: Aplicar o RunnablePassthrough.assign() para combinar as saídas de duas cadeias diferentes em uma única resposta final formatada.\n",
    "\n",
    "Cenário:\n",
    "\n",
    "Primeiro Elo: Uma cadeia que recebe um nome e retorna um objeto Pydantic Pessoa (Nome, Idade, Profissão).\n",
    "\n",
    "Segundo Elo: Uma cadeia que recebe a profissão (extraída do objeto Pydantic) e retorna uma sugestão de hobby.\n",
    "\n",
    "Tarefa:\n",
    "Escreva uma única chain_final que:\n",
    "\n",
    "Defina uma classe Pydantic Pessoa.\n",
    "\n",
    "Defina a chain_pessoa usando with_structured_output.\n",
    "\n",
    "Defina a chain_hobby (string-based).\n",
    "\n",
    "Use RunnablePassthrough.assign() para executar ambas as cadeias e salvar seus resultados em um único dicionário.\n",
    "\n",
    "Use um RunnableLambda final para formatar a resposta, combinando as informações do objeto Pessoa e a sugestão de hobby."
   ]
  },
  {
   "cell_type": "code",
   "execution_count": 42,
   "metadata": {},
   "outputs": [],
   "source": [
    "# * Bibliotecas\n",
    "from langchain_core.prompts import ChatPromptTemplate\n",
    "from langchain_core.runnables import RunnableLambda, RunnablePassthrough\n",
    "from langchain_openai import ChatOpenAI\n",
    "from pydantic import BaseModel, Field"
   ]
  },
  {
   "cell_type": "code",
   "execution_count": 43,
   "metadata": {},
   "outputs": [],
   "source": [
    "class Pessoa(BaseModel):\n",
    "    nome: str = Field(description=\"Nome da pessoa\")\n",
    "    idade: int = Field(description=\"Idade da pessoa\")\n",
    "    profissao: str = Field(description=\"Profissão da pessoa\")"
   ]
  },
  {
   "cell_type": "markdown",
   "metadata": {},
   "source": [
    "<h3>Criar chains individuais com responsabilidades específicas<h3>"
   ]
  },
  {
   "cell_type": "code",
   "execution_count": 44,
   "metadata": {},
   "outputs": [],
   "source": [
    "model = ChatOpenAI(model=\"gpt-4o-mini\", temperature=0)\n",
    "prompt_pessoa = ChatPromptTemplate.from_messages(\n",
    "    [\n",
    "        (\"system\", \"Você é um assistente que cadastra informações de uma pessoa.\"),\n",
    "        (\"user\", \"Cadastre as informações da pessoa {nome} {idade} {profissao}\"),\n",
    "    ]\n",
    ")"
   ]
  },
  {
   "cell_type": "code",
   "execution_count": 45,
   "metadata": {},
   "outputs": [],
   "source": [
    "model_pessoa = model.with_structured_output(Pessoa)\n",
    "chain_pessoa = prompt_pessoa | model_pessoa"
   ]
  },
  {
   "cell_type": "markdown",
   "metadata": {},
   "source": [
    "<h3>Dado a profissão da pessoa, sugira um hobby<h3>"
   ]
  },
  {
   "cell_type": "code",
   "execution_count": 63,
   "metadata": {},
   "outputs": [],
   "source": [
    "model = ChatOpenAI(model=\"gpt-4o-mini\", temperature=0.7)\n",
    "prompt_profissao = ChatPromptTemplate.from_messages(\n",
    "    [\n",
    "        (\n",
    "            \"system\",\n",
    "            \"Você é um assistente criativo sugira um hobby que a pessoa, que não tenha nada a ver com a profissão da pessoa, seja criativo.\",\n",
    "        ),\n",
    "        (\"user\", \"A profissão da pessoa é {profissao}.\"),\n",
    "    ]\n",
    ")\n",
    "\n",
    "chain_profissao = prompt_profissao | model"
   ]
  },
  {
   "cell_type": "markdown",
   "metadata": {},
   "source": [
    "Criar conexão entre as chains, na primeira etapa, temos um objeto pydantic, para que ele seja usado na segunda chain, é preciso fazer uma transformação intermediária."
   ]
  },
  {
   "cell_type": "code",
   "execution_count": 57,
   "metadata": {},
   "outputs": [],
   "source": [
    "sub_chain_extracao_profissao = (\n",
    "    # * x[\"pessoa_obj\"] é o objeto Pessoa retornado pela chain_pessoa\n",
    "    # * x[\"pessoa_obj\"].profissão extrai o atributo profissão\n",
    "    RunnableLambda(lambda x: {\"profissao\": x[\"pessoa_obj\"].profissao}) | chain_profissao\n",
    ")"
   ]
  },
  {
   "cell_type": "code",
   "execution_count": 58,
   "metadata": {},
   "outputs": [],
   "source": [
    "final_chain = (\n",
    "    # * ETAPA 1: Obter dados da pessoa e ADICIONAR ao fluxo\n",
    "    # * Entrada: {\"nome\": \"João\", \"idade\": 30, \"profissao\": \"Engenheiro\"}\n",
    "    # * Saída: {\"nome\": \"João\", \"idade\": 30, \"profissao\": \"Engenheiro\", \"pessoa_obj\": <objeto_Pessoa>}\n",
    "    RunnablePassthrough.assign(pessoa_obj=chain_pessoa)\n",
    "    # * ETAPA 2: Obter hobby da profissão e ADICIONAR ao fluxo\n",
    "    # * Entrada: {\"nome\": \"João\", \"idade\": 30, \"profissao\": \"Engenheiro\", \"pessoa_obj\": <objeto_Pessoa>}\n",
    "    # * Saída: {\"nome\": \"João\", \"idade\": 30, \"profissao\": \"Engenheiro\", \"pessoa_obj\": <objeto_Pessoa>, \"hobby\": <AIMessage>}\n",
    "    | RunnablePassthrough.assign(hobby=sub_chain_extracao_profissao)\n",
    "    # * ETAPA 3: Formatar resultado final usando TODOS os dados coletados\n",
    "    | RunnableLambda(\n",
    "        lambda x: f\"Detalhes da pessoa:\\n\"\n",
    "        f\"Nome:  {x['pessoa_obj'].nome}\\n\"\n",
    "        f\"Idade: {x['pessoa_obj'].idade}\\n\"\n",
    "        f\"Profissão: {x['pessoa_obj'].profissao}\\n\"\n",
    "        f\"Hobby: {x['hobby'].content}\\n\"\n",
    "    )\n",
    ")"
   ]
  },
  {
   "cell_type": "code",
   "execution_count": 59,
   "metadata": {},
   "outputs": [
    {
     "name": "stdout",
     "output_type": "stream",
     "text": [
      "Detalhes da pessoa:\n",
      "Nome:  Fabio Lima\n",
      "Idade: 49\n",
      "Profissão: Cientista de Dados\n",
      "Hobby: Uma ótima sugestão de hobby criativo para alguém que é Cientista de Dados é a **pintura em aquarela**. Esse hobby permite que a pessoa se expresse artisticamente, explore cores e formas, e se desconecte da lógica e da análise de dados que sua profissão exige. A pintura em aquarela é uma forma relaxante de criatividade, onde cada pincelada pode ser uma nova descoberta, assim como em um experimento científico. Além disso, pode ser uma ótima maneira de desenvolver a paciência e a atenção aos detalhes de uma forma diferente.\n",
      "\n"
     ]
    }
   ],
   "source": [
    "resultado_final = final_chain.invoke(\n",
    "    {\"nome\": \"Fabio Lima\", \"idade\": 49, \"profissao\": \"Cientista de Dados\"}\n",
    ")\n",
    "print(resultado_final)"
   ]
  },
  {
   "cell_type": "code",
   "execution_count": 60,
   "metadata": {},
   "outputs": [
    {
     "name": "stdout",
     "output_type": "stream",
     "text": [
      "Detalhes da pessoa:\n",
      "Nome:  Janaina\n",
      "Idade: 52\n",
      "Profissão: Pedagoga\n",
      "Hobby: Uma sugestão de hobby criativo para uma pedagoga poderia ser a prática de **artesanato em papel**, como a técnica de origami ou a confecção de cartões personalizados. Essa atividade permite explorar a criatividade de forma lúdica, além de desenvolver habilidades manuais e de concentração. A pedagoga pode criar peças decorativas, presentes ou até mesmo materiais educativos que podem ser utilizados em suas aulas, unindo o útil ao agradável. Além disso, o artesanato em papel pode ser uma ótima forma de relaxar e se desconectar do dia a dia profissional.\n",
      "\n"
     ]
    }
   ],
   "source": [
    "resultado_final = final_chain.invoke(\n",
    "    {\"nome\": \"Janaina\", \"idade\": 52, \"profissao\": \"Pedagoga\"}\n",
    ")\n",
    "print(resultado_final)"
   ]
  },
  {
   "cell_type": "code",
   "execution_count": 61,
   "metadata": {},
   "outputs": [
    {
     "name": "stdout",
     "output_type": "stream",
     "text": [
      "Detalhes da pessoa:\n",
      "Nome:  Fabiana\n",
      "Idade: 46\n",
      "Profissão: Esteticista\n",
      "Hobby: Uma sugestão de hobby criativo para alguém que é esteticista poderia ser a pintura em aquarela. Essa atividade permite explorar a criatividade de uma forma diferente, utilizando cores e formas para expressar emoções e ideias. Além disso, a pintura pode ser uma forma relaxante de se desconectar do dia a dia e desenvolver habilidades artísticas que podem até inspirar novas abordagens em sua profissão. Você pode começar com um simples conjunto de aquarelas e papel, e explorar temas como natureza, retratos ou abstrações.\n",
      "\n"
     ]
    }
   ],
   "source": [
    "resultado_final = final_chain.invoke(\n",
    "    {\"nome\": \"Fabiana\", \"idade\": 46, \"profissao\": \"Esteticista\"}\n",
    ")\n",
    "print(resultado_final)"
   ]
  },
  {
   "cell_type": "code",
   "execution_count": 64,
   "metadata": {},
   "outputs": [
    {
     "name": "stdout",
     "output_type": "stream",
     "text": [
      "Detalhes da pessoa:\n",
      "Nome:  Leandro Gazoni\n",
      "Idade: 46\n",
      "Profissão: Engenheiro de Software\n",
      "Hobby: Uma ótima sugestão de hobby criativo para alguém que é engenheiro de software é a **pintura em aquarela**. Esse hobby permite que a pessoa se desconecte do mundo digital e explore sua criatividade de uma maneira totalmente diferente. A pintura em aquarela é uma forma de arte que envolve a mistura de cores e a experimentação com diferentes técnicas, proporcionando uma experiência relaxante e terapêutica. Além disso, pode ser uma ótima maneira de expressar emoções e ideias de forma visual, algo que pode ser muito gratificante e inspirador!\n",
      "\n"
     ]
    }
   ],
   "source": [
    "resultado_final = final_chain.invoke(\n",
    "    {\"nome\": \"Leandro Gazoni\", \"idade\": 46, \"profissao\": \"Engenheiro de Software\"}\n",
    ")\n",
    "print(resultado_final)"
   ]
  },
  {
   "cell_type": "code",
   "execution_count": 65,
   "metadata": {},
   "outputs": [
    {
     "name": "stdout",
     "output_type": "stream",
     "text": [
      "Detalhes da pessoa:\n",
      "Nome:  Janine Gonçalves\n",
      "Idade: 48\n",
      "Profissão: Administradora de Empresas\n",
      "Hobby: Uma sugestão de hobby criativo para alguém que é Administradora de Empresas é a prática da pintura em aquarela. Essa atividade permite explorar a criatividade de forma livre e relaxante, além de ser uma ótima maneira de se desconectar do ambiente corporativo. A pintura em aquarela oferece a oportunidade de experimentar com cores, formas e técnicas, proporcionando uma saída artística que pode ser muito gratificante. Além disso, você pode participar de workshops ou grupos de pintura, o que também pode ajudar a expandir sua rede social fora do trabalho.\n",
      "\n"
     ]
    }
   ],
   "source": [
    "resultado_final = final_chain.invoke(\n",
    "    {\"nome\": \"Janine Gonçalves\", \"idade\": 48, \"profissao\": \"Administradora de Empresas\"}\n",
    ")\n",
    "print(resultado_final)"
   ]
  }
 ],
 "metadata": {
  "kernelspec": {
   "display_name": ".venv",
   "language": "python",
   "name": "python3"
  },
  "language_info": {
   "codemirror_mode": {
    "name": "ipython",
    "version": 3
   },
   "file_extension": ".py",
   "mimetype": "text/x-python",
   "name": "python",
   "nbconvert_exporter": "python",
   "pygments_lexer": "ipython3",
   "version": "3.13.3"
  }
 },
 "nbformat": 4,
 "nbformat_minor": 2
}
