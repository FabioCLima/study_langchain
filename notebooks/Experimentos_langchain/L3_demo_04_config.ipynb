{
 "cells": [
  {
   "cell_type": "code",
   "execution_count": null,
   "metadata": {},
   "outputs": [],
   "source": [
    "import operator\n",
    "import random\n",
    "from typing import Annotated, TypedDict\n",
    "\n",
    "from IPython.display import Image, display\n",
    "from langchain_core.messages import HumanMessage, SystemMessage\n",
    "from langchain_core.runnables import RunnableConfig\n",
    "from langchain_openai import ChatOpenAI\n",
    "from langgraph.graph import END, START, MessagesState, StateGraph"
   ]
  },
  {
   "cell_type": "markdown",
   "metadata": {},
   "source": [
    "**Data Processing**"
   ]
  },
  {
   "cell_type": "code",
   "execution_count": null,
   "metadata": {},
   "outputs": [],
   "source": [
    "class State(TypedDict):\n",
    "    \"\"\"State holds the workflow state for the graph.\n",
    "\n",
    "    input: int\n",
    "        Initial input value.\n",
    "    partial: Annotated[List[int], operator.add]\n",
    "        List of partial results, combined with operator.add.\n",
    "    results: Annotated[List[int], operator.add]\n",
    "        List of final results, combined with operator.add.\n",
    "    \"\"\"\n",
    "\n",
    "    input: int\n",
    "    partial: Annotated[list[int], operator.add]\n",
    "    results: Annotated[list[int], operator.add]"
   ]
  },
  {
   "cell_type": "code",
   "execution_count": null,
   "metadata": {},
   "outputs": [],
   "source": [
    "def node_a(state: State, config: RunnableConfig) -> dict[str, list[int]]:\n",
    "    \"\"\"Process the input state and config to generate partial and result values.\n",
    "\n",
    "    Args:\n",
    "        state (State): The workflow state containing input values.\n",
    "        config (RunnableConfig): Configuration for the node, may include 'offset'.\n",
    "\n",
    "    Returns:\n",
    "        dict: Dictionary with 'partial' and 'results' lists.\n",
    "\n",
    "    \"\"\"\n",
    "    offset = 0\n",
    "    if config:\n",
    "        offset = config.get(\"configurable\", {}).get(\"offset\", 0)\n",
    "    partial = random.randint(1, 10) + offset  # noqa: S311\n",
    "    output = state[\"input\"] + partial\n",
    "    print(\n",
    "        f\"NODE A:\\n \"\n",
    "        f\"->input:{output - partial}\\n \"\n",
    "        f\"->offset:{offset}\\n \"\n",
    "        f\"->random:{partial - offset}\\n \"\n",
    "        f\"->partial:{partial}\\n \"\n",
    "        f\"->output:{output}\\n \"\n",
    "    )\n",
    "    return {\"partial\": [partial], \"results\": [output]}  # pyright: ignore[reportUnknownVariableType]"
   ]
  },
  {
   "cell_type": "code",
   "execution_count": null,
   "metadata": {},
   "outputs": [],
   "source": [
    "def node_b(state: State, config: RunnableConfig) -> dict[str, list[int]]:\n",
    "    \"\"\"Process the input state and config to generate partial and result values.\n",
    "\n",
    "    Args:\n",
    "        state (State): The workflow state containing input values.\n",
    "        config (RunnableConfig): Configuration for the node, may include 'offset'.\n",
    "\n",
    "    Returns:\n",
    "        dict: Dictionary with 'partial' and 'results' lists.\n",
    "\n",
    "    \"\"\"\n",
    "    offset = 0\n",
    "    if config:\n",
    "        offset = config.get(\"configurable\", {}).get(\"offset\", 0)\n",
    "    partial = random.randint(1, 10) + offset  # noqa: S311\n",
    "    output = state[\"results\"][-1] + partial\n",
    "    print(\n",
    "        f\"NODE B:\\n \"\n",
    "        f\"->input:{output - partial}\\n \"\n",
    "        f\"->offset:{offset}\\n \"\n",
    "        f\"->random:{partial - offset}\\n \"\n",
    "        f\"->partial:{partial}\\n \"\n",
    "        f\"->output:{output}\\n \"\n",
    "    )\n",
    "    return {\"partial\": [partial], \"results\": [output]}"
   ]
  },
  {
   "cell_type": "code",
   "execution_count": null,
   "metadata": {},
   "outputs": [],
   "source": [
    "workflow = StateGraph(State)"
   ]
  },
  {
   "cell_type": "code",
   "execution_count": null,
   "metadata": {},
   "outputs": [
    {
     "data": {
      "text/plain": [
       "<langgraph.graph.state.StateGraph at 0x7f06b06bfe00>"
      ]
     },
     "execution_count": 6,
     "metadata": {},
     "output_type": "execute_result"
    }
   ],
   "source": [
    "workflow.add_node(node_a)\n",
    "workflow.add_node(node_b)"
   ]
  },
  {
   "cell_type": "code",
   "execution_count": null,
   "metadata": {},
   "outputs": [
    {
     "data": {
      "text/plain": [
       "<langgraph.graph.state.StateGraph at 0x7f06b06bfe00>"
      ]
     },
     "execution_count": 7,
     "metadata": {},
     "output_type": "execute_result"
    }
   ],
   "source": [
    "workflow.add_edge(START, \"node_a\")\n",
    "workflow.add_edge(\"node_a\", \"node_b\")\n",
    "workflow.add_edge(\"node_b\", END)"
   ]
  },
  {
   "cell_type": "code",
   "execution_count": null,
   "metadata": {},
   "outputs": [],
   "source": [
    "graph = workflow.compile()"
   ]
  },
  {
   "cell_type": "code",
   "execution_count": null,
   "metadata": {},
   "outputs": [
    {
     "data": {
      "image/png": "[encoded data removed]",
      "text/plain": [
       "<IPython.core.display.Image object>"
      ]
     },
     "metadata": {},
     "output_type": "display_data"
    }
   ],
   "source": [
    "display(Image(graph.get_graph().draw_mermaid_png()))"
   ]
  },
  {
   "cell_type": "code",
   "execution_count": null,
   "metadata": {},
   "outputs": [
    {
     "name": "stdout",
     "output_type": "stream",
     "text": [
      "NODE A:\n",
      " ->input:1\n",
      " ->offset:20\n",
      " ->random:8\n",
      " ->partial:28\n",
      " ->output:29\n",
      " \n",
      "NODE B:\n",
      " ->input:29\n",
      " ->offset:20\n",
      " ->random:10\n",
      " ->partial:30\n",
      " ->output:59\n",
      " \n"
     ]
    },
    {
     "data": {
      "text/plain": [
       "{'input': 1, 'partial': [28, 30], 'results': [29, 59]}"
      ]
     },
     "execution_count": 10,
     "metadata": {},
     "output_type": "execute_result"
    }
   ],
   "source": [
    "config = {\"configurable\": {\"offset\": 20}}\n",
    "graph.invoke(\n",
    "    input={\n",
    "        \"input\": 1,\n",
    "    },\n",
    "    config=config,\n",
    ")"
   ]
  },
  {
   "cell_type": "markdown",
   "metadata": {},
   "source": [
    "**Call LLMs**"
   ]
  },
  {
   "cell_type": "code",
   "execution_count": null,
   "metadata": {},
   "outputs": [],
   "source": [
    "from dotenv import load_dotenv\n",
    "\n",
    "load_dotenv()\n",
    "llm = ChatOpenAI(\n",
    "    model=\"gpt-4o-mini\",\n",
    "    temperature=0.0,\n",
    ")"
   ]
  },
  {
   "cell_type": "code",
   "execution_count": null,
   "metadata": {},
   "outputs": [],
   "source": [
    "class State(MessagesState):\n",
    "    \"\"\"State holds the workflow state for the graph.\n",
    "\n",
    "    question: str\n",
    "        The question to be processed.\n",
    "    \"\"\"\n",
    "\n",
    "    question: str"
   ]
  },
  {
   "cell_type": "code",
   "execution_count": null,
   "metadata": {},
   "outputs": [],
   "source": [
    "def model(\n",
    "    state: State, config: RunnableConfig\n",
    ") -> dict[str, list[HumanMessage | SystemMessage]]:\n",
    "    \"\"\"Process the input state and configuration to interact with the LLM.\n",
    "\n",
    "    Args:\n",
    "        state (State): The workflow state containing the question and messages.\n",
    "        config (RunnableConfig): Configuration for the node, may include 'name'.\n",
    "\n",
    "    Returns:\n",
    "        dict: Dictionary with updated 'messages' list.\n",
    "\n",
    "    \"\"\"\n",
    "    question = state[\"question\"]\n",
    "    messages = state[\"messages\"]\n",
    "    name = None\n",
    "    if config:\n",
    "        name = config[\"configurable\"].get(\"name\")\n",
    "\n",
    "    if name and not messages:\n",
    "        messages.append(\n",
    "            SystemMessage(\n",
    "                \"Help the following user. \\n\"\n",
    "                f\"Name={name} \\n\"\n",
    "                \"Give an initial greeting before responding.\"\n",
    "            )\n",
    "        )\n",
    "\n",
    "    messages.append(HumanMessage(question))\n",
    "    response = llm.invoke(messages)\n",
    "    messages.append(response)\n",
    "\n",
    "    return {\"messages\": messages}"
   ]
  },
  {
   "cell_type": "code",
   "execution_count": null,
   "metadata": {},
   "outputs": [],
   "source": [
    "workflow = StateGraph(State)"
   ]
  },
  {
   "cell_type": "code",
   "execution_count": null,
   "metadata": {},
   "outputs": [
    {
     "data": {
      "text/plain": [
       "<langgraph.graph.state.StateGraph at 0x7f06b01396d0>"
      ]
     },
     "execution_count": 15,
     "metadata": {},
     "output_type": "execute_result"
    }
   ],
   "source": [
    "workflow.add_node(\"model\", model)"
   ]
  },
  {
   "cell_type": "code",
   "execution_count": null,
   "metadata": {},
   "outputs": [
    {
     "data": {
      "text/plain": [
       "<langgraph.graph.state.StateGraph at 0x7f06b01396d0>"
      ]
     },
     "execution_count": 16,
     "metadata": {},
     "output_type": "execute_result"
    }
   ],
   "source": [
    "workflow.add_edge(START, \"model\")\n",
    "workflow.add_edge(\"model\", END)"
   ]
  },
  {
   "cell_type": "code",
   "execution_count": null,
   "metadata": {},
   "outputs": [],
   "source": [
    "graph = workflow.compile()"
   ]
  },
  {
   "cell_type": "code",
   "execution_count": null,
   "metadata": {},
   "outputs": [],
   "source": [
    "result = graph.invoke(\n",
    "    input={\"question\": \"What's the name of Ash's first pokémon?\"},\n",
    "    config={\"configurable\": {\"name\": \"James\"}},\n",
    ")"
   ]
  },
  {
   "cell_type": "code",
   "execution_count": null,
   "metadata": {},
   "outputs": [
    {
     "name": "stdout",
     "output_type": "stream",
     "text": [
      "================================\u001b[1m System Message \u001b[0m================================\n",
      "\n",
      "Help the following user. \n",
      "Name=James \n",
      "Give an initial greeting before responding.\n",
      "================================\u001b[1m Human Message \u001b[0m=================================\n",
      "\n",
      "What's the name of Ash's first pokémon?\n",
      "==================================\u001b[1m Ai Message \u001b[0m==================================\n",
      "\n",
      "Hello, James! Ash's first Pokémon is Pikachu. It became his iconic partner right from the start of his journey in the Pokémon anime. If you have any more questions about Pokémon or anything else, feel free to ask!\n"
     ]
    }
   ],
   "source": [
    "for message in result[\"messages\"]:\n",
    "    message.pretty_print()"
   ]
  }
 ],
 "metadata": {
  "kernelspec": {
   "display_name": "study_langchain",
   "language": "python",
   "name": "python3"
  },
  "language_info": {
   "codemirror_mode": {
    "name": "ipython",
    "version": 3
   },
   "file_extension": ".py",
   "mimetype": "text/x-python",
   "name": "python",
   "nbconvert_exporter": "python",
   "pygments_lexer": "ipython3",
   "version": "3.13.3"
  }
 },
 "nbformat": 4,
 "nbformat_minor": 2
}
