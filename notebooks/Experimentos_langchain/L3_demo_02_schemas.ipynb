{
 "cells": [
  {
   "cell_type": "code",
   "execution_count": null,
   "metadata": {},
   "outputs": [],
   "source": [
    "from operator import add\n",
    "from random import choice\n",
    "from typing import Annotated, Literal\n",
    "\n",
    "from IPython.display import Image\n",
    "from langgraph.graph import END, START, StateGraph\n",
    "from pydantic import BaseModel, Field, ValidationError"
   ]
  },
  {
   "cell_type": "markdown",
   "metadata": {},
   "source": [
    "## TypedDict vs Pydantic"
   ]
  },
  {
   "cell_type": "markdown",
   "metadata": {},
   "source": [
    "The of the `Literal`keeps the values of the specific set, in the current case it is [green, yellow, red] or None which in the case above the default.\n",
    "\n",
    "The ruff linter doesn't like Optional, so I changed to the implementation below."
   ]
  },
  {
   "cell_type": "code",
   "execution_count": null,
   "metadata": {},
   "outputs": [],
   "source": [
    "class State(BaseModel):\n",
    "    \"\"\"State model for traffic light color transitions.\n",
    "\n",
    "    Represents the current and next color of a traffic light in a controlled\n",
    "    transition process.\n",
    "\n",
    "    Attributes:\n",
    "        input_color (Literal): Current color of the traffic light.\n",
    "            Must be one of \"green\", \"yellow\", or \"red\".\n",
    "        output_color (Optional[Literal]): Next color after transition.\n",
    "            Defaults to None until a transition is defined.\n",
    "\n",
    "    \"\"\"\n",
    "\n",
    "    input_color: Literal[\"green\", \"yellow\", \"red\"] = Field(\n",
    "        ...,\n",
    "        description=\"Current color of the traffic light. Must be 'green', 'yellow', or\\\n",
    "    'red'.\",\n",
    "        example=\"green\",\n",
    "    )\n",
    "\n",
    "    input_color: Literal[\"green\", \"yellow\", \"red\"]\n",
    "    output_color: Literal[\"green\", \"yellow\", \"red\"] | None = None"
   ]
  },
  {
   "cell_type": "markdown",
   "metadata": {},
   "source": [
    "NODE: color_node it is a function (or a Runnable's object) which means a unit of workplace."
   ]
  },
  {
   "cell_type": "code",
   "execution_count": null,
   "metadata": {},
   "outputs": [],
   "source": [
    "def color_node(state: State) -> dict[str, str]:\n",
    "    \"\"\"Node function to determine the next traffic light color.\n",
    "\n",
    "    Args:\n",
    "        state (State): The current state containing the input color.\n",
    "\n",
    "    Returns:\n",
    "        dict[str, Literal[\"green\", \"yellow\", \"red\"]]:\n",
    "            A dictionary with a single key ``\"output_color\"`` mapped to a randomly\n",
    "            chosen traffic light color (\"green\", \"yellow\", or \"red\").\n",
    "\n",
    "    \"\"\"\n",
    "    print(f\"input_color: {state.input_color}\")\n",
    "    return {\"output_color\": choice([\"green\", \"yellow\", \"red\"])}  # noqa: S311"
   ]
  },
  {
   "cell_type": "markdown",
   "metadata": {},
   "source": [
    "#### Building the workflow\n",
    "___\n",
    "\n",
    "1. workflow = StateGraph(State) : Define the State - this step tells LangGraph what the **shape of the state** looks like (what keys/fields exist and their types) \n",
    "Only the rules for storing and updating data.\n",
    "2. add nodes: Each NODE is a function that transforms the state.\n",
    "3. connect edges : workflow.add_edge(START, \"first NODE\") -- Edges define **transitions** -- how the workflow moves from one step to the next step.\n",
    "4. START it is a placeholder for us to decide which NODE(s) should actually run first -- it marks the **entry point**"
   ]
  },
  {
   "cell_type": "markdown",
   "metadata": {},
   "source": [
    "##### Understand `START` as a Placeholder\n",
    "\n",
    "\n",
    "a. START doesn’t do any work itself.\n",
    "\n",
    "b. It simply marks the entry point into the workflow.\n",
    "\n",
    "c. You must explicitly connect it to the first node(s).\n",
    "\n",
    "d. This design gives you flexibility: one workflow could have multiple valid entry nodes, depending on your use case."
   ]
  },
  {
   "attachments": {
    "image.png": {
     "image/png": "[encoded data removed]"
    }
   },
   "cell_type": "markdown",
   "metadata": {},
   "source": [
    "![image.png](attachment:image.png)"
   ]
  },
  {
   "cell_type": "code",
   "execution_count": null,
   "metadata": {},
   "outputs": [],
   "source": [
    "workflow = StateGraph(State)\n",
    "workflow.add_node(color_node)  # pyright: ignore[reportUnknownMemberType]\n",
    "workflow.add_edge(START, \"color_node\")\n",
    "workflow.add_edge(\"color_node\", END)\n",
    "\n",
    "graph = workflow.compile()  # pyright: ignore[reportUnknownMemberType]"
   ]
  },
  {
   "cell_type": "code",
   "execution_count": null,
   "metadata": {},
   "outputs": [
    {
     "data": {
      "text/plain": [
       "State(input_color='green', output_color=None)"
      ]
     },
     "execution_count": 5,
     "metadata": {},
     "output_type": "execute_result"
    }
   ],
   "source": [
    "State(input_color=\"green\")"
   ]
  },
  {
   "cell_type": "code",
   "execution_count": null,
   "metadata": {},
   "outputs": [
    {
     "name": "stdout",
     "output_type": "stream",
     "text": [
      "input_color: green\n",
      "output_color: yellow\n"
     ]
    }
   ],
   "source": [
    "output = graph.invoke({\"input_color\": \"green\"})  # pyright: ignore[reportArgumentType, reportUnknownMemberType]\n",
    "print(f\"output_color: {output['output_color']}\")"
   ]
  },
  {
   "cell_type": "markdown",
   "metadata": {},
   "source": [
    "## State Machines"
   ]
  },
  {
   "cell_type": "code",
   "execution_count": null,
   "metadata": {},
   "outputs": [],
   "source": [
    "class State(BaseModel):\n",
    "    \"\"\"State model for traffic light controller.\n",
    "\n",
    "    Args:\n",
    "        color (Optional[str]): Current color of the traffic light. Must be one of\n",
    "            \"🟢 Green\", \"🟡 Yellow\", or \"🔴 Red\" if provided.\n",
    "        repeat_mode (bool): Whether to repeat the traffic light cycle.\n",
    "        messages (list[str]): List of messages for the controller.\n",
    "        counter (int): Counter for the number of cycles.\n",
    "\n",
    "    \"\"\"\n",
    "\n",
    "    color: Literal[\"\\U0001f7e2 Green\", \"\\U0001f7e1 Yellow\", \"🔴 Red\"] | None = None\n",
    "    repeat_mode: bool\n",
    "    messages: Annotated[list[str], add] = []\n",
    "    counter: Annotated[int, add] = 0"
   ]
  },
  {
   "cell_type": "code",
   "execution_count": null,
   "metadata": {},
   "outputs": [],
   "source": [
    "def green_light(state: State) -> dict[str, str | list[str] | int]:\n",
    "    \"\"\"Handle the green light state for the traffic light controller.\n",
    "\n",
    "    Args:\n",
    "        state (State): The current state of the traffic light.\n",
    "\n",
    "    Returns:\n",
    "        dict: Dictionary containing the color, messages, and counter.\n",
    "\n",
    "    \"\"\"\n",
    "    color = \"🟢 Green\"\n",
    "    wait_time = 60\n",
    "    message = f\"{color} Light! Traffic allowed for {wait_time} seconds...\"\n",
    "    messages = [message]\n",
    "    # Use state.counter to increment the counter\n",
    "    counter = state.counter + 1 if hasattr(state, \"counter\") else 1\n",
    "    return {\"color\": color, \"messages\": messages, \"counter\": counter}\n",
    "\n",
    "\n",
    "def yellow_light(state: State) -> dict[str, str | list[str]]:\n",
    "    \"\"\"Handle the yellow light state for the traffic light controller.\n",
    "\n",
    "    Args:\n",
    "        state (State): The current state of the traffic light.\n",
    "\n",
    "    Returns:\n",
    "        dict: Dictionary containing the color and messages.\n",
    "\n",
    "    \"\"\"\n",
    "    color = \"🟡 Yellow\"\n",
    "    wait_time = 3\n",
    "    message = f\"{color} Light! Traffic will change in {wait_time} seconds...\"\n",
    "    messages = [message]\n",
    "    # Optionally, append previous messages if present\n",
    "    if hasattr(state, \"messages\") and state.messages:\n",
    "        messages = state.messages + messages\n",
    "    return {\"color\": color, \"messages\": messages}\n",
    "\n",
    "\n",
    "def red_light(state: State) -> dict[str, str | list[str]]:\n",
    "    \"\"\"Handle the red light state for the traffic light controller.\n",
    "\n",
    "    Args:\n",
    "        state (State): The current state of the traffic light.\n",
    "\n",
    "    Returns:\n",
    "        dict: Dictionary containing the color and messages.\n",
    "\n",
    "    \"\"\"\n",
    "    counter = state.counter  # pyright: ignore[reportUnusedVariable]\n",
    "    color = \"🔴 Red\"\n",
    "    wait_time = 15\n",
    "    message = f\"{color} Light! Traffic allowed for {wait_time} seconds...\"\n",
    "    messages = [message]\n",
    "    messages.append(\"----------------------------------------------------\")\n",
    "    return {\"color\": color, \"messages\": messages}"
   ]
  },
  {
   "cell_type": "code",
   "execution_count": null,
   "metadata": {},
   "outputs": [],
   "source": [
    "workflow = StateGraph(State)"
   ]
  },
  {
   "cell_type": "code",
   "execution_count": null,
   "metadata": {},
   "outputs": [
    {
     "data": {
      "text/plain": [
       "<langgraph.graph.state.StateGraph at 0x7f88d76a9450>"
      ]
     },
     "execution_count": 10,
     "metadata": {},
     "output_type": "execute_result"
    }
   ],
   "source": [
    "workflow.add_node(green_light)\n",
    "workflow.add_node(yellow_light)\n",
    "workflow.add_node(red_light)"
   ]
  },
  {
   "cell_type": "code",
   "execution_count": null,
   "metadata": {},
   "outputs": [
    {
     "data": {
      "text/plain": [
       "<langgraph.graph.state.StateGraph at 0x7f88d76a9450>"
      ]
     },
     "execution_count": 11,
     "metadata": {},
     "output_type": "execute_result"
    }
   ],
   "source": [
    "workflow.add_edge(START, \"green_light\")\n",
    "workflow.add_edge(\"green_light\", \"yellow_light\")\n",
    "workflow.add_edge(\"yellow_light\", \"red_light\")\n",
    "\n",
    "\n",
    "def should_repeat(state: State) -> str:\n",
    "    \"\"\"Determine whether to repeat the traffic light cycle.\n",
    "\n",
    "    Args:\n",
    "        state (State): The current state of the traffic light.\n",
    "\n",
    "    Returns:\n",
    "        str: The next node to transition to (\"green_light\" or END).\n",
    "\n",
    "    \"\"\"\n",
    "    repeat_mode = state.repeat_mode\n",
    "    counter = state.counter\n",
    "    if repeat_mode and counter <= 3:\n",
    "        return \"green_light\"\n",
    "    return END\n",
    "\n",
    "\n",
    "workflow.add_conditional_edges(\n",
    "    \"red_light\",\n",
    "    should_repeat,\n",
    "    [\"green_light\", END],\n",
    ")"
   ]
  },
  {
   "cell_type": "code",
   "execution_count": null,
   "metadata": {},
   "outputs": [
    {
     "data": {
      "image/png": "[encoded data removed]",
      "text/plain": [
       "<IPython.core.display.Image object>"
      ]
     },
     "metadata": {},
     "output_type": "display_data"
    }
   ],
   "source": [
    "graph = workflow.compile()  # pyright: ignore[reportUnknownMemberType]\n",
    "\n",
    "display(Image(graph.get_graph().draw_mermaid_png()))"
   ]
  },
  {
   "cell_type": "code",
   "execution_count": 13,
   "metadata": {},
   "outputs": [
    {
     "name": "stdout",
     "output_type": "stream",
     "text": [
      "🚦------------ TRAFFIC LIGHT CONTROLLER ------------🚦\n",
      "🟢 Green Light! Traffic allowed for 60 seconds...\n",
      "🟢 Green Light! Traffic allowed for 60 seconds...\n",
      "🟡 Yellow Light! Traffic will change in 3 seconds...\n",
      "🔴 Red Light! Traffic allowed for 15 seconds...\n",
      "----------------------------------------------------\n"
     ]
    }
   ],
   "source": [
    "print(\"🚦------------ TRAFFIC LIGHT CONTROLLER ------------🚦\")\n",
    "controller = graph.invoke({\"repeat_mode\": False})  # type: ignore  # noqa: PGH003\n",
    "for message in controller[\"messages\"]:\n",
    "    print(message)"
   ]
  },
  {
   "cell_type": "markdown",
   "metadata": {},
   "source": [
    "### O que você vai aprender nesta demonstração\n",
    "\n",
    "Nesta demonstração, vamos explorar **como criar e organizar o estado de um workflow no LangGraph**.\n",
    "Isso será feito em duas etapas principais:\n",
    "\n",
    "1. **Definição do esquema de estado**\n",
    "\n",
    "   * Usaremos **TypedDict** para casos mais simples, quando queremos apenas estruturar chaves e valores de forma leve.\n",
    "   * Usaremos **Pydantic** quando precisarmos de mais robustez, como validações automáticas e garantias de consistência nos dados.\n",
    "\n",
    "2. **Construção da máquina de estados**\n",
    "\n",
    "   * Você verá como transformar esses estados em **workflows funcionais**.\n",
    "   * Primeiro, trabalharemos com **workflows básicos**, ou seja, sequências lineares de etapas.\n",
    "   * Depois, avançaremos para **ramificações condicionais**, que permitem que o fluxo siga caminhos diferentes de acordo com a lógica do estado.\n",
    "   * Também aprenderemos a lidar com **fluxos repetitivos** (loops), muito úteis quando queremos que determinadas etapas se repitam até uma condição ser satisfeita.\n",
    "\n",
    "---\n",
    "\n",
    "👉 Em resumo: você não só vai entender **como estruturar o estado** da sua aplicação, mas também **como controlar o comportamento dinâmico do workflow** no LangGraph.\n",
    "\n",
    "---"
   ]
  },
  {
   "cell_type": "markdown",
   "metadata": {},
   "source": [
    "* TypedDict é útil para fluxos de trabalho simples e flexíveis.\n",
    "* Pydantic é essencial para fluxos de trabalho robustos e validados.\n",
    "* `LangGraph` oferece o controle e a flexibilidade necessários para construir fluxos de trabalho reais, com múltiplos caminhos e gerenciamento de estado claro."
   ]
  }
 ],
 "metadata": {
  "kernelspec": {
   "display_name": "study_langchain",
   "language": "python",
   "name": "python3"
  },
  "language_info": {
   "codemirror_mode": {
    "name": "ipython",
    "version": 3
   },
   "file_extension": ".py",
   "mimetype": "text/x-python",
   "name": "python",
   "nbconvert_exporter": "python",
   "pygments_lexer": "ipython3",
   "version": "3.13.3"
  }
 },
 "nbformat": 4,
 "nbformat_minor": 2
}
