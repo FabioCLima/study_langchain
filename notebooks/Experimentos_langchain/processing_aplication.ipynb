{
 "cells": [
  {
   "cell_type": "markdown",
   "id": "faa2556a",
   "metadata": {},
   "source": [
    "# Building a text processing application\n",
    "___\n"
   ]
  },
  {
   "cell_type": "markdown",
   "id": "9e883715",
   "metadata": {},
   "source": [
    "### Challenge\n",
    "\n",
    "`Building a text processing application that can`: "
   ]
  },
  {
   "cell_type": "markdown",
   "id": "e2ebac93",
   "metadata": {},
   "source": [
    "\n",
    "1. `reverse` a string:\n",
    "    \"hello\"-> \"olleh\"\n",
    "\n",
    "2. `convert` a string to uppercase:\n",
    "    \"hello\" -> \"HELLO\"\n",
    "\n",
    "The application should:\n",
    "\n",
    "1. Accept user input and action type\n",
    "\n",
    "2. Route to the appropriate node (reverse or upper) based on the action\n",
    "\n",
    "3. Handle invalid actions gracefully\n",
    "\n",
    "\n",
    "This will be achieved by routing the input through LangGraph nodes using a conditional edge"
   ]
  },
  {
   "cell_type": "markdown",
   "id": "548e664f",
   "metadata": {},
   "source": [
    "The arquitecture solution should start by thinking the `AgentState`.\n",
    "\n",
    "* State should have user string and the action type\n",
    "* should have two NODES: \n",
    "    1. reverse_node(State) -> given a input string, reverse the input string. \n",
    "    2. upper_node(State) -> given a input string, upper the string.\n",
    "* Handle invalid actions gracefully\n",
    "* should add logging for each node action - using loguru (simple implementation)"
   ]
  },
  {
   "cell_type": "markdown",
   "id": "a3d723fc",
   "metadata": {},
   "source": [
    "### Summary of Architecture Documentation:\n",
    "\n",
    "Your text processing application now has **professional, comprehensive documentation** for all nodes:\n",
    "\n",
    "1. **`State` class**: Complete TypedDict documentation with examples\n",
    "2. **`reverse_node`**: String reversal with logging and error handling  \n",
    "3. **`upper_node`**: Uppercase conversion with comprehensive docs\n",
    "4. **`router_node`**: Central routing logic with robust error handling\n",
    "5. **`invalid_action_node`**: Graceful fallback for invalid actions\n",
    "\n",
    "Each function follows **Google-style docstring standards** with:\n",
    "- Clear purpose descriptions\n",
    "- Detailed Args and Returns sections  \n",
    "- Practical examples\n",
    "- Important notes about behavior\n",
    "- Proper type hints with `# type: ignore` comments\n",
    "\n",
    "This creates a **well-documented, production-ready** LangGraph application that's easy to maintain and extend! 🚀"
   ]
  },
  {
   "cell_type": "code",
   "execution_count": null,
   "id": "4c458308",
   "metadata": {},
   "outputs": [],
   "source": [
    "from typing import TypedDict\n",
    "\n",
    "from IPython.display import Image\n",
    "from IPython.display import display as ipy_display\n",
    "from langgraph.graph import END, START, StateGraph\n",
    "from loguru import logger"
   ]
  },
  {
   "cell_type": "markdown",
   "id": "1901c6dd",
   "metadata": {},
   "source": [
    "The state must have all the information that needs to flow from one NODE to another in order to get the job done."
   ]
  },
  {
   "cell_type": "code",
   "execution_count": null,
   "id": "5dcc44d9",
   "metadata": {},
   "outputs": [
    {
     "data": {
      "text/plain": [
       "1"
      ]
     },
     "execution_count": 2,
     "metadata": {},
     "output_type": "execute_result"
    }
   ],
   "source": [
    "# Configuração básica do logger (apenas console)\n",
    "logger.remove()  # remove configuração padrão\n",
    "logger.add(lambda msg: print(msg, end=\"\"))  # imprime no notebook sem duplicar"
   ]
  },
  {
   "cell_type": "code",
   "execution_count": null,
   "id": "ab315e0d",
   "metadata": {},
   "outputs": [],
   "source": [
    "class State(TypedDict):\n",
    "    \"\"\"State management for the text processing application.\n",
    "\n",
    "    This class defines the state structure for LangGraph nodes in the text processing\n",
    "    workflow. The state contains all necessary information that flows between nodes to\n",
    "    complete text transformation operations.\n",
    "\n",
    "    Attributes:\n",
    "        user_string (str): The input text string to be processed. This is\n",
    "        the raw text that will undergo transformation based on the specified action type.\n",
    "\n",
    "        action_type (str): The type of text processing operation to perform.\n",
    "            Valid values are:\n",
    "                - \"reverse\": Reverses the character order of the input string\n",
    "                - \"upper\": Converts all characters in the string to uppercase\n",
    "\n",
    "    Example:\n",
    "        >>> state = State(\n",
    "        ...     user_string=\"hello world\",\n",
    "        ...     action_type=\"reverse\"\n",
    "        ... )\n",
    "        >>> # This state will be processed by the reverse_node\n",
    "\n",
    "    Note:\n",
    "        This TypedDict is used by LangGraph to maintain type safety and ensure\n",
    "        consistent data flow between processing nodes. Invalid action_type\n",
    "        values will be handled gracefully by the router function.\n",
    "\n",
    "    \"\"\"\n",
    "\n",
    "    user_string: str\n",
    "    action_type: str"
   ]
  },
  {
   "cell_type": "markdown",
   "id": "edc05c6c",
   "metadata": {},
   "source": [
    "#### 1. Reverse Node"
   ]
  },
  {
   "cell_type": "code",
   "execution_count": null,
   "id": "ca54aa12",
   "metadata": {},
   "outputs": [],
   "source": [
    "def reverse_node(state: State) -> State:\n",
    "    \"\"\"Reverse the input string.\n",
    "\n",
    "    This function takes the current state, extracts the user_string, reverses it,\n",
    "    and updates the state with the reversed string.\n",
    "\n",
    "    Args:\n",
    "        state: The current state of the application, containing the user_string\n",
    "            to be reversed.\n",
    "\n",
    "    Returns:\n",
    "        The updated state with the reversed user_string.\n",
    "\n",
    "    Example:\n",
    "        >>> input_state = {\"user_string\": \"hello world\", \"action_type\": \"reverse\"}\n",
    "        >>> result = reverse_node(input_state)\n",
    "        >>> print(result[\"user_string\"])\n",
    "        'dlrow olleh'\n",
    "\n",
    "    Note:\n",
    "        This function uses Python's string slicing to reverse the input string.\n",
    "\n",
    "    \"\"\"\n",
    "    user_string = state[\"user_string\"]\n",
    "    logger.info(f\"Input string: {user_string}\")\n",
    "\n",
    "    reversed_string = user_string[::-1]\n",
    "    logger.debug(f\"Reversed string: {reversed_string}\")\n",
    "\n",
    "    new_state = {\"user_string\": reversed_string}\n",
    "    logger.success(\"State updated successfully\")\n",
    "    return new_state  # type: ignore"
   ]
  },
  {
   "cell_type": "markdown",
   "id": "51b9a29c",
   "metadata": {},
   "source": [
    "#### 2. Upper Node"
   ]
  },
  {
   "cell_type": "code",
   "execution_count": null,
   "id": "5d91a80b",
   "metadata": {},
   "outputs": [],
   "source": [
    "def upper_node(state: State) -> State:\n",
    "    \"\"\"Convert the input string to uppercase.\n",
    "\n",
    "    This function takes the current state, extracts the user_string, converts it\n",
    "    to uppercase, and updates the state with the uppercased string.\n",
    "\n",
    "    Args:\n",
    "        state: The current state of the application, containing the user_string\n",
    "            to be converted to uppercase.\n",
    "\n",
    "    Returns:\n",
    "        The updated state with the uppercased user_string.\n",
    "\n",
    "    Example:\n",
    "        >>> input_state = {\"user_string\": \"hello world\", \"action_type\": \"upper\"}\n",
    "        >>> result = upper_node(input_state)\n",
    "        >>> print(result[\"user_string\"])\n",
    "        'HELLO WORLD'\n",
    "\n",
    "    Note:\n",
    "        This function uses Python's str.upper() method which converts all\n",
    "        cased characters to uppercase. Non-alphabetic characters remain unchanged.\n",
    "        The function logs the transformation process for debugging purposes.\n",
    "\n",
    "    \"\"\"\n",
    "    user_string = state[\"user_string\"]\n",
    "    logger.info(f\"Input string: {user_string}\")\n",
    "\n",
    "    upper_string = user_string.upper()\n",
    "    logger.debug(f\"Uppercased string: {upper_string}\")\n",
    "\n",
    "    new_state = {\"user_string\": upper_string}\n",
    "    logger.success(\"State updated successfully\")\n",
    "    return new_state  # type: ignore"
   ]
  },
  {
   "cell_type": "markdown",
   "id": "94d9bc2f",
   "metadata": {},
   "source": [
    "#### 3. Router Node\n",
    "____\n",
    "\n",
    "##### **What is a Router Node?**\n",
    "\n",
    "In LangGraph, a router is a special type of node that controls the flow of execution within the graph. Think of it as a \"traffic cop\" or a conditional if/else statement. Its job is to decide which node (or nodes) should be executed next based on the current state of the graph.\n",
    "\n",
    "This allows you to create complex, non-linear workflows with branches and cycles, which is essential for building sophisticated agents and multi-step chains.\n",
    "\n",
    "The core mechanism is simple:\n",
    "\n",
    "1. A router is a function that takes the current `state` object as input.\n",
    "2. Inside the function, you write the logic to inspect the state.\n",
    "3. Based on that logic, the function returns a string (or a list of strings).\n",
    "4. This returned string's value determines which downstream node to execute next.\n",
    "\n",
    "#### **How to Implement a Router**\n",
    "\n",
    "Implementing a router involves two main steps.\n",
    "\n",
    "1. **Write the Router Function**: This is a standard Python function that contains your conditional logic.\n",
    "2. **Wire it into the Graph**: You use the .add_conditional_edges() method on your graph object to connect the router's output to other nodes."
   ]
  },
  {
   "cell_type": "code",
   "execution_count": null,
   "id": "4195653c",
   "metadata": {},
   "outputs": [],
   "source": [
    "def router_node(state: State) -> str:\n",
    "    \"\"\"Route input based on action_type.\n",
    "\n",
    "    Args:\n",
    "        state (State): Current workflow state with:\n",
    "            - user_string (str): Text to process\n",
    "            - action_type (str): Either \"reverse\" or \"upper\"\n",
    "\n",
    "    Returns:\n",
    "        str: Next node name:\n",
    "            - \"reverse_node\" → reverse the string\n",
    "            - \"upper_node\" → convert to uppercase\n",
    "            - \"invalid_action_node\" → for unknown or missing action_type\n",
    "\n",
    "    Note:\n",
    "        All errors are caught and logged. The function never raises exceptions.\n",
    "\n",
    "    \"\"\"\n",
    "    try:\n",
    "        action_type = state.get(\"action_type\")\n",
    "\n",
    "        if not action_type:\n",
    "            warning_message = \"No action_type provided in state. Routing to \\\n",
    "            'invalid_action'.\"\n",
    "            logger.warning(\"warning_message: {}\", warning_message)\n",
    "            return \"invalid_action\"\n",
    "\n",
    "        if action_type == \"reverse\":\n",
    "            return \"reverse_node\"\n",
    "        if action_type == \"upper\":\n",
    "            return \"upper_node\"\n",
    "        error_message = (\n",
    "            f\"Unknown action_type: {action_type}. Routing to 'invalid_action'.\"\n",
    "        )\n",
    "        logger.error(f\"error_message: {error_message}\")\n",
    "        return \"invalid_action\"\n",
    "\n",
    "    except Exception:\n",
    "        error_message = \"Exception occurred in router_node: {e}\"\n",
    "        logger.exception(f\"error_message: {error_message}\")\n",
    "        return \"invalid_action\""
   ]
  },
  {
   "cell_type": "markdown",
   "id": "b7000e45",
   "metadata": {},
   "source": [
    "### Workflow \n",
    "___\n",
    "\n",
    "We'll use `StateGraph` to wire everything together. That tells the LangGraph how the state should flow from one node to the next.\n",
    "\n",
    "1. Instantiate the Graph: We'll create an instance of StateGraph and pass our State class to it.\n",
    "\n",
    "2. Add Nodes: We'll add each of our functions (reverse_node, upper_node) as a node in the graph, giving each one a unique name.\n",
    "\n",
    "3. Set the Entry Point: We need to tell the graph where to start. Our starting point will be the router_node.\n",
    "\n",
    "4. Add Conditional Edges: This is the most crucial step. We'll connect our router_node to the other nodes. The router's return value (\"reverse_node\" or \"upper_node\") will determine which path the graph takes. We will also define a fallback node for invalid actions.\n",
    "\n",
    "5. Add Final Edges: After the reverse_node or upper_node finishes its work, the process should end. We'll connect both of them to the special END node.\n",
    "\n",
    "6. Compile the Graph: Finally, we compile our graph definition into a runnable application."
   ]
  },
  {
   "cell_type": "code",
   "execution_count": null,
   "id": "89d2aee4",
   "metadata": {},
   "outputs": [],
   "source": [
    "# First, create the missing invalid_action_node function\n",
    "def invalid_action_node(state: State) -> State:\n",
    "    \"\"\"Handle invalid or unknown action types gracefully.\n",
    "\n",
    "    This function serves as a fallback mechanism when the router encounters\n",
    "    an action_type that doesn't match any valid processing operations. It\n",
    "    creates a user-friendly error message and logs the incident for debugging\n",
    "    purposes, ensuring the application doesn't crash on invalid inputs.\n",
    "\n",
    "    Args:\n",
    "        state (State): The current state containing:\n",
    "            - user_string (str): The original input string that was to be processed.\n",
    "            - action_type (str): The invalid action type that caused the routing\n",
    "              to this fallback node.\n",
    "\n",
    "    Returns:\n",
    "        State: A new state dictionary containing:\n",
    "            - user_string (str): An error message indicating the invalid action\n",
    "              and the original string that was attempted to be processed.\n",
    "            - action_type (str): The original invalid action_type for reference.\n",
    "\n",
    "    Example:\n",
    "        >>> invalid_state = {\"user_string\": \"test\", \"action_type\": \"unknown\"}\n",
    "        >>> result = invalid_action_node(invalid_state)\n",
    "        >>> print(result[\"user_string\"])\n",
    "        \"❌ Invalid action 'unknown' for string 'test'\"\n",
    "\n",
    "    Note:\n",
    "        This function is crucial for application robustness. It prevents the\n",
    "        workflow from failing when users provide unexpected action types and\n",
    "        provides clear feedback about what went wrong. All error cases are\n",
    "        logged with appropriate severity levels.\n",
    "\n",
    "    \"\"\"\n",
    "    action_type = state.get(\"action_type\", \"unknown\")\n",
    "    user_string = state.get(\"user_string\", \"\")\n",
    "\n",
    "    error_msg = f\"❌ Invalid action '{action_type}' for string '{user_string}'\"\n",
    "    logger.error(f\"🚫 Invalid action encountered: {action_type}\")\n",
    "    logger.warning(\"💡 Valid actions are: 'reverse', 'upper'\")\n",
    "\n",
    "    return {\"user_string\": error_msg, \"action_type\": action_type}"
   ]
  },
  {
   "cell_type": "code",
   "execution_count": null,
   "id": "a6217fcf",
   "metadata": {},
   "outputs": [
    {
     "name": "stdout",
     "output_type": "stream",
     "text": [
      "✅ Workflow compiled successfully!\n"
     ]
    }
   ],
   "source": [
    "# 1. Instantiate the graph\n",
    "workflow = StateGraph(State)\n",
    "\n",
    "# 2. Add the processing nodes\n",
    "workflow.add_node(\"reverse_node\", reverse_node)\n",
    "workflow.add_node(\"upper_node\", upper_node)\n",
    "workflow.add_node(\"invalid_action_node\", invalid_action_node)\n",
    "\n",
    "# 3. Add conditional edges using the lecture format\n",
    "\"\"\"\n",
    "Using a dictionary is the more flexible and explicit method. You should use it when the\n",
    "strings returned by your path function do not exactly match the names of your \n",
    "destination nodes, or when you want your code to be more readable.\n",
    "\"\"\"\n",
    "workflow.add_conditional_edges(\n",
    "    source=START,\n",
    "    path=router_node,  # Your router function\n",
    "    path_map={\n",
    "        # \"output_from_router\": \"name_of_node_to_go_to\"\n",
    "        \"reverse_node\": \"reverse_node\",\n",
    "        \"upper_node\": \"upper_node\",\n",
    "        \"invalid_action\": \"invalid_action_node\",  # <--- THIS IS THE FIX\n",
    "    },\n",
    ")\n",
    "\n",
    "# 4. Add edges from processing nodes to the end\n",
    "workflow.add_edge(\"reverse_node\", END)\n",
    "workflow.add_edge(\"upper_node\", END)\n",
    "workflow.add_edge(\"invalid_action_node\", END)\n",
    "\n",
    "# 5. Compile the graph\n",
    "graph = workflow.compile()\n",
    "\n",
    "print(\"✅ Workflow compiled successfully!\")"
   ]
  },
  {
   "cell_type": "code",
   "execution_count": null,
   "id": "ec4c84c3",
   "metadata": {},
   "outputs": [
    {
     "data": {
      "image/png": "[encoded data removed]",
      "text/plain": [
       "<IPython.core.display.Image object>"
      ]
     },
     "metadata": {},
     "output_type": "display_data"
    }
   ],
   "source": [
    "# You may need to install the necessary libraries first\n",
    "# pip install pygraphviz\n",
    "\n",
    "try:\n",
    "    # This line gets the graph structure and renders it as a PNG image\n",
    "    png_image = graph.get_graph().draw_png()\n",
    "\n",
    "    # This line displays the image in your notebook's output\n",
    "    ipy_display(Image(png_image))\n",
    "\n",
    "except Exception as e:\n",
    "    print(f\"Error drawing graph: {e}\")\n",
    "    print(\"Please ensure you have installed both 'graphviz' and 'pygraphviz'.\")\n",
    "    print(\"For Ubuntu/Debian: sudo apt-get install graphviz\")\n",
    "    print(\"For macOS (using Homebrew): brew install graphviz\")"
   ]
  },
  {
   "cell_type": "code",
   "execution_count": null,
   "id": "6c2d5ce3",
   "metadata": {},
   "outputs": [
    {
     "data": {
      "image/png": "[encoded data removed]",
      "text/plain": [
       "<IPython.core.display.Image object>"
      ]
     },
     "metadata": {},
     "output_type": "display_data"
    }
   ],
   "source": [
    "ipy_display(Image(graph.get_graph().draw_mermaid_png()))"
   ]
  },
  {
   "cell_type": "code",
   "execution_count": null,
   "id": "de7d2e7b",
   "metadata": {},
   "outputs": [
    {
     "name": "stdout",
     "output_type": "stream",
     "text": [
      "🚀 Starting workflow with input: {'user_string': 'LangGraph is powerful', 'action_type': 'reverse'}\n",
      "2025-09-16 11:34:46.752 | INFO     | __main__:reverse_node:25 - Input string: LangGraph is powerful\n",
      "2025-09-16 11:34:46.752 | DEBUG    | __main__:reverse_node:28 - Reversed string: lufrewop si hparGgnaL\n",
      "2025-09-16 11:34:46.752 | SUCCESS  | __main__:reverse_node:31 - State updated successfully\n",
      "✅ Workflow finished. Final state: {'user_string': 'lufrewop si hparGgnaL', 'action_type': 'reverse'}\n"
     ]
    }
   ],
   "source": [
    "# 1. Define the user's input as a dictionary\n",
    "# The keys MUST match the keys in your State class\n",
    "user_input = {\n",
    "    \"user_string\": \"LangGraph is powerful\",\n",
    "    \"action_type\": \"reverse\",  # You can change this to \"upper\" or something invalid to test\n",
    "}\n",
    "\n",
    "# 2. Execute the workflow by calling .invoke() with the input\n",
    "print(f\"🚀 Starting workflow with input: {user_input}\")\n",
    "final_state = graph.invoke(user_input)\n",
    "\n",
    "# 3. The output is the final state of the graph\n",
    "print(f\"✅ Workflow finished. Final state: {final_state}\")"
   ]
  },
  {
   "cell_type": "code",
   "execution_count": null,
   "id": "ccb779ba",
   "metadata": {},
   "outputs": [
    {
     "name": "stdout",
     "output_type": "stream",
     "text": [
      "🚀 Starting workflow with input: {'user_string': 'LangGraph is powerful', 'action_type': 'upper'}\n",
      "2025-09-16 11:34:46.761 | INFO     | __main__:upper_node:26 - Input string: LangGraph is powerful\n",
      "2025-09-16 11:34:46.761 | DEBUG    | __main__:upper_node:29 - Uppercased string: LANGGRAPH IS POWERFUL\n",
      "2025-09-16 11:34:46.761 | SUCCESS  | __main__:upper_node:32 - State updated successfully\n",
      "✅ Workflow finished. Final state: {'user_string': 'LANGGRAPH IS POWERFUL', 'action_type': 'upper'}\n"
     ]
    }
   ],
   "source": [
    "# 1. Define the user's input as a dictionary\n",
    "# The keys MUST match the keys in your State class\n",
    "user_input = {\n",
    "    \"user_string\": \"LangGraph is powerful\",\n",
    "    \"action_type\": \"upper\",  # You can change this to \"upper\" or something invalid to test\n",
    "}\n",
    "\n",
    "# 2. Execute the workflow by calling .invoke() with the input\n",
    "print(f\"🚀 Starting workflow with input: {user_input}\")\n",
    "final_state = graph.invoke(user_input)\n",
    "\n",
    "# 3. The output is the final state of the graph\n",
    "print(f\"✅ Workflow finished. Final state: {final_state}\")"
   ]
  },
  {
   "cell_type": "code",
   "execution_count": null,
   "id": "966e2f31",
   "metadata": {},
   "outputs": [
    {
     "name": "stdout",
     "output_type": "stream",
     "text": [
      "🚀 Starting workflow with input: {'user_string': 'LangGraph is powerful', 'action_type': 'lower'}\n",
      "2025-09-16 11:34:46.769 | ERROR    | __main__:router_node:35 - error_message: Unknown action_type: lower. Routing to 'invalid_action'.\n",
      "2025-09-16 11:34:46.769 | ERROR    | __main__:invalid_action_node:38 - 🚫 Invalid action encountered: lower\n",
      "2025-09-16 11:34:46.769 | WARNING  | __main__:invalid_action_node:39 - 💡 Valid actions are: 'reverse', 'upper'\n",
      "✅ Workflow finished. Final state: {'user_string': \"❌ Invalid action 'lower' for string 'LangGraph is powerful'\", 'action_type': 'lower'}\n"
     ]
    }
   ],
   "source": [
    "# 1. Define the user's input as a dictionary\n",
    "# The keys MUST match the keys in your State class\n",
    "user_input = {\n",
    "    \"user_string\": \"LangGraph is powerful\",\n",
    "    \"action_type\": \"lower\",  # You can change this to \"upper\" or something invalid to test\n",
    "}\n",
    "\n",
    "# 2. Execute the workflow by calling .invoke() with the input\n",
    "print(f\"🚀 Starting workflow with input: {user_input}\")\n",
    "final_state = graph.invoke(user_input)\n",
    "\n",
    "# 3. The output is the final state of the graph\n",
    "print(f\"✅ Workflow finished. Final state: {final_state}\")"
   ]
  },
  {
   "cell_type": "markdown",
   "id": "a302851c",
   "metadata": {},
   "source": [
    "**From the one of mentors of the course**\n",
    "\n",
    "\n",
    "Thank you for sharing your approach and the context behind it. I think it’s great that you’re applying tools like ruff and treating the notebooks as small projects—this shows strong initiative and a professional mindset. Even if your graph differs from the lecture example, what matters is that you’ve understood the workflow and implemented a consistent, working solution.\n",
    "\n",
    "To deepen your knowledge, I’d recommend:\n",
    "\n",
    "Experimenting with different LangGraph state structures and how nodes update/access state.\n",
    "Exploring prompt design variations—especially around summarization and quiz generation.\n",
    "Practicing error handling and logging in your workflows to make them production-ready.\n",
    "It’s also perfectly fine that you used your own OpenAI key when the course key didn’t work—good workaround!\n",
    "\n",
    "Keep iterating the way you’ve been doing; you’re on the right track."
   ]
  },
  {
   "cell_type": "markdown",
   "id": "2149cd73",
   "metadata": {},
   "source": [
    "-----\n",
    "\n",
    "## Diferenças e Quando Usar Cada Abordagem\n",
    "\n",
    "Sua intuição está perfeita: a escolha entre as duas funções se resume a **onde** a sua decisão acontece no grafo.\n",
    "\n",
    "### 1\\. A Ferramenta Especialista: `set_conditional_entry_point`\n",
    "\n",
    "  * **Quando Usar:** Use esta função quando a **primeira coisa** que seu grafo precisa fazer é tomar uma decisão. Ela é projetada especificamente para este cenário.\n",
    "  * **Intuição:** Pense em um fluxograma que começa com um losango de decisão (💎), e não com um retângulo de processo (📋).\n",
    "  * **Vantagem:** Legibilidade. O nome da função (`set_conditional_entry_point`) documenta exatamente a intenção: o ponto de entrada do grafo *é* uma condição. É autoexplicativo.\n",
    "\n",
    "### 2\\. A Ferramenta Universal: `add_conditional_edges`\n",
    "\n",
    "  * **Quando Usar:** Use esta função para **todas as outras situações** de ramificação que acontecem **após pelo menos um nó já ter sido executado**.\n",
    "  * **Intuição:** Pense em um fluxograma que começa com um ou mais retângulos de processo (📋 -\\> 📋) e *depois* chega a um losango de decisão (💎).\n",
    "  * **Vantagem:** Flexibilidade. É a ferramenta principal para criar fluxos complexos com múltiplas decisões ao longo do caminho. Você pode criar uma ramificação a partir de qualquer nó do seu grafo.\n",
    "\n",
    "### Tabela Resumo\n",
    "\n",
    "| Cenário de Uso | Função Recomendada | Exemplo de Código |\n",
    "| :--- | :--- | :--- |\n",
    "| **O grafo começa com uma decisão.** | `set_conditional_entry_point` | `grafo.set_conditional_entry_point(meu_router, ...)` |\n",
    "| **Uma decisão ocorre no meio do fluxo, após um nó.** | `add_conditional_edges` | `grafo.add_conditional_edges(\"nó_anterior\", meu_router, ...)` |\n",
    "\n",
    "Em resumo: sua análise estava correta. Use a ferramenta mais específica e legível para o trabalho. Se o grafo começa com uma decisão, `set_conditional_entry_point` é o ideal. Para todas as outras decisões no meio do fluxo, `add_conditional_edges` é a sua ferramenta principal."
   ]
  }
 ],
 "metadata": {
  "kernelspec": {
   "display_name": ".venv",
   "language": "python",
   "name": "python3"
  },
  "language_info": {
   "codemirror_mode": {
    "name": "ipython",
    "version": 3
   },
   "file_extension": ".py",
   "mimetype": "text/x-python",
   "name": "python",
   "nbconvert_exporter": "python",
   "pygments_lexer": "ipython3",
   "version": "3.13.3"
  }
 },
 "nbformat": 4,
 "nbformat_minor": 5
}
