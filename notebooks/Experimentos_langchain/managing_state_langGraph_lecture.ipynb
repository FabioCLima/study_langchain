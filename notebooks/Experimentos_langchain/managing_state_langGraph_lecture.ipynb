{
 "cells": [
  {
   "cell_type": "markdown",
   "id": "71f7eda1",
   "metadata": {},
   "source": [
    "### Gerenciando Estado no LangGraph\n",
    "____"
   ]
  },
  {
   "cell_type": "markdown",
   "id": "dbbd3507",
   "metadata": {},
   "source": [
    "O gerenciamento de estado é essencial em fluxos de trabalho com LangGraph, onde um StateGraph rastreia entradas, saídas e dados intermediários.\n",
    "Entender como definir e gerenciar o estado corretamente melhora a confiabilidade e o controle em workflows baseados em IA."
   ]
  },
  {
   "cell_type": "markdown",
   "id": "adf62ff8",
   "metadata": {},
   "source": [
    "#### **Máquinas de Estado e LangGraph**\n",
    "\n",
    "Sistemas baseados em estado não são novidade.\n",
    "Máquinas de Estado — como controladores de semáforo — mudam entre estados pré-definidos com base em lógica e condições.\n",
    "\n",
    "No LangGraph, os fluxos seguem a mesma ideia:\n",
    "\n",
    "* Nodes (nós) representam estados. - é uma função ou objeto `Runnable` que\n",
    "representa uma unidade de trabalho.\n",
    "\n",
    "* Edges (arestas) definem as transições entre eles.\n",
    "\n",
    "📌 Exemplo simples de máquina de estados (semáforo):"
   ]
  },
  {
   "cell_type": "code",
   "execution_count": null,
   "id": "1ce03e18",
   "metadata": {},
   "outputs": [
    {
     "name": "stdout",
     "output_type": "stream",
     "text": [
      "Current: green\n",
      "Current: yellow\n",
      "Current: red\n",
      "Current: green\n"
     ]
    }
   ],
   "source": [
    "traffic_light = {\"green\": \"yellow\", \"yellow\": \"red\", \"red\": \"green\"}\n",
    "\n",
    "state = \"green\"\n",
    "for _ in range(4):\n",
    "    print(f\"Current: {state}\")\n",
    "    state = traffic_light[state]"
   ]
  },
  {
   "cell_type": "markdown",
   "id": "5927aaf9",
   "metadata": {},
   "source": [
    "#### Definindo Schemas de Estado:\n",
    "___"
   ]
  },
  {
   "cell_type": "markdown",
   "id": "db0203c6",
   "metadata": {},
   "source": [
    "Schemas de estado definem quais dados são armazenados e atualizados à medida que o fluxo de trabalho roda.\n",
    "\n",
    "Duas abordagens comuns:\n",
    "\n",
    "1. TypedDict\n",
    "\n",
    "2. Pydantic"
   ]
  },
  {
   "cell_type": "code",
   "execution_count": null,
   "id": "666b84ea",
   "metadata": {},
   "outputs": [
    {
     "name": "stdout",
     "output_type": "stream",
     "text": [
      "{'user_string': 'hello', 'action_type': 'reverse'}\n"
     ]
    }
   ],
   "source": [
    "from typing import TypedDict\n",
    "\n",
    "\n",
    "class State(TypedDict):\n",
    "    \"\"\"TypedDict representing the state with user_string and action_type.\n",
    "\n",
    "    Args:\n",
    "        user_string (str): The input string from the user.\n",
    "        action_type (str): The type of action to perform on the user_string.\n",
    "\n",
    "    \"\"\"\n",
    "\n",
    "    user_string: str\n",
    "    action_type: str\n",
    "\n",
    "\n",
    "# Exemplo de uso\n",
    "state: State = {\"user_string\": \"hello\", \"action_type\": \"reverse\"}\n",
    "print(state)"
   ]
  },
  {
   "cell_type": "markdown",
   "id": "628416b6",
   "metadata": {},
   "source": [
    "* Usando `Pydantic` * (mais robusto e com validação)"
   ]
  },
  {
   "cell_type": "code",
   "execution_count": null,
   "id": "acfa88bc",
   "metadata": {},
   "outputs": [
    {
     "name": "stdout",
     "output_type": "stream",
     "text": [
      "{'user_string': 'hello', 'action_type': 'reverse'}\n"
     ]
    }
   ],
   "source": [
    "from pydantic import BaseModel, ValidationError\n",
    "\n",
    "\n",
    "class State(BaseModel):\n",
    "    \"\"\"A pydantic class representing the state with user_string and action_type.\n",
    "\n",
    "    Args:\n",
    "        user_string (str): The input string from the user.\n",
    "        action_type (str): The type of action to perform on the user_string.\n",
    "\n",
    "    \"\"\"\n",
    "\n",
    "    user_string: str\n",
    "    action_type: str\n",
    "\n",
    "\n",
    "try:\n",
    "    state = State(user_string=\"hello\", action_type=\"reverse\")\n",
    "    print(state.model_dump())\n",
    "except ValidationError as e:\n",
    "    print(\"Validation error:\", e)"
   ]
  },
  {
   "cell_type": "markdown",
   "id": "0fefe085",
   "metadata": {},
   "source": [
    "**Resumo**:\n",
    "\n",
    "* Use TypedDict → prototipagem rápida, pouca validação.\n",
    "\n",
    "* Use Pydantic → ambientes de produção, garante consistência e validação dos dados."
   ]
  },
  {
   "cell_type": "markdown",
   "id": "e6cdcb24",
   "metadata": {},
   "source": [
    "#### **Considerações Finais**\n",
    "___\n",
    "\n",
    "Ao projetar `workflows` com `LangGraph`, é **fundamental dedicar tempo para definir um estado bem estruturado**, *alinhado às necessidades da sua aplicação*.\n",
    "O `estado` não é apenas um `“lugar para guardar variáveis”`, mas sim o ``núcleo do controle do fluxo``, garantindo que cada transição entre nós siga de forma previsível."
   ]
  },
  {
   "cell_type": "markdown",
   "id": "02fe3168",
   "metadata": {},
   "source": [
    "##### Escolha da abordagem para gerenciar estado:\n",
    "\n",
    "🔹 TypedDict → quando usar?\n",
    "\n",
    "  * Ideal para casos simples e rápidos, onde você precisa apenas de uma estrutura clara de chave → valor.\n",
    "  * Serve bem em prototipagem, quando você está testando fluxos e não precisa de validação rigorosa.\n",
    "  * Exemplo: guardar apenas o texto do usuário e uma flag com a ação que será tomada."
   ]
  },
  {
   "cell_type": "code",
   "execution_count": null,
   "id": "b560df28",
   "metadata": {},
   "outputs": [
    {
     "name": "stdout",
     "output_type": "stream",
     "text": [
      "{'user_message': 'Oi LangGraph!', 'action': 'responder'}\n"
     ]
    }
   ],
   "source": [
    "from typing import TypedDict\n",
    "\n",
    "\n",
    "class SimpleState(TypedDict):\n",
    "    \"\"\"TypedDict representing the state with user_string and action_type.\n",
    "\n",
    "    Args:\n",
    "        user_string (str): The input string from the user.\n",
    "        action_type (str): The type of action to perform on the user_string.\n",
    "\n",
    "    \"\"\"\n",
    "\n",
    "    user_message: str\n",
    "    action: str\n",
    "\n",
    "\n",
    "state: SimpleState = {\"user_message\": \"Oi LangGraph!\", \"action\": \"responder\"}\n",
    "print(state)"
   ]
  },
  {
   "cell_type": "markdown",
   "id": "2e82ef72",
   "metadata": {},
   "source": [
    "🔹 Pydantic → quando usar?\n",
    "\n",
    "* Recomendado para fluxos complexos em produção, onde você precisa de validação automática dos dados.\n",
    "* Ajuda a evitar inconsistências (ex.: usuário envia um número onde você esperava texto).\n",
    "* Permite adicionar regras de negócio, tipos mais sofisticados e até validações customizadas."
   ]
  },
  {
   "cell_type": "code",
   "execution_count": null,
   "id": "5ff7ea36",
   "metadata": {},
   "outputs": [
    {
     "name": "stdout",
     "output_type": "stream",
     "text": [
      "{'user_message': 'Oi LangGraph!', 'action': 'responder'}\n",
      "Erro de validação: 1 validation error for ValidatedState\n",
      "user_message\n",
      "  String should have at least 1 character [type=string_too_short, input_value='', input_type=str]\n",
      "    For further information visit https://errors.pydantic.dev/2.11/v/string_too_short\n"
     ]
    }
   ],
   "source": [
    "from pydantic import BaseModel, Field, ValidationError\n",
    "\n",
    "\n",
    "class ValidatedState(BaseModel):\n",
    "    \"\"\"Pydantic model representing the validated state with user_message and action.\n",
    "\n",
    "    Attributes:\n",
    "        user_message (str): Mensagem enviada pelo usuário.\n",
    "        action (str): Tipo de ação a ser tomada.\n",
    "\n",
    "    \"\"\"\n",
    "\n",
    "    user_message: str = Field(\n",
    "        ..., min_length=1, description=\"Mensagem enviada pelo usuário\"\n",
    "    )\n",
    "    action: str\n",
    "\n",
    "\n",
    "# Estado válido\n",
    "state = ValidatedState(user_message=\"Oi LangGraph!\", action=\"responder\")\n",
    "print(state.model_dump())\n",
    "\n",
    "# Estado inválido → dispara erro de validação\n",
    "try:\n",
    "    invalid_state = ValidatedState(user_message=\"\", action=\"responder\")\n",
    "except ValidationError as e:\n",
    "    print(\"Erro de validação:\", e)"
   ]
  },
  {
   "cell_type": "markdown",
   "id": "84228c18",
   "metadata": {},
   "source": [
    "`O Problema`: **Por padrão, quando um nó retorna um valor para um campo do estado (como uma lista de mensagens), ele sobrescreve o valor anterior.**\n",
    "\n",
    "Excelente pergunta 🚀 — esse é um dos conceitos mais poderosos (e que às vezes passa despercebido) quando a gente começa a usar **LangGraph**: o uso de **`Annotated` com redutores**.\n",
    "Vou explicar como instrutor de **LangGraph / LangChain / Python** e depois te dar **2 exemplos práticos** para você testar.\n",
    "\n",
    "---\n",
    "\n",
    "## 📌 O Problema\n",
    "\n",
    "Por padrão, em LangGraph, quando um nó atualiza um campo do estado, ele **substitui** o valor antigo.\n",
    "\n",
    "Exemplo:\n",
    "\n",
    "* Estado inicial: `{\"messages\": [\"Oi\"]}`\n",
    "* Nó X retorna: `{\"messages\": [\"Olá\"]}`\n",
    "* Resultado: `{\"messages\": [\"Olá\"]}`\n",
    "  👉 A mensagem `\"Oi\"` foi perdida!\n",
    "\n",
    "---\n",
    "\n",
    "## 📌 A Solução: `Annotated` + redutores\n",
    "\n",
    "O **truque** é usar `typing.Annotated` com uma função redutora (como `operator.add`).\n",
    "Assim, ao invés de substituir, o LangGraph **combina o valor anterior com o novo**.\n",
    "\n",
    "* `Annotated[List[str], add]` → concatena listas\n",
    "* `Annotated[int, add]` → soma números\n",
    "\n",
    "Isso cria **estados acumulativos**, onde cada nó pode contribuir sem apagar o que já existia.\n",
    "\n",
    "---\n",
    "\n",
    "## 🔹 Exemplo 1: Acumular mensagens em uma lista\n",
    "\n",
    "```python\n",
    "from typing import List, Annotated\n",
    "from operator import add\n",
    "\n",
    "# Definindo o schema do estado\n",
    "class State(TypedDict):\n",
    "    messages: Annotated[List[str], add]\n",
    "\n",
    "# Estado inicial\n",
    "state: State = {\"messages\": [\"Oi\"]}\n",
    "\n",
    "# Nó 1 adiciona uma nova mensagem\n",
    "node1_output = {\"messages\": [\"Tudo bem?\"]}\n",
    "state[\"messages\"] = add(state[\"messages\"], node1_output[\"messages\"])\n",
    "\n",
    "# Nó 2 adiciona outra mensagem\n",
    "node2_output = {\"messages\": [\"Sim, e você?\"]}\n",
    "state[\"messages\"] = add(state[\"messages\"], node2_output[\"messages\"])\n",
    "\n",
    "print(state)\n",
    "```\n",
    "\n",
    "**Saída esperada:**\n",
    "\n",
    "```python\n",
    "{'messages': ['Oi', 'Tudo bem?', 'Sim, e você?']}\n",
    "```\n",
    "\n",
    "👉 Cada nó contribuiu, e o estado **preservou o histórico de mensagens**.\n",
    "\n",
    "---\n",
    "\n",
    "## 🔹 Exemplo 2: Acumular contagem de eventos\n",
    "\n",
    "```python\n",
    "from typing import Annotated\n",
    "from operator import add\n",
    "\n",
    "class State(TypedDict):\n",
    "    counter: Annotated[int, add]\n",
    "\n",
    "# Estado inicial\n",
    "state: State = {\"counter\": 0}\n",
    "\n",
    "# Nó green_light incrementa\n",
    "node1_output = {\"counter\": 1}\n",
    "state[\"counter\"] = add(state[\"counter\"], node1_output[\"counter\"])\n",
    "\n",
    "# Nó yellow_light incrementa\n",
    "node2_output = {\"counter\": 1}\n",
    "state[\"counter\"] = add(state[\"counter\"], node2_output[\"counter\"])\n",
    "\n",
    "# Nó red_light incrementa\n",
    "node3_output = {\"counter\": 1}\n",
    "state[\"counter\"] = add(state[\"counter\"], node3_output[\"counter\"])\n",
    "\n",
    "print(state)\n",
    "```\n",
    "\n",
    "**Saída esperada:**\n",
    "\n",
    "```python\n",
    "{'counter': 3}\n",
    "```\n",
    "\n",
    "👉 Cada nó incrementa o contador sem sobrescrever o valor anterior.\n",
    "\n",
    "---\n",
    "\n",
    "## 💡 Por que isso é genial?\n",
    "\n",
    "* Os **nós colaboram** na construção do estado.\n",
    "* Você pode guardar **histórico de mensagens**, **logs de execução** ou **estatísticas de uso** sem esforço extra.\n",
    "* É **declarativo e simples** → só anotar o tipo e pronto!"
   ]
  }
 ],
 "metadata": {
  "kernelspec": {
   "display_name": "study_langchain",
   "language": "python",
   "name": "python3"
  },
  "language_info": {
   "codemirror_mode": {
    "name": "ipython",
    "version": 3
   },
   "file_extension": ".py",
   "mimetype": "text/x-python",
   "name": "python",
   "nbconvert_exporter": "python",
   "pygments_lexer": "ipython3",
   "version": "3.13.3"
  }
 },
 "nbformat": 4,
 "nbformat_minor": 5
}
