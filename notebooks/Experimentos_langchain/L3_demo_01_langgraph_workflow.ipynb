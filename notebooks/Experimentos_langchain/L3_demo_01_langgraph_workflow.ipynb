{
 "cells": [
  {
   "cell_type": "code",
   "execution_count": null,
   "metadata": {},
   "outputs": [],
   "source": [
    "import random\n",
    "from typing import TypedDict\n",
    "\n",
    "from IPython.display import Image\n",
    "from langchain_core.messages import HumanMessage, SystemMessage\n",
    "from langchain_openai import ChatOpenAI\n",
    "from langgraph.graph import END, START, StateGraph"
   ]
  },
  {
   "cell_type": "markdown",
   "metadata": {},
   "source": [
    "**Data Processing (Sequential)** "
   ]
  },
  {
   "cell_type": "markdown",
   "metadata": {},
   "source": [
    "State é a memória compartilhada e viva do seu workflow, é a linha de trabalho, onde cada ferramenta (`NODE`)\n",
    "pega o que precisa e deixa seu resultado para a próxima."
   ]
  },
  {
   "cell_type": "code",
   "execution_count": null,
   "metadata": {},
   "outputs": [],
   "source": [
    "class State(TypedDict):\n",
    "    \"\"\"Representa o estado compartilhado que flui através do grafo de processamento.\n",
    "\n",
    "    Este dicionário atua como a memória central do workflow, onde cada nó\n",
    "    pode ler informações de etapas anteriores e escrever seus resultados para\n",
    "    etapas futuras.\n",
    "\n",
    "    Attributes:\n",
    "        input (int): O valor inicial fornecido ao grafo. Neste workflow,\n",
    "            espera-se que seja um número (int ou float) para o cálculo inicial.\n",
    "        output (int): O resultado da última operação executada. Cada nó\n",
    "            atualiza este campo com seu próprio resultado, permitindo que o\n",
    "            próximo nó o utilize.\n",
    "\n",
    "    \"\"\"\n",
    "\n",
    "    input: int\n",
    "    output: int"
   ]
  },
  {
   "cell_type": "markdown",
   "metadata": {},
   "source": [
    "`NODE`: Os nós são as funções que realizam o trabalho de fato. Cada nó é uma \"estação de trabalho\" no seu fluxo\n",
    "\n",
    "Análise Educativa: Observe o padrão fundamental em todos eles: uma função que recebe o **state** como argumento, executa sua tarefa e `retorna um dicionário apenas com as atualizações para o estado`. node_b, por exemplo, retorna {\"output\": output}, não o estado inteiro. O LangGraph cuida de fazer a \"fusão\" dessa atualização com o estado principal.\n",
    "\n"
   ]
  },
  {
   "cell_type": "markdown",
   "metadata": {},
   "source": [
    "* `Start point: Start NODE`"
   ]
  },
  {
   "cell_type": "code",
   "execution_count": null,
   "metadata": {},
   "outputs": [],
   "source": [
    "def node_a(state: State) -> State:\n",
    "    \"\"\"Processa o estado inicial adicionando um valor aleatório.\n",
    "\n",
    "    Esta função representa um \"nó\" em um grafo de processamento. Sua principal\n",
    "    responsabilidade é pegar um valor numérico do estado de entrada,\n",
    "    adicionar um deslocamento (offset) aleatório a ele e, em seguida,\n",
    "    retornar um novo estado contendo o resultado.\n",
    "\n",
    "    A função também imprime no console as etapas do seu cálculo para\n",
    "    facilitar o rastreamento e a depuração do fluxo de dados, o que é\n",
    "    uma prática muito útil ao trabalhar com sistemas complexos como LangGraph.\n",
    "\n",
    "    Exemplo de uso:\n",
    "        Se o estado de entrada for `State(input=10)` e o offset aleatório\n",
    "        gerado for `5`, a função imprimirá os detalhes da operação e\n",
    "        retornará `State(output=15)`.\n",
    "\n",
    "    Args:\n",
    "        state (State): Um objeto (provavelmente um dicionário ou TypedDict)\n",
    "            que representa o estado atual do grafo. Espera-se que este\n",
    "            objeto contenha uma chave 'input' com um valor numérico.\n",
    "\n",
    "    Returns:\n",
    "        State: Um novo objeto de estado contendo o resultado da operação.\n",
    "            A chave 'output' conterá a soma do 'input' original com o\n",
    "            offset aleatório gerado.\n",
    "\n",
    "    \"\"\"\n",
    "    input_value = state[\"input\"]\n",
    "    offset = random.randint(1, 10)\n",
    "    output = input_value + offset\n",
    "    print(f\"NODE A:\\n ->input:{input_value}\\n ->offset:{offset}\\n ->output:{output}\\n \")\n",
    "    return State(output=output)"
   ]
  },
  {
   "cell_type": "code",
   "execution_count": null,
   "metadata": {},
   "outputs": [],
   "source": [
    "def node_b(state: State):\n",
    "    input_value = state[\"output\"]\n",
    "    offset = random.randint(1, 10)\n",
    "    output = input_value + offset\n",
    "    print(f\"NODE B:\\n ->input:{input_value}\\n ->offset:{offset}\\n ->output:{output}\\n \")\n",
    "    return {\"output\": output}"
   ]
  },
  {
   "cell_type": "markdown",
   "metadata": {},
   "source": [
    "O `workflow = StateGraph(...)` é a criação da \"planta da fábrica\". As arestas (`.add_edge()`) são as \"esteiras rolantes\" que conectam as estações de trabalho em uma sequência."
   ]
  },
  {
   "cell_type": "code",
   "execution_count": null,
   "metadata": {},
   "outputs": [],
   "source": [
    "workflow = StateGraph(state_schema=State)"
   ]
  },
  {
   "cell_type": "code",
   "execution_count": null,
   "metadata": {},
   "outputs": [
    {
     "data": {
      "text/plain": [
       "<langgraph.graph.state.StateGraph at 0x7f558bc17cb0>"
      ]
     },
     "execution_count": 6,
     "metadata": {},
     "output_type": "execute_result"
    }
   ],
   "source": [
    "workflow.add_node(node_a)\n",
    "workflow.add_node(node_b)"
   ]
  },
  {
   "cell_type": "markdown",
   "metadata": {},
   "source": [
    ".add_edge é como o pathway (o caminho) entre os nós:\n",
    "\n",
    "START *----> `NODE_a`---->(add_edge) *`NODE_b`---->END\n",
    "\n",
    "O workflow começa na partida (`START`), então:\n",
    "\n",
    "1. Adicionamos uma edge para o NODE_a.\n",
    "\n",
    "2. O `NODE_a` executa seu processamento e entrega uma atualização com seus resultados (por exemplo: {'output': 8}).\n",
    "\n",
    "3. O LangGraph recebe essa atualização e modifica o Estado Inteiro, que agora está atualizado e pronto para o próximo passo.\n",
    "\n",
    "4. Adicionamos uma nova edge para ligar ao `NODE_b`.\n",
    "\n",
    "5. O `NODE_b` recebe o Estado Inteiro já atualizado pelo passo anterior, faz seu trabalho e entrega sua própria atualização.\n",
    "\n",
    "6. O LangGraph atualiza o Estado novamente.\n",
    "\n",
    "Finalmente, adicionamos uma edge ao final do workflow, END."
   ]
  },
  {
   "cell_type": "code",
   "execution_count": null,
   "metadata": {},
   "outputs": [
    {
     "data": {
      "text/plain": [
       "<langgraph.graph.state.StateGraph at 0x7f558bc17cb0>"
      ]
     },
     "execution_count": 7,
     "metadata": {},
     "output_type": "execute_result"
    }
   ],
   "source": [
    "workflow.add_edge(START, \"node_a\")\n",
    "workflow.add_edge(\"node_a\", \"node_b\")\n",
    "workflow.add_edge(\"node_b\", END)"
   ]
  },
  {
   "cell_type": "code",
   "execution_count": null,
   "metadata": {},
   "outputs": [],
   "source": [
    "graph = workflow.compile()"
   ]
  },
  {
   "cell_type": "code",
   "execution_count": null,
   "metadata": {},
   "outputs": [
    {
     "data": {
      "image/png": "[encoded data removed]",
      "text/plain": [
       "<IPython.core.display.Image object>"
      ]
     },
     "metadata": {},
     "output_type": "display_data"
    }
   ],
   "source": [
    "display(Image(graph.get_graph().draw_mermaid_png()))"
   ]
  },
  {
   "cell_type": "code",
   "execution_count": null,
   "metadata": {},
   "outputs": [
    {
     "name": "stdout",
     "output_type": "stream",
     "text": [
      "NODE A:\n",
      " ->input:1\n",
      " ->offset:6\n",
      " ->output:7\n",
      " \n",
      "NODE B:\n",
      " ->input:7\n",
      " ->offset:8\n",
      " ->output:15\n",
      " \n"
     ]
    },
    {
     "data": {
      "text/plain": [
       "{'input': 1, 'output': 15}"
      ]
     },
     "execution_count": 10,
     "metadata": {},
     "output_type": "execute_result"
    }
   ],
   "source": [
    "graph.invoke(\n",
    "    input={\n",
    "        \"input\": 1,\n",
    "    },\n",
    ")"
   ]
  },
  {
   "cell_type": "markdown",
   "metadata": {},
   "source": [
    "**Call LLMs**"
   ]
  },
  {
   "cell_type": "code",
   "execution_count": null,
   "metadata": {},
   "outputs": [
    {
     "data": {
      "text/plain": [
       "True"
      ]
     },
     "execution_count": 11,
     "metadata": {},
     "output_type": "execute_result"
    }
   ],
   "source": [
    "from dotenv import load_dotenv\n",
    "\n",
    "load_dotenv()"
   ]
  },
  {
   "cell_type": "code",
   "execution_count": null,
   "metadata": {},
   "outputs": [],
   "source": [
    "llm = ChatOpenAI(\n",
    "    model=\"gpt-4o-mini\",\n",
    "    temperature=0.0,\n",
    ")"
   ]
  },
  {
   "cell_type": "code",
   "execution_count": null,
   "metadata": {},
   "outputs": [],
   "source": [
    "class State(TypedDict):\n",
    "    \"\"\"Representa o estado do nosso grafo (workflow).\n",
    "\n",
    "    Attributes:\n",
    "        question: A pergunta a ser respondida.\n",
    "        response: A resposta gerada pelo assistente.\n",
    "\n",
    "    \"\"\"\n",
    "\n",
    "    question: str\n",
    "    response: str"
   ]
  },
  {
   "cell_type": "code",
   "execution_count": null,
   "metadata": {},
   "outputs": [],
   "source": [
    "def model(state: State) -> dict[str, str]:\n",
    "    \"\"\"Invoca o modelo de linguagem para gerar uma resposta.\n",
    "\n",
    "    Este nó do grafo recebe o estado atual, extrai a pergunta e utiliza\n",
    "    o LLM (configurado como um especialista em Pokémon) para gerar uma\n",
    "    resposta. A resposta é então adicionada ao estado.\n",
    "\n",
    "    Args:\n",
    "        state: O dicionário de estado atual, que deve conter a chave 'question'.\n",
    "\n",
    "    Returns:\n",
    "        Um dicionário contendo a chave 'response' com o conteúdo da\n",
    "        resposta gerada pelo modelo.\n",
    "\n",
    "    \"\"\"\n",
    "    question = state[\"question\"]\n",
    "    response = llm.invoke(\n",
    "        [SystemMessage(\"You're a Pokémon specialist\"), HumanMessage(question)]\n",
    "    )\n",
    "\n",
    "    return {\"response\": response.content}"
   ]
  },
  {
   "cell_type": "code",
   "execution_count": null,
   "metadata": {},
   "outputs": [],
   "source": [
    "workflow = StateGraph(State)"
   ]
  },
  {
   "cell_type": "code",
   "execution_count": null,
   "metadata": {},
   "outputs": [
    {
     "data": {
      "text/plain": [
       "<langgraph.graph.state.StateGraph at 0x7f558b34d450>"
      ]
     },
     "execution_count": 16,
     "metadata": {},
     "output_type": "execute_result"
    }
   ],
   "source": [
    "workflow.add_node(\"model\", model)"
   ]
  },
  {
   "cell_type": "code",
   "execution_count": null,
   "metadata": {},
   "outputs": [
    {
     "data": {
      "text/plain": [
       "<langgraph.graph.state.StateGraph at 0x7f558b34d450>"
      ]
     },
     "execution_count": 17,
     "metadata": {},
     "output_type": "execute_result"
    }
   ],
   "source": [
    "workflow.add_edge(START, \"model\")\n",
    "workflow.add_edge(\"model\", END)"
   ]
  },
  {
   "cell_type": "code",
   "execution_count": null,
   "metadata": {},
   "outputs": [],
   "source": [
    "graph = workflow.compile()"
   ]
  },
  {
   "cell_type": "code",
   "execution_count": null,
   "metadata": {},
   "outputs": [
    {
     "data": {
      "image/png": "[encoded data removed]",
      "text/plain": [
       "<IPython.core.display.Image object>"
      ]
     },
     "metadata": {},
     "output_type": "display_data"
    }
   ],
   "source": [
    "display(Image(graph.get_graph().draw_mermaid_png()))"
   ]
  },
  {
   "cell_type": "code",
   "execution_count": null,
   "metadata": {},
   "outputs": [],
   "source": [
    "result = graph.invoke(\n",
    "    input={\"question\": \"What's the name of Ash's first pokémon?\"},\n",
    ")"
   ]
  },
  {
   "cell_type": "code",
   "execution_count": null,
   "metadata": {},
   "outputs": [
    {
     "data": {
      "text/plain": [
       "{'question': \"What's the name of Ash's first pokémon?\",\n",
       " 'response': \"Ash's first Pokémon is Pikachu. He received Pikachu from Professor Oak at the beginning of his journey in the Pokémon anime series.\"}"
      ]
     },
     "execution_count": 21,
     "metadata": {},
     "output_type": "execute_result"
    }
   ],
   "source": [
    "result"
   ]
  },
  {
   "cell_type": "markdown",
   "metadata": {},
   "source": [
    "### Um Agente com Múltiplos Passos\n",
    "___\n",
    "\n",
    "Vamos criar um agente que executa duas tarefas de LLM em sequência, com dois nós entre o START e o END.\n",
    "\n",
    "Missão do Agente: Criar um \"`Assistente de Perguntas`\" que primeiro reformula a pergunta do usuário, para\n",
    "ser mais clara e em seguida, responde a essa nova pergunta reformulada.\n",
    "\n",
    "\n",
    "ARQUITETURA:\n",
    "    >>> Estado(State) - pergunta original, pergunta reformulada e a resposta final."
   ]
  },
  {
   "cell_type": "code",
   "execution_count": null,
   "metadata": {},
   "outputs": [],
   "source": [
    "from typing import TypedDict\n",
    "\n",
    "from IPython.display import Image, display\n",
    "from langchain_openai import ChatOpenAI\n",
    "from langgraph.graph import END, START, StateGraph\n",
    "\n",
    "# Configuração do LLM\n",
    "llm = ChatOpenAI(model=\"gpt-4o-mini\", temperature=0.0)\n",
    "\n",
    "\n",
    "# 1. Definição do Estado\n",
    "class AgentState(TypedDict):\n",
    "    \"\"\"Estado compartilhado para o Assistente de Perguntas com processamento em\n",
    "    duas etapas.\n",
    "\n",
    "    Este TypedDict representa o estado que flui através do workflow do LangGraph,\n",
    "    servindo como memória compartilhada entre os nós especializados. O assistente\n",
    "    executa um processo de duas etapas para melhorar a qualidade das respostas:\n",
    "\n",
    "    1. **Clarificação da Pergunta**: Um nó especializado recebe a pergunta\n",
    "    original e a reformula para ser mais clara, específica e bem estruturada.\n",
    "\n",
    "    2. **Resposta à Pergunta Clarificada**: Um segundo nó especializado recebe\n",
    "       a pergunta reformulada e gera uma resposta precisa e detalhada.\n",
    "\n",
    "    Esta arquitetura permite que cada LLM tenha um papel específico e otimizado,\n",
    "    resultando em respostas de maior qualidade através da especialização das\n",
    "    tarefas.\n",
    "\n",
    "    Attributes:\n",
    "        question (str): A pergunta original fornecida pelo usuário. Este é o\n",
    "            ponto de entrada do workflow e permanece inalterado para referência.\n",
    "        question_clarified (str): A versão reformulada e melhorada da pergunta\n",
    "            original. É gerada pelo primeiro nó (especialista em clarificação)\n",
    "            e serve como entrada para o segundo nó.\n",
    "        answer (str): A resposta final gerada pelo segundo nó (especialista em\n",
    "            resposta) baseada na pergunta clarificada. Este é o resultado final\n",
    "            do workflow.\n",
    "\n",
    "    Exemplo de fluxo:\n",
    "        Input: question = \"Como fazer café?\"\n",
    "        Node 1: question_clarified = \"Quais são os passos detalhados para\n",
    "                preparar café usando métodos tradicionais como coador de papel?\"\n",
    "        Node 2: answer = \"Para preparar café usando coador de papel:\n",
    "                1) Ferva água...\n",
    "\n",
    "    Note:\n",
    "        Este estado é mutável e é atualizado incrementalmente por cada nó do\n",
    "        workflow. O LangGraph gerencia automaticamente a fusão das atualizações\n",
    "        retornadas por cada nó com o estado compartilhado.\n",
    "\n",
    "    \"\"\"  # noqa: D205\n",
    "\n",
    "    original_question: str\n",
    "    question_clarified: str\n",
    "    answer: str"
   ]
  },
  {
   "cell_type": "code",
   "execution_count": null,
   "metadata": {},
   "outputs": [],
   "source": [
    "# 2. Definição dos Nós\n",
    "def reformulate_node(state: AgentState):  # noqa: ANN201  #type: ignore\n",
    "    \"\"\"Nó especializado para reformular e clarificar perguntas do usuário.\n",
    "\n",
    "    Este nó é o primeiro estágio do workflow do Assistente de Perguntas.\n",
    "    Sua função principal é receber uma pergunta original (potencialmente ambígua\n",
    "    ou mal estruturada)e reformulá-la para ser mais clara, específica e\n",
    "    otimizada para busca de informações.\n",
    "\n",
    "    O nó utiliza um LLM especializado em clarificação de perguntas,\n",
    "    seguindo um prompt estruturado que instrui o modelo a:\n",
    "    - Tornar a pergunta mais clara e direta\n",
    "    - Remover ambiguidades\n",
    "    - Otimizar para busca de informações\n",
    "    - Retornar apenas a pergunta reformulada, sem explicações adicionais\n",
    "\n",
    "    Este processo de clarificação é fundamental para melhorar a qualidade das\n",
    "    respostas finais, pois garante que o segundo nó (responsável pela resposta)\n",
    "    trabalhe com uma pergunta bem estruturada e específica.\n",
    "\n",
    "    Args:\n",
    "        state (AgentState): O estado compartilhado do workflow. Deve conter a\n",
    "        chave 'original_question' com a pergunta original do usuário.\n",
    "\n",
    "    Returns:\n",
    "        dict[str, str]: Um dicionário contendo apenas as atualizações do estado.\n",
    "            Retorna {\"question_clarified\": reformulated_question} onde\n",
    "            reformulated_question é a versão melhorada da pergunta original.\n",
    "\n",
    "    Raises:\n",
    "        KeyError: Se a chave 'original_question' não estiver presente no estado.\n",
    "        AttributeError: Se o LLM não retornar um objeto com atributo 'content'.\n",
    "\n",
    "    Example:\n",
    "        >>> state = AgentState(original_question=\"Como fazer café?\")\n",
    "        >>> result = reformulate_node(state)\n",
    "        >>> print(result)\n",
    "        {'question_clarified': 'Quais são os passos detalhados para preparar café\n",
    "    usando métodos tradicionais como coador de papel?'}\n",
    "\n",
    "    Note:\n",
    "        - Este nó segue o padrão LangGraph de retornar apenas atualizações\n",
    "        parciais do estado, não o estado completo.\n",
    "        - O LLM utilizado deve ser configurado com temperature baixa (0.0) para\n",
    "        garantir consistência nas reformulações.\n",
    "        - A função inclui logs detalhados para facilitar o debugging e\n",
    "        monitoramento do workflow.\n",
    "\n",
    "    \"\"\"  # noqa: DOC502\n",
    "    print(\"--- Entrando no NODE 1: Reformulação da Pergunta ---\")\n",
    "    original_question = state[\"original_question\"]\n",
    "\n",
    "    # * Prompt estruturado para instruir o LLM a reformular a pergunta\n",
    "    prompt = [\n",
    "        SystemMessage(\"\"\"Sua tarefa é reformular a pergunta do usuário para que \n",
    "        ela seja mais clara, direta e otimizada para uma busca de informação.\n",
    "        Retorne apenas a pergunta reformulada, sem explicações ou comentários.\n",
    "        \"\"\"),\n",
    "        HumanMessage(original_question),\n",
    "    ]\n",
    "\n",
    "    # Invocar o LLM para reformular a pergunta\n",
    "    response = llm.invoke(prompt)\n",
    "    reformulated_question = response.content  # type: ignore  # noqa: PGH003\n",
    "    print(f\"Pergunta Reformulada: {reformulated_question}\")\n",
    "\n",
    "    # Retorna a ATUALIZAÇÃO do estado (padrão LangGraph)\n",
    "    return {\"question_clarified\": reformulated_question}  # type: ignore  # noqa: PGH003"
   ]
  },
  {
   "cell_type": "markdown",
   "metadata": {},
   "source": [
    "### Segundo NODE - Answer Node\n",
    "___"
   ]
  },
  {
   "cell_type": "code",
   "execution_count": null,
   "metadata": {},
   "outputs": [],
   "source": [
    "def answer_node(state: AgentState):  # noqa: ANN201  # type: ignore\n",
    "    \"\"\"Nó especializado para gerar respostas educativas baseadas em perguntas\n",
    "    clarificadas.\n",
    "\n",
    "    Este nó é o segundo estágio do workflow do Assistente de Perguntas.\n",
    "    Sua função principal é receber uma pergunta já reformulada e clarificada\n",
    "    pelo primeiro nó e gerar uma resposta educativa, didática e detalhada.\n",
    "\n",
    "    O nó atua como um tutor especializado em Python, utilizando um LLM\n",
    "    configurado com um prompt específico que instrui o modelo a:\n",
    "    - Responder de forma clara e didática\n",
    "    - Incluir exemplos de código sempre que apropriado\n",
    "    - Estruturar a resposta de maneira educativa\n",
    "    - Fornecer explicações detalhadas e práticas\n",
    "\n",
    "    Este processo de resposta especializada aproveita a qualidade da pergunta\n",
    "    clarificada pelo primeiro nó, resultando em respostas mais precisas e úteis\n",
    "    para o usuário final.\n",
    "\n",
    "    Args:\n",
    "        state (AgentState): O estado compartilhado do workflow. Deve conter a\n",
    "        chave 'question_clarified' com a pergunta já reformulada pelo primeiro\n",
    "        nó.\n",
    "\n",
    "    Returns:\n",
    "        dict[str, str]: Um dicionário contendo apenas as atualizações do estado.\n",
    "            Retorna {\"answer\": answer} onde answer é a resposta educativa gerada\n",
    "            pelo LLM especializado em tutoria de Python.\n",
    "\n",
    "    Raises:\n",
    "        KeyError: Se a chave 'question_clarified' não estiver presente no estado.\n",
    "        AttributeError: Se o LLM não retornar um objeto com atributo 'content'.\n",
    "\n",
    "    Example:\n",
    "        >>> state = AgentState(question_clarified=\"Como implementar uma função\n",
    "        ... que calcula o fatorial de um número em Python?\")\n",
    "        >>> result = answer_node(state)\n",
    "        >>> print(result)\n",
    "        {'answer': 'Para calcular o fatorial de um número em Python, você pode\n",
    "        usar uma função recursiva...'}\n",
    "\n",
    "    Note:\n",
    "        - Este nó depende da saída do primeiro nó (reformulate_node) para\n",
    "        funcionar corretamente.\n",
    "        - O LLM é configurado com um prompt específico para tutoria de Python,\n",
    "        garantindo respostas educativas e com exemplos práticos.\n",
    "        - A função inclui logs para monitoramento, mostrando os primeiros 100\n",
    "        caracteres da resposta gerada.\n",
    "        - Segue o padrão LangGraph de retornar apenas atualizações parciais do\n",
    "        estado.\n",
    "        - A resposta final será armazenada no estado compartilhado e pode ser\n",
    "        acessada por outros componentes do sistema.\n",
    "\n",
    "    Workflow Integration:\n",
    "        Este nó é tipicamente conectado após o reformulate_node no workflow,\n",
    "        criando um pipeline de duas etapas:\n",
    "        1. Clarificação da pergunta (reformulate_node)\n",
    "        2. Geração da resposta educativa (answer_node)\n",
    "\n",
    "    \"\"\"  # noqa: D205, DOC502\n",
    "    print(\"--- ENTRANDO NO NÓ DE RESPOSTA ---\")\n",
    "    reformulated_question = state[\"question_clarified\"]\n",
    "\n",
    "    # Prompt estruturado para instruir o LLM a responder como tutor especializado\n",
    "    prompt = [\n",
    "        SystemMessage(\"\"\"Você é um tutor expert em Python. Responda de forma clara, \n",
    "        didática e sempre que possível, com exemplos de código. Estruture sua \n",
    "        resposta de maneira educativa, explicando conceitos de forma progressiva \n",
    "        e fornecendo exemplos práticos quando apropriado.\"\"\"),\n",
    "        HumanMessage(reformulated_question),\n",
    "    ]\n",
    "\n",
    "    # * Invocar o LLM para gerar a resposta educativa\n",
    "    response = llm.invoke(prompt)\n",
    "    answer = response.content  # type: ignore  # noqa: PGH003\n",
    "    print(f\"Resposta Gerada: {answer[:100]}...\")\n",
    "\n",
    "    # * Retorna a ATUALIZAÇÃO final para o estado (padrão LangGraph)\n",
    "    return {\"answer\": answer}  # type: ignore  # noqa: PGH003"
   ]
  },
  {
   "cell_type": "markdown",
   "metadata": {},
   "source": [
    "### Construção do workflow\n",
    "___"
   ]
  },
  {
   "cell_type": "code",
   "execution_count": null,
   "metadata": {},
   "outputs": [],
   "source": [
    "# * 3. Construção do Workflow\n",
    "workflow = StateGraph(AgentState)\n",
    "\n",
    "# Adiciona os nós\n",
    "workflow.add_node(\"reformulate\", reformulate_node)\n",
    "workflow.add_node(\"answer\", answer_node)\n",
    "\n",
    "# Define as arestas (o caminho)\n",
    "workflow.set_entry_point(\"reformulate\")  # O ponto de partida é o nó de reformulação\n",
    "workflow.add_edge(\n",
    "    \"reformulate\", \"answer\"\n",
    ")  # Depois de reformular, vá para o nó de resposta\n",
    "workflow.add_edge(\"answer\", END)  # Depois de responder, termine\n",
    "\n",
    "# 4. Compilação e Visualização\n",
    "graph = workflow.compile()"
   ]
  },
  {
   "cell_type": "code",
   "execution_count": null,
   "metadata": {},
   "outputs": [
    {
     "name": "stderr",
     "output_type": "stream",
     "text": [
      "Adding an edge to a graph that has already been compiled. This will not be reflected in the compiled graph.\n",
      "Adding an edge to a graph that has already been compiled. This will not be reflected in the compiled graph.\n",
      "Adding an edge to a graph that has already been compiled. This will not be reflected in the compiled graph.\n"
     ]
    },
    {
     "data": {
      "text/plain": [
       "<langgraph.graph.state.StateGraph at 0x7f558b34e5d0>"
      ]
     },
     "execution_count": 26,
     "metadata": {},
     "output_type": "execute_result"
    }
   ],
   "source": [
    "# Define as arestas (o caminho)\n",
    "workflow.set_entry_point(\"reformulate\")  # O ponto de partida é o nó de reformulação\n",
    "workflow.add_edge(\n",
    "    \"reformulate\", \"answer\"\n",
    ")  # Depois de reformular, vá para o nó de resposta\n",
    "workflow.add_edge(\"answer\", END)  # Depois de responder, termine"
   ]
  },
  {
   "cell_type": "code",
   "execution_count": null,
   "metadata": {},
   "outputs": [
    {
     "data": {
      "image/png": "[encoded data removed]",
      "text/plain": [
       "<IPython.core.display.Image object>"
      ]
     },
     "metadata": {},
     "output_type": "display_data"
    }
   ],
   "source": [
    "# 4. Compilação e Visualização\n",
    "graph = workflow.compile()\n",
    "\n",
    "# Visualizar o grafo para confirmar a estrutura\n",
    "display(Image(graph.get_graph().draw_mermaid_png()))"
   ]
  },
  {
   "cell_type": "code",
   "execution_count": null,
   "metadata": {},
   "outputs": [
    {
     "name": "stdout",
     "output_type": "stream",
     "text": [
      "--- Entrando no NODE 1: Reformulação da Pergunta ---\n",
      "Pergunta Reformulada: Como criar um decorator em Python? É necessário usar alguma biblioteca?\n",
      "--- ENTRANDO NO NÓ DE RESPOSTA ---\n",
      "Resposta Gerada: Um decorator em Python é uma função que permite modificar o comportamento de outra função ou método....\n",
      "\n",
      "--- RESULTADO FINAL ---\n",
      "Pergunta Original: Como eu crio um decorator em python, preciso de alguma biblioteca?\n",
      "Pergunta Reformulada: Como criar um decorator em Python? É necessário usar alguma biblioteca?\n",
      "Resposta: Um decorator em Python é uma função que permite modificar o comportamento de outra função ou método. Decorators são uma maneira poderosa e flexível de adicionar funcionalidades a funções existentes sem modificar seu código diretamente. \n",
      "\n",
      "### Estrutura Básica de um Decorator\n",
      "\n",
      "Um decorator é uma função que recebe outra função como argumento e retorna uma nova função que geralmente estende ou altera o comportamento da função original. Vamos ver como isso funciona passo a passo.\n",
      "\n",
      "#### Passo 1: Criando um Decorator Simples\n",
      "\n",
      "Aqui está um exemplo básico de um decorator que imprime uma mensagem antes e depois da execução de uma função:\n",
      "\n",
      "```python\n",
      "def meu_decorator(func):\n",
      "    def wrapper():\n",
      "        print(\"Antes da execução da função.\")\n",
      "        func()  # Chama a função original\n",
      "        print(\"Depois da execução da função.\")\n",
      "    return wrapper\n",
      "```\n",
      "\n",
      "#### Passo 2: Usando o Decorator\n",
      "\n",
      "Para usar o decorator que criamos, você pode aplicá-lo a uma função usando a sintaxe `@decorator_name`:\n",
      "\n",
      "```python\n",
      "@meu_decorator\n",
      "def minha_funcao():\n",
      "    print(\"Executando a função.\")\n",
      "\n",
      "# Chamando a função decorada\n",
      "minha_funcao()\n",
      "```\n",
      "\n",
      "#### Saída Esperada\n",
      "\n",
      "Quando você executar o código acima, a saída será:\n",
      "\n",
      "```\n",
      "Antes da execução da função.\n",
      "Executando a função.\n",
      "Depois da execução da função.\n",
      "```\n",
      "\n",
      "### Passo 3: Decorators com Argumentos\n",
      "\n",
      "Se a função que você está decorando aceita argumentos, você precisará modificar o `wrapper` para aceitar esses argumentos também. Veja como fazer isso:\n",
      "\n",
      "```python\n",
      "def meu_decorator(func):\n",
      "    def wrapper(*args, **kwargs):\n",
      "        print(\"Antes da execução da função.\")\n",
      "        resultado = func(*args, **kwargs)  # Chama a função original com os argumentos\n",
      "        print(\"Depois da execução da função.\")\n",
      "        return resultado  # Retorna o resultado da função original\n",
      "    return wrapper\n",
      "\n",
      "@meu_decorator\n",
      "def soma(a, b):\n",
      "    return a + b\n",
      "\n",
      "# Chamando a função decorada\n",
      "resultado = soma(5, 3)\n",
      "print(\"Resultado da soma:\", resultado)\n",
      "```\n",
      "\n",
      "#### Saída Esperada\n",
      "\n",
      "A saída será:\n",
      "\n",
      "```\n",
      "Antes da execução da função.\n",
      "Depois da execução da função.\n",
      "Resultado da soma: 8\n",
      "```\n",
      "\n",
      "### Passo 4: Usando `functools.wraps`\n",
      "\n",
      "Quando você cria um decorator, a função original perde suas propriedades, como o nome e a documentação. Para preservar essas informações, você pode usar `functools.wraps`. Aqui está como fazer isso:\n",
      "\n",
      "```python\n",
      "from functools import wraps\n",
      "\n",
      "def meu_decorator(func):\n",
      "    @wraps(func)  # Preserva o nome e a docstring da função original\n",
      "    def wrapper(*args, **kwargs):\n",
      "        print(\"Antes da execução da função.\")\n",
      "        resultado = func(*args, **kwargs)\n",
      "        print(\"Depois da execução da função.\")\n",
      "        return resultado\n",
      "    return wrapper\n",
      "\n",
      "@meu_decorator\n",
      "def multiplicacao(a, b):\n",
      "    \"\"\"Multiplica dois números.\"\"\"\n",
      "    return a * b\n",
      "\n",
      "# Chamando a função decorada\n",
      "resultado = multiplicacao(4, 5)\n",
      "print(\"Resultado da multiplicação:\", resultado)\n",
      "print(\"Nome da função:\", multiplicacao.__name__)\n",
      "print(\"Docstring da função:\", multiplicacao.__doc__)\n",
      "```\n",
      "\n",
      "#### Saída Esperada\n",
      "\n",
      "A saída será:\n",
      "\n",
      "```\n",
      "Antes da execução da função.\n",
      "Depois da execução da função.\n",
      "Resultado da multiplicação: 20\n",
      "Nome da função: multiplicacao\n",
      "Docstring da função: Multiplica dois números.\n",
      "```\n",
      "\n",
      "### Conclusão\n",
      "\n",
      "Você não precisa de bibliotecas externas para criar decorators em Python, pois a funcionalidade básica é fornecida pela linguagem. No entanto, a biblioteca `functools` é útil para preservar informações da função original. Decorators são uma ferramenta poderosa para adicionar funcionalidades a funções de maneira limpa e reutilizável. \n",
      "\n",
      "Experimente criar seus próprios decorators e veja como eles podem ajudar a organizar e melhorar seu código!\n"
     ]
    }
   ],
   "source": [
    "# 5. Execução\n",
    "pergunta_usuario = \"Como eu crio um decorator em python, preciso de alguma biblioteca?\"\n",
    "initial_state = {\"original_question\": pergunta_usuario}\n",
    "\n",
    "final_state = graph.invoke(initial_state)\n",
    "\n",
    "print(\"\\n--- RESULTADO FINAL ---\")\n",
    "print(f\"Pergunta Original: {final_state['original_question']}\")\n",
    "print(f\"Pergunta Reformulada: {final_state['question_clarified']}\")\n",
    "print(f\"Resposta: {final_state['answer']}\")"
   ]
  },
  {
   "cell_type": "markdown",
   "metadata": {},
   "source": [
    "###  Exercício Proposto: `O Agente de Viagens Inteligente`\n",
    "\n",
    "A ideia é construir um agente que cria um mini roteiro de viagem personalizado. O agente terá que tomar uma decisão (o condicional) e, para a tarefa de gerar o roteiro, ele usará uma Chain pré-definida para garantir que a saída seja sempre bem estruturada.\n",
    "\n",
    "A Missão:\n",
    "\n",
    "O agente receberá do usuário um destino (ex: \"Rio de Janeiro\") e um tipo de viagem (ex: \"praia e relaxamento\"). Com base no tipo de viagem, ele deve gerar um roteiro simples de 3 dias."
   ]
  },
  {
   "cell_type": "markdown",
   "metadata": {},
   "source": [
    "A `chain` - a ferramenta especializada\n",
    "\n",
    "Uma ferramenta específica e reutilizável: `Chain` para gerar roteiros, recebe um tema e um local e\n",
    "e entrega um roteiro em um formato JSON estruturado."
   ]
  },
  {
   "cell_type": "markdown",
   "metadata": {},
   "source": [
    "1. Definição de estado ?\n",
    "2. Configuração do LLM\n",
    "    llm = ChatOpenAI(model=\"gpt-4o-mini\", temperature=0.0)\n",
    "\n",
    "3. parser = JsonOutputToolsParser()\n",
    "4. Prompt -> LLM -> Parser(JSON)"
   ]
  },
  {
   "cell_type": "markdown",
   "metadata": {},
   "source": [
    "# Definição da classe em python.\n",
    "class AgenteDeViagens:\n",
    "    # ATRIBUTOS (O ESTADO)\n",
    "    def __init__(self, local: str, tipo_viagem: str):\n",
    "        self.local: str = local\n",
    "        self.tipo_viagem: str = tipo_viagem\n",
    "        self.roteiro: list = [] # Começa vazio"
   ]
  },
  {
   "cell_type": "markdown",
   "metadata": {},
   "source": [
    "Em **`LangGraph`** se traduz para:"
   ]
  },
  {
   "cell_type": "code",
   "execution_count": null,
   "metadata": {},
   "outputs": [],
   "source": [
    "class AgentState(TypedDict):\n",
    "    local: str\n",
    "    tipo_viagem: str\n",
    "    roteiro: list"
   ]
  },
  {
   "cell_type": "markdown",
   "metadata": {},
   "source": [
    "`NODES`: Os nós são como os métodos da nossa classe. Cada nó é uma função que realiza uma ação, lendo e modificando os \"atributos\" (o estado)."
   ]
  },
  {
   "cell_type": "code",
   "execution_count": null,
   "metadata": {},
   "outputs": [],
   "source": [
    "class AgenteDeViagens:\n",
    "    # ... atributos ...\n",
    "\n",
    "    # MÉTODOS (OS NÓS)\n",
    "    def classificar_viagem(self) -> str:\n",
    "        # Lógica para decidir o tipo de roteiro...\n",
    "        if self.tipo_viagem == \"praia\":\n",
    "            return \"roteiro_praia\"\n",
    "        return \"roteiro_aventura\"\n",
    "\n",
    "    def gerar_roteiro_praia(self):\n",
    "        # Lógica para criar um roteiro de praia...\n",
    "        tema = \"atividades relaxantes na praia e vida noturna\"\n",
    "        self.roteiro = self._ferramenta_de_roteiro(self.local, tema)\n",
    "\n",
    "    def gerar_roteiro_aventura(self):\n",
    "        # Lógica para criar um roteiro de aventura...\n",
    "        tema = \"trilhas, montanhismo e exploração\"\n",
    "        self.roteiro = self._ferramenta_de_roteiro(self.local, tema)"
   ]
  },
  {
   "cell_type": "markdown",
   "metadata": {},
   "source": [
    " No `LangGraph`serão nossos três nós: `classificar_viagem_node`, `gerar_roteiro_praia_node`, e `gerar_roteiro_aventura_node`."
   ]
  },
  {
   "cell_type": "markdown",
   "metadata": {},
   "source": [
    "Ferramenta: **\"tool calling\"**\n",
    "\n",
    "Prompt -> LLM -> Parser(JSON) \n",
    "\n",
    "`JsonOutputParser`"
   ]
  },
  {
   "cell_type": "markdown",
   "metadata": {},
   "source": [
    "Aresta Condicional do langGraph é:  if/elif/else que conecta os nós -- executa a lógica de controle principal"
   ]
  },
  {
   "cell_type": "code",
   "execution_count": null,
   "metadata": {},
   "outputs": [],
   "source": [
    "# O que a Aresta Condicional faz:\n",
    "resultado_da_classificacao = self.classificar_viagem()\n",
    "\n",
    "if resultado_da_classificacao == \"roteiro_praia\":\n",
    "    self.gerar_roteiro_praia()\n",
    "elif resultado_da_classificacao == \"roteiro_aventura\":\n",
    "    self.gerar_roteiro_aventura()"
   ]
  },
  {
   "cell_type": "markdown",
   "metadata": {},
   "source": [
    "No LangGraph, configuramos isso com a função `workflow.add_conditional_edges()`"
   ]
  },
  {
   "cell_type": "markdown",
   "metadata": {},
   "source": [
    "1. Construir a Ferramenta Especializada --(A Chain de Roteiro)--\n",
    "\n",
    "    Objetivo: Criar uma chain que recebe `local` e `tema` e sempre retorna um <u>**`dicionário`**</u>\n",
    "\n",
    "Componentes:\n",
    "    a. Parser: `JsonOutputParser`. Para torná-lo robusto, vamos definir a estrutura de saída que queremos com pydantic.\n",
    "    b. Prompt: `PromptTemplate` que instrui o LLM a criar o roteiro e a formatar a saída de acordo com a estrutura do nosso **parser**.\n",
    "    c. LLM: `ChatOpenAI`\n",
    "    d. estrutura: chain = prompt | llm | parser -> **`tool calling`**\n",
    "\n",
    "2. Definir a estrutura de dados principal: <u><span style=\"color:red; font-weight:bold\">AgentState</span></u>.\n",
    "    * <u>`TypedDict`</u> com os campos local, tipo_viagem e roteiro\n",
    "\n",
    "3. Construir os <u><span style=\"color:red; font-weight:bold\">NODES</span></u> do **LangGraph**\n",
    "    * `classificar_viagem_node`: Recebe o estado, lê tipo_viagem e retorna a string de decisão (`\"roteiro_praia\"` ou `\"roteiro_aventura\"`).\n",
    "    * `gerar_roteiro_praia_node`: Recebe o estado, define o tema **\"praia\"** e invoca a Chain do Passo 1. Retorna a atualização {\"roteiro\": ...}.\n",
    "    * `gerar_roteiro_aventura_node`: Mesmo que o anterior, mas com o tema **\"aventura\"**.\n",
    "\n",
    "4. Montar e Conectar o Grafo:\n",
    "    * Criar o StateGraph.\n",
    "    * Definir o classificar_viagem_node como o ponto de entrada.\n",
    "    * Usar add_conditional_edges para criar a lógica do if, conectando o classificador aos nós de geração de roteiro.\n",
    "    * Conectar os nós de roteiro ao END.\n"
   ]
  },
  {
   "cell_type": "markdown",
   "metadata": {},
   "source": [
    "Objetivo final do agente?\n",
    "\n",
    "\"`Gerar um roteiro de viagem personalizado com base no destino e no tipo de viagem`\""
   ]
  },
  {
   "cell_type": "markdown",
   "metadata": {},
   "source": [
    "Fase 1: CONCEITO (O Papel e a Caneta - 10 minutos)\n",
    "Missão: Qual o objetivo final do agente? Escreva em uma única frase.\n",
    "\n",
    "Ex: \"Gerar um roteiro de viagem personalizado com base no destino e no tipo de viagem.\"\n",
    "\n",
    "Fluxograma: Desenhe o fluxo! Use caixas para os Nós, losangos para as Decisões (Condicionais) e setas para as Arestas. Este é o passo mais importante.\n",
    "\n",
    "Fase 2: ESTRUTURA (O Esqueleto do Código - 15 minutos)\n",
    "Modelar o Estado: Com base no que precisa ser passado entre as caixas do seu fluxograma, defina a class AgentState(TypedDict).\n",
    "\n",
    "Definir as Ferramentas: Se houver tarefas repetitivas ou especializadas (como gerar um JSON), crie as Chains ou funções auxiliares primeiro. Teste-as de forma isolada para garantir que funcionam.\n",
    "\n",
    "Fase 3: IMPLEMENTAÇÃO (A Lógica - 30 minutos)\n",
    "Codificar os Nós: Escreva uma função Python para cada caixa do seu fluxograma.\n",
    "\n",
    "Montar o Grafo: Use o LangGraph para traduzir seu fluxograma em código (add_node, add_conditional_edges, set_entry_point, etc.).\n",
    "\n",
    "Fase 4: VALIDAÇÃO (O Teste - 5 minutos)\n",
    "Visualizar: Gere o diagrama Mermaid para garantir que o grafo em código corresponde ao seu desenho da Fase 1.\n",
    "\n",
    "Executar e Depurar: Teste com diferentes entradas para verificar se todos os caminhos (condicionais) funcionam como esperado."
   ]
  },
  {
   "cell_type": "markdown",
   "metadata": {},
   "source": [
    "🏗️ Guia Prático: Construindo um Agente com LangGraph em 4 Fases\n",
    "Este guia divide o processo de criação de um agente em quatro fases claras, desde a concepção da ideia até a validação final. Siga os passos para transformar seu conceito em um agente funcional.\n",
    "\n",
    "Fase 1: ✍️ CONCEITO (O Papel e a Caneta - 10 minutos)\n",
    "Nesta fase, o objetivo é planejar antes de codificar. Um bom planejamento economiza horas de depuração.\n",
    "\n",
    "🎯 Missão\n",
    "Defina o objetivo principal do seu agente em uma única frase clara e concisa.\n",
    "\n",
    "Exemplo: \"Gerar um roteiro de viagem personalizado com base no destino e no tipo de viagem do usuário.\"\n",
    "\n",
    "🗺️ Fluxograma\n",
    "Desenhe o fluxo de execução do seu agente. Este é o passo mais crítico de todo o processo.\n",
    "\n",
    "* Caixas ([]): Representam os Nós (funções que executam uma tarefa).\n",
    "* Losangos (<>): Representam as Decisões (lógica condicional que define o próximo passo).\n",
    "* Setas (->): Representam as Arestas (as conexões que definem o fluxo)."
   ]
  },
  {
   "cell_type": "markdown",
   "metadata": {},
   "source": [
    "`Fase 2: 🏛️ ESTRUTURA (O Esqueleto do Código - 15 minutos)`\n",
    "Com o plano em mãos, agora criamos a estrutura de dados e as ferramentas que o agente usará.\n",
    "\n",
    "📦 Modelar o Estado (`AgentState`)\n",
    "Com base no que precisa ser passado entre as caixas do seu fluxograma, defina a estrutura de dados principal.\n",
    "```python\n",
    "# O que seu agente precisa saber e carregar entre os passos?\n",
    "class AgentState(TypedDict):\n",
    "    # Ex: destino, tipo_viagem, roteiro_gerado, etc.\n",
    "```\n",
    "\n",
    "🛠️ Definir as Ferramentas (Chains e Funções)\n",
    "Identifique tarefas repetitivas ou especializadas (como gerar um JSON ou buscar em uma API).\n",
    "\n",
    "Crie Chains ou funções Python para essas tarefas.\n",
    "Teste-as de forma isolada para garantir que funcionam perfeitamente antes de integrá-las ao grafo.\n"
   ]
  },
  {
   "cell_type": "markdown",
   "metadata": {},
   "source": [
    "`Fase 3: ⚙️ IMPLEMENTAÇÃO (A Lógica - 30 minutos)`\n",
    "É hora de traduzir o fluxograma e as ferramentas em um grafo funcional.\n",
    "\n",
    "फंक्शन Codificar os Nós\n",
    "Escreva uma função Python para cada caixa do seu fluxograma da Fase 1. Cada função receberá o state e retornará um dicionário com as atualizações para esse state.\n",
    "\n",
    "🔗 Montar o Grafo\n",
    "Use o StateGraph do LangGraph para traduzir seu fluxograma em código:\n",
    "\n",
    "* graph.add_node(...): Adiciona as funções que você criou.\n",
    "* graph.add_conditional_edges(...): Implementa a lógica dos losangos do seu desenho.\n",
    "* graph.set_entry_point(...): Define onde o fluxo começa.\n",
    "* graph.set_finish_point(...): Define onde o fluxo termina."
   ]
  },
  {
   "cell_type": "markdown",
   "metadata": {},
   "source": [
    "`Fase 4: ✅ VALIDAÇÃO (O Teste Final - 5 minutos)`\n",
    "Verifique se o que você construiu corresponde ao que você planejou.\n",
    "\n",
    "📊 Visualizar o Grafo\n",
    "Gere um diagrama (por exemplo, em formato Mermaid ou PNG) a partir do seu objeto graph. Compare-o com o seu desenho da Fase 1 para garantir que a lógica e as conexões estão corretas.\n",
    "\n",
    "🚀 Executar e Depurar\n",
    "Teste o agente com diferentes entradas para garantir que:\n",
    "\n",
    "Todos os caminhos possíveis (as rotas condicionais) funcionam como esperado.\n",
    "O estado final (AgentState) contém os resultados corretos."
   ]
  },
  {
   "cell_type": "code",
   "execution_count": null,
   "metadata": {},
   "outputs": [],
   "source": [
    "from pydantic import BaseModel, Field\n",
    "\n",
    "\n",
    "# Define a estrutura de dados que esperamos como saída.\n",
    "class Itinerary(BaseModel):\n",
    "    \"\"\"Define a estrutura de um roteiro de viagem.\"\"\"\n",
    "\n",
    "    roteiro: list[str] = Field(\n",
    "        description=\"\"\"Uma lista contendo o roteiro de 3 dias, onde cada item da lista é\n",
    "                    uma string para um dia.\"\"\"\n",
    "    )"
   ]
  },
  {
   "cell_type": "code",
   "execution_count": null,
   "metadata": {},
   "outputs": [],
   "source": [
    "from langchain_core.output_parsers import JsonOutputParser\n",
    "\n",
    "# Cria um parser que espera um JSON formatado de acordo com o modelo Itinerary.\n",
    "parser = JsonOutputParser(pydantic_object=Itinerary)"
   ]
  },
  {
   "cell_type": "code",
   "execution_count": null,
   "metadata": {},
   "outputs": [],
   "source": [
    "from langchain_core.prompts import PromptTemplate\n",
    "\n",
    "# Pegamos as instruções de formatação diretamente do parser.\n",
    "# Isso garante que o prompt e o parser estejam sempre em sincronia.\n",
    "format_instructions = parser.get_format_instructions()\n",
    "\n",
    "# Criamos o template do prompt.\n",
    "prompt_template = \"\"\"Crie um roteiro de viagem de 3 dias para o local: {local}.\n",
    "O tema da viagem é: {tema}.\n",
    "\n",
    "A resposta deve ser um roteiro conciso e direto.\n",
    "\n",
    "{format_instructions}\n",
    "\"\"\"\n",
    "\n",
    "# Criamos o objeto de prompt final.\n",
    "prompt = PromptTemplate(\n",
    "    template=prompt_template,\n",
    "    input_variables=[\"local\", \"tema\"],\n",
    "    partial_variables={\"format_instructions\": format_instructions},\n",
    ")"
   ]
  },
  {
   "cell_type": "code",
   "execution_count": null,
   "metadata": {},
   "outputs": [
    {
     "name": "stdout",
     "output_type": "stream",
     "text": [
      "--- Testando a itinerary_chain ---\n",
      "\n",
      "==================================================\n",
      "🗺️  Roteiro de Viagem Gerado\n",
      "📍 Destino: Kyoto, Japão\n",
      "🎭 Tema: templos históricos e cultura tradicional\n",
      "\n",
      "==================================================\n",
      "🗺️  Roteiro de Viagem Gerado\n",
      "📍 Destino: Kyoto, Japão\n",
      "🎭 Tema: templos históricos e cultura tradicional\n",
      "--------------------------------------------------\n",
      "👉 Dia 1: Visita ao Templo Kinkaku-ji (Pavilhão Dourado) pela manhã, seguido de um passeio pelo Jardim do Templo. À tarde, explore o Templo Ryoan-ji e sua famosa pedra zen. Finalize o dia no bairro de Arashiyama, visitando a Floresta de Bambu e o Templo Tenryu-ji.\n",
      "👉 Dia 2: Comece o dia no Templo Fushimi Inari Taisha, famoso por seus milhares de torii vermelhos. À tarde, visite o Templo Tofuku-ji e seus belos jardins. Termine o dia no bairro de Gion, onde você pode ver maikos e desfrutar de um jantar tradicional.\n",
      "👉 Dia 3: Visite o Templo Kiyomizu-dera pela manhã, aproveitando a vista panorâmica da cidade. Depois, explore as ruas históricas de Higashiyama, parando em lojas de artesanato local. À tarde, visite o Santuário Heian e seus jardins, finalizando a viagem com um passeio relaxante pelo Parque Maruyama.\n",
      "==================================================\n",
      "\n",
      "Tipo da resposta final: <class 'dict'>\n",
      "Conteúdo da resposta (formatado como JSON):\n",
      "{\n",
      "  \"roteiro\": [\n",
      "    \"Dia 1: Visita ao Templo Kinkaku-ji (Pavilhão Dourado) pela manhã, seguido de um passeio pelo Jardim do Templo. À tarde, explore o Templo Ryoan-ji e sua famosa pedra zen. Finalize o dia no bairro de Arashiyama, visitando a Floresta de Bambu e o Templo Tenryu-ji.\",\n",
      "    \"Dia 2: Comece o dia no Templo Fushimi Inari Taisha, famoso por seus milhares de torii vermelhos. À tarde, visite o Templo Tofuku-ji e seus belos jardins. Termine o dia no bairro de Gion, onde você pode ver maikos e desfrutar de um jantar tradicional.\",\n",
      "    \"Dia 3: Visite o Templo Kiyomizu-dera pela manhã, aproveitando a vista panorâmica da cidade. Depois, explore as ruas históricas de Higashiyama, parando em lojas de artesanato local. À tarde, visite o Santuário Heian e seus jardins, finalizando a viagem com um passeio relaxante pelo Parque Maruyama.\"\n",
      "  ]\n",
      "}\n"
     ]
    }
   ],
   "source": [
    "import json\n",
    "import os\n",
    "\n",
    "from dotenv import load_dotenv\n",
    "from langchain_core.runnables import Runnable\n",
    "from langchain_openai import ChatOpenAI\n",
    "\n",
    "# Carrega as variáveis do arquivo .env\n",
    "load_dotenv()\n",
    "\n",
    "# Pega a chave da OpenAI das variáveis de ambiente\n",
    "openai_api_key = os.getenv(\"OPENAI_API_KEY\")\n",
    "\n",
    "# Verifica se a chave foi carregada\n",
    "if not openai_api_key:\n",
    "    error_message = \"OPENAI_API_KEY não encontrada no arquivo .env\"\n",
    "    raise ValueError(error_message)\n",
    "\n",
    "# Inicializa o modelo com a chave\n",
    "llm = ChatOpenAI(model=\"gpt-4o-mini\", temperature=0.0)\n",
    "\n",
    "\n",
    "# Monta a chain final usando LangChain Expression Language (LCEL)\n",
    "def create_itinerary_chain() -> Runnable:  # type: ignore  # noqa: PGH003\n",
    "    \"\"\"Cria uma ferramenta de geração de roteiros de viagem.\n",
    "\n",
    "    Returns:\n",
    "        _type_: _description_.\n",
    "\n",
    "    \"\"\"\n",
    "    return prompt | llm | parser  # type: ignore  # noqa: PGH003\n",
    "\n",
    "\n",
    "itinerary_chain = create_itinerary_chain()  # pyright: ignore[reportUnknownVariableType]\n",
    "\n",
    "# --- TESTE ISOLADO ---\n",
    "print(\"--- Testando a itinerary_chain ---\")\n",
    "\n",
    "# 1. Defina o dicionário de entrada em uma variável primeiro\n",
    "user_input = {\n",
    "    \"local\": \"Kyoto, Japão\",\n",
    "    \"tema\": \"templos históricos e cultura tradicional\",\n",
    "}\n",
    "\n",
    "# 2. Agora use a variável na chamada do invoke\n",
    "response = itinerary_chain.invoke(user_input)  # type: ignore  # noqa: PGH003\n",
    "\n",
    "# ==========================================================\n",
    "# . Impressão formatada\n",
    "# ==========================================================\n",
    "print(\"\\n\" + \"=\" * 50)\n",
    "print(\"🗺️  Roteiro de Viagem Gerado\")\n",
    "\n",
    "# 3. Agora a variável 'user_input' existe e pode ser usada aqui\n",
    "print(f\"📍 Destino: {user_input['local']}\")\n",
    "print(f\"🎭 Tema: {user_input['tema']}\")\n",
    "\n",
    "# ==========================================================\n",
    "# . Impressão formatada\n",
    "# ==========================================================\n",
    "print(\"\\n\" + \"=\" * 50)\n",
    "print(\"🗺️  Roteiro de Viagem Gerado\")\n",
    "print(f\"📍 Destino: {user_input['local']}\")\n",
    "print(f\"🎭 Tema: {user_input['tema']}\")\n",
    "print(\"-\" * 50)\n",
    "\n",
    "if response and \"roteiro\" in response:\n",
    "    for i, dia in enumerate(response[\"roteiro\"], 1):\n",
    "        print(f\"👉 {dia}\")\n",
    "else:\n",
    "    print(\"⚠️ Não foi possível gerar um roteiro detalhado.\")\n",
    "\n",
    "print(\"=\" * 50)\n",
    "\n",
    "# ==========================================================\n",
    "# 7. Debug\n",
    "# ==========================================================\n",
    "print(f\"\\nTipo da resposta final: {type(response)}\")\n",
    "# Usando json.dumps para uma impressão \"pretty-print\"\n",
    "print(\"Conteúdo da resposta (formatado como JSON):\")\n",
    "print(json.dumps(response, indent=2, ensure_ascii=False))"
   ]
  },
  {
   "cell_type": "markdown",
   "metadata": {},
   "source": [
    "* local: str\n",
    "* tipo_viagem: str\n",
    "* roteiro: list[str]"
   ]
  },
  {
   "cell_type": "code",
   "execution_count": null,
   "metadata": {},
   "outputs": [],
   "source": [
    "from typing import TypedDict\n",
    "\n",
    "\n",
    "class AgentState(TypedDict):\n",
    "    \"\"\"Define a memória compartilhada (estado) para o Agente de Viagens.\n",
    "\n",
    "    É a \"ficha de processo\" que carrega todas as informações necessárias\n",
    "    e os resultados através do workflow.\n",
    "\n",
    "    Attributes:\n",
    "        local: O destino da viagem fornecido pelo usuário (Entrada).\n",
    "        tipo_viagem: O tipo de viagem desejado, ex: \"praia\" (Entrada).\n",
    "        roteiro: A lista de strings com o roteiro final gerado (Saída).\n",
    "\n",
    "    \"\"\"\n",
    "\n",
    "    local: str\n",
    "    tipo_viagem: str\n",
    "    roteiro: list[str]\n",
    "    route: str"
   ]
  },
  {
   "cell_type": "code",
   "execution_count": null,
   "metadata": {},
   "outputs": [],
   "source": [
    "def classificar_viagem_node(state: AgentState) -> dict[str, str]:\n",
    "    \"\"\"Classifica o tipo de viagem e atualiza o estado com a rota escolhida.\n",
    "\n",
    "    Analisa o 'tipo_viagem' no estado e decide qual o próximo passo,\n",
    "    atualizando o estado com a rota escolhida.\n",
    "\n",
    "    Args:\n",
    "        state (AgentState): O estado atual do workflow.\n",
    "\n",
    "    Returns:\n",
    "        dict: Um dicionário contendo a chave 'route' com o valor da rota escolhida.\n",
    "\n",
    "    \"\"\"\n",
    "    print(\"\\n--- [NÓ DE DECISÃO: Classificando Tipo de Viagem] ---\")\n",
    "    tipo_viagem = state[\"tipo_viagem\"].lower()\n",
    "\n",
    "    if \"praia\" in tipo_viagem:\n",
    "        print(\"  > Decisão: Roteiro de Praia.\")\n",
    "        return {\"route\": \"gerar_roteiro_praia\"}  # pyright: ignore[reportUnknownVariableType]\n",
    "    print(\"  > Decisão: Roteiro de Aventura.\")\n",
    "    return {\"route\": \"gerar_roteiro_aventura\"}  # type: ignore"
   ]
  },
  {
   "cell_type": "code",
   "execution_count": null,
   "metadata": {},
   "outputs": [],
   "source": [
    "def gerar_roteiro_praia_node(state: AgentState) -> dict[str, list[str]]:\n",
    "    \"\"\"Nó especialista que gera um roteiro de praia usando a itinerary_chain.\n",
    "\n",
    "    Args:\n",
    "        state (AgentState): O estado atual do workflow, contendo pelo menos a chave\n",
    "    'local'.\n",
    "\n",
    "    Returns:\n",
    "        dict: Um dicionário com a chave 'roteiro' contendo a lista de strings do roteiro\n",
    "    gerado.\n",
    "\n",
    "    \"\"\"\n",
    "    print(\"\\n--- [NÓ ESPECIALISTA: Gerando Roteiro de Praia] ---\")\n",
    "\n",
    "    # 1. Define o tema específico para este nó\n",
    "    tema_da_viagem = \"atividades relaxantes na praia e vida noturna\"\n",
    "\n",
    "    # 2. Pega o local que já está no estado\n",
    "    local_da_viagem = state[\"local\"]\n",
    "\n",
    "    print(\n",
    "        f\"  > Usando a chain para o local: '{local_da_viagem}' \"\n",
    "        f\"com o tema '{tema_da_viagem}'\"\n",
    "    )\n",
    "\n",
    "    # 3. Invoca a nossa ferramenta especializada (a chain)\n",
    "    resultado_chain = itinerary_chain.invoke(  # pyright: ignore[reportUnknownMemberType] # type: ignore  # noqa: PGH003\n",
    "        {\n",
    "            \"local\": local_da_viagem,\n",
    "            \"tema\": tema_da_viagem,\n",
    "        }\n",
    "    )\n",
    "\n",
    "    # 4. Retorna a atualização para o estado do grafo\n",
    "    print(\"  > Roteiro de praia gerado com sucesso.\")\n",
    "    return {\"roteiro\": resultado_chain[\"roteiro\"]}  # type: ignore  # noqa: PGH003"
   ]
  },
  {
   "cell_type": "code",
   "execution_count": null,
   "metadata": {},
   "outputs": [],
   "source": [
    "def gerar_roteiro_aventura_node(state: AgentState) -> dict[str, list[str]]:\n",
    "    \"\"\"Nó especialista que gera um roteiro de aventura usando a itinerary_chain.\n",
    "\n",
    "    Este nó recebe o estado atual, define o tema de aventura, invoca a ferramenta\n",
    "    especializada para gerar o roteiro e retorna a atualização do estado.\n",
    "\n",
    "    Returns:\n",
    "        dict[str, list[str]]: Um dicionário com a chave 'roteiro' contendo a lista de\n",
    "    strings do roteiro gerado.\n",
    "\n",
    "    \"\"\"\n",
    "    print(\"\\n--- [NÓ ESPECIALISTA: Gerando Roteiro de Aventura] ---\")\n",
    "\n",
    "    # 1. Define o tema específico para este nó\n",
    "    tema_da_viagem = \"trilhas, montanhismo e exploração da natureza\"\n",
    "\n",
    "    # 2. Pega o local que já está no estado\n",
    "    local_da_viagem = state[\"local\"]\n",
    "\n",
    "    print(\n",
    "        f\"> Usando a chain para o local: '{local_da_viagem}' \"\n",
    "        f\"com o tema '{tema_da_viagem}'\"\n",
    "    )\n",
    "\n",
    "    # 3. Invoca a mesma ferramenta especializada\n",
    "    resultado_chain = itinerary_chain.invoke(  # pyright: ignore[reportUnknownMemberType] # type: ignore  # noqa: PGH003\n",
    "        {\"local\": local_da_viagem, \"tema\": tema_da_viagem}\n",
    "    )\n",
    "\n",
    "    # 4. Retorna a atualização para o estado do grafo\n",
    "    print(\"  > Roteiro de aventura gerado com sucesso.\")\n",
    "    return {\"roteiro\": resultado_chain[\"roteiro\"]}"
   ]
  },
  {
   "cell_type": "code",
   "execution_count": null,
   "metadata": {},
   "outputs": [
    {
     "name": "stdout",
     "output_type": "stream",
     "text": [
      "--- Testando os nós especialistas ---\n",
      "\n",
      "--- [NÓ ESPECIALISTA: Gerando Roteiro de Aventura] ---\n",
      "> Usando a chain para o local: 'Bariloche, Argentina' com o tema 'trilhas, montanhismo e exploração da natureza'\n",
      "  > Roteiro de aventura gerado com sucesso.\n"
     ]
    }
   ],
   "source": [
    "# --- Teste isolado dos nós especialistas ---\n",
    "print(\"--- Testando os nós especialistas ---\")\n",
    "\n",
    "# Criamos um estado de teste\n",
    "estado_teste = AgentState(\n",
    "    local=\"Bariloche, Argentina\", tipo_viagem=\"aventura\", roteiro=[]\n",
    ")\n",
    "\n",
    "# Testamos o nó de aventura\n",
    "resultado_aventura = gerar_roteiro_aventura_node(estado_teste)\n",
    "\n",
    "# Imprimimos o resultado do teste usando a formatação com 'rich' ou 'json'\n",
    "# ... (código de impressão bonita aqui) ..."
   ]
  },
  {
   "cell_type": "code",
   "execution_count": null,
   "metadata": {},
   "outputs": [
    {
     "name": "stdout",
     "output_type": "stream",
     "text": [
      "--- Visualização da Arquitetura do Grafo ---\n"
     ]
    },
    {
     "data": {
      "image/png": "[encoded data removed]",
      "text/plain": [
       "<IPython.core.display.Image object>"
      ]
     },
     "metadata": {},
     "output_type": "display_data"
    },
    {
     "name": "stdout",
     "output_type": "stream",
     "text": [
      "\n",
      "--- Testando o Agente de Viagens (PRAIA) ---\n",
      "\n",
      "--- [NÓ DE DECISÃO: Classificando Tipo de Viagem] ---\n",
      "  > Decisão: Roteiro de Praia.\n",
      "\n",
      "--- [NÓ ESPECIALISTA: Gerando Roteiro de Praia] ---\n",
      "  > Usando a chain para o local: 'Porto de Galinhas, Brasil' com o tema 'atividades relaxantes na praia e vida noturna'\n",
      "  > Roteiro de praia gerado com sucesso.\n",
      "\n",
      "==================================================\n",
      "🗺️  Roteiro de Viagem Final\n",
      "📍 Destino: Porto de Galinhas, Brasil\n",
      "🎭 Tema: quero relaxar na praia\n",
      "--------------------------------------------------\n",
      "👉 Dia 1: Dia 1: Chegada em Porto de Galinhas, check-in no hotel. Passeio relaxante nas piscinas naturais pela manhã. Almoço em um restaurante à beira-mar. Tarde livre para relaxar na praia. À noite, jantar em um bar de praia com música ao vivo.\n",
      "👉 Dia 2: Dia 2: Manhã de yoga na praia para começar o dia relaxando. Almoço em um restaurante local. Tarde de passeio de jangada para explorar as praias vizinhas. À noite, visita a um bar animado no centro de Porto de Galinhas.\n",
      "👉 Dia 3: Dia 3: Manhã livre para aproveitar a praia ou fazer um tratamento de spa. Almoço em um quiosque na praia. Tarde de compras em lojas de artesanato. Jantar de despedida em um restaurante com vista para o mar e música ao vivo.\n",
      "==================================================\n",
      "\n",
      "\n",
      "--- Testando o Agente de Viagens (AVENTURA) ---\n",
      "\n",
      "--- [NÓ DE DECISÃO: Classificando Tipo de Viagem] ---\n",
      "  > Decisão: Roteiro de Aventura.\n",
      "\n",
      "--- [NÓ ESPECIALISTA: Gerando Roteiro de Aventura] ---\n",
      "> Usando a chain para o local: 'Chapada Diamantina, Brasil' com o tema 'trilhas, montanhismo e exploração da natureza'\n",
      "  > Roteiro de aventura gerado com sucesso.\n",
      "\n",
      "==================================================\n",
      "🗺️  Roteiro de Viagem Final\n",
      "📍 Destino: Chapada Diamantina, Brasil\n",
      "🎭 Tema: muita aventura e trilhas\n",
      "--------------------------------------------------\n",
      "👉 Dia 1: Chegada em Porto de Galinhas, check-in no hotel. Passeio relaxante nas piscinas naturais pela manhã. Almoço em um restaurante à beira-mar. Tarde livre para relaxar na praia. À noite, jantar em um bar de praia com música ao vivo.\n",
      "👉 Dia 2: Manhã de yoga na praia para começar o dia relaxando. Almoço em um restaurante local. Tarde de passeio de jangada para explorar as praias vizinhas. À noite, visita a um bar animado no centro de Porto de Galinhas.\n",
      "👉 Dia 3: Manhã livre para aproveitar a praia ou fazer um tratamento de spa. Almoço em um quiosque na praia. Tarde de compras em lojas de artesanato. Jantar de despedida em um restaurante com vista para o mar e música ao vivo.\n",
      "==================================================\n"
     ]
    }
   ],
   "source": [
    "from IPython.display import Image, display\n",
    "from langgraph.graph import END, StateGraph\n",
    "\n",
    "# ==============================================================================\n",
    "# 1. INICIALIZAÇÃO DO GRAFO\n",
    "# Criamos a \"planta da fábrica\", dizendo que ela usará a estrutura do AgentState.\n",
    "# ==============================================================================\n",
    "workflow = StateGraph(AgentState)\n",
    "\n",
    "# ==============================================================================\n",
    "# 2. ADIÇÃO DOS NÓS\n",
    "# Registramos todas as nossas \"estações de trabalho\" no workflow.\n",
    "# ==============================================================================\n",
    "workflow.add_node(\"classificar_viagem\", classificar_viagem_node)\n",
    "workflow.add_node(\"gerar_roteiro_praia\", gerar_roteiro_praia_node)\n",
    "workflow.add_node(\"gerar_roteiro_aventura\", gerar_roteiro_aventura_node)\n",
    "\n",
    "# ==============================================================================\n",
    "# 3. DEFINIÇÃO DAS ARESTAS E DO FLUXO\n",
    "# Aqui está a parte mais importante: conectar tudo.\n",
    "# ==============================================================================\n",
    "\n",
    "# O ponto de entrada: Todo processo começa no nó de classificação.\n",
    "workflow.set_entry_point(\"classificar_viagem\")\n",
    "\n",
    "# A ARESTA CONDICIONAL CORRIGIDA\n",
    "workflow.add_conditional_edges(\n",
    "    # O nó de onde a decisão parte.\n",
    "    \"classificar_viagem\",\n",
    "    # ! CORREÇÃO: A função lambda agora LÊ a chave 'route' do estado\n",
    "    # para decidir qual caminho seguir.\n",
    "    lambda state: state[\"route\"],  # type: ignore  # noqa: FURB118, PGH003\n",
    "    # O mapa que conecta a decisão ao próximo nó.\n",
    "    {\n",
    "        \"gerar_roteiro_praia\": \"gerar_roteiro_praia\",\n",
    "        \"gerar_roteiro_aventura\": \"gerar_roteiro_aventura\",\n",
    "    },\n",
    ")\n",
    "\n",
    "# Os pontos de saída: Depois de qualquer um dos nós especialistas, o trabalho termina.\n",
    "workflow.add_edge(\"gerar_roteiro_praia\", END)\n",
    "workflow.add_edge(\"gerar_roteiro_aventura\", END)\n",
    "\n",
    "# ==============================================================================\n",
    "# 4. COMPILAÇÃO E VISUALIZAÇÃO\n",
    "# Pegamos nossa planta e \"construímos a máquina\".\n",
    "# ==============================================================================\n",
    "agent = workflow.compile()\n",
    "\n",
    "# Vamos visualizar o grafo para confirmar que nossa lógica está correta!\n",
    "print(\"--- Visualização da Arquitetura do Grafo ---\")\n",
    "display(Image(agent.get_graph().draw_mermaid_png()))\n",
    "\n",
    "# ==============================================================================\n",
    "# 5. EXECUÇÃO FINAL\n",
    "# Agora, vamos testar o agente completo.\n",
    "# ==============================================================================\n",
    "print(\"\\n--- Testando o Agente de Viagens (PRAIA) ---\")\n",
    "\n",
    "# Teste 1: Viagem de praia\n",
    "input_praia = AgentState(\n",
    "    local=\"Porto de Galinhas, Brasil\", tipo_viagem=\"quero relaxar na praia\", roteiro=[]\n",
    ")\n",
    "resultado_praia = agent.invoke(input_praia)\n",
    "\n",
    "# Imprime o resultado final formatado\n",
    "print(\"\\n\" + \"=\" * 50)\n",
    "print(\"🗺️  Roteiro de Viagem Final\")\n",
    "print(f\"📍 Destino: {resultado_praia['local']}\")\n",
    "print(f\"🎭 Tema: {resultado_praia['tipo_viagem']}\")\n",
    "print(\"-\" * 50)\n",
    "for i, dia in enumerate(resultado_praia[\"roteiro\"], 1):\n",
    "    print(f\"👉 Dia {i}: {dia}\")\n",
    "print(\"=\" * 50)\n",
    "\n",
    "\n",
    "print(\"\\n\\n--- Testando o Agente de Viagens (AVENTURA) ---\")\n",
    "\n",
    "# Teste 2: Viagem de aventura\n",
    "input_aventura = AgentState(\n",
    "    local=\"Chapada Diamantina, Brasil\",\n",
    "    tipo_viagem=\"muita aventura e trilhas\",\n",
    "    roteiro=[],\n",
    ")\n",
    "resultado_aventura = agent.invoke(input_aventura)\n",
    "\n",
    "# Imprime o resultado final formatado\n",
    "print(\"\\n\" + \"=\" * 50)\n",
    "print(\"🗺️  Roteiro de Viagem Final\")\n",
    "print(f\"📍 Destino: {resultado_aventura['local']}\")\n",
    "print(f\"🎭 Tema: {resultado_aventura['tipo_viagem']}\")\n",
    "print(\"-\" * 50)\n",
    "for dia in resultado_praia[\"roteiro\"]:\n",
    "    print(f\"👉 {dia}\")\n",
    "print(\"=\" * 50)"
   ]
  }
 ],
 "metadata": {
  "kernelspec": {
   "display_name": "study_langchain",
   "language": "python",
   "name": "python3"
  },
  "language_info": {
   "codemirror_mode": {
    "name": "ipython",
    "version": 3
   },
   "file_extension": ".py",
   "mimetype": "text/x-python",
   "name": "python",
   "nbconvert_exporter": "python",
   "pygments_lexer": "ipython3",
   "version": "3.13.3"
  }
 },
 "nbformat": 4,
 "nbformat_minor": 2
}
