{
 "cells": [
  {
   "cell_type": "code",
   "execution_count": 1,
   "metadata": {},
   "outputs": [],
   "source": [
    "import random\n",
    "from typing import TypedDict\n",
    "\n",
    "from IPython.display import Image, display\n",
    "from langchain_core.messages import HumanMessage, SystemMessage\n",
    "from langchain_openai import ChatOpenAI\n",
    "from langgraph.graph import END, START, StateGraph"
   ]
  },
  {
   "cell_type": "markdown",
   "metadata": {},
   "source": [
    "**Data Processing (Sequential)** "
   ]
  },
  {
   "cell_type": "markdown",
   "metadata": {},
   "source": [
    "State é a memória compartilhada e viva do seu workflow, é a linha de trabalho, onde cada ferramenta (`NODE`)\n",
    "pega o que precisa e deixa seu resultado para a próxima."
   ]
  },
  {
   "cell_type": "code",
   "execution_count": 2,
   "metadata": {},
   "outputs": [],
   "source": [
    "class State(TypedDict):\n",
    "    \"\"\"Representa o estado compartilhado que flui através do grafo de processamento.\n",
    "\n",
    "    Este dicionário atua como a memória central do workflow, onde cada nó\n",
    "    pode ler informações de etapas anteriores e escrever seus resultados para\n",
    "    etapas futuras.\n",
    "\n",
    "    Attributes:\n",
    "        input (int): O valor inicial fornecido ao grafo. Neste workflow,\n",
    "            espera-se que seja um número (int ou float) para o cálculo inicial.\n",
    "        output (int): O resultado da última operação executada. Cada nó\n",
    "            atualiza este campo com seu próprio resultado, permitindo que o\n",
    "            próximo nó o utilize.\n",
    "\n",
    "    \"\"\"\n",
    "\n",
    "    input: int\n",
    "    output: int"
   ]
  },
  {
   "cell_type": "markdown",
   "metadata": {},
   "source": [
    "`NODE`: Os nós são as funções que realizam o trabalho de fato. Cada nó é uma \"estação de trabalho\" no seu fluxo\n",
    "\n",
    "Análise Educativa: Observe o padrão fundamental em todos eles: uma função que recebe o **state** como argumento, executa sua tarefa e `retorna um dicionário apenas com as atualizações para o estado`. node_b, por exemplo, retorna {\"output\": output}, não o estado inteiro. O LangGraph cuida de fazer a \"fusão\" dessa atualização com o estado principal.\n",
    "\n"
   ]
  },
  {
   "cell_type": "markdown",
   "metadata": {},
   "source": [
    "* `Start point: Start NODE`"
   ]
  },
  {
   "cell_type": "code",
   "execution_count": 3,
   "metadata": {},
   "outputs": [],
   "source": [
    "def node_a(state: State) -> State:\n",
    "    \"\"\"Processa o estado inicial adicionando um valor aleatório.\n",
    "\n",
    "    Esta função representa um \"nó\" em um grafo de processamento. Sua principal\n",
    "    responsabilidade é pegar um valor numérico do estado de entrada,\n",
    "    adicionar um deslocamento (offset) aleatório a ele e, em seguida,\n",
    "    retornar um novo estado contendo o resultado.\n",
    "\n",
    "    A função também imprime no console as etapas do seu cálculo para\n",
    "    facilitar o rastreamento e a depuração do fluxo de dados, o que é\n",
    "    uma prática muito útil ao trabalhar com sistemas complexos como LangGraph.\n",
    "\n",
    "    Exemplo de uso:\n",
    "        Se o estado de entrada for `State(input=10)` e o offset aleatório\n",
    "        gerado for `5`, a função imprimirá os detalhes da operação e\n",
    "        retornará `State(output=15)`.\n",
    "\n",
    "    Args:\n",
    "        state (State): Um objeto (provavelmente um dicionário ou TypedDict)\n",
    "            que representa o estado atual do grafo. Espera-se que este\n",
    "            objeto contenha uma chave 'input' com um valor numérico.\n",
    "\n",
    "    Returns:\n",
    "        State: Um novo objeto de estado contendo o resultado da operação.\n",
    "            A chave 'output' conterá a soma do 'input' original com o\n",
    "            offset aleatório gerado.\n",
    "\n",
    "    \"\"\"\n",
    "    input_value = state[\"input\"]\n",
    "    offset = random.randint(1, 10)\n",
    "    output = input_value + offset\n",
    "    print(f\"NODE A:\\n ->input:{input_value}\\n ->offset:{offset}\\n ->output:{output}\\n \")\n",
    "    return State(output=output)"
   ]
  },
  {
   "cell_type": "code",
   "execution_count": 4,
   "metadata": {},
   "outputs": [],
   "source": [
    "def node_b(state: State):\n",
    "    input_value = state[\"output\"]\n",
    "    offset = random.randint(1, 10)\n",
    "    output = input_value + offset\n",
    "    print(f\"NODE B:\\n ->input:{input_value}\\n ->offset:{offset}\\n ->output:{output}\\n \")\n",
    "    return {\"output\": output}"
   ]
  },
  {
   "cell_type": "markdown",
   "metadata": {},
   "source": [
    "O `workflow = StateGraph(...)` é a criação da \"planta da fábrica\". As arestas (`.add_edge()`) são as \"esteiras rolantes\" que conectam as estações de trabalho em uma sequência."
   ]
  },
  {
   "cell_type": "code",
   "execution_count": 5,
   "metadata": {},
   "outputs": [],
   "source": [
    "workflow = StateGraph(state_schema=State)"
   ]
  },
  {
   "cell_type": "code",
   "execution_count": 6,
   "metadata": {},
   "outputs": [
    {
     "data": {
      "text/plain": [
       "<langgraph.graph.state.StateGraph at 0x7f0e9c1e7b60>"
      ]
     },
     "execution_count": 6,
     "metadata": {},
     "output_type": "execute_result"
    }
   ],
   "source": [
    "workflow.add_node(node_a)\n",
    "workflow.add_node(node_b)"
   ]
  },
  {
   "cell_type": "markdown",
   "metadata": {},
   "source": [
    ".add_edge é como o pathway (o caminho) entre os nós:\n",
    "\n",
    "START *----> `NODE_a`---->(add_edge) *`NODE_b`---->END\n",
    "\n",
    "O workflow começa na partida (`START`), então:\n",
    "\n",
    "1. Adicionamos uma edge para o NODE_a.\n",
    "\n",
    "2. O `NODE_a` executa seu processamento e entrega uma atualização com seus resultados (por exemplo: {'output': 8}).\n",
    "\n",
    "3. O LangGraph recebe essa atualização e modifica o Estado Inteiro, que agora está atualizado e pronto para o próximo passo.\n",
    "\n",
    "4. Adicionamos uma nova edge para ligar ao `NODE_b`.\n",
    "\n",
    "5. O `NODE_b` recebe o Estado Inteiro já atualizado pelo passo anterior, faz seu trabalho e entrega sua própria atualização.\n",
    "\n",
    "6. O LangGraph atualiza o Estado novamente.\n",
    "\n",
    "Finalmente, adicionamos uma edge ao final do workflow, END."
   ]
  },
  {
   "cell_type": "code",
   "execution_count": 7,
   "metadata": {},
   "outputs": [
    {
     "data": {
      "text/plain": [
       "<langgraph.graph.state.StateGraph at 0x7f0e9c1e7b60>"
      ]
     },
     "execution_count": 7,
     "metadata": {},
     "output_type": "execute_result"
    }
   ],
   "source": [
    "workflow.add_edge(START, \"node_a\")\n",
    "workflow.add_edge(\"node_a\", \"node_b\")\n",
    "workflow.add_edge(\"node_b\", END)"
   ]
  },
  {
   "cell_type": "code",
   "execution_count": 8,
   "metadata": {},
   "outputs": [],
   "source": [
    "graph = workflow.compile()"
   ]
  },
  {
   "cell_type": "code",
   "execution_count": 9,
   "metadata": {},
   "outputs": [
    {
     "data": {
      "image/png": "[encoded data removed]",
      "text/plain": [
       "<IPython.core.display.Image object>"
      ]
     },
     "metadata": {},
     "output_type": "display_data"
    }
   ],
   "source": [
    "display(Image(graph.get_graph().draw_mermaid_png()))"
   ]
  },
  {
   "cell_type": "code",
   "execution_count": 10,
   "metadata": {},
   "outputs": [
    {
     "name": "stdout",
     "output_type": "stream",
     "text": [
      "NODE A:\n",
      " ->input:1\n",
      " ->offset:1\n",
      " ->output:2\n",
      " \n",
      "NODE B:\n",
      " ->input:2\n",
      " ->offset:10\n",
      " ->output:12\n",
      " \n"
     ]
    },
    {
     "data": {
      "text/plain": [
       "{'input': 1, 'output': 12}"
      ]
     },
     "execution_count": 10,
     "metadata": {},
     "output_type": "execute_result"
    }
   ],
   "source": [
    "graph.invoke(\n",
    "    input={\n",
    "        \"input\": 1,\n",
    "    },\n",
    ")"
   ]
  },
  {
   "cell_type": "markdown",
   "metadata": {},
   "source": [
    "**Call LLMs**"
   ]
  },
  {
   "cell_type": "code",
   "execution_count": 11,
   "metadata": {},
   "outputs": [
    {
     "data": {
      "text/plain": [
       "True"
      ]
     },
     "execution_count": 11,
     "metadata": {},
     "output_type": "execute_result"
    }
   ],
   "source": [
    "from dotenv import load_dotenv\n",
    "\n",
    "load_dotenv()"
   ]
  },
  {
   "cell_type": "code",
   "execution_count": 12,
   "metadata": {},
   "outputs": [],
   "source": [
    "llm = ChatOpenAI(\n",
    "    model=\"gpt-4o-mini\",\n",
    "    temperature=0.0,\n",
    ")"
   ]
  },
  {
   "cell_type": "code",
   "execution_count": null,
   "metadata": {},
   "outputs": [],
   "source": [
    "class State(TypedDict):\n",
    "    \"\"\"Representa o estado do nosso grafo (workflow).\n",
    "\n",
    "    Attributes:\n",
    "        question: A pergunta a ser respondida.\n",
    "        response: A resposta gerada pelo assistente.\n",
    "\n",
    "    \"\"\"\n",
    "\n",
    "    question: str\n",
    "    response: str"
   ]
  },
  {
   "cell_type": "code",
   "execution_count": 14,
   "metadata": {},
   "outputs": [],
   "source": [
    "def model(state: State) -> dict[str, str]:\n",
    "    \"\"\"Invoca o modelo de linguagem para gerar uma resposta.\n",
    "\n",
    "    Este nó do grafo recebe o estado atual, extrai a pergunta e utiliza\n",
    "    o LLM (configurado como um especialista em Pokémon) para gerar uma\n",
    "    resposta. A resposta é então adicionada ao estado.\n",
    "\n",
    "    Args:\n",
    "        state: O dicionário de estado atual, que deve conter a chave 'question'.\n",
    "\n",
    "    Returns:\n",
    "        Um dicionário contendo a chave 'response' com o conteúdo da\n",
    "        resposta gerada pelo modelo.\n",
    "\n",
    "    \"\"\"\n",
    "    question = state[\"question\"]\n",
    "    response = llm.invoke(\n",
    "        [SystemMessage(\"You're a Pokémon specialist\"), HumanMessage(question)]\n",
    "    )\n",
    "\n",
    "    return {\"response\": response.content}"
   ]
  },
  {
   "cell_type": "code",
   "execution_count": 15,
   "metadata": {},
   "outputs": [],
   "source": [
    "workflow = StateGraph(State)"
   ]
  },
  {
   "cell_type": "code",
   "execution_count": 16,
   "metadata": {},
   "outputs": [
    {
     "data": {
      "text/plain": [
       "<langgraph.graph.state.StateGraph at 0x7f0e8b6411d0>"
      ]
     },
     "execution_count": 16,
     "metadata": {},
     "output_type": "execute_result"
    }
   ],
   "source": [
    "workflow.add_node(\"model\", model)"
   ]
  },
  {
   "cell_type": "code",
   "execution_count": 17,
   "metadata": {},
   "outputs": [
    {
     "data": {
      "text/plain": [
       "<langgraph.graph.state.StateGraph at 0x7f0e8b6411d0>"
      ]
     },
     "execution_count": 17,
     "metadata": {},
     "output_type": "execute_result"
    }
   ],
   "source": [
    "workflow.add_edge(START, \"model\")\n",
    "workflow.add_edge(\"model\", END)"
   ]
  },
  {
   "cell_type": "code",
   "execution_count": 18,
   "metadata": {},
   "outputs": [],
   "source": [
    "graph = workflow.compile()"
   ]
  },
  {
   "cell_type": "code",
   "execution_count": 19,
   "metadata": {},
   "outputs": [
    {
     "data": {
      "image/png": "[encoded data removed]",
      "text/plain": [
       "<IPython.core.display.Image object>"
      ]
     },
     "metadata": {},
     "output_type": "display_data"
    }
   ],
   "source": [
    "display(Image(graph.get_graph().draw_mermaid_png()))"
   ]
  },
  {
   "cell_type": "code",
   "execution_count": 20,
   "metadata": {},
   "outputs": [],
   "source": [
    "result = graph.invoke(\n",
    "    input={\"question\": \"What's the name of Ash's first pokémon?\"},\n",
    ")"
   ]
  },
  {
   "cell_type": "code",
   "execution_count": 21,
   "metadata": {},
   "outputs": [
    {
     "data": {
      "text/plain": [
       "{'question': \"What's the name of Ash's first pokémon?\",\n",
       " 'response': \"Ash's first Pokémon is Pikachu. He received Pikachu from Professor Oak at the beginning of his journey in the Pokémon anime series.\"}"
      ]
     },
     "execution_count": 21,
     "metadata": {},
     "output_type": "execute_result"
    }
   ],
   "source": [
    "result"
   ]
  },
  {
   "cell_type": "markdown",
   "metadata": {},
   "source": [
    "### Um Agente com Múltiplos Passos\n",
    "___\n",
    "\n",
    "Vamos criar um agente que executa duas tarefas de LLM em sequência, com dois nós entre o START e o END.\n",
    "\n",
    "Missão od Agente: Criar um \"`Assistente de Perguntas`\" que primeiro reformula a pergunta do usuário, para\n",
    "ser mais clara e em seguida, responde a essa nova pergunta reformulada.\n",
    "\n",
    "\n",
    "ARQUITETURA:\n",
    "    >>> Estado(State) - pergunta original, pergunta reformulada e a resposta final."
   ]
  },
  {
   "cell_type": "code",
   "execution_count": 24,
   "metadata": {},
   "outputs": [],
   "source": [
    "from typing import TypedDict\n",
    "\n",
    "from IPython.display import Image, display\n",
    "from langchain_openai import ChatOpenAI\n",
    "from langgraph.graph import END, START, StateGraph\n",
    "\n",
    "# Configuração do LLM\n",
    "llm = ChatOpenAI(model=\"gpt-4o-mini\", temperature=0.0)\n",
    "\n",
    "\n",
    "# 1. Definição do Estado\n",
    "class AgentState(TypedDict):\n",
    "    \"\"\"Estado compartilhado para o Assistente de Perguntas com processamento em\n",
    "    duas etapas.\n",
    "\n",
    "    Este TypedDict representa o estado que flui através do workflow do LangGraph,\n",
    "    servindo como memória compartilhada entre os nós especializados. O assistente\n",
    "    executa um processo de duas etapas para melhorar a qualidade das respostas:\n",
    "\n",
    "    1. **Clarificação da Pergunta**: Um nó especializado recebe a pergunta\n",
    "    original e a reformula para ser mais clara, específica e bem estruturada.\n",
    "\n",
    "    2. **Resposta à Pergunta Clarificada**: Um segundo nó especializado recebe\n",
    "       a pergunta reformulada e gera uma resposta precisa e detalhada.\n",
    "\n",
    "    Esta arquitetura permite que cada LLM tenha um papel específico e otimizado,\n",
    "    resultando em respostas de maior qualidade através da especialização das\n",
    "    tarefas.\n",
    "\n",
    "    Attributes:\n",
    "        question (str): A pergunta original fornecida pelo usuário. Este é o\n",
    "            ponto de entrada do workflow e permanece inalterado para referência.\n",
    "        question_clarified (str): A versão reformulada e melhorada da pergunta\n",
    "            original. É gerada pelo primeiro nó (especialista em clarificação)\n",
    "            e serve como entrada para o segundo nó.\n",
    "        answer (str): A resposta final gerada pelo segundo nó (especialista em\n",
    "            resposta) baseada na pergunta clarificada. Este é o resultado final\n",
    "            do workflow.\n",
    "\n",
    "    Exemplo de fluxo:\n",
    "        Input: question = \"Como fazer café?\"\n",
    "        Node 1: question_clarified = \"Quais são os passos detalhados para\n",
    "                preparar café usando métodos tradicionais como coador de papel?\"\n",
    "        Node 2: answer = \"Para preparar café usando coador de papel:\n",
    "                1) Ferva água...\n",
    "\n",
    "    Note:\n",
    "        Este estado é mutável e é atualizado incrementalmente por cada nó do\n",
    "        workflow. O LangGraph gerencia automaticamente a fusão das atualizações\n",
    "        retornadas por cada nó com o estado compartilhado.\n",
    "\n",
    "    \"\"\"\n",
    "\n",
    "    original_question: str\n",
    "    question_clarified: str\n",
    "    answer: str"
   ]
  },
  {
   "cell_type": "code",
   "execution_count": 25,
   "metadata": {},
   "outputs": [],
   "source": [
    "# 2. Definição dos Nós\n",
    "def reformulate_node(state: AgentState):  # type: ignore\n",
    "    \"\"\"Nó especializado para reformular e clarificar perguntas do usuário.\n",
    "\n",
    "    Este nó é o primeiro estágio do workflow do Assistente de Perguntas.\n",
    "    Sua função principal é receber uma pergunta original (potencialmente ambígua\n",
    "    ou mal estruturada)e reformulá-la para ser mais clara, específica e\n",
    "    otimizada para busca de informações.\n",
    "\n",
    "    O nó utiliza um LLM especializado em clarificação de perguntas,\n",
    "    seguindo um prompt estruturado que instrui o modelo a:\n",
    "    - Tornar a pergunta mais clara e direta\n",
    "    - Remover ambiguidades\n",
    "    - Otimizar para busca de informações\n",
    "    - Retornar apenas a pergunta reformulada, sem explicações adicionais\n",
    "\n",
    "    Este processo de clarificação é fundamental para melhorar a qualidade das\n",
    "    respostas finais, pois garante que o segundo nó (responsável pela resposta)\n",
    "    trabalhe com uma pergunta bem estruturada e específica.\n",
    "\n",
    "    Args:\n",
    "        state (AgentState): O estado compartilhado do workflow. Deve conter a\n",
    "        chave 'original_question' com a pergunta original do usuário.\n",
    "\n",
    "    Returns:\n",
    "        dict[str, str]: Um dicionário contendo apenas as atualizações do estado.\n",
    "            Retorna {\"question_clarified\": reformulated_question} onde\n",
    "            reformulated_question é a versão melhorada da pergunta original.\n",
    "\n",
    "    Raises:\n",
    "        KeyError: Se a chave 'original_question' não estiver presente no estado.\n",
    "        AttributeError: Se o LLM não retornar um objeto com atributo 'content'.\n",
    "\n",
    "    Example:\n",
    "        >>> state = AgentState(original_question=\"Como fazer café?\")\n",
    "        >>> result = reformulate_node(state)\n",
    "        >>> print(result)\n",
    "        {'question_clarified': 'Quais são os passos detalhados para preparar café\n",
    "         usando métodos tradicionais como coador de papel?'}\n",
    "\n",
    "    Note:\n",
    "        - Este nó segue o padrão LangGraph de retornar apenas atualizações\n",
    "          parciais do estado, não o estado completo.\n",
    "        - O LLM utilizado deve ser configurado com temperature baixa (0.0) para\n",
    "          garantir consistência nas reformulações.\n",
    "        - A função inclui logs detalhados para facilitar o debugging e\n",
    "          monitoramento do workflow.\n",
    "\n",
    "    \"\"\"\n",
    "    print(\"--- Entrando no NODE 1: Reformulação da Pergunta ---\")\n",
    "    original_question = state[\"original_question\"]\n",
    "\n",
    "    # * Prompt estruturado para instruir o LLM a reformular a pergunta\n",
    "    prompt = [\n",
    "        SystemMessage(\"\"\"Sua tarefa é reformular a pergunta do usuário para que \n",
    "        ela seja mais clara, direta e otimizada para uma busca de informação.\n",
    "        Retorne apenas a pergunta reformulada, sem explicações ou comentários.\n",
    "        \"\"\"),\n",
    "        HumanMessage(original_question),\n",
    "    ]\n",
    "\n",
    "    # Invocar o LLM para reformular a pergunta\n",
    "    response = llm.invoke(prompt)\n",
    "    reformulated_question = response.content  # type: ignore\n",
    "    print(f\"Pergunta Reformulada: {reformulated_question}\")\n",
    "\n",
    "    # Retorna a ATUALIZAÇÃO do estado (padrão LangGraph)\n",
    "    return {\"question_clarified\": reformulated_question}  # type: ignore"
   ]
  },
  {
   "cell_type": "markdown",
   "metadata": {},
   "source": [
    "### Segundo NODE - Answer Node\n",
    "___"
   ]
  },
  {
   "cell_type": "code",
   "execution_count": 26,
   "metadata": {},
   "outputs": [],
   "source": [
    "def answer_node(state: AgentState):  # type: ignore\n",
    "    \"\"\"Nó especializado para gerar respostas educativas baseadas em perguntas\n",
    "    clarificadas.\n",
    "\n",
    "    Este nó é o segundo estágio do workflow do Assistente de Perguntas.\n",
    "    Sua função principal é receber uma pergunta já reformulada e clarificada\n",
    "    pelo primeiro nó e gerar uma resposta educativa, didática e detalhada.\n",
    "\n",
    "    O nó atua como um tutor especializado em Python, utilizando um LLM\n",
    "    configurado com um prompt específico que instrui o modelo a:\n",
    "    - Responder de forma clara e didática\n",
    "    - Incluir exemplos de código sempre que apropriado\n",
    "    - Estruturar a resposta de maneira educativa\n",
    "    - Fornecer explicações detalhadas e práticas\n",
    "\n",
    "    Este processo de resposta especializada aproveita a qualidade da pergunta\n",
    "    clarificada pelo primeiro nó, resultando em respostas mais precisas e úteis\n",
    "    para o usuário final.\n",
    "\n",
    "    Args:\n",
    "        state (AgentState): O estado compartilhado do workflow. Deve conter a\n",
    "        chave 'question_clarified' com a pergunta já reformulada pelo primeiro\n",
    "        nó.\n",
    "\n",
    "    Returns:\n",
    "        dict[str, str]: Um dicionário contendo apenas as atualizações do estado.\n",
    "            Retorna {\"answer\": answer} onde answer é a resposta educativa gerada\n",
    "            pelo LLM especializado em tutoria de Python.\n",
    "\n",
    "    Raises:\n",
    "        KeyError: Se a chave 'question_clarified' não estiver presente no estado.\n",
    "        AttributeError: Se o LLM não retornar um objeto com atributo 'content'.\n",
    "\n",
    "    Example:\n",
    "        >>> state = AgentState(question_clarified=\"Como implementar uma função\n",
    "        ... que calcula o fatorial de um número em Python?\")\n",
    "        >>> result = answer_node(state)\n",
    "        >>> print(result)\n",
    "        {'answer': 'Para calcular o fatorial de um número em Python, você pode\n",
    "         usar uma função recursiva...'}\n",
    "\n",
    "    Note:\n",
    "        - Este nó depende da saída do primeiro nó (reformulate_node) para\n",
    "        funcionar corretamente.\n",
    "        - O LLM é configurado com um prompt específico para tutoria de Python,\n",
    "          garantindo respostas educativas e com exemplos práticos.\n",
    "        - A função inclui logs para monitoramento, mostrando os primeiros 100\n",
    "          caracteres da resposta gerada.\n",
    "        - Segue o padrão LangGraph de retornar apenas atualizações parciais do\n",
    "        estado.\n",
    "        - A resposta final será armazenada no estado compartilhado e pode ser\n",
    "          acessada por outros componentes do sistema.\n",
    "\n",
    "    Workflow Integration:\n",
    "        Este nó é tipicamente conectado após o reformulate_node no workflow,\n",
    "        criando um pipeline de duas etapas:\n",
    "        1. Clarificação da pergunta (reformulate_node)\n",
    "        2. Geração da resposta educativa (answer_node)\n",
    "\n",
    "    \"\"\"\n",
    "    print(\"--- ENTRANDO NO NÓ DE RESPOSTA ---\")\n",
    "    reformulated_question = state[\"question_clarified\"]\n",
    "\n",
    "    # Prompt estruturado para instruir o LLM a responder como tutor especializado\n",
    "    prompt = [\n",
    "        SystemMessage(\"\"\"Você é um tutor expert em Python. Responda de forma clara, \n",
    "        didática e sempre que possível, com exemplos de código. Estruture sua \n",
    "        resposta de maneira educativa, explicando conceitos de forma progressiva \n",
    "        e fornecendo exemplos práticos quando apropriado.\"\"\"),\n",
    "        HumanMessage(reformulated_question),\n",
    "    ]\n",
    "\n",
    "    # * Invocar o LLM para gerar a resposta educativa\n",
    "    response = llm.invoke(prompt)\n",
    "    answer = response.content  # type: ignore\n",
    "    print(f\"Resposta Gerada: {answer[:100]}...\")\n",
    "\n",
    "    # * Retorna a ATUALIZAÇÃO final para o estado (padrão LangGraph)\n",
    "    return {\"answer\": answer}  # type: ignore"
   ]
  },
  {
   "cell_type": "markdown",
   "metadata": {},
   "source": [
    "### Construção do workflow\n",
    "___"
   ]
  },
  {
   "cell_type": "code",
   "execution_count": 27,
   "metadata": {},
   "outputs": [],
   "source": [
    "# * 3. Construção do Workflow\n",
    "workflow = StateGraph(AgentState)\n",
    "\n",
    "# Adiciona os nós\n",
    "workflow.add_node(\"reformulate\", reformulate_node)\n",
    "workflow.add_node(\"answer\", answer_node)\n",
    "\n",
    "# Define as arestas (o caminho)\n",
    "workflow.set_entry_point(\"reformulate\")  # O ponto de partida é o nó de reformulação\n",
    "workflow.add_edge(\n",
    "    \"reformulate\", \"answer\"\n",
    ")  # Depois de reformular, vá para o nó de resposta\n",
    "workflow.add_edge(\"answer\", END)  # Depois de responder, termine\n",
    "\n",
    "# 4. Compilação e Visualização\n",
    "graph = workflow.compile()"
   ]
  },
  {
   "cell_type": "code",
   "execution_count": 28,
   "metadata": {},
   "outputs": [
    {
     "name": "stderr",
     "output_type": "stream",
     "text": [
      "Adding an edge to a graph that has already been compiled. This will not be reflected in the compiled graph.\n",
      "Adding an edge to a graph that has already been compiled. This will not be reflected in the compiled graph.\n",
      "Adding an edge to a graph that has already been compiled. This will not be reflected in the compiled graph.\n"
     ]
    },
    {
     "data": {
      "text/plain": [
       "<langgraph.graph.state.StateGraph at 0x7f0e8b643390>"
      ]
     },
     "execution_count": 28,
     "metadata": {},
     "output_type": "execute_result"
    }
   ],
   "source": [
    "# Define as arestas (o caminho)\n",
    "workflow.set_entry_point(\"reformulate\")  # O ponto de partida é o nó de reformulação\n",
    "workflow.add_edge(\n",
    "    \"reformulate\", \"answer\"\n",
    ")  # Depois de reformular, vá para o nó de resposta\n",
    "workflow.add_edge(\"answer\", END)  # Depois de responder, termine"
   ]
  },
  {
   "cell_type": "code",
   "execution_count": 29,
   "metadata": {},
   "outputs": [
    {
     "data": {
      "image/png": "[encoded data removed]",
      "text/plain": [
       "<IPython.core.display.Image object>"
      ]
     },
     "metadata": {},
     "output_type": "display_data"
    }
   ],
   "source": [
    "# 4. Compilação e Visualização\n",
    "graph = workflow.compile()\n",
    "\n",
    "# Visualizar o grafo para confirmar a estrutura\n",
    "display(Image(graph.get_graph().draw_mermaid_png()))"
   ]
  },
  {
   "cell_type": "code",
   "execution_count": 31,
   "metadata": {},
   "outputs": [
    {
     "name": "stdout",
     "output_type": "stream",
     "text": [
      "--- Entrando no NODE 1: Reformulação da Pergunta ---\n",
      "Pergunta Reformulada: Como criar um decorator em Python? É necessário usar alguma biblioteca?\n",
      "--- ENTRANDO NO NÓ DE RESPOSTA ---\n",
      "Resposta Gerada: Um decorator em Python é uma função que permite modificar o comportamento de outra função ou método....\n",
      "\n",
      "--- RESULTADO FINAL ---\n",
      "Pergunta Original: Como eu crio um decorator em python, preciso de alguma biblioteca?\n",
      "Pergunta Reformulada: Como criar um decorator em Python? É necessário usar alguma biblioteca?\n",
      "Resposta: Um decorator em Python é uma função que permite modificar o comportamento de outra função ou método. Decorators são uma maneira poderosa e flexível de adicionar funcionalidades a funções existentes sem modificar seu código diretamente. \n",
      "\n",
      "### Estrutura Básica de um Decorator\n",
      "\n",
      "Um decorator é uma função que recebe outra função como argumento e retorna uma nova função que geralmente estende ou altera o comportamento da função original. Vamos ver como isso funciona passo a passo.\n",
      "\n",
      "#### Passo 1: Criando um Decorator Simples\n",
      "\n",
      "Aqui está um exemplo básico de um decorator que imprime uma mensagem antes e depois da execução de uma função:\n",
      "\n",
      "```python\n",
      "def meu_decorator(func):\n",
      "    def wrapper():\n",
      "        print(\"Antes da execução da função.\")\n",
      "        func()  # Chama a função original\n",
      "        print(\"Depois da execução da função.\")\n",
      "    return wrapper\n",
      "```\n",
      "\n",
      "#### Passo 2: Usando o Decorator\n",
      "\n",
      "Para usar o decorator que criamos, você pode aplicá-lo a uma função usando a sintaxe `@decorator_name`:\n",
      "\n",
      "```python\n",
      "@meu_decorator\n",
      "def minha_funcao():\n",
      "    print(\"Executando a função.\")\n",
      "\n",
      "# Chamando a função decorada\n",
      "minha_funcao()\n",
      "```\n",
      "\n",
      "#### Saída Esperada\n",
      "\n",
      "Quando você executa o código acima, a saída será:\n",
      "\n",
      "```\n",
      "Antes da execução da função.\n",
      "Executando a função.\n",
      "Depois da execução da função.\n",
      "```\n",
      "\n",
      "### Passo 3: Decorators com Argumentos\n",
      "\n",
      "Se a função que você está decorando aceita argumentos, você precisará modificar o `wrapper` para aceitar esses argumentos também. Veja como fazer isso:\n",
      "\n",
      "```python\n",
      "def meu_decorator(func):\n",
      "    def wrapper(*args, **kwargs):\n",
      "        print(\"Antes da execução da função.\")\n",
      "        resultado = func(*args, **kwargs)  # Chama a função original com os argumentos\n",
      "        print(\"Depois da execução da função.\")\n",
      "        return resultado  # Retorna o resultado da função original\n",
      "    return wrapper\n",
      "\n",
      "@meu_decorator\n",
      "def soma(a, b):\n",
      "    return a + b\n",
      "\n",
      "# Chamando a função decorada\n",
      "resultado = soma(5, 3)\n",
      "print(\"Resultado da soma:\", resultado)\n",
      "```\n",
      "\n",
      "#### Saída Esperada\n",
      "\n",
      "A saída será:\n",
      "\n",
      "```\n",
      "Antes da execução da função.\n",
      "Depois da execução da função.\n",
      "Resultado da soma: 8\n",
      "```\n",
      "\n",
      "### Passo 4: Usando `functools.wraps`\n",
      "\n",
      "Quando você cria um decorator, a função original perde suas propriedades, como o nome e a documentação. Para preservar essas informações, você pode usar `functools.wraps`. Aqui está como você pode fazer isso:\n",
      "\n",
      "```python\n",
      "from functools import wraps\n",
      "\n",
      "def meu_decorator(func):\n",
      "    @wraps(func)  # Preserva o nome e a docstring da função original\n",
      "    def wrapper(*args, **kwargs):\n",
      "        print(\"Antes da execução da função.\")\n",
      "        resultado = func(*args, **kwargs)\n",
      "        print(\"Depois da execução da função.\")\n",
      "        return resultado\n",
      "    return wrapper\n",
      "\n",
      "@meu_decorator\n",
      "def multiplicar(a, b):\n",
      "    \"\"\"Multiplica dois números.\"\"\"\n",
      "    return a * b\n",
      "\n",
      "# Chamando a função decorada\n",
      "resultado = multiplicar(4, 5)\n",
      "print(\"Resultado da multiplicação:\", resultado)\n",
      "print(\"Nome da função:\", multiplicar.__name__)\n",
      "print(\"Docstring da função:\", multiplicar.__doc__)\n",
      "```\n",
      "\n",
      "#### Saída Esperada\n",
      "\n",
      "A saída será:\n",
      "\n",
      "```\n",
      "Antes da execução da função.\n",
      "Depois da execução da função.\n",
      "Resultado da multiplicação: 20\n",
      "Nome da função: multiplicar\n",
      "Docstring da função: Multiplica dois números.\n",
      "```\n",
      "\n",
      "### Conclusão\n",
      "\n",
      "Decorators são uma ferramenta poderosa em Python que permite modificar o comportamento de funções de maneira elegante e reutilizável. Você não precisa de bibliotecas externas para criar decorators, pois a funcionalidade é nativa da linguagem. Com os exemplos acima, você deve ter uma boa base para começar a usar decorators em seus projetos Python!\n"
     ]
    }
   ],
   "source": [
    "# 5. Execução\n",
    "pergunta_usuario = \"Como eu crio um decorator em python, preciso de alguma biblioteca?\"\n",
    "initial_state = {\"original_question\": pergunta_usuario}\n",
    "\n",
    "final_state = graph.invoke(initial_state)\n",
    "\n",
    "print(\"\\n--- RESULTADO FINAL ---\")\n",
    "print(f\"Pergunta Original: {final_state['original_question']}\")\n",
    "print(f\"Pergunta Reformulada: {final_state['question_clarified']}\")\n",
    "print(f\"Resposta: {final_state['answer']}\")"
   ]
  }
 ],
 "metadata": {
  "kernelspec": {
   "display_name": ".venv",
   "language": "python",
   "name": "python3"
  },
  "language_info": {
   "codemirror_mode": {
    "name": "ipython",
    "version": 3
   },
   "file_extension": ".py",
   "mimetype": "text/x-python",
   "name": "python",
   "nbconvert_exporter": "python",
   "pygments_lexer": "ipython3",
   "version": "3.13.3"
  }
 },
 "nbformat": 4,
 "nbformat_minor": 2
}
