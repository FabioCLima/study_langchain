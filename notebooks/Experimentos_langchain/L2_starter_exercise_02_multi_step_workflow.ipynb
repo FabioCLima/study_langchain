{
 "cells": [
  {
   "cell_type": "markdown",
   "metadata": {},
   "source": [
    "# Exercise - Multi step Workflow - STARTER"
   ]
  },
  {
   "cell_type": "markdown",
   "metadata": {},
   "source": [
    "Welcome to your next challenge in mastering LangChain’s Language Chain Expression Language (LCEL)! 🎯\n",
    "\n",
    "In this exercise, you’ll build a multi-step workflow using LCEL to solve a more complex task than simply generating a joke. We’ll walk through the entire process, from planning a task, to using multiple prompts and chaining steps together.\n",
    "\n",
    "By the end of this exercise, you’ll have built a workflow that generates a business idea, analyzes it, and presents the results in a structured, easy-to-understand format.\n",
    "\n",
    "Scenario\n",
    "You’ve been hired by a startup incubator to build an AI-powered assistant that helps aspiring entrepreneurs brainstorm business ideas, evaluate their potential, and summarize key insights."
   ]
  },
  {
   "cell_type": "markdown",
   "metadata": {},
   "source": [
    "Challenge\n",
    "Create an `AI Business Advisor` that:\n",
    "\n",
    "1.Accepts an industry as input.\n",
    "\n",
    "2.Generates a business idea.\n",
    "\n",
    "3.Analyzes the strengths and weaknesses.\n",
    "\n",
    "4.Formats the results as a final report.\n",
    "\n",
    "Use LangChain LCEL to chain prompts, LLMs, and output parsers."
   ]
  },
  {
   "cell_type": "markdown",
   "metadata": {},
   "source": [
    "In this exercise, you’ll build a multi-step workflow using LCEL to solve a more complex task than simply generating a joke. "
   ]
  },
  {
   "cell_type": "markdown",
   "metadata": {},
   "source": [
    "**Challenge**\n",
    "\n",
    "Create an AI Business Advisor that:\n",
    "\n",
    "1. Accepts an industry as input.\n",
    "2. Generates a business idea.\n",
    "3. Analyzes the strengths and weaknesses.\n",
    "4. Formats the results as a final report.\n"
   ]
  },
  {
   "cell_type": "markdown",
   "metadata": {},
   "source": [
    "## 0. Import the necessary libs"
   ]
  },
  {
   "cell_type": "code",
   "execution_count": 1,
   "metadata": {},
   "outputs": [],
   "source": [
    "import os\n",
    "from langchain_openai import ChatOpenAI\n",
    "from dotenv import load_dotenv, find_dotenv\n",
    "from langchain_core.prompts import PromptTemplate\n",
    "from langchain_core.output_parsers import StrOutputParser\n",
    "from langchain_core.runnables import RunnablePassthrough, RunnableParallel, RunnableLambda\n",
    "from pydantic import BaseModel, Field"
   ]
  },
  {
   "cell_type": "markdown",
   "metadata": {},
   "source": [
    "## 1. Instantiate Chat Model with your API Key"
   ]
  },
  {
   "cell_type": "markdown",
   "metadata": {},
   "source": [
    "To be able to connect with OpenAI, you need to instantiate an ChatOpenAI client passing your OpenAI key.\n",
    "\n",
    "You can pass the `api_key` argument directly.\n",
    "```python\n",
    "llm = ChatOpenAI(\n",
    "    model=\"gpt-4o-mini\",\n",
    "    temperature=0.0,\n",
    "    api_key=\"voc-\",\n",
    ")\n",
    "```"
   ]
  },
  {
   "cell_type": "code",
   "execution_count": 2,
   "metadata": {},
   "outputs": [
    {
     "name": "stdout",
     "output_type": "stream",
     "text": [
      "The sky is **blue** (during a clear day) due to the scattering of sunlight by the atmosphere—a phenomenon known as **Rayleigh scattering**. At sunrise or sunset, the sky can appear **red, orange, or pink** because the sunlight passes through more atmosphere, scattering shorter blue wavelengths and allowing longer red wavelengths to dominate.\n",
      "\n",
      "At night, the sky appears **dark or black** because the sun is no longer illuminating the atmosphere above you.\n",
      "\n",
      "So, the sky **is blue** (most commonly during the day), but its color can change depending on the time of day, weather, and atmospheric conditions.\n"
     ]
    }
   ],
   "source": [
    "#! TODO - Instantiate your chat model\n",
    "# * Carrega as variáveis de ambiente\n",
    "_ = load_dotenv(find_dotenv())\n",
    "\n",
    "# * Verifica se a API key está configurada\n",
    "if not os.getenv(\"OPENAI_API_KEY\"):\n",
    "    raise ValueError(\"OPENAI_API_KEY não encontrada no arquivo .env\")\n",
    "\n",
    "# * Configura o modelo com parâmetros específicos\n",
    "model: ChatOpenAI = ChatOpenAI(\n",
    "    model=\"gpt-4.1\",\n",
    "    temperature=0.0,  # Controla a criatividade das respostas\n",
    ")  # type: ignore\n",
    "\n",
    "response = model.invoke(\"The Sky is ?\")\n",
    "print(response.content)"
   ]
  },
  {
   "cell_type": "markdown",
   "metadata": {},
   "source": [
    "## 2. Your first Chain"
   ]
  },
  {
   "cell_type": "markdown",
   "metadata": {},
   "source": [
    "In the end of each chain, you should parse the output and save the logs"
   ]
  },
  {
   "cell_type": "code",
   "execution_count": 3,
   "metadata": {},
   "outputs": [],
   "source": [
    "logs = []"
   ]
  },
  {
   "cell_type": "code",
   "execution_count": 4,
   "metadata": {},
   "outputs": [],
   "source": [
    "parser = StrOutputParser()"
   ]
  },
  {
   "cell_type": "code",
   "execution_count": 5,
   "metadata": {},
   "outputs": [],
   "source": [
    "parse_and_log_output_chain = RunnableParallel(\n",
    "    output=parser, \n",
    "    log=RunnableLambda(lambda x: logs.append(x))\n",
    ")"
   ]
  },
  {
   "cell_type": "markdown",
   "metadata": {},
   "source": [
    "## 3. Idea Generation"
   ]
  },
  {
   "cell_type": "markdown",
   "metadata": {},
   "source": [
    "Craft a prompt to generate a business idea for the given industry. \n",
    "\n",
    "Make sure {industry} placeholder is inside your template, so it can be filled when the chain is invoked."
   ]
  },
  {
   "cell_type": "code",
   "execution_count": 6,
   "metadata": {},
   "outputs": [],
   "source": [
    "# TODO - Your prompt Template\n",
    "\n",
    "idea_prompt = PromptTemplate(\n",
    "    template=(\n",
    "        \"\"\"You are a creative and strategic business consultant specializing in identifying emerging markets opportunities. \n",
    "Your task is to generate a single, innovative, detailed business idea for the {industry} sector.\n",
    "\n",
    "The idea should be presented clearly and must include the following sections:\n",
    "\n",
    "Business Name: A catchy and memorable name for the new venture.\n",
    "\n",
    "The Core Concept: A one-paragraph summary of the business idea. What is it at its heart?\n",
    "\n",
    "The Problem: What specific problem, need, or gap in the current {industry} market does this business solve for its customers?\n",
    "\n",
    "The Solution: Describe the product or service in detail. How does it directly address the problem you've identified?\n",
    "\n",
    "Target Audience: Describe the ideal customer for this business. Be specific about their demographics, behaviors, and needs.\n",
    "\n",
    "Industry: {industry}\n",
    "\"\"\"\n",
    "    )\n",
    ") # type: ignore"
   ]
  },
  {
   "cell_type": "code",
   "execution_count": 7,
   "metadata": {},
   "outputs": [],
   "source": [
    "# TODO - Create your idea_chain: idea_prompt -> llm -> parse_and_log_output_chain\n",
    "idea_chain = idea_prompt | model | parse_and_log_output_chain # type: ignore"
   ]
  },
  {
   "cell_type": "code",
   "execution_count": 8,
   "metadata": {},
   "outputs": [
    {
     "name": "stdout",
     "output_type": "stream",
     "text": [
      "{'output': '**Business Name:** AgriLoop Circular Solutions\\n\\n**The Core Concept:**  \\nAgriLoop Circular Solutions is a tech-enabled platform that connects small and medium-sized farms with local food processors and bioenergy producers to create a closed-loop system for agricultural byproducts. By transforming crop residues and food waste into value-added products like organic fertilizers, animal feed, and biogas, AgriLoop helps farmers monetize their waste, reduces environmental impact, and supports sustainable agriculture.\\n\\n**The Problem:**  \\nA significant challenge in the agro sector is the inefficient management of agricultural byproducts and food waste. Farmers often burn crop residues or dispose of them unsafely, leading to environmental pollution, loss of potential income, and missed opportunities for resource optimization. Meanwhile, food processors and energy producers struggle to source consistent, quality feedstock for their operations.\\n\\n**The Solution:**  \\nAgriLoop offers a digital marketplace and logistics service that aggregates agricultural byproducts from farms and matches them with local buyers—such as compost manufacturers, livestock feed producers, and biogas plants. The platform provides real-time pricing, quality verification, and end-to-end logistics, ensuring seamless transactions. Additionally, AgriLoop offers consulting and training for farmers on best practices for byproduct collection and storage, maximizing the value of their waste streams. This creates a win-win ecosystem: farmers gain new revenue streams, buyers access reliable raw materials, and the environment benefits from reduced waste and emissions.\\n\\n**Target Audience:**  \\nThe ideal customers are small to medium-sized crop farmers (20–500 hectares) in regions with high agricultural output and limited waste management infrastructure, as well as local food processors, composters, and renewable energy producers seeking sustainable, cost-effective feedstock. These customers are environmentally conscious, open to adopting new technologies, and motivated by both economic and ecological benefits. Secondary audiences include agricultural cooperatives and rural development agencies interested in promoting circular economy practices.', 'log': None}\n"
     ]
    }
   ],
   "source": [
    "# TODO - Test your idea_chain invoking it by passing an industy like \"agro\" to it\n",
    "idea_result = idea_chain.invoke({\"industry\": \"agro\"}) # type: ignore\n",
    "print(idea_result)"
   ]
  },
  {
   "cell_type": "code",
   "execution_count": 9,
   "metadata": {},
   "outputs": [
    {
     "data": {
      "text/plain": [
       "'**Business Name:** AgriLoop Circular Solutions\\n\\n**The Core Concept:**  \\nAgriLoop Circular Solutions is a tech-enabled platform that connects small and medium-sized farms with local food processors and bioenergy producers to create a closed-loop system for agricultural byproducts. By transforming crop residues and food waste into value-added products like organic fertilizers, animal feed, and biogas, AgriLoop helps farmers monetize their waste, reduces environmental impact, and supports sustainable agriculture.\\n\\n**The Problem:**  \\nA significant challenge in the agro sector is the inefficient management of agricultural byproducts and food waste. Farmers often burn crop residues or dispose of them unsafely, leading to environmental pollution, loss of potential income, and missed opportunities for resource optimization. Meanwhile, food processors and energy producers struggle to source consistent, quality feedstock for their operations.\\n\\n**The Solution:**  \\nAgriLoop offers a digital marketplace and logistics service that aggregates agricultural byproducts from farms and matches them with local buyers—such as compost manufacturers, livestock feed producers, and biogas plants. The platform provides real-time pricing, quality verification, and end-to-end logistics, ensuring seamless transactions. Additionally, AgriLoop offers consulting and training for farmers on best practices for byproduct collection and storage, maximizing the value of their waste streams. This creates a win-win ecosystem: farmers gain new revenue streams, buyers access reliable raw materials, and the environment benefits from reduced waste and emissions.\\n\\n**Target Audience:**  \\nThe ideal customers are small to medium-sized crop farmers (20–500 hectares) in regions with high agricultural output and limited waste management infrastructure, as well as local food processors, composters, and renewable energy producers seeking sustainable, cost-effective feedstock. These customers are environmentally conscious, open to adopting new technologies, and motivated by both economic and ecological benefits. Secondary audiences include agricultural cooperatives and rural development agencies interested in promoting circular economy practices.'"
      ]
     },
     "execution_count": 9,
     "metadata": {},
     "output_type": "execute_result"
    }
   ],
   "source": [
    "idea_result[\"output\"]"
   ]
  },
  {
   "cell_type": "code",
   "execution_count": 10,
   "metadata": {},
   "outputs": [
    {
     "data": {
      "text/plain": [
       "[AIMessage(content='**Business Name:** AgriLoop Circular Solutions\\n\\n**The Core Concept:**  \\nAgriLoop Circular Solutions is a tech-enabled platform that connects small and medium-sized farms with local food processors and bioenergy producers to create a closed-loop system for agricultural byproducts. By transforming crop residues and food waste into value-added products like organic fertilizers, animal feed, and biogas, AgriLoop helps farmers monetize their waste, reduces environmental impact, and supports sustainable agriculture.\\n\\n**The Problem:**  \\nA significant challenge in the agro sector is the inefficient management of agricultural byproducts and food waste. Farmers often burn crop residues or dispose of them unsafely, leading to environmental pollution, loss of potential income, and missed opportunities for resource optimization. Meanwhile, food processors and energy producers struggle to source consistent, quality feedstock for their operations.\\n\\n**The Solution:**  \\nAgriLoop offers a digital marketplace and logistics service that aggregates agricultural byproducts from farms and matches them with local buyers—such as compost manufacturers, livestock feed producers, and biogas plants. The platform provides real-time pricing, quality verification, and end-to-end logistics, ensuring seamless transactions. Additionally, AgriLoop offers consulting and training for farmers on best practices for byproduct collection and storage, maximizing the value of their waste streams. This creates a win-win ecosystem: farmers gain new revenue streams, buyers access reliable raw materials, and the environment benefits from reduced waste and emissions.\\n\\n**Target Audience:**  \\nThe ideal customers are small to medium-sized crop farmers (20–500 hectares) in regions with high agricultural output and limited waste management infrastructure, as well as local food processors, composters, and renewable energy producers seeking sustainable, cost-effective feedstock. These customers are environmentally conscious, open to adopting new technologies, and motivated by both economic and ecological benefits. Secondary audiences include agricultural cooperatives and rural development agencies interested in promoting circular economy practices.', additional_kwargs={'refusal': None}, response_metadata={'token_usage': {'completion_tokens': 379, 'prompt_tokens': 159, 'total_tokens': 538, 'completion_tokens_details': {'accepted_prediction_tokens': 0, 'audio_tokens': 0, 'reasoning_tokens': 0, 'rejected_prediction_tokens': 0}, 'prompt_tokens_details': {'audio_tokens': 0, 'cached_tokens': 0}}, 'model_name': 'gpt-4.1-2025-04-14', 'system_fingerprint': 'fp_b3f1157249', 'id': 'chatcmpl-C0rkHZo3fQm5HPrCd9zHaLcPxk4Aq', 'service_tier': 'default', 'finish_reason': 'stop', 'logprobs': None}, id='run--efb95723-0853-4569-b828-89422a929efc-0', usage_metadata={'input_tokens': 159, 'output_tokens': 379, 'total_tokens': 538, 'input_token_details': {'audio': 0, 'cache_read': 0}, 'output_token_details': {'audio': 0, 'reasoning': 0}})]"
      ]
     },
     "execution_count": 10,
     "metadata": {},
     "output_type": "execute_result"
    }
   ],
   "source": [
    "logs"
   ]
  },
  {
   "cell_type": "markdown",
   "metadata": {},
   "source": [
    "## 4. Idea Analysis"
   ]
  },
  {
   "cell_type": "markdown",
   "metadata": {},
   "source": [
    "Craft a prompt to analyze the generated idea's strengths and weaknesses"
   ]
  },
  {
   "cell_type": "code",
   "execution_count": 11,
   "metadata": {},
   "outputs": [],
   "source": [
    "#a TODO - Your prompt Template\n",
    "analysis_prompt = PromptTemplate(\n",
    "    template=(\n",
    "        \"\"\"You are a pragmatic and experienced business analyst. Your primary skill is to realistically evaluate new business concepts, identifying both their potential and their hidden risks.\n",
    "\n",
    "You have been given the following business idea, which is set in the {industry} sector:\n",
    "\n",
    "Business Idea to Analyze: {business_idea}\n",
    "\n",
    "Your task is to conduct a concise Strengths and Weaknesses analysis of this idea. Please structure your report as follows:\n",
    "\n",
    "1. Strengths:\n",
    "List 3 to 5 key strengths of this business concept. Consider its innovation, potential market fit, competitive advantage, and scalability. For each point, briefly explain why it is a strength.\n",
    "\n",
    "2. Weaknesses:\n",
    "List 3 to 5 significant weaknesses or challenges. Consider potential execution hurdles, competitive threats, financial risks, and market adoption barriers. For each point, briefly explain why it is a weakness.\n",
    "\n",
    "3. Concluding Remark:\n",
    "Write a one-sentence final verdict that summarizes the overall viability of the business idea.\"\"\"\n",
    "    ),\n",
    "    input_variables=[\"industry\", \"business_idea\"]\n",
    ")# type ignore"
   ]
  },
  {
   "cell_type": "code",
   "execution_count": 12,
   "metadata": {},
   "outputs": [],
   "source": [
    "# TODO - Your chain\n",
    "\n",
    "from operator import itemgetter\n",
    "\n",
    "analysis_chain = (\n",
    "    RunnableParallel(\n",
    "        industry=itemgetter(\"industry\"),\n",
    "        business_idea=itemgetter(\"business_idea\")\n",
    "    )\n",
    "    | analysis_prompt\n",
    "    | model\n",
    "    | parse_and_log_output_chain\n",
    ")\n"
   ]
  },
  {
   "cell_type": "markdown",
   "metadata": {},
   "source": [
    "### TODO - Test your analysis_chain invoking it by passing idea_result[\"output\"] to it\n",
    "analysis_result = "
   ]
  },
  {
   "cell_type": "code",
   "execution_count": 13,
   "metadata": {},
   "outputs": [
    {
     "name": "stdout",
     "output_type": "stream",
     "text": [
      "{'output': '**1. Strengths:**\\n\\n- **Addresses a Clear Market Need:** The platform directly tackles the widespread problem of agricultural waste mismanagement, offering tangible economic and environmental benefits to both farmers and buyers, which increases its relevance and potential adoption.\\n- **Enables New Revenue Streams for Farmers:** By monetizing agricultural byproducts, AgriLoop provides farmers with additional income sources, making the value proposition attractive and potentially driving strong user engagement.\\n- **Supports Sustainability and Circular Economy:** The closed-loop system aligns with global trends toward sustainability and resource optimization, which can attract support from policymakers, NGOs, and environmentally conscious customers.\\n- **Tech-Enabled Marketplace with Logistics Integration:** The combination of a digital platform, real-time pricing, quality verification, and logistics services creates a comprehensive solution that can differentiate AgriLoop from less integrated competitors.\\n- **Scalable Model:** The platform approach and focus on regions with high agricultural output suggest potential for expansion into multiple geographies and crop types, supporting long-term growth.\\n\\n**2. Weaknesses:**\\n\\n- **Complex Logistics and Supply Chain Management:** Aggregating, verifying, and transporting diverse agricultural byproducts from dispersed farms to various buyers is operationally challenging and may require significant investment in infrastructure and coordination.\\n- **Farmer Adoption Barriers:** Small and medium-sized farmers may be resistant to adopting new technologies or changing established waste management practices, especially in regions with low digital literacy or limited internet access.\\n- **Quality and Consistency Issues:** Ensuring consistent quality and supply of byproducts to meet the requirements of processors and energy producers can be difficult, potentially undermining buyer trust and repeat business.\\n- **Competitive and Regulatory Risks:** Existing local waste aggregators, cooperatives, or government programs may already serve parts of this market, and evolving regulations around waste management could impact business operations or margins.\\n- **High Initial Capital and Operational Costs:** Building the platform, establishing logistics, and providing training/consulting services require substantial upfront investment, with uncertain timelines for achieving profitability.\\n\\n**3. Concluding Remark:**\\n\\nAgriLoop Circular Solutions presents a timely and innovative approach to agricultural waste management with strong market potential, but its success will depend on overcoming significant operational, adoption, and financial challenges.', 'log': None}\n"
     ]
    }
   ],
   "source": [
    "analysis_result = analysis_chain.invoke({\n",
    "    \"industry\": \"agro\",\n",
    "    \"business_idea\": idea_result\n",
    "})\n",
    "\n",
    "print(analysis_result)"
   ]
  },
  {
   "cell_type": "code",
   "execution_count": 14,
   "metadata": {},
   "outputs": [
    {
     "name": "stdout",
     "output_type": "stream",
     "text": [
      "<class 'dict'>\n"
     ]
    }
   ],
   "source": [
    "print(type(idea_result))"
   ]
  },
  {
   "cell_type": "code",
   "execution_count": 15,
   "metadata": {},
   "outputs": [
    {
     "data": {
      "text/plain": [
       "'**1. Strengths:**\\n\\n- **Addresses a Clear Market Need:** The platform directly tackles the widespread problem of agricultural waste mismanagement, offering tangible economic and environmental benefits to both farmers and buyers, which increases its relevance and potential adoption.\\n- **Enables New Revenue Streams for Farmers:** By monetizing agricultural byproducts, AgriLoop provides farmers with additional income sources, making the value proposition attractive and potentially driving strong user engagement.\\n- **Supports Sustainability and Circular Economy:** The closed-loop system aligns with global trends toward sustainability and resource optimization, which can attract support from policymakers, NGOs, and environmentally conscious customers.\\n- **Tech-Enabled Marketplace with Logistics Integration:** The combination of a digital platform, real-time pricing, quality verification, and logistics services creates a comprehensive solution that can differentiate AgriLoop from less integrated competitors.\\n- **Scalable Model:** The platform approach and focus on regions with high agricultural output suggest potential for expansion into multiple geographies and crop types, supporting long-term growth.\\n\\n**2. Weaknesses:**\\n\\n- **Complex Logistics and Supply Chain Management:** Aggregating, verifying, and transporting diverse agricultural byproducts from dispersed farms to various buyers is operationally challenging and may require significant investment in infrastructure and coordination.\\n- **Farmer Adoption Barriers:** Small and medium-sized farmers may be resistant to adopting new technologies or changing established waste management practices, especially in regions with low digital literacy or limited internet access.\\n- **Quality and Consistency Issues:** Ensuring consistent quality and supply of byproducts to meet the requirements of processors and energy producers can be difficult, potentially undermining buyer trust and repeat business.\\n- **Competitive and Regulatory Risks:** Existing local waste aggregators, cooperatives, or government programs may already serve parts of this market, and evolving regulations around waste management could impact business operations or margins.\\n- **High Initial Capital and Operational Costs:** Building the platform, establishing logistics, and providing training/consulting services require substantial upfront investment, with uncertain timelines for achieving profitability.\\n\\n**3. Concluding Remark:**\\n\\nAgriLoop Circular Solutions presents a timely and innovative approach to agricultural waste management with strong market potential, but its success will depend on overcoming significant operational, adoption, and financial challenges.'"
      ]
     },
     "execution_count": 15,
     "metadata": {},
     "output_type": "execute_result"
    }
   ],
   "source": [
    "analysis_result[\"output\"]"
   ]
  },
  {
   "cell_type": "code",
   "execution_count": 16,
   "metadata": {},
   "outputs": [
    {
     "data": {
      "text/plain": [
       "[AIMessage(content='**Business Name:** AgriLoop Circular Solutions\\n\\n**The Core Concept:**  \\nAgriLoop Circular Solutions is a tech-enabled platform that connects small and medium-sized farms with local food processors and bioenergy producers to create a closed-loop system for agricultural byproducts. By transforming crop residues and food waste into value-added products like organic fertilizers, animal feed, and biogas, AgriLoop helps farmers monetize their waste, reduces environmental impact, and supports sustainable agriculture.\\n\\n**The Problem:**  \\nA significant challenge in the agro sector is the inefficient management of agricultural byproducts and food waste. Farmers often burn crop residues or dispose of them unsafely, leading to environmental pollution, loss of potential income, and missed opportunities for resource optimization. Meanwhile, food processors and energy producers struggle to source consistent, quality feedstock for their operations.\\n\\n**The Solution:**  \\nAgriLoop offers a digital marketplace and logistics service that aggregates agricultural byproducts from farms and matches them with local buyers—such as compost manufacturers, livestock feed producers, and biogas plants. The platform provides real-time pricing, quality verification, and end-to-end logistics, ensuring seamless transactions. Additionally, AgriLoop offers consulting and training for farmers on best practices for byproduct collection and storage, maximizing the value of their waste streams. This creates a win-win ecosystem: farmers gain new revenue streams, buyers access reliable raw materials, and the environment benefits from reduced waste and emissions.\\n\\n**Target Audience:**  \\nThe ideal customers are small to medium-sized crop farmers (20–500 hectares) in regions with high agricultural output and limited waste management infrastructure, as well as local food processors, composters, and renewable energy producers seeking sustainable, cost-effective feedstock. These customers are environmentally conscious, open to adopting new technologies, and motivated by both economic and ecological benefits. Secondary audiences include agricultural cooperatives and rural development agencies interested in promoting circular economy practices.', additional_kwargs={'refusal': None}, response_metadata={'token_usage': {'completion_tokens': 379, 'prompt_tokens': 159, 'total_tokens': 538, 'completion_tokens_details': {'accepted_prediction_tokens': 0, 'audio_tokens': 0, 'reasoning_tokens': 0, 'rejected_prediction_tokens': 0}, 'prompt_tokens_details': {'audio_tokens': 0, 'cached_tokens': 0}}, 'model_name': 'gpt-4.1-2025-04-14', 'system_fingerprint': 'fp_b3f1157249', 'id': 'chatcmpl-C0rkHZo3fQm5HPrCd9zHaLcPxk4Aq', 'service_tier': 'default', 'finish_reason': 'stop', 'logprobs': None}, id='run--efb95723-0853-4569-b828-89422a929efc-0', usage_metadata={'input_tokens': 159, 'output_tokens': 379, 'total_tokens': 538, 'input_token_details': {'audio': 0, 'cache_read': 0}, 'output_token_details': {'audio': 0, 'reasoning': 0}}),\n",
       " AIMessage(content='**1. Strengths:**\\n\\n- **Addresses a Clear Market Need:** The platform directly tackles the widespread problem of agricultural waste mismanagement, offering tangible economic and environmental benefits to both farmers and buyers, which increases its relevance and potential adoption.\\n- **Enables New Revenue Streams for Farmers:** By monetizing agricultural byproducts, AgriLoop provides farmers with additional income sources, making the value proposition attractive and potentially driving strong user engagement.\\n- **Supports Sustainability and Circular Economy:** The closed-loop system aligns with global trends toward sustainability and resource optimization, which can attract support from policymakers, NGOs, and environmentally conscious customers.\\n- **Tech-Enabled Marketplace with Logistics Integration:** The combination of a digital platform, real-time pricing, quality verification, and logistics services creates a comprehensive solution that can differentiate AgriLoop from less integrated competitors.\\n- **Scalable Model:** The platform approach and focus on regions with high agricultural output suggest potential for expansion into multiple geographies and crop types, supporting long-term growth.\\n\\n**2. Weaknesses:**\\n\\n- **Complex Logistics and Supply Chain Management:** Aggregating, verifying, and transporting diverse agricultural byproducts from dispersed farms to various buyers is operationally challenging and may require significant investment in infrastructure and coordination.\\n- **Farmer Adoption Barriers:** Small and medium-sized farmers may be resistant to adopting new technologies or changing established waste management practices, especially in regions with low digital literacy or limited internet access.\\n- **Quality and Consistency Issues:** Ensuring consistent quality and supply of byproducts to meet the requirements of processors and energy producers can be difficult, potentially undermining buyer trust and repeat business.\\n- **Competitive and Regulatory Risks:** Existing local waste aggregators, cooperatives, or government programs may already serve parts of this market, and evolving regulations around waste management could impact business operations or margins.\\n- **High Initial Capital and Operational Costs:** Building the platform, establishing logistics, and providing training/consulting services require substantial upfront investment, with uncertain timelines for achieving profitability.\\n\\n**3. Concluding Remark:**\\n\\nAgriLoop Circular Solutions presents a timely and innovative approach to agricultural waste management with strong market potential, but its success will depend on overcoming significant operational, adoption, and financial challenges.', additional_kwargs={'refusal': None}, response_metadata={'token_usage': {'completion_tokens': 444, 'prompt_tokens': 597, 'total_tokens': 1041, 'completion_tokens_details': {'accepted_prediction_tokens': 0, 'audio_tokens': 0, 'reasoning_tokens': 0, 'rejected_prediction_tokens': 0}, 'prompt_tokens_details': {'audio_tokens': 0, 'cached_tokens': 0}}, 'model_name': 'gpt-4.1-2025-04-14', 'system_fingerprint': 'fp_b3f1157249', 'id': 'chatcmpl-C0rkPUFIMM9KiBreYpfMQWNDQkwqy', 'service_tier': 'default', 'finish_reason': 'stop', 'logprobs': None}, id='run--8fb7e811-2da4-4419-ae17-16ece7e36bef-0', usage_metadata={'input_tokens': 597, 'output_tokens': 444, 'total_tokens': 1041, 'input_token_details': {'audio': 0, 'cache_read': 0}, 'output_token_details': {'audio': 0, 'reasoning': 0}})]"
      ]
     },
     "execution_count": 16,
     "metadata": {},
     "output_type": "execute_result"
    }
   ],
   "source": [
    "logs"
   ]
  },
  {
   "cell_type": "markdown",
   "metadata": {},
   "source": [
    "## 5. Report Generation"
   ]
  },
  {
   "cell_type": "markdown",
   "metadata": {},
   "source": [
    "Craft a prompt to structure the information into a business report."
   ]
  },
  {
   "cell_type": "code",
   "execution_count": 17,
   "metadata": {},
   "outputs": [],
   "source": [
    "# TODO - Your prompt Template\n",
    "report_prompt = PromptTemplate(\n",
    "    template=(\n",
    "        \"\"\"You are a meticulous analyst. Given the following raw analysis of a business idea, reformat the information into a structured business report with clear fields.\n",
    "\n",
    "Analysis:\n",
    "{analysis}\n",
    "\n",
    "Please convert the above analysis into the following format:\n",
    "\n",
    "BusinessReport:\n",
    "- strengths: A list of short bullet points summarizing the main strengths.\n",
    "- weaknesses: A list of short bullet points summarizing the main weaknesses.\n",
    "- remark: A short concluding remark on the viability of the business idea.\n",
    "\n",
    "Output only the structured report in plain text. Do not include explanations or additional commentary.\"\"\"\n",
    "    ),\n",
    "    input_variables=[\"analysis\"]\n",
    ")"
   ]
  },
  {
   "cell_type": "code",
   "execution_count": 18,
   "metadata": {},
   "outputs": [],
   "source": [
    "from pydantic import BaseModel, Field\n",
    "from typing import List\n",
    "\n",
    "class AnalysisReport(BaseModel):\n",
    "    \"\"\"Structured business analysis report with strengths, weaknesses, and a final remark.\"\"\"\n",
    "    \n",
    "    strengths: List[str] = Field(default=[], description=\"List of strengths of the business idea\")\n",
    "    weaknesses: List[str] = Field(default=[], description=\"List of weaknesses or risks of the business idea\")\n",
    "    remark: str = Field(..., description=\"Final one-sentence verdict on the idea\")\n"
   ]
  },
  {
   "cell_type": "code",
   "execution_count": 19,
   "metadata": {},
   "outputs": [],
   "source": [
    "report_chain = (\n",
    "    report_prompt | model.with_structured_output(AnalysisReport)\n",
    ")"
   ]
  },
  {
   "cell_type": "code",
   "execution_count": 20,
   "metadata": {},
   "outputs": [],
   "source": [
    "# TODO - Test your report_chain invoking it by passing analysis_result[\"output\"] to it\n",
    "report_result = report_chain.invoke({\n",
    "    \"analysis\": analysis_result[\"output\"]\n",
    "})"
   ]
  },
  {
   "cell_type": "code",
   "execution_count": 21,
   "metadata": {},
   "outputs": [
    {
     "data": {
      "text/plain": [
       "AnalysisReport(strengths=['Addresses a clear market need for agricultural waste management.', 'Enables new revenue streams for farmers by monetizing byproducts.', 'Supports sustainability and aligns with circular economy trends.', 'Offers a tech-enabled, integrated marketplace with logistics and quality verification.', 'Scalable model with potential for geographic and crop-type expansion.'], weaknesses=['Complex logistics and supply chain management requirements.', 'Potential barriers to farmer adoption, especially among smallholders with low digital literacy.', 'Challenges in ensuring consistent quality and supply of byproducts.', 'Competition from existing aggregators, cooperatives, and regulatory risks.', 'High initial capital and operational costs with uncertain profitability timeline.'], remark='AgriLoop Circular Solutions is a promising and innovative business with strong market potential, but its success hinges on overcoming significant operational, adoption, and financial hurdles.')"
      ]
     },
     "execution_count": 21,
     "metadata": {},
     "output_type": "execute_result"
    }
   ],
   "source": [
    "report_result"
   ]
  },
  {
   "cell_type": "markdown",
   "metadata": {},
   "source": [
    "## 6. End to End Chain"
   ]
  },
  {
   "cell_type": "code",
   "execution_count": 22,
   "metadata": {},
   "outputs": [],
   "source": [
    "e2e_chain = ( \n",
    "    RunnablePassthrough() \n",
    "    | idea_chain\n",
    "    | RunnableParallel(idea=RunnablePassthrough())\n",
    "    | analysis_chain\n",
    "    | report_chain\n",
    ")"
   ]
  },
  {
   "cell_type": "markdown",
   "metadata": {},
   "source": [
    "### `Versão corrigida`\n",
    "___"
   ]
  },
  {
   "cell_type": "code",
   "execution_count": null,
   "metadata": {},
   "outputs": [],
   "source": [
    "from langchain_core.runnables import RunnablePassthrough\n",
    "from operator import itemgetter\n",
    "\n",
    "# A cadeia ponta-a-ponta corrigida\n",
    "e2e_chain = (\n",
    "    # O RunnablePassthrough.assign mantém o dicionário de entrada (com a chave \"industry\")\n",
    "    # e executa a idea_chain, adicionando seu resultado sob a nova chave \"idea_output\".\n",
    "    RunnablePassthrough.assign(\n",
    "        idea_output=idea_chain\n",
    "    )\n",
    "    | RunnablePassthrough.assign(\n",
    "        # Em seguida, preparamos e executamos a analysis_chain.\n",
    "        # Usamos um lambda para construir o dicionário de entrada que a analysis_chain espera,\n",
    "        # pegando \"industry\" (que foi preservada) e o texto da ideia de \"idea_output\".\n",
    "        analysis_output=(\n",
    "            lambda x: {\n",
    "                \"industry\": x[\"industry\"],\n",
    "                \"business_idea\": x[\"idea_output\"][\"output\"]\n",
    "            }\n",
    "        ) | analysis_chain\n",
    "    )\n",
    "    | (\n",
    "        # Finalmente, preparamos a entrada para a report_chain,\n",
    "        # extraindo apenas o texto da análise.\n",
    "        lambda x: {\n",
    "            \"analysis\": x[\"analysis_output\"][\"output\"]\n",
    "        }\n",
    "    ) | report_chain\n",
    ") f# type: ignore\n"
   ]
  },
  {
   "cell_type": "code",
   "execution_count": 31,
   "metadata": {},
   "outputs": [
    {
     "name": "stdout",
     "output_type": "stream",
     "text": [
      "                           +----------------------------+                  \n",
      "                           | Parallel<idea_output>Input |                  \n",
      "                           +----------------------------+                  \n",
      "                                 **                 *****                  \n",
      "                              ***                        ***               \n",
      "                            **                              *****          \n",
      "                +----------------+                               **        \n",
      "                | PromptTemplate |                                *        \n",
      "                +----------------+                                *        \n",
      "                         *                                        *        \n",
      "                         *                                        *        \n",
      "                         *                                        *        \n",
      "                  +------------+                                  *        \n",
      "                  | ChatOpenAI |                                  *        \n",
      "                  +------------+                                  *        \n",
      "                         *                                        *        \n",
      "                         *                                        *        \n",
      "                         *                                        *        \n",
      "          +---------------------------+                           *        \n",
      "          | Parallel<output,log>Input |                           *        \n",
      "          +---------------------------+                           *        \n",
      "                  ***         ***                                 *        \n",
      "                 *               *                                *        \n",
      "               **                 **                              *        \n",
      "   +-----------------+          +--------+                        *        \n",
      "   | StrOutputParser |          | Lambda |                        *        \n",
      "   +-----------------+          +--------+                        *        \n",
      "                  ***         ***                                 *        \n",
      "                     *       *                                    *        \n",
      "                      **   **                                     *        \n",
      "          +----------------------------+                  +-------------+  \n",
      "          | Parallel<output,log>Output |                  | Passthrough |  \n",
      "          +----------------------------+                 *+-------------+  \n",
      "                                 **                 *****                  \n",
      "                                   ***           ***                       \n",
      "                                      **      ***                          \n",
      "                          +-----------------------------+                  \n",
      "                          | Parallel<idea_output>Output |                  \n",
      "                          +-----------------------------+                  \n",
      "                                          *                                \n",
      "                                          *                                \n",
      "                                          *                                \n",
      "                         +--------------------------------+                \n",
      "                         | Parallel<analysis_output>Input |                \n",
      "                         +--------------------------------+                \n",
      "                              ****                  *****                  \n",
      "                           ***                           ***               \n",
      "                         **                                 *****          \n",
      "                 +--------+                                      **        \n",
      "                 | Lambda |                                       *        \n",
      "                 +--------+                                       *        \n",
      "                      *                                           *        \n",
      "                      *                                           *        \n",
      "                      *                                           *        \n",
      " +---------------------------------------+                        *        \n",
      " | Parallel<industry,business_idea>Input |                        *        \n",
      " +---------------------------------------+                        *        \n",
      "                **        **                                      *        \n",
      "              **            **                                    *        \n",
      "             *                *                                   *        \n",
      "       +--------+          +--------+                             *        \n",
      "       | Lambda |          | Lambda |                             *        \n",
      "       +--------+          +--------+                             *        \n",
      "                **        **                                      *        \n",
      "                  **    **                                        *        \n",
      "                    *  *                                          *        \n",
      " +----------------------------------------+                       *        \n",
      " | Parallel<industry,business_idea>Output |                       *        \n",
      " +----------------------------------------+                       *        \n",
      "                      *                                           *        \n",
      "                      *                                           *        \n",
      "                      *                                           *        \n",
      "             +----------------+                                   *        \n",
      "             | PromptTemplate |                                   *        \n",
      "             +----------------+                                   *        \n",
      "                      *                                           *        \n",
      "                      *                                           *        \n",
      "                      *                                           *        \n",
      "               +------------+                                     *        \n",
      "               | ChatOpenAI |                                     *        \n",
      "               +------------+                                     *        \n",
      "                      *                                           *        \n",
      "                      *                                           *        \n",
      "                      *                                           *        \n",
      "       +---------------------------+                              *        \n",
      "       | Parallel<output,log>Input |                              *        \n",
      "       +---------------------------+                              *        \n",
      "               ***         ***                                    *        \n",
      "              *               *                                   *        \n",
      "            **                 **                                 *        \n",
      "+-----------------+          +--------+                           *        \n",
      "| StrOutputParser |          | Lambda |                           *        \n",
      "+-----------------+          +--------+                           *        \n",
      "               ***         ***                                    *        \n",
      "                  *       *                                       *        \n",
      "                   **   **                                        *        \n",
      "       +----------------------------+                     +-------------+  \n",
      "       | Parallel<output,log>Output |                     | Passthrough |  \n",
      "       +----------------------------+                    *+-------------+  \n",
      "                              ****                  *****                  \n",
      "                                  ***            ***                       \n",
      "                                     **       ***                          \n",
      "                        +---------------------------------+                \n",
      "                        | Parallel<analysis_output>Output |                \n",
      "                        +---------------------------------+                \n",
      "                                          *                                \n",
      "                                          *                                \n",
      "                                          *                                \n",
      "                                     +--------+                            \n",
      "                                     | Lambda |                            \n",
      "                                     +--------+                            \n",
      "                                          *                                \n",
      "                                          *                                \n",
      "                                          *                                \n",
      "                                 +----------------+                        \n",
      "                                 | PromptTemplate |                        \n",
      "                                 +----------------+                        \n",
      "                                          *                                \n",
      "                                          *                                \n",
      "                                          *                                \n",
      "                                   +------------+                          \n",
      "                                   | ChatOpenAI |                          \n",
      "                                   +------------+                          \n",
      "                                          *                                \n",
      "                                          *                                \n",
      "                                          *                                \n",
      "                                     +--------+                            \n",
      "                                     | Lambda |                            \n",
      "                                     +--------+                            \n",
      "                                          *                                \n",
      "                                          *                                \n",
      "                                          *                                \n",
      "                                  +--------------+                         \n",
      "                                  | LambdaOutput |                         \n",
      "                                  +--------------+                         \n"
     ]
    }
   ],
   "source": [
    "e2e_chain.get_graph().print_ascii()"
   ]
  },
  {
   "cell_type": "code",
   "execution_count": 32,
   "metadata": {},
   "outputs": [],
   "source": [
    "# Change the industry if you want\n",
    "e2e_result = e2e_chain.invoke({\"industry\": \"agro\"})"
   ]
  },
  {
   "cell_type": "code",
   "execution_count": 33,
   "metadata": {},
   "outputs": [
    {
     "data": {
      "text/plain": [
       "AnalysisReport(strengths=['Addresses a clear market need for agricultural waste management among small and medium-sized farms.', 'Leverages innovative technology such as IoT, logistics optimization, and a digital marketplace to enhance efficiency and trust.', 'Aligns with sustainability trends and regulatory pressures for transparent, eco-friendly agriculture.', 'Has potential for strong network effects as more users join, increasing platform value and defensibility.'], weaknesses=['Potential resistance to technology adoption among target users who may lack digital literacy or perceive risk.', 'High logistical and operational complexity in coordinating collection and delivery across rural areas.', 'Dependence on the presence of local processors and manufacturers, limiting scalability in some regions.', 'Requires significant upfront capital and working capital, posing financial risks before reaching scale.'], remark='AgriLoop Circular Solutions is an innovative and timely business with strong potential, but its success depends on overcoming substantial adoption and operational hurdles in a fragmented market.')"
      ]
     },
     "execution_count": 33,
     "metadata": {},
     "output_type": "execute_result"
    }
   ],
   "source": [
    "e2e_result"
   ]
  },
  {
   "cell_type": "code",
   "execution_count": 34,
   "metadata": {},
   "outputs": [
    {
     "data": {
      "text/plain": [
       "['Addresses a clear market need for agricultural waste management among small and medium-sized farms.',\n",
       " 'Leverages innovative technology such as IoT, logistics optimization, and a digital marketplace to enhance efficiency and trust.',\n",
       " 'Aligns with sustainability trends and regulatory pressures for transparent, eco-friendly agriculture.',\n",
       " 'Has potential for strong network effects as more users join, increasing platform value and defensibility.']"
      ]
     },
     "execution_count": 34,
     "metadata": {},
     "output_type": "execute_result"
    }
   ],
   "source": [
    "e2e_result.strengths"
   ]
  },
  {
   "cell_type": "code",
   "execution_count": 35,
   "metadata": {},
   "outputs": [
    {
     "data": {
      "text/plain": [
       "['Potential resistance to technology adoption among target users who may lack digital literacy or perceive risk.',\n",
       " 'High logistical and operational complexity in coordinating collection and delivery across rural areas.',\n",
       " 'Dependence on the presence of local processors and manufacturers, limiting scalability in some regions.',\n",
       " 'Requires significant upfront capital and working capital, posing financial risks before reaching scale.']"
      ]
     },
     "execution_count": 35,
     "metadata": {},
     "output_type": "execute_result"
    }
   ],
   "source": [
    "e2e_result.weaknesses"
   ]
  },
  {
   "cell_type": "code",
   "execution_count": 36,
   "metadata": {},
   "outputs": [
    {
     "data": {
      "text/plain": [
       "[AIMessage(content='**Business Name:** AgriLoop Circular Solutions\\n\\n**The Core Concept:**  \\nAgriLoop Circular Solutions is a tech-enabled platform that connects small and medium-sized farms with local food processors and bioenergy producers to create a closed-loop system for agricultural byproducts. By transforming crop residues and food waste into value-added products like organic fertilizers, animal feed, and biogas, AgriLoop helps farmers monetize their waste, reduces environmental impact, and supports sustainable agriculture.\\n\\n**The Problem:**  \\nA significant challenge in the agro sector is the inefficient management of agricultural byproducts and food waste. Farmers often burn crop residues or dispose of them unsafely, leading to environmental pollution, loss of potential income, and missed opportunities for resource optimization. Meanwhile, food processors and energy producers struggle to source consistent, quality feedstock for their operations.\\n\\n**The Solution:**  \\nAgriLoop offers a digital marketplace and logistics service that aggregates agricultural byproducts from farms and matches them with local buyers—such as compost manufacturers, livestock feed producers, and biogas plants. The platform provides real-time pricing, quality verification, and end-to-end logistics, ensuring seamless transactions. Additionally, AgriLoop offers consulting and training for farmers on best practices for byproduct collection and storage, maximizing the value of their waste streams. This creates a win-win ecosystem: farmers gain new revenue streams, buyers access reliable raw materials, and the environment benefits from reduced waste and emissions.\\n\\n**Target Audience:**  \\nThe ideal customers are small to medium-sized crop farmers (20–500 hectares) in regions with high agricultural output and limited waste management infrastructure, as well as local food processors, composters, and renewable energy producers seeking sustainable, cost-effective feedstock. These customers are environmentally conscious, open to adopting new technologies, and motivated by both economic and ecological benefits. Secondary audiences include agricultural cooperatives and rural development agencies interested in promoting circular economy practices.', additional_kwargs={'refusal': None}, response_metadata={'token_usage': {'completion_tokens': 379, 'prompt_tokens': 159, 'total_tokens': 538, 'completion_tokens_details': {'accepted_prediction_tokens': 0, 'audio_tokens': 0, 'reasoning_tokens': 0, 'rejected_prediction_tokens': 0}, 'prompt_tokens_details': {'audio_tokens': 0, 'cached_tokens': 0}}, 'model_name': 'gpt-4.1-2025-04-14', 'system_fingerprint': 'fp_b3f1157249', 'id': 'chatcmpl-C0rkHZo3fQm5HPrCd9zHaLcPxk4Aq', 'service_tier': 'default', 'finish_reason': 'stop', 'logprobs': None}, id='run--efb95723-0853-4569-b828-89422a929efc-0', usage_metadata={'input_tokens': 159, 'output_tokens': 379, 'total_tokens': 538, 'input_token_details': {'audio': 0, 'cache_read': 0}, 'output_token_details': {'audio': 0, 'reasoning': 0}}),\n",
       " AIMessage(content='**1. Strengths:**\\n\\n- **Addresses a Clear Market Need:** The platform directly tackles the widespread problem of agricultural waste mismanagement, offering tangible economic and environmental benefits to both farmers and buyers, which increases its relevance and potential adoption.\\n- **Enables New Revenue Streams for Farmers:** By monetizing agricultural byproducts, AgriLoop provides farmers with additional income sources, making the value proposition attractive and potentially driving strong user engagement.\\n- **Supports Sustainability and Circular Economy:** The closed-loop system aligns with global trends toward sustainability and resource optimization, which can attract support from policymakers, NGOs, and environmentally conscious customers.\\n- **Tech-Enabled Marketplace with Logistics Integration:** The combination of a digital platform, real-time pricing, quality verification, and logistics services creates a comprehensive solution that can differentiate AgriLoop from less integrated competitors.\\n- **Scalable Model:** The platform approach and focus on regions with high agricultural output suggest potential for expansion into multiple geographies and crop types, supporting long-term growth.\\n\\n**2. Weaknesses:**\\n\\n- **Complex Logistics and Supply Chain Management:** Aggregating, verifying, and transporting diverse agricultural byproducts from dispersed farms to various buyers is operationally challenging and may require significant investment in infrastructure and coordination.\\n- **Farmer Adoption Barriers:** Small and medium-sized farmers may be resistant to adopting new technologies or changing established waste management practices, especially in regions with low digital literacy or limited internet access.\\n- **Quality and Consistency Issues:** Ensuring consistent quality and supply of byproducts to meet the requirements of processors and energy producers can be difficult, potentially undermining buyer trust and repeat business.\\n- **Competitive and Regulatory Risks:** Existing local waste aggregators, cooperatives, or government programs may already serve parts of this market, and evolving regulations around waste management could impact business operations or margins.\\n- **High Initial Capital and Operational Costs:** Building the platform, establishing logistics, and providing training/consulting services require substantial upfront investment, with uncertain timelines for achieving profitability.\\n\\n**3. Concluding Remark:**\\n\\nAgriLoop Circular Solutions presents a timely and innovative approach to agricultural waste management with strong market potential, but its success will depend on overcoming significant operational, adoption, and financial challenges.', additional_kwargs={'refusal': None}, response_metadata={'token_usage': {'completion_tokens': 444, 'prompt_tokens': 597, 'total_tokens': 1041, 'completion_tokens_details': {'accepted_prediction_tokens': 0, 'audio_tokens': 0, 'reasoning_tokens': 0, 'rejected_prediction_tokens': 0}, 'prompt_tokens_details': {'audio_tokens': 0, 'cached_tokens': 0}}, 'model_name': 'gpt-4.1-2025-04-14', 'system_fingerprint': 'fp_b3f1157249', 'id': 'chatcmpl-C0rkPUFIMM9KiBreYpfMQWNDQkwqy', 'service_tier': 'default', 'finish_reason': 'stop', 'logprobs': None}, id='run--8fb7e811-2da4-4419-ae17-16ece7e36bef-0', usage_metadata={'input_tokens': 597, 'output_tokens': 444, 'total_tokens': 1041, 'input_token_details': {'audio': 0, 'cache_read': 0}, 'output_token_details': {'audio': 0, 'reasoning': 0}}),\n",
       " AIMessage(content='**Business Name:** AgriLoop Circular Solutions\\n\\n**The Core Concept:**  \\nAgriLoop Circular Solutions is a tech-enabled platform that connects small and medium-sized farms with local food processors and bioenergy producers to create a closed-loop system for agricultural byproducts. By transforming crop residues and food waste into value-added products like organic fertilizers, animal feed, and biogas, AgriLoop helps farmers monetize their waste, reduces environmental impact, and supports sustainable agriculture.\\n\\n**The Problem:**  \\nA significant challenge in the agro sector is the inefficient management of agricultural byproducts and food waste. Farmers often burn crop residues or discard organic waste, leading to environmental pollution, loss of potential income, and missed opportunities for resource optimization. Meanwhile, food processors and energy producers struggle to source consistent, high-quality organic inputs for their operations.\\n\\n**The Solution:**  \\nAgriLoop offers a digital marketplace and logistics service that aggregates agricultural byproducts from local farms and matches them with buyers in the food processing, animal husbandry, and renewable energy sectors. The platform provides real-time pricing, quality verification, and transparent transactions. Additionally, AgriLoop offers on-site waste collection, processing (such as shredding or composting), and delivery services, ensuring that waste is efficiently converted into valuable products like organic fertilizers, animal feed, and biogas feedstock. This not only creates new revenue streams for farmers but also supports a circular economy in agriculture.\\n\\n**Target Audience:**  \\nThe ideal customers are small to medium-sized farmers (20-500 acres) in peri-urban and rural areas who produce significant crop residues or organic waste but lack the resources or knowledge to monetize it. Secondary customers include local food processors, livestock farmers, and renewable energy producers seeking reliable, sustainable sources of organic inputs. These customers are environmentally conscious, cost-sensitive, and interested in sustainable practices that improve profitability and reduce waste.\\n\\n**Industry:** Agro', additional_kwargs={'refusal': None}, response_metadata={'token_usage': {'completion_tokens': 377, 'prompt_tokens': 159, 'total_tokens': 536, 'completion_tokens_details': {'accepted_prediction_tokens': 0, 'audio_tokens': 0, 'reasoning_tokens': 0, 'rejected_prediction_tokens': 0}, 'prompt_tokens_details': {'audio_tokens': 0, 'cached_tokens': 0}}, 'model_name': 'gpt-4.1-2025-04-14', 'system_fingerprint': 'fp_b3f1157249', 'id': 'chatcmpl-C0rmsyCyl7OnMHkHJd1NbA64k0Ozs', 'service_tier': 'default', 'finish_reason': 'stop', 'logprobs': None}, id='run--0c40337b-2baa-48b3-9f5a-fb77fef18b08-0', usage_metadata={'input_tokens': 159, 'output_tokens': 377, 'total_tokens': 536, 'input_token_details': {'audio': 0, 'cache_read': 0}, 'output_token_details': {'audio': 0, 'reasoning': 0}}),\n",
       " AIMessage(content='**Business Name:** AgriLoop Circular Solutions\\n\\n**The Core Concept:**  \\nAgriLoop Circular Solutions is a tech-enabled platform that connects small and medium-sized farms with local food processors and bio-manufacturers to transform agricultural waste into high-value products such as organic fertilizers, animal feed, and bioplastics. By leveraging IoT tracking, logistics optimization, and a marketplace model, AgriLoop creates a closed-loop ecosystem that turns farm byproducts into new revenue streams while reducing environmental impact.\\n\\n**The Problem:**  \\nA significant portion of agricultural byproducts—such as fruit peels, crop residues, and husks—are either burned, left to rot, or disposed of inefficiently, leading to environmental pollution, greenhouse gas emissions, and lost economic opportunities for farmers. Small and medium-sized farms, in particular, lack the resources and networks to monetize their waste or access sustainable disposal solutions.\\n\\n**The Solution:**  \\nAgriLoop offers a digital platform where farmers can list their available agricultural byproducts in real time. The platform uses IoT sensors to track waste generation and quality, and matches supply with demand from local processors who can upcycle these materials into organic fertilizers, animal feed, or raw materials for bioplastics. AgriLoop manages the logistics, ensuring efficient collection and delivery, and provides transparent revenue sharing for participating farmers. The platform also offers analytics and sustainability reporting, helping users track their environmental impact and optimize operations.\\n\\n**Target Audience:**  \\nThe ideal customers are small to medium-sized farm owners and cooperatives (with 10–500 hectares of land) in regions with active food processing and bio-manufacturing industries. These farmers are environmentally conscious, seeking additional income streams, and open to adopting digital solutions. Secondary customers include local food processors, animal feed producers, and sustainable packaging manufacturers looking for reliable, traceable sources of agricultural byproducts.\\n\\n**Industry:** Agro', additional_kwargs={'refusal': None}, response_metadata={'token_usage': {'completion_tokens': 377, 'prompt_tokens': 159, 'total_tokens': 536, 'completion_tokens_details': {'accepted_prediction_tokens': 0, 'audio_tokens': 0, 'reasoning_tokens': 0, 'rejected_prediction_tokens': 0}, 'prompt_tokens_details': {'audio_tokens': 0, 'cached_tokens': 0}}, 'model_name': 'gpt-4.1-2025-04-14', 'system_fingerprint': 'fp_b3f1157249', 'id': 'chatcmpl-C0rpLBfgG18No6nxXa2UyuP2Yev35', 'service_tier': 'default', 'finish_reason': 'stop', 'logprobs': None}, id='run--7c767f7d-956d-4c53-a968-3150543d5954-0', usage_metadata={'input_tokens': 159, 'output_tokens': 377, 'total_tokens': 536, 'input_token_details': {'audio': 0, 'cache_read': 0}, 'output_token_details': {'audio': 0, 'reasoning': 0}}),\n",
       " AIMessage(content='**Business Name:** AgriLoop Circular Solutions\\n\\n**The Core Concept:**  \\nAgriLoop Circular Solutions is a tech-enabled platform that connects small and medium-sized farms with local food processors and bio-manufacturers to transform agricultural waste into high-value products such as biofertilizers, animal feed, and bioplastics. By leveraging IoT tracking, logistics optimization, and a marketplace model, AgriLoop creates a closed-loop ecosystem that reduces waste, increases farm income, and supports sustainable agriculture.\\n\\n**The Problem:**  \\nA significant portion of agricultural byproducts—such as fruit peels, crop residues, and husks—are either burned or left to rot, causing environmental harm and lost economic opportunity. Small and medium-sized farms, in particular, lack the resources and networks to monetize their waste streams or access sustainable disposal solutions, leading to inefficiency and pollution.\\n\\n**The Solution:**  \\nAgriLoop offers a digital platform where farmers can list their available agricultural byproducts. The platform uses IoT sensors to track waste generation and quality, and matches these byproducts with local processors and manufacturers who need raw materials for biofertilizer, animal feed, or bioplastic production. AgriLoop manages logistics, quality assurance, and payments, ensuring a seamless transaction for all parties. The platform also provides analytics to help farmers optimize their waste streams and maximize revenue, while offering processors a reliable, traceable supply of raw materials.\\n\\n**Target Audience:**  \\nThe ideal customers are small and medium-sized farm owners (5–100 hectares) in regions with active food processing or bio-manufacturing industries, typically aged 30–60, tech-curious but not tech-savvy, and motivated by both economic and environmental incentives. Secondary customers include local food processors, animal feed producers, and bio-manufacturers seeking sustainable, cost-effective raw materials. These businesses are often under pressure to improve their environmental footprint and supply chain transparency.\\n\\n**Industry:** Agro', additional_kwargs={'refusal': None}, response_metadata={'token_usage': {'completion_tokens': 389, 'prompt_tokens': 159, 'total_tokens': 548, 'completion_tokens_details': {'accepted_prediction_tokens': 0, 'audio_tokens': 0, 'reasoning_tokens': 0, 'rejected_prediction_tokens': 0}, 'prompt_tokens_details': {'audio_tokens': 0, 'cached_tokens': 0}}, 'model_name': 'gpt-4.1-2025-04-14', 'system_fingerprint': 'fp_b3f1157249', 'id': 'chatcmpl-C0tp1EYHihO4Hvibjim1DD1GffEkX', 'service_tier': 'default', 'finish_reason': 'stop', 'logprobs': None}, id='run--bd4af9af-3c6b-45d1-844b-6757957f9206-0', usage_metadata={'input_tokens': 159, 'output_tokens': 389, 'total_tokens': 548, 'input_token_details': {'audio': 0, 'cache_read': 0}, 'output_token_details': {'audio': 0, 'reasoning': 0}}),\n",
       " AIMessage(content='**1. Strengths:**\\n\\n- **Addresses a Clear Market Need:**  \\n  AgriLoop directly tackles the widespread problem of agricultural waste mismanagement, offering both economic and environmental benefits to small and medium-sized farms that currently lack viable solutions.\\n\\n- **Innovative Use of Technology:**  \\n  The integration of IoT tracking, logistics optimization, and a digital marketplace creates a modern, data-driven approach that can improve efficiency, traceability, and trust among participants.\\n\\n- **Supports Sustainability and Regulatory Trends:**  \\n  The platform aligns with growing regulatory and consumer pressures for sustainable agriculture and supply chain transparency, making it attractive to both farmers and processors seeking to improve their environmental footprint.\\n\\n- **Potential for Network Effects:**  \\n  As more farms and processors join, the platform’s value increases for all users, potentially creating a defensible position and making it harder for competitors to replicate the ecosystem.\\n\\n**2. Weaknesses:**\\n\\n- **Adoption Barriers Among Target Users:**  \\n  Many small and medium-sized farmers may be resistant to adopting new technology platforms, especially if they are not tech-savvy or perceive the system as complex or risky.\\n\\n- **Logistical and Operational Complexity:**  \\n  Coordinating the collection, quality assurance, and delivery of diverse agricultural byproducts across dispersed rural areas is operationally challenging and could lead to high costs or service failures.\\n\\n- **Dependence on Local Market Dynamics:**  \\n  The business model relies on the presence of nearby processors and manufacturers; in regions lacking these partners, the platform’s value proposition weakens significantly.\\n\\n- **Capital and Cash Flow Intensive:**  \\n  Managing logistics, payments, and quality assurance at scale requires significant upfront investment and working capital, which could strain finances before the platform achieves critical mass.\\n\\n**3. Concluding Remark:**  \\nAgriLoop Circular Solutions presents a timely and innovative approach to agricultural waste valorization, but its success will hinge on overcoming significant adoption and operational challenges in a fragmented and risk-averse market.', additional_kwargs={'refusal': None}, response_metadata={'token_usage': {'completion_tokens': 396, 'prompt_tokens': 585, 'total_tokens': 981, 'completion_tokens_details': {'accepted_prediction_tokens': 0, 'audio_tokens': 0, 'reasoning_tokens': 0, 'rejected_prediction_tokens': 0}, 'prompt_tokens_details': {'audio_tokens': 0, 'cached_tokens': 0}}, 'model_name': 'gpt-4.1-2025-04-14', 'system_fingerprint': 'fp_b3f1157249', 'id': 'chatcmpl-C0tp8AmMuM8nyV06yZWmB1z4CJJbu', 'service_tier': 'default', 'finish_reason': 'stop', 'logprobs': None}, id='run--7ab6bdcf-6c90-49d1-8f36-68301e215407-0', usage_metadata={'input_tokens': 585, 'output_tokens': 396, 'total_tokens': 981, 'input_token_details': {'audio': 0, 'cache_read': 0}, 'output_token_details': {'audio': 0, 'reasoning': 0}})]"
      ]
     },
     "execution_count": 36,
     "metadata": {},
     "output_type": "execute_result"
    }
   ],
   "source": [
    "logs"
   ]
  },
  {
   "cell_type": "markdown",
   "metadata": {},
   "source": [
    "## 7. Experiment"
   ]
  },
  {
   "cell_type": "markdown",
   "metadata": {},
   "source": [
    "Now that you understood how it works, experiment with new things.\n",
    "- Improve memory\n",
    "- Explore the Runnables\n",
    "- Add More Complexity"
   ]
  }
 ],
 "metadata": {
  "kernelspec": {
   "display_name": ".venv",
   "language": "python",
   "name": "python3"
  },
  "language_info": {
   "codemirror_mode": {
    "name": "ipython",
    "version": 3
   },
   "file_extension": ".py",
   "mimetype": "text/x-python",
   "name": "python",
   "nbconvert_exporter": "python",
   "pygments_lexer": "ipython3",
   "version": "3.13.3"
  }
 },
 "nbformat": 4,
 "nbformat_minor": 2
}
