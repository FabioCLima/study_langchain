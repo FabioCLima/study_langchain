{
 "cells": [
  {
   "cell_type": "markdown",
   "id": "8bc1c1ad",
   "metadata": {},
   "source": [
    "# Roteiro de viagem com LangChain\n",
    "___"
   ]
  },
  {
   "cell_type": "markdown",
   "id": "2bcbe64e",
   "metadata": {},
   "source": [
    "Este notebook tem como objetivo entender passo a passo como construir um sistema com o LangChain.\n",
    "Criar um assistente que, dado um interesse por um tipo de destino -- `praias` ou `ecoturismo`, ou outro qualquer,\n",
    "crie um roteiro de viagem.\n",
    "\n",
    "1. Cidade recomendada + motivo da recomendação\n",
    "2. Restaurantes na cidade\n",
    "3. Passeios culturais\n",
    "\n",
    "___"
   ]
  },
  {
   "cell_type": "markdown",
   "id": "ad202828",
   "metadata": {},
   "source": [
    "### Parte 1: Setup e Imports\n",
    "\n",
    "- Carregando as bibliotecas e OpenAI key"
   ]
  },
  {
   "cell_type": "code",
   "execution_count": 1,
   "id": "3cd362c3",
   "metadata": {},
   "outputs": [],
   "source": [
    "import os\n",
    "import json\n",
    "\n",
    "from dotenv import load_dotenv, find_dotenv\n",
    "from langchain_openai import ChatOpenAI\n",
    "from langchain_core.prompts import ChatPromptTemplate\n",
    "from langchain_core.output_parsers import StrOutputParser, JsonOutputParser, PydanticOutputParser\n",
    "from pydantic import BaseModel, Field"
   ]
  },
  {
   "cell_type": "code",
   "execution_count": 2,
   "id": "d4e98827",
   "metadata": {},
   "outputs": [],
   "source": [
    "load_dotenv(find_dotenv())\n",
    "\n",
    "openai_api_key = os.getenv(\"OPENAI_API_KEY\")\n",
    "\n",
    "model = ChatOpenAI(\n",
    "                    model=\"gpt-4.1\",\n",
    "                    temperature=0,\n",
    "                    api_key=openai_api_key\n",
    "                )"
   ]
  },
  {
   "cell_type": "markdown",
   "id": "19c5cb64",
   "metadata": {},
   "source": [
    "### Parte 2: Testar apenas o modelo com um prompt simples\n",
    "___"
   ]
  },
  {
   "cell_type": "code",
   "execution_count": 3,
   "id": "c794113f",
   "metadata": {},
   "outputs": [
    {
     "name": "stdout",
     "output_type": "stream",
     "text": [
      "A cidade mais visitada do Brasil por praticantes de **ecoturismo** é **Bonito**, localizada no estado de Mato Grosso do Sul. Bonito é reconhecida nacional e internacionalmente por suas águas cristalinas, grutas, cachoeiras, trilhas e uma grande variedade de atividades de turismo sustentável, como flutuação em rios, mergulho, rapel, observação de aves e exploração de cavernas.\n",
      "\n",
      "Além de Bonito, outros destinos importantes para o ecoturismo no Brasil incluem:\n",
      "\n",
      "- **Foz do Iguaçu (PR)** – famosa pelas Cataratas do Iguaçu e o Parque Nacional do Iguaçu.\n",
      "- **Chapada Diamantina (BA)** – conhecida por suas trilhas, cachoeiras e grutas.\n",
      "- **Chapada dos Veadeiros (GO)** – famosa por suas paisagens de cerrado, cachoeiras e trilhas.\n",
      "- **Amazônia (AM/PA)** – com experiências de turismo de natureza e contato com a floresta.\n",
      "\n",
      "No entanto, **Bonito** é amplamente considerada a principal referência nacional em ecoturismo, sendo frequentemente premiada e reconhecida por sua infraestrutura voltada para o turismo sustentável e pela preservação ambiental.\n"
     ]
    }
   ],
   "source": [
    "response = model.invoke(\"Qual a cidade mais visitada no Brasil para praticantes do ecoturismo?\")\n",
    "print(response.content)"
   ]
  },
  {
   "cell_type": "markdown",
   "id": "fec062ba",
   "metadata": {},
   "source": [
    "### Parte3: Criar Prompt Estruturado com Pydantic + JsonOutputParser\n",
    "___"
   ]
  },
  {
   "cell_type": "markdown",
   "id": "73313d3c",
   "metadata": {},
   "source": [
    "\"* `{interesse}`: recomendação de cidade + motivo da recomendação\""
   ]
  },
  {
   "cell_type": "code",
   "execution_count": 4,
   "id": "12a829ed",
   "metadata": {},
   "outputs": [],
   "source": [
    "class Destino(BaseModel):\n",
    "    cidade: str = Field(description=\"Nome da cidade recomendada para o tipo de interesse do usuário.\")\n",
    "    motivo: str = Field(description=\"Motivo da recomendação da cidade para o interesse específicado pelo usuário.\")\n",
    "\n",
    "parser_destino = PydanticOutputParser(pydantic_object=Destino) # PydanticOutputParser é um parser que transforma a saída do modelo em um objeto Pydantic.\n",
    "\n",
    "prompt_destino = ChatPromptTemplate.from_template(\n",
    "    \"\"\"Sugira uma cidade com base no interesse do usuário, {interesse}.\n",
    "    Explique o motivo da sugestão da cidade.\\n{format_instructions}\"\"\",\n",
    "    partial_variables={\"format_instructions\": parser_destino.get_format_instructions()}\n",
    ")\n",
    "\n",
    "chain_destino = prompt_destino | model | parser_destino\n",
    "\n",
    "response_destino = chain_destino.invoke({\"interesse\": \"ecoturismo\"}) # objeto pydantic"
   ]
  },
  {
   "cell_type": "code",
   "execution_count": 5,
   "id": "39740d93",
   "metadata": {},
   "outputs": [
    {
     "name": "stdout",
     "output_type": "stream",
     "text": [
      "cidade='Bonito' motivo='Bonito, no Mato Grosso do Sul, é reconhecida internacionalmente como um dos melhores destinos de ecoturismo do Brasil. A cidade oferece uma grande variedade de atividades em meio à natureza, como mergulho em rios de águas cristalinas, trilhas, grutas, cachoeiras e observação de fauna e flora, tudo com forte compromisso com a sustentabilidade ambiental.'\n",
      "<class '__main__.Destino'>\n"
     ]
    }
   ],
   "source": [
    "print(response_destino)\n",
    "print(type(response_destino))"
   ]
  },
  {
   "cell_type": "code",
   "execution_count": 8,
   "id": "3ecb8968",
   "metadata": {},
   "outputs": [
    {
     "name": "stdout",
     "output_type": "stream",
     "text": [
      "Cidade recomendada: Bonito\n",
      "\n",
      "Motivo da recomendação: Bonito, no Mato Grosso do Sul, é reconhecida internacionalmente como um dos melhores destinos de ecoturismo do Brasil. A cidade oferece uma grande variedade de atividades em meio à natureza, como mergulho em rios de águas cristalinas, trilhas, grutas, cachoeiras e observação de fauna e flora, tudo com forte compromisso com a sustentabilidade ambiental.\n"
     ]
    }
   ],
   "source": [
    "cidade_recomendada = response_destino.cidade\n",
    "motivo_recomendacao = response_destino.motivo\n",
    "\n",
    "print(f\"Cidade recomendada: {cidade_recomendada}\\n\")\n",
    "print(f\"Motivo da recomendação: {motivo_recomendacao}\")"
   ]
  },
  {
   "cell_type": "code",
   "execution_count": 9,
   "id": "2e2bd724",
   "metadata": {},
   "outputs": [
    {
     "name": "stdout",
     "output_type": "stream",
     "text": [
      "{\n",
      "  \"properties\": {\n",
      "    \"cidade\": {\n",
      "      \"description\": \"Nome da cidade recomendada para o tipo de interesse do usuário.\",\n",
      "      \"title\": \"Cidade\",\n",
      "      \"type\": \"string\"\n",
      "    },\n",
      "    \"motivo\": {\n",
      "      \"description\": \"Motivo da recomendação da cidade para o interesse específicado pelo usuário.\",\n",
      "      \"title\": \"Motivo\",\n",
      "      \"type\": \"string\"\n",
      "    }\n",
      "  },\n",
      "  \"required\": [\n",
      "    \"cidade\",\n",
      "    \"motivo\"\n",
      "  ],\n",
      "  \"title\": \"Destino\",\n",
      "  \"type\": \"object\"\n",
      "}\n"
     ]
    }
   ],
   "source": [
    "response_dict_json_schema = response_destino.model_json_schema()\n",
    "response_json_schema = json.dumps(\n",
    "    response_dict_json_schema, \n",
    "    indent=2,          # Adiciona indentação para legibilidade\n",
    "    ensure_ascii=False # Garante que caracteres como \"ç\" e \"ã\" sejam exibidos corretamente\n",
    ")\n",
    "print(response_json_schema)"
   ]
  },
  {
   "cell_type": "markdown",
   "id": "3cd02020",
   "metadata": {},
   "source": [
    "#### Parte 3.1 - Saída e análise da primeira chain:\n",
    "\n",
    "Sugestão de cidade por `{interesse}` e `motivo da recomendação`"
   ]
  },
  {
   "cell_type": "code",
   "execution_count": 10,
   "id": "6a47c0f5",
   "metadata": {},
   "outputs": [
    {
     "name": "stdout",
     "output_type": "stream",
     "text": [
      "O tipo da variável 'response' é: <class '__main__.Destino'>\n",
      "----------------------------------------\n",
      "Cidade Sugerida: Bonito\n",
      "Motivo da Sugestão: Bonito, no Mato Grosso do Sul, é reconhecida internacionalmente como um dos melhores destinos de ecoturismo do Brasil. A cidade oferece uma grande variedade de atividades em meio à natureza, como mergulho em rios de águas cristalinas, trilhas, grutas, cachoeiras e observação de fauna e flora, tudo com forte compromisso com a sustentabilidade ambiental.\n",
      "----------------------------------------\n",
      "\n",
      "✅ Saída formatada como JSON (ideal para logs e debug):\n",
      "{\n",
      "  \"cidade\": \"Bonito\",\n",
      "  \"motivo\": \"Bonito, no Mato Grosso do Sul, é reconhecida internacionalmente como um dos melhores destinos de ecoturismo do Brasil. A cidade oferece uma grande variedade de atividades em meio à natureza, como mergulho em rios de águas cristalinas, trilhas, grutas, cachoeiras e observação de fauna e flora, tudo com forte compromisso com a sustentabilidade ambiental.\"\n",
      "}\n"
     ]
    }
   ],
   "source": [
    "# Supondo que seu código anterior já foi executado:\n",
    "# model = ...\n",
    "# parser_destino = ...\n",
    "# prompt_destino = ...\n",
    "# chain_destino = prompt_destino | model | parser_destino\n",
    "# response = chain_destino.invoke({\"interesse\": \"ecoturismo\"})\n",
    "\n",
    "# 1. Inspecionando o tipo e acessando os atributos\n",
    "print(f\"O tipo da variável 'response' é: {type(response_destino)}\")\n",
    "print(\"-\" * 40)\n",
    "print(f\"Cidade Sugerida: {response_destino.cidade}\")\n",
    "print(f\"Motivo da Sugestão: {response_destino.motivo}\")\n",
    "print(\"-\" * 40)\n",
    "\n",
    "\n",
    "# 2. Melhorando a visualização com .model_dump() e json.dumps()\n",
    "print(\"\\n✅ Saída formatada como JSON (ideal para logs e debug):\")\n",
    "\n",
    "# Converte o objeto Pydantic para um dicionário Python\n",
    "response_dict = response_destino.model_dump()\n",
    "\n",
    "# Usa json.dumps para formatar o dicionário como uma string JSON \"bonita\"\n",
    "json_output = json.dumps(\n",
    "    response_dict, \n",
    "    indent=2,          # Adiciona indentação para legibilidade\n",
    "    ensure_ascii=False # Garante que caracteres como \"ç\" e \"ã\" sejam exibidos corretamente\n",
    ")\n",
    "\n",
    "print(json_output)\n"
   ]
  },
  {
   "cell_type": "markdown",
   "id": "0296af4c",
   "metadata": {},
   "source": [
    "### Parte 4 - Encadear a chain de restaurante\n",
    "___ \n",
    "\n",
    "Dado a saída da chain anterior, que foi a cidade baseada no interesse do usuário, agora é escolher restaurantes de boa qualidade caseiros e um pouco mais sofisticados."
   ]
  },
  {
   "cell_type": "code",
   "execution_count": 14,
   "id": "882a9fb4",
   "metadata": {},
   "outputs": [
    {
     "name": "stdout",
     "output_type": "stream",
     "text": [
      "restaurantes=[Restaurante(nome='Casa do João', tipo='Culinária regional caseira', nota=4.7, preco=120.0, descricao='Restaurante tradicional de Bonito, famoso pelo ambiente acolhedor e pratos típicos sul-mato-grossenses preparados de forma caseira, como o pintado à urucum e a traíra sem espinha.'), Restaurante(nome='Restaurante da Zézinha', tipo='Culinária caseira brasileira', nota=4.6, preco=90.0, descricao='Ambiente simples e familiar, com buffet de comida caseira, incluindo opções de peixes regionais, carnes e saladas frescas. Muito procurado por moradores e turistas.'), Restaurante(nome='Cantinho do Peixe', tipo='Culinária regional caseira', nota=4.5, preco=100.0, descricao='Especializado em peixes de água doce preparados de maneira tradicional, oferece pratos fartos e saborosos em ambiente descontraído e familiar.'), Restaurante(nome='Juanita Restaurante', tipo='Culinária regional sofisticada', nota=4.8, preco=180.0, descricao='Restaurante sofisticado com ambiente elegante, especializado em peixes nobres e pratos regionais com toque contemporâneo. Destaque para o pacu na brasa e carta de vinhos selecionada.'), Restaurante(nome='Taboa Restaurante', tipo='Culinária contemporânea/regional', nota=4.7, preco=170.0, descricao='Ambiente charmoso e decoração temática, oferece pratos regionais reinventados, drinks exclusivos com cachaça local e excelente atendimento.'), Restaurante(nome='Encontro das Águas', tipo='Culinária internacional e regional', nota=4.6, preco=160.0, descricao='Restaurante sofisticado com menu variado que une sabores regionais e internacionais, ambiente refinado e pratos bem apresentados, ideal para ocasiões especiais.')]\n",
      "--- \n",
      "Nome: Casa do João\n",
      "Tipo: Culinária regional caseira\n",
      "Nota: 4.7\n",
      "--- \n",
      "Nome: Restaurante da Zézinha\n",
      "Tipo: Culinária caseira brasileira\n",
      "Nota: 4.6\n",
      "--- \n",
      "Nome: Cantinho do Peixe\n",
      "Tipo: Culinária regional caseira\n",
      "Nota: 4.5\n",
      "--- \n",
      "Nome: Juanita Restaurante\n",
      "Tipo: Culinária regional sofisticada\n",
      "Nota: 4.8\n",
      "--- \n",
      "Nome: Taboa Restaurante\n",
      "Tipo: Culinária contemporânea/regional\n",
      "Nota: 4.7\n",
      "--- \n",
      "Nome: Encontro das Águas\n",
      "Tipo: Culinária internacional e regional\n",
      "Nota: 4.6\n"
     ]
    }
   ],
   "source": [
    "class Restaurante(BaseModel):\n",
    "    nome: str = Field(description=\"Nome do restaurante.\")\n",
    "    tipo: str = Field(description=\"Tipo de culinária do restaurante.\")\n",
    "    nota: float = Field(description=\"Nota do restaurante.\")\n",
    "    preco: float = Field(description=\"Preço médio do prato para duas pessoas.\")\n",
    "    descricao: str = Field(description=\"Descrição do restaurante.\")\n",
    "\n",
    "\n",
    "class ListaRestaurantes(BaseModel):\n",
    "    restaurantes: list[Restaurante] = Field(description=\"Lista de restaurantes sugeridos\")\n",
    "\n",
    "parser_restaurante = PydanticOutputParser(pydantic_object=ListaRestaurantes)\n",
    "\n",
    "prompt_restaurante = ChatPromptTemplate.from_template(\n",
    "    \"\"\"Você é um assistente especialista em gastronomia e trabalha para a agência\n",
    "    de viagens.\n",
    "\n",
    "Para a cidade {cidade}, sugira 3 restaurantes de boa qualidade caseiros e 3 mais sofisticados.\n",
    "\n",
    "Siga estritamente as instruções de formatação abaixo:\n",
    "{format_instructions}\n",
    "\"\"\",\n",
    ")\n",
    "\n",
    "chain_restaurante = prompt_restaurante | model | parser_restaurante\n",
    "cidade = response_destino.cidade\n",
    "\n",
    "response_restaurante = chain_restaurante.invoke({\n",
    "    \"cidade\": cidade,\n",
    "    \"format_instructions\": parser_restaurante.get_format_instructions()\n",
    "})\n",
    "\n",
    "#*A saída será um objeto ListaRestaurantes(Pydantic)\n",
    "print(response_restaurante)\n",
    "\n",
    "#* Podemos acessa a lista facilmente\n",
    "for restaurante in response_restaurante.restaurantes:\n",
    "    print(f\"--- \\nNome: {restaurante.nome}\\nTipo: {restaurante.tipo}\\nNota: {restaurante.nota}\")"
   ]
  },
  {
   "cell_type": "markdown",
   "id": "86089c07",
   "metadata": {},
   "source": [
    "### Parte 5 - Encadear com passeios culturais - (texto livre)\n",
    "___"
   ]
  },
  {
   "cell_type": "code",
   "execution_count": 15,
   "id": "0d9b9570",
   "metadata": {},
   "outputs": [
    {
     "data": {
      "text/plain": [
       "'Claro! Embora Bonito, no Mato Grosso do Sul, seja mais famosa por suas belezas naturais e ecoturismo, a cidade também oferece experiências culturais interessantes. Aqui estão três passeios culturais imperdíveis em Bonito:\\n\\n---\\n\\n**1. Projeto Jiboia**  \\nO Projeto Jiboia é uma iniciativa de educação ambiental que visa desmistificar o medo das serpentes e promover a conservação desses animais. Durante a visita, os participantes assistem a uma palestra divertida e informativa sobre a importância das cobras para o ecossistema, aprendem a diferenciar espécies peçonhentas e não peçonhentas e, ao final, têm a oportunidade de interagir e tirar fotos com uma jiboia. É uma experiência educativa, ideal para todas as idades, que une cultura, ciência e conservação ambiental.\\n\\n---\\n\\n**2. Casa da Memória Raída**  \\nA Casa da Memória Raída é um espaço cultural dedicado à preservação da história e das tradições de Bonito e região. O local reúne objetos antigos, fotografias, documentos e relatos que contam a trajetória dos primeiros habitantes, a formação da cidade e aspectos da cultura local, como festas, culinária e costumes. A visita proporciona uma imersão na identidade bonitense e é uma ótima oportunidade para quem deseja conhecer o lado histórico da cidade.\\n\\n---\\n\\n**3. Centro de Artesanato de Bonito**  \\nO Centro de Artesanato de Bonito é o lugar ideal para conhecer e valorizar o trabalho dos artesãos locais. Lá, você encontra peças feitas com materiais típicos da região, como madeira, sementes, cerâmica e fibras naturais, além de produtos indígenas e do Pantanal. O espaço também promove oficinas e exposições, permitindo ao visitante aprender sobre as técnicas e tradições artesanais. Além de adquirir lembranças autênticas, você contribui para a economia e a cultura local.\\n\\n---\\n\\nEsses passeios oferecem uma visão diferente de Bonito, complementando as experiências de natureza com conhecimento, história e arte!'"
      ]
     },
     "execution_count": 15,
     "metadata": {},
     "output_type": "execute_result"
    }
   ],
   "source": [
    "prompt_passeios = ChatPromptTemplate.from_template(\n",
    "    \"Sugira 3 passeios culturais imperdíveis na cidade de {cidade}, com descrição de cada um.\"\n",
    ")\n",
    "\n",
    "chain_passeios = prompt_passeios | model | StrOutputParser()\n",
    "cidade = response_destino.cidade\n",
    "\n",
    "chain_passeios.invoke({\"cidade\": cidade})\n"
   ]
  },
  {
   "cell_type": "markdown",
   "id": "a8452db6",
   "metadata": {},
   "source": [
    "### Parte 6 - Montar a versão encadeada passo a passo:\n",
    "___"
   ]
  },
  {
   "cell_type": "code",
   "execution_count": null,
   "id": "c242b748",
   "metadata": {},
   "outputs": [],
   "source": [
    "from operator import itemgetter\n",
    "from langchain_core.runnables import RunnableParallel, RunnablePassthrough\n",
    "\n",
    "chain_destino = prompt_destino | model | parser_destino\n",
    "\n",
    "map_chain = RunnableParallel(\n",
    "    destino=chain_destino,\n",
    "    original_input=RunnablePassthrough()\n",
    ")\n",
    "\n",
    "full_chain = map_chain | RunnableParallel(\n",
    "    destino=itemgetter(\"destino\"),\n",
    "    restaurantes=itemgetter(\"destino\") | chain_restaurante,\n",
    "    passeios=itemgetter(\"destino\") | chain_passeios\n",
    ")\n"
   ]
  }
 ],
 "metadata": {
  "kernelspec": {
   "display_name": ".venv",
   "language": "python",
   "name": "python3"
  },
  "language_info": {
   "codemirror_mode": {
    "name": "ipython",
    "version": 3
   },
   "file_extension": ".py",
   "mimetype": "text/x-python",
   "name": "python",
   "nbconvert_exporter": "python",
   "pygments_lexer": "ipython3",
   "version": "3.13.3"
  }
 },
 "nbformat": 4,
 "nbformat_minor": 5
}
