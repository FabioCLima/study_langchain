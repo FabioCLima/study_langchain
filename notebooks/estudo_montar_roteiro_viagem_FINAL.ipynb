{
 "cells": [
  {
   "cell_type": "markdown",
   "id": "8bc1c1ad",
   "metadata": {},
   "source": [
    "# Roteiro de viagem com LangChain\n",
    "___"
   ]
  },
  {
   "cell_type": "markdown",
   "id": "2bcbe64e",
   "metadata": {},
   "source": [
    "Este notebook tem como objetivo entender passo a passo como construir um sistema com o LangChain.\n",
    "Criar um assistente que, dado um interesse por um tipo de destino -- `praias` ou `ecoturismo`, ou outro qualquer,\n",
    "crie um roteiro de viagem.\n",
    "\n",
    "1. Cidade recomendada + motivo da recomendação\n",
    "2. Restaurantes na cidade\n",
    "3. Passeios culturais\n",
    "\n",
    "___"
   ]
  },
  {
   "cell_type": "markdown",
   "id": "ad202828",
   "metadata": {},
   "source": [
    "### Parte 1: Setup e Imports\n",
    "\n",
    "- Carregando as bibliotecas e OpenAI key"
   ]
  },
  {
   "cell_type": "code",
   "execution_count": 1,
   "id": "3cd362c3",
   "metadata": {},
   "outputs": [],
   "source": [
    "import os\n",
    "import json\n",
    "\n",
    "from dotenv import load_dotenv, find_dotenv\n",
    "from langchain_openai import ChatOpenAI\n",
    "from langchain_core.prompts import ChatPromptTemplate\n",
    "from langchain_core.output_parsers import StrOutputParser, JsonOutputParser, PydanticOutputParser\n",
    "from pydantic import BaseModel, Field"
   ]
  },
  {
   "cell_type": "code",
   "execution_count": 2,
   "id": "d4e98827",
   "metadata": {},
   "outputs": [],
   "source": [
    "load_dotenv(find_dotenv())\n",
    "\n",
    "openai_api_key = os.getenv(\"OPENAI_API_KEY\")\n",
    "\n",
    "model = ChatOpenAI(\n",
    "                    model=\"gpt-4.1\",\n",
    "                    temperature=0,\n",
    "                    api_key=openai_api_key\n",
    "                )"
   ]
  },
  {
   "cell_type": "markdown",
   "id": "19c5cb64",
   "metadata": {},
   "source": [
    "### Parte 2: Testar apenas o modelo com um prompt simples\n",
    "___"
   ]
  },
  {
   "cell_type": "code",
   "execution_count": 3,
   "id": "c794113f",
   "metadata": {},
   "outputs": [
    {
     "name": "stdout",
     "output_type": "stream",
     "text": [
      "A cidade mais visitada do Brasil por praticantes de **ecoturismo** é **Bonito**, localizada no estado de Mato Grosso do Sul. Bonito é reconhecida nacional e internacionalmente por suas águas cristalinas, grutas, cachoeiras, trilhas e uma grande variedade de atividades de turismo sustentável, como flutuação em rios, mergulho, rapel, observação de aves e exploração de cavernas.\n",
      "\n",
      "Além de Bonito, outros destinos importantes para o ecoturismo no Brasil incluem:\n",
      "\n",
      "- **Foz do Iguaçu (PR)** – famosa pelas Cataratas do Iguaçu e o Parque Nacional do Iguaçu.\n",
      "- **Chapada Diamantina (BA)** – conhecida por suas trilhas, cachoeiras e grutas.\n",
      "- **Chapada dos Veadeiros (GO)** – famosa por suas paisagens de cerrado, cachoeiras e trilhas.\n",
      "- **Amazônia (AM/PA)** – para experiências de floresta tropical, rios e biodiversidade.\n",
      "\n",
      "No entanto, **Bonito** é frequentemente citada como o principal destino brasileiro para ecoturismo devido à infraestrutura, variedade de atrações naturais e políticas de preservação ambiental.\n"
     ]
    }
   ],
   "source": [
    "response = model.invoke(\"Qual a cidade mais visitada no Brasil para praticantes do ecoturismo?\")\n",
    "print(response.content)"
   ]
  },
  {
   "cell_type": "markdown",
   "id": "fec062ba",
   "metadata": {},
   "source": [
    "### Parte3: Criar Prompt Estruturado com Pydantic + JsonOutputParser\n",
    "___"
   ]
  },
  {
   "cell_type": "markdown",
   "id": "73313d3c",
   "metadata": {},
   "source": [
    "\"* `{interesse}`: recomendação de cidade + motivo da recomendação\""
   ]
  },
  {
   "cell_type": "code",
   "execution_count": 4,
   "id": "12a829ed",
   "metadata": {},
   "outputs": [],
   "source": [
    "class Destino(BaseModel):\n",
    "    cidade: str = Field(description=\"Nome da cidade recomendada para o tipo de interesse do usuário.\")\n",
    "    motivo: str = Field(description=\"Motivo da recomendação da cidade para o interesse específicado pelo usuário.\")\n",
    "\n",
    "parser_destino = JsonOutputParser(pydantic_object=Destino)\n",
    "\n",
    "prompt_destino = ChatPromptTemplate.from_template(\n",
    "    \"\"\"Sugira uma cidade com base no interesse do usuário, {interesse}.\n",
    "    Explique o motivo da sugestão da cidade.\\n{format_instructions}\"\"\",\n",
    "    partial_variables={\"format_instructions\": parser_destino.get_format_instructions()}\n",
    ")\n",
    "\n",
    "chain_destino = prompt_destino | model | parser_destino\n",
    "\n",
    "response_destino = chain_destino.invoke({\"interesse\": \"ecoturismo\"}) # objeto pydantic"
   ]
  },
  {
   "cell_type": "code",
   "execution_count": 5,
   "id": "39740d93",
   "metadata": {},
   "outputs": [
    {
     "name": "stdout",
     "output_type": "stream",
     "text": [
      "{'cidade': 'Bonito', 'motivo': 'Bonito, no Mato Grosso do Sul, é reconhecida internacionalmente como um dos melhores destinos de ecoturismo do Brasil. A cidade oferece rios de águas cristalinas, grutas, cachoeiras e uma grande variedade de atividades de contato com a natureza, como flutuação, trilhas e observação de fauna e flora, sendo ideal para quem busca experiências sustentáveis e preservação ambiental.'}\n",
      "<class 'dict'>\n"
     ]
    }
   ],
   "source": [
    "print(response_destino)\n",
    "print(type(response_destino))"
   ]
  },
  {
   "cell_type": "code",
   "execution_count": 6,
   "id": "3ecb8968",
   "metadata": {},
   "outputs": [
    {
     "name": "stdout",
     "output_type": "stream",
     "text": [
      "Cidade recomendada: Bonito\n",
      "\n",
      "Motivo da recomendação: Bonito, no Mato Grosso do Sul, é reconhecida internacionalmente como um dos melhores destinos de ecoturismo do Brasil. A cidade oferece rios de águas cristalinas, grutas, cachoeiras e uma grande variedade de atividades de contato com a natureza, como flutuação, trilhas e observação de fauna e flora, sendo ideal para quem busca experiências sustentáveis e preservação ambiental.\n"
     ]
    }
   ],
   "source": [
    "cidade_recomendada = response_destino[\"cidade\"]\n",
    "motivo_recomendacao = response_destino[\"motivo\"]\n",
    "\n",
    "print(f\"Cidade recomendada: {cidade_recomendada}\\n\")\n",
    "print(f\"Motivo da recomendação: {motivo_recomendacao}\")"
   ]
  },
  {
   "cell_type": "markdown",
   "id": "3cd02020",
   "metadata": {},
   "source": [
    "#### Parte 3.1 - Saída e análise da primeira chain:\n",
    "\n",
    "Sugestão de cidade por `{interesse}` e `motivo da recomendação`"
   ]
  },
  {
   "cell_type": "code",
   "execution_count": 7,
   "id": "6a47c0f5",
   "metadata": {},
   "outputs": [
    {
     "name": "stdout",
     "output_type": "stream",
     "text": [
      "O tipo da variável 'response' é: <class 'dict'>\n",
      "----------------------------------------\n",
      "Cidade Sugerida: Bonito\n",
      "Motivo da Sugestão: Bonito, no Mato Grosso do Sul, é reconhecida internacionalmente como um dos melhores destinos de ecoturismo do Brasil. A cidade oferece rios de águas cristalinas, grutas, cachoeiras e uma grande variedade de atividades de contato com a natureza, como flutuação, trilhas e observação de fauna e flora, sendo ideal para quem busca experiências sustentáveis e preservação ambiental.\n",
      "----------------------------------------\n",
      "\n",
      "✅ Saída formatada como JSON (ideal para logs e debug):\n",
      "{\n",
      "  \"cidade\": \"Bonito\",\n",
      "  \"motivo\": \"Bonito, no Mato Grosso do Sul, é reconhecida internacionalmente como um dos melhores destinos de ecoturismo do Brasil. A cidade oferece rios de águas cristalinas, grutas, cachoeiras e uma grande variedade de atividades de contato com a natureza, como flutuação, trilhas e observação de fauna e flora, sendo ideal para quem busca experiências sustentáveis e preservação ambiental.\"\n",
      "}\n"
     ]
    }
   ],
   "source": [
    "# Supondo que seu código anterior já foi executado:\n",
    "# model = ...\n",
    "# parser_destino = ...\n",
    "# prompt_destino = ...\n",
    "# chain_destino = prompt_destino | model | parser_destino\n",
    "# response = chain_destino.invoke({\"interesse\": \"ecoturismo\"})\n",
    "\n",
    "# 1. Inspecionando o tipo e acessando os atributos\n",
    "print(f\"O tipo da variável 'response' é: {type(response_destino)}\")\n",
    "print(\"-\" * 40)\n",
    "print(f\"Cidade Sugerida: {cidade_recomendada}\")\n",
    "print(f\"Motivo da Sugestão: {motivo_recomendacao}\")\n",
    "print(\"-\" * 40)\n",
    "\n",
    "\n",
    "# 2. Melhorando a visualização com .model_dump() e json.dumps()\n",
    "print(\"\\n✅ Saída formatada como JSON (ideal para logs e debug):\")\n",
    "\n",
    "# Usa json.dumps para formatar o dicionário como uma string JSON \"bonita\"\n",
    "json_output = json.dumps(\n",
    "    response_destino,\n",
    "    indent=2,          # Adiciona indentação para legibilidade\n",
    "    ensure_ascii=False # Garante que caracteres como \"ç\" e \"ã\" sejam exibidos corretamente\n",
    ")\n",
    "\n",
    "print(json_output)\n"
   ]
  },
  {
   "cell_type": "markdown",
   "id": "0296af4c",
   "metadata": {},
   "source": [
    "### Parte 4 - Encadear a chain de restaurante\n",
    "___ \n",
    "\n",
    "Dado a saída da chain anterior, que foi a cidade baseada no interesse do usuário, agora é escolher restaurantes de boa qualidade caseiros e um pouco mais sofisticados."
   ]
  },
  {
   "cell_type": "code",
   "execution_count": 8,
   "id": "882a9fb4",
   "metadata": {},
   "outputs": [
    {
     "name": "stdout",
     "output_type": "stream",
     "text": [
      "restaurantes=[Restaurante(nome='Casa do João', tipo='Culinária regional caseira', nota=4.7, preco=120.0, descricao='Restaurante tradicional de Bonito, famoso pelo ambiente acolhedor e pratos típicos da região, como o pintado à urucum e a traíra sem espinha. Ideal para quem busca comida caseira de alta qualidade.'), Restaurante(nome='Restaurante da Zézinha', tipo='Culinária caseira sul-mato-grossense', nota=4.5, preco=90.0, descricao='Ambiente simples e familiar, com buffet variado de pratos regionais, incluindo carne de sol, arroz carreteiro e saladas frescas. Muito procurado por moradores e turistas que buscam comida saborosa e autêntica.'), Restaurante(nome='Cantinho do Peixe', tipo='Culinária caseira com foco em peixes', nota=4.6, preco=100.0, descricao='Especializado em peixes de água doce preparados de forma caseira, como pacu e pintado. Ambiente descontraído e atendimento atencioso, perfeito para famílias e grupos.'), Restaurante(nome='Juanita Restaurante', tipo='Culinária regional sofisticada', nota=4.8, preco=180.0, descricao='Restaurante elegante com pratos regionais elaborados, como o famoso pacu na brasa e risotos especiais. Ambiente refinado e carta de vinhos selecionada, ideal para ocasiões especiais.'), Restaurante(nome='Taboa Restaurante', tipo='Culinária contemporânea e regional', nota=4.7, preco=170.0, descricao='Ambiente sofisticado e descontraído, com pratos que misturam ingredientes regionais e técnicas modernas. Destaque para o filé de jacaré e drinks exclusivos com cachaça Taboa.'), Restaurante(nome='Encontro das Águas', tipo='Culinária internacional e regional', nota=4.6, preco=200.0, descricao='Restaurante sofisticado com menu variado, incluindo pratos internacionais e releituras da culinária local. Ambiente requintado com vista para o rio, ideal para jantares românticos.')]\n",
      "--- \n",
      "Nome: Casa do João\n",
      "Tipo: Culinária regional caseira\n",
      "Nota: 4.7\n",
      "--- \n",
      "Nome: Restaurante da Zézinha\n",
      "Tipo: Culinária caseira sul-mato-grossense\n",
      "Nota: 4.5\n",
      "--- \n",
      "Nome: Cantinho do Peixe\n",
      "Tipo: Culinária caseira com foco em peixes\n",
      "Nota: 4.6\n",
      "--- \n",
      "Nome: Juanita Restaurante\n",
      "Tipo: Culinária regional sofisticada\n",
      "Nota: 4.8\n",
      "--- \n",
      "Nome: Taboa Restaurante\n",
      "Tipo: Culinária contemporânea e regional\n",
      "Nota: 4.7\n",
      "--- \n",
      "Nome: Encontro das Águas\n",
      "Tipo: Culinária internacional e regional\n",
      "Nota: 4.6\n"
     ]
    }
   ],
   "source": [
    "class Restaurante(BaseModel):\n",
    "    nome: str = Field(description=\"Nome do restaurante.\")\n",
    "    tipo: str = Field(description=\"Tipo de culinária do restaurante.\")\n",
    "    nota: float = Field(description=\"Nota do restaurante.\")\n",
    "    preco: float = Field(description=\"Preço médio do prato para duas pessoas.\")\n",
    "    descricao: str = Field(description=\"Descrição do restaurante.\")\n",
    "\n",
    "\n",
    "class ListaRestaurantes(BaseModel):\n",
    "    restaurantes: list[Restaurante] = Field(description=\"Lista de restaurantes sugeridos\")\n",
    "\n",
    "parser_restaurante = PydanticOutputParser(pydantic_object=ListaRestaurantes)\n",
    "\n",
    "prompt_restaurante = ChatPromptTemplate.from_template(\n",
    "    \"\"\"Você é um assistente especialista em gastronomia e trabalha para a agência\n",
    "    de viagens.\n",
    "\n",
    "Para a cidade {cidade}, sugira 3 restaurantes de boa qualidade caseiros e 3 mais sofisticados.\n",
    "\n",
    "Siga estritamente as instruções de formatação abaixo:\n",
    "{format_instructions}\n",
    "\"\"\",\n",
    "    #* formatar a saída\n",
    "    partial_variables={\"format_instructions\": parser_restaurante.get_format_instructions()}\n",
    ")\n",
    "\n",
    "\n",
    "chain_restaurante = prompt_restaurante | model | parser_restaurante\n",
    "cidade = cidade_recomendada\n",
    "\n",
    "response_restaurante = chain_restaurante.invoke({\n",
    "    \"cidade\": cidade,\n",
    "    \"format_instructions\": parser_restaurante.get_format_instructions()\n",
    "})\n",
    "\n",
    "#*A saída será um objeto ListaRestaurantes(Pydantic)\n",
    "print(response_restaurante)\n",
    "\n",
    "#* Podemos acessa a lista facilmente\n",
    "for restaurante in response_restaurante.restaurantes:\n",
    "    print(f\"--- \\nNome: {restaurante.nome}\\nTipo: {restaurante.tipo}\\nNota: {restaurante.nota}\")"
   ]
  },
  {
   "cell_type": "markdown",
   "id": "86089c07",
   "metadata": {},
   "source": [
    "### Parte 5 - Encadear com passeios culturais - (texto livre)\n",
    "___"
   ]
  },
  {
   "cell_type": "code",
   "execution_count": 9,
   "id": "0d9b9570",
   "metadata": {},
   "outputs": [
    {
     "data": {
      "text/plain": [
       "'Claro! Embora Bonito, no Mato Grosso do Sul, seja mais famosa por suas belezas naturais e ecoturismo, a cidade também oferece experiências culturais interessantes. Aqui estão três passeios culturais imperdíveis em Bonito:\\n\\n---\\n\\n**1. Projeto Jiboia**  \\n**Descrição:**  \\nO Projeto Jiboia é uma iniciativa de educação ambiental que visa desmistificar o medo das serpentes e promover a conservação desses animais. Durante a visita, os participantes assistem a uma palestra interativa e divertida sobre a importância das cobras para o ecossistema, aprendem a diferenciar espécies venenosas e não venenosas e, ao final, têm a oportunidade de manusear uma jiboia de verdade. É uma experiência educativa e única, ideal para todas as idades.\\n\\n---\\n\\n**2. Casa da Memória Raída**  \\n**Descrição:**  \\nA Casa da Memória Raída é um espaço cultural dedicado à preservação da história e das tradições de Bonito e região. O local reúne objetos antigos, fotografias, documentos e relatos que contam a trajetória dos primeiros habitantes, a cultura pantaneira e a evolução da cidade. Guias locais compartilham histórias e curiosidades, proporcionando uma verdadeira viagem no tempo para quem deseja conhecer o lado histórico de Bonito.\\n\\n---\\n\\n**3. Visita à Taboa Fábrica de Encantos**  \\n**Descrição:**  \\nA Taboa Fábrica de Encantos é uma mistura de fábrica artesanal, bar e museu, onde é possível conhecer o processo de produção da famosa cachaça Taboa, típica da região. O passeio inclui uma visita guiada pela fábrica, explicação sobre os ingredientes e métodos de produção, além de degustação de diferentes sabores da bebida. O ambiente é decorado com arte local e objetos históricos, tornando a experiência ainda mais rica culturalmente.\\n\\n---\\n\\nEsses passeios oferecem uma imersão na cultura, história e tradições de Bonito, complementando perfeitamente as aventuras naturais da região!'"
      ]
     },
     "execution_count": 9,
     "metadata": {},
     "output_type": "execute_result"
    }
   ],
   "source": [
    "prompt_passeios = ChatPromptTemplate.from_template(\n",
    "    \"Sugira 3 passeios culturais imperdíveis na cidade de {cidade}, com descrição de cada um.\"\n",
    ")\n",
    "\n",
    "chain_passeios = prompt_passeios | model | StrOutputParser()\n",
    "cidade = cidade_recomendada\n",
    "\n",
    "chain_passeios.invoke({\"cidade\": cidade})\n"
   ]
  },
  {
   "cell_type": "markdown",
   "id": "a8452db6",
   "metadata": {},
   "source": [
    "### Parte 6 - Montar a versão encadeada passo a passo:\n",
    "___\n",
    "\n",
    "Agora que temos as três partes do nosso roteiro funcionando de forma independente, vamos uni-las em uma única \"super chain\".\n",
    "\n",
    "O fluxo será:\n",
    "1.  **Entrada**: Receber o `{interesse}` do usuário.\n",
    "2.  **Passo 1**: Executar a `chain_destino` para obter a cidade e o motivo.\n",
    "3.  **Passo 2**: Usar a cidade gerada no Passo 1 para executar, em paralelo, a `chain_restaurante` e a `chain_passeios`.\n",
    "4.  **Saída**: Juntar todos os resultados em um único objeto.\n",
    "\n",
    "Para isso, usaremos `RunnablePassthrough.assign` para carregar o resultado da primeira chain e, em seguida, alimentar as outras duas."
   ]
  },
  {
   "cell_type": "code",
   "execution_count": 10,
   "id": "fecb5252",
   "metadata": {},
   "outputs": [
    {
     "name": "stdout",
     "output_type": "stream",
     "text": [
      "✅ Roteiro Chain (versão corrigida) montada com sucesso!\n",
      "Tipo do objeto: <class 'langchain_core.runnables.base.RunnableSequence'>\n"
     ]
    }
   ],
   "source": [
    "from langchain_core.runnables import RunnablePassthrough, RunnableParallel\n",
    "\n",
    "#* elembrando nossas chains:\n",
    "#* chain_destino: Recebe {\"interesse\": str} -> Retorna {\"cidade\": str, \"motivo\": str}\n",
    "#* chain_restaurante: Recebe {\"cidade\": str} -> Retorna ListaRestaurantes(Pydantic)\n",
    "#* chain_passeios: Recebe {\"cidade\": str} -> Retorna str\n",
    "\n",
    "#!Vamos construir a chain principal (roteiro_chain) passo a passo\n",
    "\n",
    "# Com a chain_restaurante corrigida, nosso encadeamento final fica mais limpo.\n",
    "roteiro_chain = (\n",
    "    RunnablePassthrough.assign(\n",
    "        destino_info=chain_destino\n",
    "    )\n",
    "    |\n",
    "    RunnablePassthrough.assign(\n",
    "        sugestoes=RunnableParallel(\n",
    "            restaurantes=(\n",
    "                # A lambda agora só precisa passar a cidade, como esperado!\n",
    "                (lambda x: {\"cidade\": x['destino_info']['cidade']})\n",
    "                | chain_restaurante\n",
    "            ),\n",
    "            passeios=(\n",
    "                (lambda x: {\"cidade\": x['destino_info']['cidade']})\n",
    "                | chain_passeios\n",
    "            )\n",
    "        )\n",
    "    )\n",
    ")\n",
    "\n",
    "print(\"✅ Roteiro Chain (versão corrigida) montada com sucesso!\")\n",
    "print(\"Tipo do objeto:\", type(roteiro_chain))"
   ]
  },
  {
   "cell_type": "markdown",
   "id": "5b97522b",
   "metadata": {},
   "source": [
    "### Parte 7 - Executando a Chain Completa e Apresentando o Roteiro\n",
    "___\n",
    "\n",
    "Com nossa `roteiro_chain` montada, basta chamá-la uma única vez com o interesse do usuário. O resultado será um dicionário aninhado com todas as informações que pedimos.\n",
    "\n",
    "Vamos invocar a chain e depois formatar a saída para apresentar um roteiro de viagem claro e organizado."
   ]
  },
  {
   "cell_type": "code",
   "execution_count": 11,
   "id": "70e83a09",
   "metadata": {},
   "outputs": [
    {
     "name": "stdout",
     "output_type": "stream",
     "text": [
      "Gerando roteiro de viagem para o interesse: 'ecoturismo'...\n",
      "Roteiro gerado! Formatando a saída...\n",
      "\\n==================================================\n",
      "🚌 SEU ROTEIRO DE VIAGEM PARA BONITO 🚌\n",
      "==================================================\\n\n",
      "📍 Destino Sugerido: Bonito\n",
      "💡 Motivo: Bonito, no Mato Grosso do Sul, é reconhecida internacionalmente como um dos melhores destinos de ecoturismo do Brasil. A cidade oferece rios de águas cristalinas, grutas, cachoeiras e uma grande variedade de atividades de contato com a natureza, como flutuação, trilhas e observação de fauna e flora, sendo ideal para quem busca experiências sustentáveis e preservação ambiental.\\n\n",
      "--------------------------------------------------\\n\n",
      "🍽️ Sugestões de Restaurantes:\\n\n",
      "  - Nome: Casa do João (Culinária regional caseira)\n",
      "    Descrição: Restaurante tradicional de Bonito, famoso pelo ambiente acolhedor e pratos típicos sul-mato-grossenses preparados de forma caseira, como o pintado à urucum e a traíra sem espinha.\n",
      "    Nota: 4.7 | Preço Médio (2p): R$ 120.00\\n\n",
      "  - Nome: Restaurante da Zézinha (Comida caseira brasileira)\n",
      "    Descrição: Ambiente simples e familiar, com buffet de comida caseira, incluindo opções de peixes regionais, carnes e saladas frescas, muito procurado por moradores e turistas.\n",
      "    Nota: 4.6 | Preço Médio (2p): R$ 90.00\\n\n",
      "  - Nome: Cantinho do Peixe (Culinária regional e caseira)\n",
      "    Descrição: Especializado em peixes de água doce preparados de maneira caseira, oferece pratos como pacu assado e moqueca de pintado, em ambiente descontraído e familiar.\n",
      "    Nota: 4.5 | Preço Médio (2p): R$ 100.00\\n\n",
      "  - Nome: Juanita Restaurante (Culinária regional sofisticada)\n",
      "    Descrição: Restaurante elegante com pratos regionais elaborados, destaque para o pacu na brasa e o filé de pintado ao molho de alcaparras, carta de vinhos e atendimento diferenciado.\n",
      "    Nota: 4.8 | Preço Médio (2p): R$ 180.00\\n\n",
      "  - Nome: Taboa Restaurante (Culinária contemporânea/regional)\n",
      "    Descrição: Ambiente sofisticado e descontraído, famoso por pratos criativos que valorizam ingredientes locais, além de drinks exclusivos feitos com a tradicional cachaça Taboa.\n",
      "    Nota: 4.7 | Preço Médio (2p): R$ 170.00\\n\n",
      "  - Nome: Encontro das Águas (Culinária internacional e regional)\n",
      "    Descrição: Restaurante refinado com menu que une sabores regionais e internacionais, ambiente elegante com vista para o rio, ideal para jantares especiais e experiências gastronômicas.\n",
      "    Nota: 4.6 | Preço Médio (2p): R$ 200.00\\n\n",
      "--------------------------------------------------\\n\n",
      "🏞️ Sugestões de Passeios Culturais:\\n\n",
      "Claro! Embora Bonito, no Mato Grosso do Sul, seja mais conhecida por suas belezas naturais e ecoturismo, a cidade também oferece experiências culturais interessantes. Aqui estão três passeios culturais imperdíveis em Bonito:\n",
      "\n",
      "---\n",
      "\n",
      "**1. Projeto Jiboia**  \n",
      "O Projeto Jiboia é uma iniciativa de educação ambiental que visa desmistificar o medo das serpentes e promover a conservação desses animais. Durante a visita, os participantes assistem a uma palestra divertida e informativa sobre a importância das cobras para o ecossistema, além de aprenderem a diferenciar espécies peçonhentas e não peçonhentas. Ao final, é possível interagir e tirar fotos com uma jiboia, tornando o passeio educativo e inesquecível.\n",
      "\n",
      "---\n",
      "\n",
      "**2. Casa da Memória Raída**  \n",
      "A Casa da Memória Raída é um espaço cultural dedicado à preservação da história e das tradições de Bonito e região. O local reúne objetos antigos, fotografias, documentos e relatos que contam a trajetória dos primeiros habitantes, indígenas, colonizadores e a formação da cidade. É uma ótima oportunidade para conhecer o passado local, entender a cultura sul-mato-grossense e valorizar a identidade regional.\n",
      "\n",
      "---\n",
      "\n",
      "**3. Visita à Taboa Fábrica de Encantos**  \n",
      "A Taboa Fábrica de Encantos é uma mistura de fábrica artesanal, museu e bar, onde é possível conhecer o processo de produção da famosa cachaça Taboa, típica de Bonito. O passeio inclui uma visita guiada pelas instalações, explicação sobre a história da bebida, degustação de diferentes sabores e até a oportunidade de personalizar sua própria garrafa. Além disso, o local valoriza a cultura local com decoração rústica e apresentações de música regional em alguns dias.\n",
      "\n",
      "---\n",
      "\n",
      "Esses passeios proporcionam uma imersão na cultura, história e tradições de Bonito, complementando perfeitamente as aventuras naturais da região!\n",
      "\\n==================================================\n"
     ]
    }
   ],
   "source": [
    "#*. Definir o interesse do usuário\n",
    "interesse_usuario = \"ecoturismo\"\n",
    "\n",
    "# 2. Invocar a chain completa\n",
    "print(f\"Gerando roteiro de viagem para o interesse: '{interesse_usuario}'...\")\n",
    "roteiro_final = roteiro_chain.invoke({\"interesse\": interesse_usuario})\n",
    "print(\"Roteiro gerado! Formatando a saída...\")\n",
    "\n",
    "# 3. Apresentar o resultado de forma organizada\n",
    "\n",
    "# Extraindo as informações do dicionário de resultado\n",
    "cidade = roteiro_final['destino_info']['cidade']\n",
    "motivo = roteiro_final['destino_info']['motivo']\n",
    "lista_de_restaurantes = roteiro_final['sugestoes']['restaurantes'].restaurantes\n",
    "sugestao_de_passeios = roteiro_final['sugestoes']['passeios']\n",
    "\n",
    "# Imprimindo o roteiro formatado\n",
    "print(\"\\\\n\" + \"=\"*50)\n",
    "print(f\"🚌 SEU ROTEIRO DE VIAGEM PARA {cidade.upper()} 🚌\")\n",
    "print(\"=\"*50 + \"\\\\n\")\n",
    "\n",
    "print(f\"📍 Destino Sugerido: {cidade}\")\n",
    "print(f\"💡 Motivo: {motivo}\\\\n\")\n",
    "print(\"-\" * 50 + \"\\\\n\")\n",
    "\n",
    "print(\"🍽️ Sugestões de Restaurantes:\\\\n\")\n",
    "for r in lista_de_restaurantes:\n",
    "    print(f\"  - Nome: {r.nome} ({r.tipo})\")\n",
    "    print(f\"    Descrição: {r.descricao}\")\n",
    "    print(f\"    Nota: {r.nota} | Preço Médio (2p): R$ {r.preco:.2f}\\\\n\")\n",
    "print(\"-\" * 50 + \"\\\\n\")\n",
    "\n",
    "print(\"🏞️ Sugestões de Passeios Culturais:\\\\n\")\n",
    "print(sugestao_de_passeios)\n",
    "print(\"\\\\n\" + \"=\"*50)"
   ]
  }
 ],
 "metadata": {
  "kernelspec": {
   "display_name": ".venv",
   "language": "python",
   "name": "python3"
  },
  "language_info": {
   "codemirror_mode": {
    "name": "ipython",
    "version": 3
   },
   "file_extension": ".py",
   "mimetype": "text/x-python",
   "name": "python",
   "nbconvert_exporter": "python",
   "pygments_lexer": "ipython3",
   "version": "3.13.3"
  }
 },
 "nbformat": 4,
 "nbformat_minor": 5
}
