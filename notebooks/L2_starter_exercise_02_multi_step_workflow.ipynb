{
 "cells": [
  {
   "cell_type": "markdown",
   "metadata": {},
   "source": [
    "# Exercise - Multi step Workflow - STARTER"
   ]
  },
  {
   "cell_type": "markdown",
   "metadata": {},
   "source": [
    "Welcome to your next challenge in mastering LangChain’s Language Chain Expression Language (LCEL)! 🎯\n",
    "\n",
    "In this exercise, you’ll build a multi-step workflow using LCEL to solve a more complex task than simply generating a joke. We’ll walk through the entire process, from planning a task, to using multiple prompts and chaining steps together.\n",
    "\n",
    "By the end of this exercise, you’ll have built a workflow that generates a business idea, analyzes it, and presents the results in a structured, easy-to-understand format.\n",
    "\n",
    "Scenario\n",
    "You’ve been hired by a startup incubator to build an AI-powered assistant that helps aspiring entrepreneurs brainstorm business ideas, evaluate their potential, and summarize key insights."
   ]
  },
  {
   "cell_type": "markdown",
   "metadata": {},
   "source": [
    "Challenge\n",
    "Create an `AI Business Advisor` that:\n",
    "\n",
    "1.Accepts an industry as input.\n",
    "\n",
    "2.Generates a business idea.\n",
    "\n",
    "3.Analyzes the strengths and weaknesses.\n",
    "\n",
    "4.Formats the results as a final report.\n",
    "\n",
    "Use LangChain LCEL to chain prompts, LLMs, and output parsers."
   ]
  },
  {
   "cell_type": "markdown",
   "metadata": {},
   "source": [
    "In this exercise, you’ll build a multi-step workflow using LCEL to solve a more complex task than simply generating a joke. "
   ]
  },
  {
   "cell_type": "markdown",
   "metadata": {},
   "source": [
    "**Challenge**\n",
    "\n",
    "Create an AI Business Advisor that:\n",
    "\n",
    "1. Accepts an industry as input.\n",
    "2. Generates a business idea.\n",
    "3. Analyzes the strengths and weaknesses.\n",
    "4. Formats the results as a final report.\n"
   ]
  },
  {
   "cell_type": "markdown",
   "metadata": {},
   "source": [
    "## 0. Import the necessary libs"
   ]
  },
  {
   "cell_type": "code",
   "execution_count": 1,
   "metadata": {},
   "outputs": [],
   "source": [
    "import os\n",
    "from langchain_openai import ChatOpenAI\n",
    "from dotenv import load_dotenv, find_dotenv\n",
    "from langchain_core.prompts import PromptTemplate\n",
    "from langchain_core.output_parsers import StrOutputParser\n",
    "from langchain_core.runnables import RunnablePassthrough, RunnableParallel, RunnableLambda\n",
    "from pydantic import BaseModel, Field"
   ]
  },
  {
   "cell_type": "markdown",
   "metadata": {},
   "source": [
    "## 1. Instantiate Chat Model with your API Key"
   ]
  },
  {
   "cell_type": "markdown",
   "metadata": {},
   "source": [
    "To be able to connect with OpenAI, you need to instantiate an ChatOpenAI client passing your OpenAI key.\n",
    "\n",
    "You can pass the `api_key` argument directly.\n",
    "```python\n",
    "llm = ChatOpenAI(\n",
    "    model=\"gpt-4o-mini\",\n",
    "    temperature=0.0,\n",
    "    api_key=\"voc-\",\n",
    ")\n",
    "```"
   ]
  },
  {
   "cell_type": "code",
   "execution_count": 2,
   "metadata": {},
   "outputs": [
    {
     "name": "stdout",
     "output_type": "stream",
     "text": [
      "The sky is **blue** (during a clear day) due to the scattering of sunlight by the atmosphere—a phenomenon known as **Rayleigh scattering**. At sunrise or sunset, the sky can appear **red, orange, or pink** because the sunlight passes through more atmosphere, scattering shorter blue wavelengths and allowing longer red wavelengths to dominate.\n",
      "\n",
      "At night, the sky appears **dark or black** because the sun is no longer illuminating the atmosphere above you.\n",
      "\n",
      "So, the sky **is blue** (most commonly during the day), but its color can change depending on the time of day, weather, and atmospheric conditions.\n"
     ]
    }
   ],
   "source": [
    "#! TODO - Instantiate your chat model\n",
    "# * Carrega as variáveis de ambiente\n",
    "_ = load_dotenv(find_dotenv())\n",
    "\n",
    "# * Verifica se a API key está configurada\n",
    "if not os.getenv(\"OPENAI_API_KEY\"):\n",
    "    raise ValueError(\"OPENAI_API_KEY não encontrada no arquivo .env\")\n",
    "\n",
    "# * Configura o modelo com parâmetros específicos\n",
    "model: ChatOpenAI = ChatOpenAI(\n",
    "    model=\"gpt-4.1\",\n",
    "    temperature=0.0,  # Controla a criatividade das respostas\n",
    ")  # type: ignore\n",
    "\n",
    "response = model.invoke(\"The Sky is ?\")\n",
    "print(response.content)"
   ]
  },
  {
   "cell_type": "markdown",
   "metadata": {},
   "source": [
    "## 2. Your first Chain"
   ]
  },
  {
   "cell_type": "markdown",
   "metadata": {},
   "source": [
    "In the end of each chain, you should parse the output and save the logs"
   ]
  },
  {
   "cell_type": "code",
   "execution_count": 3,
   "metadata": {},
   "outputs": [],
   "source": [
    "logs = []"
   ]
  },
  {
   "cell_type": "code",
   "execution_count": 4,
   "metadata": {},
   "outputs": [],
   "source": [
    "parser = StrOutputParser()"
   ]
  },
  {
   "cell_type": "code",
   "execution_count": 5,
   "metadata": {},
   "outputs": [],
   "source": [
    "parse_and_log_output_chain = RunnableParallel(\n",
    "    output=parser, \n",
    "    log=RunnableLambda(lambda x: logs.append(x))\n",
    ")"
   ]
  },
  {
   "cell_type": "markdown",
   "metadata": {},
   "source": [
    "## 3. Idea Generation"
   ]
  },
  {
   "cell_type": "markdown",
   "metadata": {},
   "source": [
    "Craft a prompt to generate a business idea for the given industry. \n",
    "\n",
    "Make sure {industry} placeholder is inside your template, so it can be filled when the chain is invoked."
   ]
  },
  {
   "cell_type": "code",
   "execution_count": 6,
   "metadata": {},
   "outputs": [],
   "source": [
    "# TODO - Your prompt Template\n",
    "\n",
    "idea_prompt = PromptTemplate(\n",
    "    template=(\n",
    "        \"\"\"You are a creative and strategic business consultant specializing in identifying emerging markets opportunities. \n",
    "Your task is to generate a single, innovative, detailed business idea for the {industry} sector.\n",
    "\n",
    "The idea should be presented clearly and must include the following sections:\n",
    "\n",
    "Business Name: A catchy and memorable name for the new venture.\n",
    "\n",
    "The Core Concept: A one-paragraph summary of the business idea. What is it at its heart?\n",
    "\n",
    "The Problem: What specific problem, need, or gap in the current {industry} market does this business solve for its customers?\n",
    "\n",
    "The Solution: Describe the product or service in detail. How does it directly address the problem you've identified?\n",
    "\n",
    "Target Audience: Describe the ideal customer for this business. Be specific about their demographics, behaviors, and needs.\n",
    "\n",
    "Industry: {industry}\n",
    "\"\"\"\n",
    "    )\n",
    ") # type: ignore"
   ]
  },
  {
   "cell_type": "code",
   "execution_count": 7,
   "metadata": {},
   "outputs": [],
   "source": [
    "# TODO - Create your idea_chain: idea_prompt -> llm -> parse_and_log_output_chain\n",
    "idea_chain = idea_prompt | model | parse_and_log_output_chain # type: ignore"
   ]
  },
  {
   "cell_type": "code",
   "execution_count": 8,
   "metadata": {},
   "outputs": [
    {
     "name": "stdout",
     "output_type": "stream",
     "text": [
      "{'output': '**Business Name:** AgriLoop Circular Solutions\\n\\n**The Core Concept:**  \\nAgriLoop Circular Solutions is a tech-enabled platform that connects small and medium-sized farms with local food processors and bioenergy producers to create a closed-loop system for agricultural byproducts. By transforming crop residues and food waste into value-added products like organic fertilizers, animal feed, and biogas, AgriLoop helps farmers monetize their waste, reduces environmental impact, and supports sustainable agriculture.\\n\\n**The Problem:**  \\nA significant challenge in the agro sector is the inefficient management of agricultural byproducts and food waste. Farmers often burn crop residues or dispose of them unsafely, leading to environmental pollution, loss of potential income, and missed opportunities for resource optimization. Meanwhile, food processors and energy producers struggle to source consistent, quality feedstock for their operations.\\n\\n**The Solution:**  \\nAgriLoop offers a digital marketplace and logistics service that aggregates agricultural byproducts from farms and matches them with local buyers—such as compost manufacturers, livestock feed producers, and biogas plants. The platform provides real-time pricing, quality verification, and end-to-end logistics, ensuring seamless transactions. Additionally, AgriLoop offers consulting and training for farmers on best practices for byproduct collection and storage, maximizing the value of their waste streams. This creates a win-win ecosystem: farmers gain new revenue streams, buyers access reliable raw materials, and the environment benefits from reduced waste and emissions.\\n\\n**Target Audience:**  \\nThe ideal customers are small to medium-sized crop farmers (20–500 hectares) in regions with high agricultural output and limited waste management infrastructure, as well as local food processors, composters, and renewable energy producers seeking sustainable, cost-effective feedstock. These customers are environmentally conscious, open to adopting new technologies, and motivated by both economic and ecological benefits. Secondary audiences include agricultural cooperatives and rural development agencies interested in promoting circular economy practices.', 'log': None}\n"
     ]
    }
   ],
   "source": [
    "# TODO - Test your idea_chain invoking it by passing an industy like \"agro\" to it\n",
    "idea_result = idea_chain.invoke({\"industry\": \"agro\"}) # type: ignore\n",
    "print(idea_result)"
   ]
  },
  {
   "cell_type": "code",
   "execution_count": 9,
   "metadata": {},
   "outputs": [
    {
     "data": {
      "text/plain": [
       "'**Business Name:** AgriLoop Circular Solutions\\n\\n**The Core Concept:**  \\nAgriLoop Circular Solutions is a tech-enabled platform that connects small and medium-sized farms with local food processors and bioenergy producers to create a closed-loop system for agricultural byproducts. By transforming crop residues and food waste into value-added products like organic fertilizers, animal feed, and biogas, AgriLoop helps farmers monetize their waste, reduces environmental impact, and supports sustainable agriculture.\\n\\n**The Problem:**  \\nA significant challenge in the agro sector is the inefficient management of agricultural byproducts and food waste. Farmers often burn crop residues or dispose of them unsafely, leading to environmental pollution, loss of potential income, and missed opportunities for resource optimization. Meanwhile, food processors and energy producers struggle to source consistent, quality feedstock for their operations.\\n\\n**The Solution:**  \\nAgriLoop offers a digital marketplace and logistics service that aggregates agricultural byproducts from farms and matches them with local buyers—such as compost manufacturers, livestock feed producers, and biogas plants. The platform provides real-time pricing, quality verification, and end-to-end logistics, ensuring seamless transactions. Additionally, AgriLoop offers consulting and training for farmers on best practices for byproduct collection and storage, maximizing the value of their waste streams. This creates a win-win ecosystem: farmers gain new revenue streams, buyers access reliable raw materials, and the environment benefits from reduced waste and emissions.\\n\\n**Target Audience:**  \\nThe ideal customers are small to medium-sized crop farmers (20–500 hectares) in regions with high agricultural output and limited waste management infrastructure, as well as local food processors, composters, and renewable energy producers seeking sustainable, cost-effective feedstock. These customers are environmentally conscious, open to adopting new technologies, and motivated by both economic and ecological benefits. Secondary audiences include agricultural cooperatives and rural development agencies interested in promoting circular economy practices.'"
      ]
     },
     "execution_count": 9,
     "metadata": {},
     "output_type": "execute_result"
    }
   ],
   "source": [
    "idea_result[\"output\"]"
   ]
  },
  {
   "cell_type": "code",
   "execution_count": 10,
   "metadata": {},
   "outputs": [
    {
     "data": {
      "text/plain": [
       "[AIMessage(content='**Business Name:** AgriLoop Circular Solutions\\n\\n**The Core Concept:**  \\nAgriLoop Circular Solutions is a tech-enabled platform that connects small and medium-sized farms with local food processors and bioenergy producers to create a closed-loop system for agricultural byproducts. By transforming crop residues and food waste into value-added products like organic fertilizers, animal feed, and biogas, AgriLoop helps farmers monetize their waste, reduces environmental impact, and supports sustainable agriculture.\\n\\n**The Problem:**  \\nA significant challenge in the agro sector is the inefficient management of agricultural byproducts and food waste. Farmers often burn crop residues or dispose of them unsafely, leading to environmental pollution, loss of potential income, and missed opportunities for resource optimization. Meanwhile, food processors and energy producers struggle to source consistent, quality feedstock for their operations.\\n\\n**The Solution:**  \\nAgriLoop offers a digital marketplace and logistics service that aggregates agricultural byproducts from farms and matches them with local buyers—such as compost manufacturers, livestock feed producers, and biogas plants. The platform provides real-time pricing, quality verification, and end-to-end logistics, ensuring seamless transactions. Additionally, AgriLoop offers consulting and training for farmers on best practices for byproduct collection and storage, maximizing the value of their waste streams. This creates a win-win ecosystem: farmers gain new revenue streams, buyers access reliable raw materials, and the environment benefits from reduced waste and emissions.\\n\\n**Target Audience:**  \\nThe ideal customers are small to medium-sized crop farmers (20–500 hectares) in regions with high agricultural output and limited waste management infrastructure, as well as local food processors, composters, and renewable energy producers seeking sustainable, cost-effective feedstock. These customers are environmentally conscious, open to adopting new technologies, and motivated by both economic and ecological benefits. Secondary audiences include agricultural cooperatives and rural development agencies interested in promoting circular economy practices.', additional_kwargs={'refusal': None}, response_metadata={'token_usage': {'completion_tokens': 379, 'prompt_tokens': 159, 'total_tokens': 538, 'completion_tokens_details': {'accepted_prediction_tokens': 0, 'audio_tokens': 0, 'reasoning_tokens': 0, 'rejected_prediction_tokens': 0}, 'prompt_tokens_details': {'audio_tokens': 0, 'cached_tokens': 0}}, 'model_name': 'gpt-4.1-2025-04-14', 'system_fingerprint': 'fp_b3f1157249', 'id': 'chatcmpl-C0rkHZo3fQm5HPrCd9zHaLcPxk4Aq', 'service_tier': 'default', 'finish_reason': 'stop', 'logprobs': None}, id='run--efb95723-0853-4569-b828-89422a929efc-0', usage_metadata={'input_tokens': 159, 'output_tokens': 379, 'total_tokens': 538, 'input_token_details': {'audio': 0, 'cache_read': 0}, 'output_token_details': {'audio': 0, 'reasoning': 0}})]"
      ]
     },
     "execution_count": 10,
     "metadata": {},
     "output_type": "execute_result"
    }
   ],
   "source": [
    "logs"
   ]
  },
  {
   "cell_type": "markdown",
   "metadata": {},
   "source": [
    "## 4. Idea Analysis"
   ]
  },
  {
   "cell_type": "markdown",
   "metadata": {},
   "source": [
    "Craft a prompt to analyze the generated idea's strengths and weaknesses"
   ]
  },
  {
   "cell_type": "code",
   "execution_count": 11,
   "metadata": {},
   "outputs": [],
   "source": [
    "#a TODO - Your prompt Template\n",
    "analysis_prompt = PromptTemplate(\n",
    "    template=(\n",
    "        \"\"\"You are a pragmatic and experienced business analyst. Your primary skill is to realistically evaluate new business concepts, identifying both their potential and their hidden risks.\n",
    "\n",
    "You have been given the following business idea, which is set in the {industry} sector:\n",
    "\n",
    "Business Idea to Analyze: {business_idea}\n",
    "\n",
    "Your task is to conduct a concise Strengths and Weaknesses analysis of this idea. Please structure your report as follows:\n",
    "\n",
    "1. Strengths:\n",
    "List 3 to 5 key strengths of this business concept. Consider its innovation, potential market fit, competitive advantage, and scalability. For each point, briefly explain why it is a strength.\n",
    "\n",
    "2. Weaknesses:\n",
    "List 3 to 5 significant weaknesses or challenges. Consider potential execution hurdles, competitive threats, financial risks, and market adoption barriers. For each point, briefly explain why it is a weakness.\n",
    "\n",
    "3. Concluding Remark:\n",
    "Write a one-sentence final verdict that summarizes the overall viability of the business idea.\"\"\"\n",
    "    ),\n",
    "    input_variables=[\"industry\", \"business_idea\"]\n",
    ")# type ignore"
   ]
  },
  {
   "cell_type": "code",
   "execution_count": 12,
   "metadata": {},
   "outputs": [],
   "source": [
    "# TODO - Your chain\n",
    "\n",
    "from operator import itemgetter\n",
    "\n",
    "analysis_chain = (\n",
    "    RunnableParallel(\n",
    "        industry=itemgetter(\"industry\"),\n",
    "        business_idea=itemgetter(\"business_idea\")\n",
    "    )\n",
    "    | analysis_prompt\n",
    "    | model\n",
    "    | parse_and_log_output_chain\n",
    ")\n"
   ]
  },
  {
   "cell_type": "markdown",
   "metadata": {},
   "source": [
    "### TODO - Test your analysis_chain invoking it by passing idea_result[\"output\"] to it\n",
    "analysis_result = "
   ]
  },
  {
   "cell_type": "code",
   "execution_count": 13,
   "metadata": {},
   "outputs": [
    {
     "name": "stdout",
     "output_type": "stream",
     "text": [
      "{'output': '**1. Strengths:**\\n\\n- **Addresses a Clear Market Need:** The platform directly tackles the widespread problem of agricultural waste mismanagement, offering tangible economic and environmental benefits to both farmers and buyers, which increases its relevance and potential adoption.\\n- **Enables New Revenue Streams for Farmers:** By monetizing agricultural byproducts, AgriLoop provides farmers with additional income sources, making the value proposition attractive and potentially driving strong user engagement.\\n- **Supports Sustainability and Circular Economy:** The closed-loop system aligns with global trends toward sustainability and resource optimization, which can attract support from policymakers, NGOs, and environmentally conscious customers.\\n- **Tech-Enabled Marketplace with Logistics Integration:** The combination of a digital platform, real-time pricing, quality verification, and logistics services creates a comprehensive solution that can differentiate AgriLoop from less integrated competitors.\\n- **Scalable Model:** The platform approach and focus on regions with high agricultural output suggest potential for expansion into multiple geographies and crop types, supporting long-term growth.\\n\\n**2. Weaknesses:**\\n\\n- **Complex Logistics and Supply Chain Management:** Aggregating, verifying, and transporting diverse agricultural byproducts from dispersed farms to various buyers is operationally challenging and may require significant investment in infrastructure and coordination.\\n- **Farmer Adoption Barriers:** Small and medium-sized farmers may be resistant to adopting new technologies or changing established waste management practices, especially in regions with low digital literacy or limited internet access.\\n- **Quality and Consistency Issues:** Ensuring consistent quality and supply of byproducts to meet the requirements of processors and energy producers can be difficult, potentially undermining buyer trust and repeat business.\\n- **Competitive and Regulatory Risks:** Existing local waste aggregators, cooperatives, or government programs may already serve parts of this market, and evolving regulations around waste management could impact business operations or margins.\\n- **High Initial Capital and Operational Costs:** Building the platform, establishing logistics, and providing training/consulting services require substantial upfront investment, with uncertain timelines for achieving profitability.\\n\\n**3. Concluding Remark:**\\n\\nAgriLoop Circular Solutions presents a timely and innovative approach to agricultural waste management with strong market potential, but its success will depend on overcoming significant operational, adoption, and financial challenges.', 'log': None}\n"
     ]
    }
   ],
   "source": [
    "analysis_result = analysis_chain.invoke({\n",
    "    \"industry\": \"agro\",\n",
    "    \"business_idea\": idea_result\n",
    "})\n",
    "\n",
    "print(analysis_result)"
   ]
  },
  {
   "cell_type": "code",
   "execution_count": 14,
   "metadata": {},
   "outputs": [
    {
     "name": "stdout",
     "output_type": "stream",
     "text": [
      "<class 'dict'>\n"
     ]
    }
   ],
   "source": [
    "print(type(idea_result))"
   ]
  },
  {
   "cell_type": "code",
   "execution_count": 15,
   "metadata": {},
   "outputs": [
    {
     "data": {
      "text/plain": [
       "'**1. Strengths:**\\n\\n- **Addresses a Clear Market Need:** The platform directly tackles the widespread problem of agricultural waste mismanagement, offering tangible economic and environmental benefits to both farmers and buyers, which increases its relevance and potential adoption.\\n- **Enables New Revenue Streams for Farmers:** By monetizing agricultural byproducts, AgriLoop provides farmers with additional income sources, making the value proposition attractive and potentially driving strong user engagement.\\n- **Supports Sustainability and Circular Economy:** The closed-loop system aligns with global trends toward sustainability and resource optimization, which can attract support from policymakers, NGOs, and environmentally conscious customers.\\n- **Tech-Enabled Marketplace with Logistics Integration:** The combination of a digital platform, real-time pricing, quality verification, and logistics services creates a comprehensive solution that can differentiate AgriLoop from less integrated competitors.\\n- **Scalable Model:** The platform approach and focus on regions with high agricultural output suggest potential for expansion into multiple geographies and crop types, supporting long-term growth.\\n\\n**2. Weaknesses:**\\n\\n- **Complex Logistics and Supply Chain Management:** Aggregating, verifying, and transporting diverse agricultural byproducts from dispersed farms to various buyers is operationally challenging and may require significant investment in infrastructure and coordination.\\n- **Farmer Adoption Barriers:** Small and medium-sized farmers may be resistant to adopting new technologies or changing established waste management practices, especially in regions with low digital literacy or limited internet access.\\n- **Quality and Consistency Issues:** Ensuring consistent quality and supply of byproducts to meet the requirements of processors and energy producers can be difficult, potentially undermining buyer trust and repeat business.\\n- **Competitive and Regulatory Risks:** Existing local waste aggregators, cooperatives, or government programs may already serve parts of this market, and evolving regulations around waste management could impact business operations or margins.\\n- **High Initial Capital and Operational Costs:** Building the platform, establishing logistics, and providing training/consulting services require substantial upfront investment, with uncertain timelines for achieving profitability.\\n\\n**3. Concluding Remark:**\\n\\nAgriLoop Circular Solutions presents a timely and innovative approach to agricultural waste management with strong market potential, but its success will depend on overcoming significant operational, adoption, and financial challenges.'"
      ]
     },
     "execution_count": 15,
     "metadata": {},
     "output_type": "execute_result"
    }
   ],
   "source": [
    "analysis_result[\"output\"]"
   ]
  },
  {
   "cell_type": "code",
   "execution_count": 16,
   "metadata": {},
   "outputs": [
    {
     "data": {
      "text/plain": [
       "[AIMessage(content='**Business Name:** AgriLoop Circular Solutions\\n\\n**The Core Concept:**  \\nAgriLoop Circular Solutions is a tech-enabled platform that connects small and medium-sized farms with local food processors and bioenergy producers to create a closed-loop system for agricultural byproducts. By transforming crop residues and food waste into value-added products like organic fertilizers, animal feed, and biogas, AgriLoop helps farmers monetize their waste, reduces environmental impact, and supports sustainable agriculture.\\n\\n**The Problem:**  \\nA significant challenge in the agro sector is the inefficient management of agricultural byproducts and food waste. Farmers often burn crop residues or dispose of them unsafely, leading to environmental pollution, loss of potential income, and missed opportunities for resource optimization. Meanwhile, food processors and energy producers struggle to source consistent, quality feedstock for their operations.\\n\\n**The Solution:**  \\nAgriLoop offers a digital marketplace and logistics service that aggregates agricultural byproducts from farms and matches them with local buyers—such as compost manufacturers, livestock feed producers, and biogas plants. The platform provides real-time pricing, quality verification, and end-to-end logistics, ensuring seamless transactions. Additionally, AgriLoop offers consulting and training for farmers on best practices for byproduct collection and storage, maximizing the value of their waste streams. This creates a win-win ecosystem: farmers gain new revenue streams, buyers access reliable raw materials, and the environment benefits from reduced waste and emissions.\\n\\n**Target Audience:**  \\nThe ideal customers are small to medium-sized crop farmers (20–500 hectares) in regions with high agricultural output and limited waste management infrastructure, as well as local food processors, composters, and renewable energy producers seeking sustainable, cost-effective feedstock. These customers are environmentally conscious, open to adopting new technologies, and motivated by both economic and ecological benefits. Secondary audiences include agricultural cooperatives and rural development agencies interested in promoting circular economy practices.', additional_kwargs={'refusal': None}, response_metadata={'token_usage': {'completion_tokens': 379, 'prompt_tokens': 159, 'total_tokens': 538, 'completion_tokens_details': {'accepted_prediction_tokens': 0, 'audio_tokens': 0, 'reasoning_tokens': 0, 'rejected_prediction_tokens': 0}, 'prompt_tokens_details': {'audio_tokens': 0, 'cached_tokens': 0}}, 'model_name': 'gpt-4.1-2025-04-14', 'system_fingerprint': 'fp_b3f1157249', 'id': 'chatcmpl-C0rkHZo3fQm5HPrCd9zHaLcPxk4Aq', 'service_tier': 'default', 'finish_reason': 'stop', 'logprobs': None}, id='run--efb95723-0853-4569-b828-89422a929efc-0', usage_metadata={'input_tokens': 159, 'output_tokens': 379, 'total_tokens': 538, 'input_token_details': {'audio': 0, 'cache_read': 0}, 'output_token_details': {'audio': 0, 'reasoning': 0}}),\n",
       " AIMessage(content='**1. Strengths:**\\n\\n- **Addresses a Clear Market Need:** The platform directly tackles the widespread problem of agricultural waste mismanagement, offering tangible economic and environmental benefits to both farmers and buyers, which increases its relevance and potential adoption.\\n- **Enables New Revenue Streams for Farmers:** By monetizing agricultural byproducts, AgriLoop provides farmers with additional income sources, making the value proposition attractive and potentially driving strong user engagement.\\n- **Supports Sustainability and Circular Economy:** The closed-loop system aligns with global trends toward sustainability and resource optimization, which can attract support from policymakers, NGOs, and environmentally conscious customers.\\n- **Tech-Enabled Marketplace with Logistics Integration:** The combination of a digital platform, real-time pricing, quality verification, and logistics services creates a comprehensive solution that can differentiate AgriLoop from less integrated competitors.\\n- **Scalable Model:** The platform approach and focus on regions with high agricultural output suggest potential for expansion into multiple geographies and crop types, supporting long-term growth.\\n\\n**2. Weaknesses:**\\n\\n- **Complex Logistics and Supply Chain Management:** Aggregating, verifying, and transporting diverse agricultural byproducts from dispersed farms to various buyers is operationally challenging and may require significant investment in infrastructure and coordination.\\n- **Farmer Adoption Barriers:** Small and medium-sized farmers may be resistant to adopting new technologies or changing established waste management practices, especially in regions with low digital literacy or limited internet access.\\n- **Quality and Consistency Issues:** Ensuring consistent quality and supply of byproducts to meet the requirements of processors and energy producers can be difficult, potentially undermining buyer trust and repeat business.\\n- **Competitive and Regulatory Risks:** Existing local waste aggregators, cooperatives, or government programs may already serve parts of this market, and evolving regulations around waste management could impact business operations or margins.\\n- **High Initial Capital and Operational Costs:** Building the platform, establishing logistics, and providing training/consulting services require substantial upfront investment, with uncertain timelines for achieving profitability.\\n\\n**3. Concluding Remark:**\\n\\nAgriLoop Circular Solutions presents a timely and innovative approach to agricultural waste management with strong market potential, but its success will depend on overcoming significant operational, adoption, and financial challenges.', additional_kwargs={'refusal': None}, response_metadata={'token_usage': {'completion_tokens': 444, 'prompt_tokens': 597, 'total_tokens': 1041, 'completion_tokens_details': {'accepted_prediction_tokens': 0, 'audio_tokens': 0, 'reasoning_tokens': 0, 'rejected_prediction_tokens': 0}, 'prompt_tokens_details': {'audio_tokens': 0, 'cached_tokens': 0}}, 'model_name': 'gpt-4.1-2025-04-14', 'system_fingerprint': 'fp_b3f1157249', 'id': 'chatcmpl-C0rkPUFIMM9KiBreYpfMQWNDQkwqy', 'service_tier': 'default', 'finish_reason': 'stop', 'logprobs': None}, id='run--8fb7e811-2da4-4419-ae17-16ece7e36bef-0', usage_metadata={'input_tokens': 597, 'output_tokens': 444, 'total_tokens': 1041, 'input_token_details': {'audio': 0, 'cache_read': 0}, 'output_token_details': {'audio': 0, 'reasoning': 0}})]"
      ]
     },
     "execution_count": 16,
     "metadata": {},
     "output_type": "execute_result"
    }
   ],
   "source": [
    "logs"
   ]
  },
  {
   "cell_type": "markdown",
   "metadata": {},
   "source": [
    "## 5. Report Generation"
   ]
  },
  {
   "cell_type": "markdown",
   "metadata": {},
   "source": [
    "Craft a prompt to structure the information into a business report."
   ]
  },
  {
   "cell_type": "code",
   "execution_count": 17,
   "metadata": {},
   "outputs": [],
   "source": [
    "# TODO - Your prompt Template\n",
    "report_prompt = PromptTemplate(\n",
    "    template=(\n",
    "        \"\"\"You are a meticulous analyst. Given the following raw analysis of a business idea, reformat the information into a structured business report with clear fields.\n",
    "\n",
    "Analysis:\n",
    "{analysis}\n",
    "\n",
    "Please convert the above analysis into the following format:\n",
    "\n",
    "BusinessReport:\n",
    "- strengths: A list of short bullet points summarizing the main strengths.\n",
    "- weaknesses: A list of short bullet points summarizing the main weaknesses.\n",
    "- remark: A short concluding remark on the viability of the business idea.\n",
    "\n",
    "Output only the structured report in plain text. Do not include explanations or additional commentary.\"\"\"\n",
    "    ),\n",
    "    input_variables=[\"analysis\"]\n",
    ")"
   ]
  },
  {
   "cell_type": "code",
   "execution_count": 18,
   "metadata": {},
   "outputs": [],
   "source": [
    "from pydantic import BaseModel, Field\n",
    "from typing import List\n",
    "\n",
    "class AnalysisReport(BaseModel):\n",
    "    \"\"\"Structured business analysis report with strengths, weaknesses, and a final remark.\"\"\"\n",
    "    \n",
    "    strengths: List[str] = Field(default=[], description=\"List of strengths of the business idea\")\n",
    "    weaknesses: List[str] = Field(default=[], description=\"List of weaknesses or risks of the business idea\")\n",
    "    remark: str = Field(..., description=\"Final one-sentence verdict on the idea\")\n"
   ]
  },
  {
   "cell_type": "code",
   "execution_count": 19,
   "metadata": {},
   "outputs": [],
   "source": [
    "report_chain = (\n",
    "    report_prompt | model.with_structured_output(AnalysisReport)\n",
    ")"
   ]
  },
  {
   "cell_type": "code",
   "execution_count": 20,
   "metadata": {},
   "outputs": [],
   "source": [
    "# TODO - Test your report_chain invoking it by passing analysis_result[\"output\"] to it\n",
    "report_result = report_chain.invoke({\n",
    "    \"analysis\": analysis_result[\"output\"]\n",
    "})"
   ]
  },
  {
   "cell_type": "code",
   "execution_count": 21,
   "metadata": {},
   "outputs": [
    {
     "data": {
      "text/plain": [
       "AnalysisReport(strengths=['Addresses a clear market need for agricultural waste management.', 'Enables new revenue streams for farmers by monetizing byproducts.', 'Supports sustainability and aligns with circular economy trends.', 'Offers a tech-enabled, integrated marketplace with logistics and quality verification.', 'Scalable model with potential for geographic and crop-type expansion.'], weaknesses=['Complex logistics and supply chain management requirements.', 'Potential barriers to farmer adoption, especially among smallholders with low digital literacy.', 'Challenges in ensuring consistent quality and supply of byproducts.', 'Competition from existing aggregators, cooperatives, and regulatory risks.', 'High initial capital and operational costs with uncertain profitability timeline.'], remark='AgriLoop Circular Solutions is a promising and innovative business with strong market potential, but its success hinges on overcoming significant operational, adoption, and financial hurdles.')"
      ]
     },
     "execution_count": 21,
     "metadata": {},
     "output_type": "execute_result"
    }
   ],
   "source": [
    "report_result"
   ]
  },
  {
   "cell_type": "markdown",
   "metadata": {},
   "source": [
    "## 6. End to End Chain"
   ]
  },
  {
   "cell_type": "code",
   "execution_count": 22,
   "metadata": {},
   "outputs": [],
   "source": [
    "e2e_chain = ( \n",
    "    RunnablePassthrough() \n",
    "    | idea_chain\n",
    "    | RunnableParallel(idea=RunnablePassthrough())\n",
    "    | analysis_chain\n",
    "    | report_chain\n",
    ")"
   ]
  },
  {
   "cell_type": "code",
   "execution_count": 23,
   "metadata": {},
   "outputs": [
    {
     "name": "stdout",
     "output_type": "stream",
     "text": [
      "            +------------------+            \n",
      "            | PassthroughInput |            \n",
      "            +------------------+            \n",
      "                      *                     \n",
      "                      *                     \n",
      "                      *                     \n",
      "              +-------------+               \n",
      "              | Passthrough |               \n",
      "              +-------------+               \n",
      "                      *                     \n",
      "                      *                     \n",
      "                      *                     \n",
      "             +----------------+             \n",
      "             | PromptTemplate |             \n",
      "             +----------------+             \n",
      "                      *                     \n",
      "                      *                     \n",
      "                      *                     \n",
      "               +------------+               \n",
      "               | ChatOpenAI |               \n",
      "               +------------+               \n",
      "                      *                     \n",
      "                      *                     \n",
      "                      *                     \n",
      "       +---------------------------+        \n",
      "       | Parallel<output,log>Input |        \n",
      "       +---------------------------+        \n",
      "               ***         ***              \n",
      "              *               *             \n",
      "            **                 **           \n",
      "+-----------------+          +--------+     \n",
      "| StrOutputParser |          | Lambda |     \n",
      "+-----------------+          +--------+     \n",
      "               ***         ***              \n",
      "                  *       *                 \n",
      "                   **   **                  \n",
      "       +----------------------------+       \n",
      "       | Parallel<output,log>Output |       \n",
      "       +----------------------------+       \n",
      "                      *                     \n",
      "                      *                     \n",
      "                      *                     \n",
      "              +-------------+               \n",
      "              | Passthrough |               \n",
      "              +-------------+               \n",
      "                      *                     \n",
      "                      *                     \n",
      "                      *                     \n",
      " +---------------------------------------+  \n",
      " | Parallel<industry,business_idea>Input |  \n",
      " +---------------------------------------+  \n",
      "                **        **                \n",
      "              **            **              \n",
      "             *                *             \n",
      "       +--------+          +--------+       \n",
      "       | Lambda |          | Lambda |       \n",
      "       +--------+          +--------+       \n",
      "                **        **                \n",
      "                  **    **                  \n",
      "                    *  *                    \n",
      " +----------------------------------------+ \n",
      " | Parallel<industry,business_idea>Output | \n",
      " +----------------------------------------+ \n",
      "                      *                     \n",
      "                      *                     \n",
      "                      *                     \n",
      "             +----------------+             \n",
      "             | PromptTemplate |             \n",
      "             +----------------+             \n",
      "                      *                     \n",
      "                      *                     \n",
      "                      *                     \n",
      "               +------------+               \n",
      "               | ChatOpenAI |               \n",
      "               +------------+               \n",
      "                      *                     \n",
      "                      *                     \n",
      "                      *                     \n",
      "       +---------------------------+        \n",
      "       | Parallel<output,log>Input |        \n",
      "       +---------------------------+        \n",
      "               ***         ***              \n",
      "              *               *             \n",
      "            **                 **           \n",
      "+-----------------+          +--------+     \n",
      "| StrOutputParser |          | Lambda |     \n",
      "+-----------------+          +--------+     \n",
      "               ***         ***              \n",
      "                  *       *                 \n",
      "                   **   **                  \n",
      "       +----------------------------+       \n",
      "       | Parallel<output,log>Output |       \n",
      "       +----------------------------+       \n",
      "                      *                     \n",
      "                      *                     \n",
      "                      *                     \n",
      "             +----------------+             \n",
      "             | PromptTemplate |             \n",
      "             +----------------+             \n",
      "                      *                     \n",
      "                      *                     \n",
      "                      *                     \n",
      "               +------------+               \n",
      "               | ChatOpenAI |               \n",
      "               +------------+               \n",
      "                      *                     \n",
      "                      *                     \n",
      "                      *                     \n",
      "                 +--------+                 \n",
      "                 | Lambda |                 \n",
      "                 +--------+                 \n",
      "                      *                     \n",
      "                      *                     \n",
      "                      *                     \n",
      "              +--------------+              \n",
      "              | LambdaOutput |              \n",
      "              +--------------+              \n"
     ]
    }
   ],
   "source": [
    "e2e_chain.get_graph().print_ascii()"
   ]
  },
  {
   "cell_type": "code",
   "execution_count": 25,
   "metadata": {},
   "outputs": [
    {
     "ename": "KeyError",
     "evalue": "'industry'",
     "output_type": "error",
     "traceback": [
      "\u001b[31m---------------------------------------------------------------------------\u001b[39m",
      "\u001b[31mKeyError\u001b[39m                                  Traceback (most recent call last)",
      "\u001b[36mCell\u001b[39m\u001b[36m \u001b[39m\u001b[32mIn[25]\u001b[39m\u001b[32m, line 2\u001b[39m\n\u001b[32m      1\u001b[39m \u001b[38;5;66;03m# Change the industry if you want\u001b[39;00m\n\u001b[32m----> \u001b[39m\u001b[32m2\u001b[39m e2e_result = \u001b[43me2e_chain\u001b[49m\u001b[43m.\u001b[49m\u001b[43minvoke\u001b[49m\u001b[43m(\u001b[49m\u001b[43m{\u001b[49m\u001b[33;43m\"\u001b[39;49m\u001b[33;43mindustry\u001b[39;49m\u001b[33;43m\"\u001b[39;49m\u001b[43m:\u001b[49m\u001b[43m \u001b[49m\u001b[33;43m\"\u001b[39;49m\u001b[33;43magro\u001b[39;49m\u001b[33;43m\"\u001b[39;49m\u001b[43m}\u001b[49m\u001b[43m)\u001b[49m\n",
      "\u001b[36mFile \u001b[39m\u001b[32m~/Workdir/langchain/study_langchain/.venv/lib/python3.13/site-packages/langchain_core/runnables/base.py:3046\u001b[39m, in \u001b[36mRunnableSequence.invoke\u001b[39m\u001b[34m(self, input, config, **kwargs)\u001b[39m\n\u001b[32m   3044\u001b[39m                 input_ = context.run(step.invoke, input_, config, **kwargs)\n\u001b[32m   3045\u001b[39m             \u001b[38;5;28;01melse\u001b[39;00m:\n\u001b[32m-> \u001b[39m\u001b[32m3046\u001b[39m                 input_ = \u001b[43mcontext\u001b[49m\u001b[43m.\u001b[49m\u001b[43mrun\u001b[49m\u001b[43m(\u001b[49m\u001b[43mstep\u001b[49m\u001b[43m.\u001b[49m\u001b[43minvoke\u001b[49m\u001b[43m,\u001b[49m\u001b[43m \u001b[49m\u001b[43minput_\u001b[49m\u001b[43m,\u001b[49m\u001b[43m \u001b[49m\u001b[43mconfig\u001b[49m\u001b[43m)\u001b[49m\n\u001b[32m   3047\u001b[39m \u001b[38;5;66;03m# finish the root run\u001b[39;00m\n\u001b[32m   3048\u001b[39m \u001b[38;5;28;01mexcept\u001b[39;00m \u001b[38;5;167;01mBaseException\u001b[39;00m \u001b[38;5;28;01mas\u001b[39;00m e:\n",
      "\u001b[36mFile \u001b[39m\u001b[32m~/Workdir/langchain/study_langchain/.venv/lib/python3.13/site-packages/langchain_core/runnables/base.py:3773\u001b[39m, in \u001b[36mRunnableParallel.invoke\u001b[39m\u001b[34m(self, input, config, **kwargs)\u001b[39m\n\u001b[32m   3768\u001b[39m     \u001b[38;5;28;01mwith\u001b[39;00m get_executor_for_config(config) \u001b[38;5;28;01mas\u001b[39;00m executor:\n\u001b[32m   3769\u001b[39m         futures = [\n\u001b[32m   3770\u001b[39m             executor.submit(_invoke_step, step, \u001b[38;5;28minput\u001b[39m, config, key)\n\u001b[32m   3771\u001b[39m             \u001b[38;5;28;01mfor\u001b[39;00m key, step \u001b[38;5;129;01min\u001b[39;00m steps.items()\n\u001b[32m   3772\u001b[39m         ]\n\u001b[32m-> \u001b[39m\u001b[32m3773\u001b[39m         output = {key: \u001b[43mfuture\u001b[49m\u001b[43m.\u001b[49m\u001b[43mresult\u001b[49m\u001b[43m(\u001b[49m\u001b[43m)\u001b[49m \u001b[38;5;28;01mfor\u001b[39;00m key, future \u001b[38;5;129;01min\u001b[39;00m \u001b[38;5;28mzip\u001b[39m(steps, futures)}\n\u001b[32m   3774\u001b[39m \u001b[38;5;66;03m# finish the root run\u001b[39;00m\n\u001b[32m   3775\u001b[39m \u001b[38;5;28;01mexcept\u001b[39;00m \u001b[38;5;167;01mBaseException\u001b[39;00m \u001b[38;5;28;01mas\u001b[39;00m e:\n",
      "\u001b[36mFile \u001b[39m\u001b[32m~/.local/share/uv/python/cpython-3.13.3-linux-x86_64-gnu/lib/python3.13/concurrent/futures/_base.py:449\u001b[39m, in \u001b[36mFuture.result\u001b[39m\u001b[34m(self, timeout)\u001b[39m\n\u001b[32m    447\u001b[39m     \u001b[38;5;28;01mraise\u001b[39;00m CancelledError()\n\u001b[32m    448\u001b[39m \u001b[38;5;28;01melif\u001b[39;00m \u001b[38;5;28mself\u001b[39m._state == FINISHED:\n\u001b[32m--> \u001b[39m\u001b[32m449\u001b[39m     \u001b[38;5;28;01mreturn\u001b[39;00m \u001b[38;5;28;43mself\u001b[39;49m\u001b[43m.\u001b[49m\u001b[43m__get_result\u001b[49m\u001b[43m(\u001b[49m\u001b[43m)\u001b[49m\n\u001b[32m    451\u001b[39m \u001b[38;5;28mself\u001b[39m._condition.wait(timeout)\n\u001b[32m    453\u001b[39m \u001b[38;5;28;01mif\u001b[39;00m \u001b[38;5;28mself\u001b[39m._state \u001b[38;5;129;01min\u001b[39;00m [CANCELLED, CANCELLED_AND_NOTIFIED]:\n",
      "\u001b[36mFile \u001b[39m\u001b[32m~/.local/share/uv/python/cpython-3.13.3-linux-x86_64-gnu/lib/python3.13/concurrent/futures/_base.py:401\u001b[39m, in \u001b[36mFuture.__get_result\u001b[39m\u001b[34m(self)\u001b[39m\n\u001b[32m    399\u001b[39m \u001b[38;5;28;01mif\u001b[39;00m \u001b[38;5;28mself\u001b[39m._exception:\n\u001b[32m    400\u001b[39m     \u001b[38;5;28;01mtry\u001b[39;00m:\n\u001b[32m--> \u001b[39m\u001b[32m401\u001b[39m         \u001b[38;5;28;01mraise\u001b[39;00m \u001b[38;5;28mself\u001b[39m._exception\n\u001b[32m    402\u001b[39m     \u001b[38;5;28;01mfinally\u001b[39;00m:\n\u001b[32m    403\u001b[39m         \u001b[38;5;66;03m# Break a reference cycle with the exception in self._exception\u001b[39;00m\n\u001b[32m    404\u001b[39m         \u001b[38;5;28mself\u001b[39m = \u001b[38;5;28;01mNone\u001b[39;00m\n",
      "\u001b[36mFile \u001b[39m\u001b[32m~/.local/share/uv/python/cpython-3.13.3-linux-x86_64-gnu/lib/python3.13/concurrent/futures/thread.py:59\u001b[39m, in \u001b[36m_WorkItem.run\u001b[39m\u001b[34m(self)\u001b[39m\n\u001b[32m     56\u001b[39m     \u001b[38;5;28;01mreturn\u001b[39;00m\n\u001b[32m     58\u001b[39m \u001b[38;5;28;01mtry\u001b[39;00m:\n\u001b[32m---> \u001b[39m\u001b[32m59\u001b[39m     result = \u001b[38;5;28;43mself\u001b[39;49m\u001b[43m.\u001b[49m\u001b[43mfn\u001b[49m\u001b[43m(\u001b[49m\u001b[43m*\u001b[49m\u001b[38;5;28;43mself\u001b[39;49m\u001b[43m.\u001b[49m\u001b[43margs\u001b[49m\u001b[43m,\u001b[49m\u001b[43m \u001b[49m\u001b[43m*\u001b[49m\u001b[43m*\u001b[49m\u001b[38;5;28;43mself\u001b[39;49m\u001b[43m.\u001b[49m\u001b[43mkwargs\u001b[49m\u001b[43m)\u001b[49m\n\u001b[32m     60\u001b[39m \u001b[38;5;28;01mexcept\u001b[39;00m \u001b[38;5;167;01mBaseException\u001b[39;00m \u001b[38;5;28;01mas\u001b[39;00m exc:\n\u001b[32m     61\u001b[39m     \u001b[38;5;28mself\u001b[39m.future.set_exception(exc)\n",
      "\u001b[36mFile \u001b[39m\u001b[32m~/Workdir/langchain/study_langchain/.venv/lib/python3.13/site-packages/langchain_core/runnables/base.py:3757\u001b[39m, in \u001b[36mRunnableParallel.invoke.<locals>._invoke_step\u001b[39m\u001b[34m(step, input_, config, key)\u001b[39m\n\u001b[32m   3751\u001b[39m child_config = patch_config(\n\u001b[32m   3752\u001b[39m     config,\n\u001b[32m   3753\u001b[39m     \u001b[38;5;66;03m# mark each step as a child run\u001b[39;00m\n\u001b[32m   3754\u001b[39m     callbacks=run_manager.get_child(\u001b[33mf\u001b[39m\u001b[33m\"\u001b[39m\u001b[33mmap:key:\u001b[39m\u001b[38;5;132;01m{\u001b[39;00mkey\u001b[38;5;132;01m}\u001b[39;00m\u001b[33m\"\u001b[39m),\n\u001b[32m   3755\u001b[39m )\n\u001b[32m   3756\u001b[39m \u001b[38;5;28;01mwith\u001b[39;00m set_config_context(child_config) \u001b[38;5;28;01mas\u001b[39;00m context:\n\u001b[32m-> \u001b[39m\u001b[32m3757\u001b[39m     \u001b[38;5;28;01mreturn\u001b[39;00m \u001b[43mcontext\u001b[49m\u001b[43m.\u001b[49m\u001b[43mrun\u001b[49m\u001b[43m(\u001b[49m\n\u001b[32m   3758\u001b[39m \u001b[43m        \u001b[49m\u001b[43mstep\u001b[49m\u001b[43m.\u001b[49m\u001b[43minvoke\u001b[49m\u001b[43m,\u001b[49m\n\u001b[32m   3759\u001b[39m \u001b[43m        \u001b[49m\u001b[43minput_\u001b[49m\u001b[43m,\u001b[49m\n\u001b[32m   3760\u001b[39m \u001b[43m        \u001b[49m\u001b[43mchild_config\u001b[49m\u001b[43m,\u001b[49m\n\u001b[32m   3761\u001b[39m \u001b[43m    \u001b[49m\u001b[43m)\u001b[49m\n",
      "\u001b[36mFile \u001b[39m\u001b[32m~/Workdir/langchain/study_langchain/.venv/lib/python3.13/site-packages/langchain_core/runnables/base.py:4775\u001b[39m, in \u001b[36mRunnableLambda.invoke\u001b[39m\u001b[34m(self, input, config, **kwargs)\u001b[39m\n\u001b[32m   4761\u001b[39m \u001b[38;5;250m\u001b[39m\u001b[33;03m\"\"\"Invoke this Runnable synchronously.\u001b[39;00m\n\u001b[32m   4762\u001b[39m \n\u001b[32m   4763\u001b[39m \u001b[33;03mArgs:\u001b[39;00m\n\u001b[32m   (...)\u001b[39m\u001b[32m   4772\u001b[39m \u001b[33;03m    TypeError: If the Runnable is a coroutine function.\u001b[39;00m\n\u001b[32m   4773\u001b[39m \u001b[33;03m\"\"\"\u001b[39;00m\n\u001b[32m   4774\u001b[39m \u001b[38;5;28;01mif\u001b[39;00m \u001b[38;5;28mhasattr\u001b[39m(\u001b[38;5;28mself\u001b[39m, \u001b[33m\"\u001b[39m\u001b[33mfunc\u001b[39m\u001b[33m\"\u001b[39m):\n\u001b[32m-> \u001b[39m\u001b[32m4775\u001b[39m     \u001b[38;5;28;01mreturn\u001b[39;00m \u001b[38;5;28;43mself\u001b[39;49m\u001b[43m.\u001b[49m\u001b[43m_call_with_config\u001b[49m\u001b[43m(\u001b[49m\n\u001b[32m   4776\u001b[39m \u001b[43m        \u001b[49m\u001b[38;5;28;43mself\u001b[39;49m\u001b[43m.\u001b[49m\u001b[43m_invoke\u001b[49m\u001b[43m,\u001b[49m\n\u001b[32m   4777\u001b[39m \u001b[43m        \u001b[49m\u001b[38;5;28;43minput\u001b[39;49m\u001b[43m,\u001b[49m\n\u001b[32m   4778\u001b[39m \u001b[43m        \u001b[49m\u001b[43mensure_config\u001b[49m\u001b[43m(\u001b[49m\u001b[43mconfig\u001b[49m\u001b[43m)\u001b[49m\u001b[43m,\u001b[49m\n\u001b[32m   4779\u001b[39m \u001b[43m        \u001b[49m\u001b[43m*\u001b[49m\u001b[43m*\u001b[49m\u001b[43mkwargs\u001b[49m\u001b[43m,\u001b[49m\n\u001b[32m   4780\u001b[39m \u001b[43m    \u001b[49m\u001b[43m)\u001b[49m\n\u001b[32m   4781\u001b[39m msg = \u001b[33m\"\u001b[39m\u001b[33mCannot invoke a coroutine function synchronously.Use `ainvoke` instead.\u001b[39m\u001b[33m\"\u001b[39m\n\u001b[32m   4782\u001b[39m \u001b[38;5;28;01mraise\u001b[39;00m \u001b[38;5;167;01mTypeError\u001b[39;00m(msg)\n",
      "\u001b[36mFile \u001b[39m\u001b[32m~/Workdir/langchain/study_langchain/.venv/lib/python3.13/site-packages/langchain_core/runnables/base.py:1939\u001b[39m, in \u001b[36mRunnable._call_with_config\u001b[39m\u001b[34m(self, func, input_, config, run_type, serialized, **kwargs)\u001b[39m\n\u001b[32m   1935\u001b[39m     child_config = patch_config(config, callbacks=run_manager.get_child())\n\u001b[32m   1936\u001b[39m     \u001b[38;5;28;01mwith\u001b[39;00m set_config_context(child_config) \u001b[38;5;28;01mas\u001b[39;00m context:\n\u001b[32m   1937\u001b[39m         output = cast(\n\u001b[32m   1938\u001b[39m             \u001b[33m\"\u001b[39m\u001b[33mOutput\u001b[39m\u001b[33m\"\u001b[39m,\n\u001b[32m-> \u001b[39m\u001b[32m1939\u001b[39m             \u001b[43mcontext\u001b[49m\u001b[43m.\u001b[49m\u001b[43mrun\u001b[49m\u001b[43m(\u001b[49m\n\u001b[32m   1940\u001b[39m \u001b[43m                \u001b[49m\u001b[43mcall_func_with_variable_args\u001b[49m\u001b[43m,\u001b[49m\u001b[43m  \u001b[49m\u001b[38;5;66;43;03m# type: ignore[arg-type]\u001b[39;49;00m\n\u001b[32m   1941\u001b[39m \u001b[43m                \u001b[49m\u001b[43mfunc\u001b[49m\u001b[43m,\u001b[49m\n\u001b[32m   1942\u001b[39m \u001b[43m                \u001b[49m\u001b[43minput_\u001b[49m\u001b[43m,\u001b[49m\n\u001b[32m   1943\u001b[39m \u001b[43m                \u001b[49m\u001b[43mconfig\u001b[49m\u001b[43m,\u001b[49m\n\u001b[32m   1944\u001b[39m \u001b[43m                \u001b[49m\u001b[43mrun_manager\u001b[49m\u001b[43m,\u001b[49m\n\u001b[32m   1945\u001b[39m \u001b[43m                \u001b[49m\u001b[43m*\u001b[49m\u001b[43m*\u001b[49m\u001b[43mkwargs\u001b[49m\u001b[43m,\u001b[49m\n\u001b[32m   1946\u001b[39m \u001b[43m            \u001b[49m\u001b[43m)\u001b[49m,\n\u001b[32m   1947\u001b[39m         )\n\u001b[32m   1948\u001b[39m \u001b[38;5;28;01mexcept\u001b[39;00m \u001b[38;5;167;01mBaseException\u001b[39;00m \u001b[38;5;28;01mas\u001b[39;00m e:\n\u001b[32m   1949\u001b[39m     run_manager.on_chain_error(e)\n",
      "\u001b[36mFile \u001b[39m\u001b[32m~/Workdir/langchain/study_langchain/.venv/lib/python3.13/site-packages/langchain_core/runnables/config.py:428\u001b[39m, in \u001b[36mcall_func_with_variable_args\u001b[39m\u001b[34m(func, input, config, run_manager, **kwargs)\u001b[39m\n\u001b[32m    426\u001b[39m \u001b[38;5;28;01mif\u001b[39;00m run_manager \u001b[38;5;129;01mis\u001b[39;00m \u001b[38;5;129;01mnot\u001b[39;00m \u001b[38;5;28;01mNone\u001b[39;00m \u001b[38;5;129;01mand\u001b[39;00m accepts_run_manager(func):\n\u001b[32m    427\u001b[39m     kwargs[\u001b[33m\"\u001b[39m\u001b[33mrun_manager\u001b[39m\u001b[33m\"\u001b[39m] = run_manager\n\u001b[32m--> \u001b[39m\u001b[32m428\u001b[39m \u001b[38;5;28;01mreturn\u001b[39;00m \u001b[43mfunc\u001b[49m\u001b[43m(\u001b[49m\u001b[38;5;28;43minput\u001b[39;49m\u001b[43m,\u001b[49m\u001b[43m \u001b[49m\u001b[43m*\u001b[49m\u001b[43m*\u001b[49m\u001b[43mkwargs\u001b[49m\u001b[43m)\u001b[49m\n",
      "\u001b[36mFile \u001b[39m\u001b[32m~/Workdir/langchain/study_langchain/.venv/lib/python3.13/site-packages/langchain_core/runnables/base.py:4633\u001b[39m, in \u001b[36mRunnableLambda._invoke\u001b[39m\u001b[34m(self, input_, run_manager, config, **kwargs)\u001b[39m\n\u001b[32m   4631\u001b[39m                 output = chunk\n\u001b[32m   4632\u001b[39m \u001b[38;5;28;01melse\u001b[39;00m:\n\u001b[32m-> \u001b[39m\u001b[32m4633\u001b[39m     output = \u001b[43mcall_func_with_variable_args\u001b[49m\u001b[43m(\u001b[49m\n\u001b[32m   4634\u001b[39m \u001b[43m        \u001b[49m\u001b[38;5;28;43mself\u001b[39;49m\u001b[43m.\u001b[49m\u001b[43mfunc\u001b[49m\u001b[43m,\u001b[49m\u001b[43m \u001b[49m\u001b[43minput_\u001b[49m\u001b[43m,\u001b[49m\u001b[43m \u001b[49m\u001b[43mconfig\u001b[49m\u001b[43m,\u001b[49m\u001b[43m \u001b[49m\u001b[43mrun_manager\u001b[49m\u001b[43m,\u001b[49m\u001b[43m \u001b[49m\u001b[43m*\u001b[49m\u001b[43m*\u001b[49m\u001b[43mkwargs\u001b[49m\n\u001b[32m   4635\u001b[39m \u001b[43m    \u001b[49m\u001b[43m)\u001b[49m\n\u001b[32m   4636\u001b[39m \u001b[38;5;66;03m# If the output is a Runnable, invoke it\u001b[39;00m\n\u001b[32m   4637\u001b[39m \u001b[38;5;28;01mif\u001b[39;00m \u001b[38;5;28misinstance\u001b[39m(output, Runnable):\n",
      "\u001b[36mFile \u001b[39m\u001b[32m~/Workdir/langchain/study_langchain/.venv/lib/python3.13/site-packages/langchain_core/runnables/config.py:428\u001b[39m, in \u001b[36mcall_func_with_variable_args\u001b[39m\u001b[34m(func, input, config, run_manager, **kwargs)\u001b[39m\n\u001b[32m    426\u001b[39m \u001b[38;5;28;01mif\u001b[39;00m run_manager \u001b[38;5;129;01mis\u001b[39;00m \u001b[38;5;129;01mnot\u001b[39;00m \u001b[38;5;28;01mNone\u001b[39;00m \u001b[38;5;129;01mand\u001b[39;00m accepts_run_manager(func):\n\u001b[32m    427\u001b[39m     kwargs[\u001b[33m\"\u001b[39m\u001b[33mrun_manager\u001b[39m\u001b[33m\"\u001b[39m] = run_manager\n\u001b[32m--> \u001b[39m\u001b[32m428\u001b[39m \u001b[38;5;28;01mreturn\u001b[39;00m \u001b[43mfunc\u001b[49m\u001b[43m(\u001b[49m\u001b[38;5;28;43minput\u001b[39;49m\u001b[43m,\u001b[49m\u001b[43m \u001b[49m\u001b[43m*\u001b[49m\u001b[43m*\u001b[49m\u001b[43mkwargs\u001b[49m\u001b[43m)\u001b[49m\n",
      "\u001b[31mKeyError\u001b[39m: 'industry'"
     ]
    }
   ],
   "source": [
    "# Change the industry if you want\n",
    "e2e_result = e2e_chain.invoke({\"industry\": \"agro\"})"
   ]
  },
  {
   "cell_type": "code",
   "execution_count": 26,
   "metadata": {},
   "outputs": [
    {
     "ename": "NameError",
     "evalue": "name 'e2e_result' is not defined",
     "output_type": "error",
     "traceback": [
      "\u001b[31m---------------------------------------------------------------------------\u001b[39m",
      "\u001b[31mNameError\u001b[39m                                 Traceback (most recent call last)",
      "\u001b[36mCell\u001b[39m\u001b[36m \u001b[39m\u001b[32mIn[26]\u001b[39m\u001b[32m, line 1\u001b[39m\n\u001b[32m----> \u001b[39m\u001b[32m1\u001b[39m \u001b[43me2e_result\u001b[49m\n",
      "\u001b[31mNameError\u001b[39m: name 'e2e_result' is not defined"
     ]
    }
   ],
   "source": [
    "e2e_result"
   ]
  },
  {
   "cell_type": "code",
   "execution_count": 27,
   "metadata": {},
   "outputs": [
    {
     "ename": "NameError",
     "evalue": "name 'e2e_result' is not defined",
     "output_type": "error",
     "traceback": [
      "\u001b[31m---------------------------------------------------------------------------\u001b[39m",
      "\u001b[31mNameError\u001b[39m                                 Traceback (most recent call last)",
      "\u001b[36mCell\u001b[39m\u001b[36m \u001b[39m\u001b[32mIn[27]\u001b[39m\u001b[32m, line 1\u001b[39m\n\u001b[32m----> \u001b[39m\u001b[32m1\u001b[39m \u001b[43me2e_result\u001b[49m.strengths\n",
      "\u001b[31mNameError\u001b[39m: name 'e2e_result' is not defined"
     ]
    }
   ],
   "source": [
    "e2e_result.strengths"
   ]
  },
  {
   "cell_type": "code",
   "execution_count": 28,
   "metadata": {},
   "outputs": [
    {
     "ename": "NameError",
     "evalue": "name 'e2e_result' is not defined",
     "output_type": "error",
     "traceback": [
      "\u001b[31m---------------------------------------------------------------------------\u001b[39m",
      "\u001b[31mNameError\u001b[39m                                 Traceback (most recent call last)",
      "\u001b[36mCell\u001b[39m\u001b[36m \u001b[39m\u001b[32mIn[28]\u001b[39m\u001b[32m, line 1\u001b[39m\n\u001b[32m----> \u001b[39m\u001b[32m1\u001b[39m \u001b[43me2e_result\u001b[49m.weaknesses\n",
      "\u001b[31mNameError\u001b[39m: name 'e2e_result' is not defined"
     ]
    }
   ],
   "source": [
    "e2e_result.weaknesses"
   ]
  },
  {
   "cell_type": "code",
   "execution_count": 29,
   "metadata": {},
   "outputs": [
    {
     "data": {
      "text/plain": [
       "[AIMessage(content='**Business Name:** AgriLoop Circular Solutions\\n\\n**The Core Concept:**  \\nAgriLoop Circular Solutions is a tech-enabled platform that connects small and medium-sized farms with local food processors and bioenergy producers to create a closed-loop system for agricultural byproducts. By transforming crop residues and food waste into value-added products like organic fertilizers, animal feed, and biogas, AgriLoop helps farmers monetize their waste, reduces environmental impact, and supports sustainable agriculture.\\n\\n**The Problem:**  \\nA significant challenge in the agro sector is the inefficient management of agricultural byproducts and food waste. Farmers often burn crop residues or dispose of them unsafely, leading to environmental pollution, loss of potential income, and missed opportunities for resource optimization. Meanwhile, food processors and energy producers struggle to source consistent, quality feedstock for their operations.\\n\\n**The Solution:**  \\nAgriLoop offers a digital marketplace and logistics service that aggregates agricultural byproducts from farms and matches them with local buyers—such as compost manufacturers, livestock feed producers, and biogas plants. The platform provides real-time pricing, quality verification, and end-to-end logistics, ensuring seamless transactions. Additionally, AgriLoop offers consulting and training for farmers on best practices for byproduct collection and storage, maximizing the value of their waste streams. This creates a win-win ecosystem: farmers gain new revenue streams, buyers access reliable raw materials, and the environment benefits from reduced waste and emissions.\\n\\n**Target Audience:**  \\nThe ideal customers are small to medium-sized crop farmers (20–500 hectares) in regions with high agricultural output and limited waste management infrastructure, as well as local food processors, composters, and renewable energy producers seeking sustainable, cost-effective feedstock. These customers are environmentally conscious, open to adopting new technologies, and motivated by both economic and ecological benefits. Secondary audiences include agricultural cooperatives and rural development agencies interested in promoting circular economy practices.', additional_kwargs={'refusal': None}, response_metadata={'token_usage': {'completion_tokens': 379, 'prompt_tokens': 159, 'total_tokens': 538, 'completion_tokens_details': {'accepted_prediction_tokens': 0, 'audio_tokens': 0, 'reasoning_tokens': 0, 'rejected_prediction_tokens': 0}, 'prompt_tokens_details': {'audio_tokens': 0, 'cached_tokens': 0}}, 'model_name': 'gpt-4.1-2025-04-14', 'system_fingerprint': 'fp_b3f1157249', 'id': 'chatcmpl-C0rkHZo3fQm5HPrCd9zHaLcPxk4Aq', 'service_tier': 'default', 'finish_reason': 'stop', 'logprobs': None}, id='run--efb95723-0853-4569-b828-89422a929efc-0', usage_metadata={'input_tokens': 159, 'output_tokens': 379, 'total_tokens': 538, 'input_token_details': {'audio': 0, 'cache_read': 0}, 'output_token_details': {'audio': 0, 'reasoning': 0}}),\n",
       " AIMessage(content='**1. Strengths:**\\n\\n- **Addresses a Clear Market Need:** The platform directly tackles the widespread problem of agricultural waste mismanagement, offering tangible economic and environmental benefits to both farmers and buyers, which increases its relevance and potential adoption.\\n- **Enables New Revenue Streams for Farmers:** By monetizing agricultural byproducts, AgriLoop provides farmers with additional income sources, making the value proposition attractive and potentially driving strong user engagement.\\n- **Supports Sustainability and Circular Economy:** The closed-loop system aligns with global trends toward sustainability and resource optimization, which can attract support from policymakers, NGOs, and environmentally conscious customers.\\n- **Tech-Enabled Marketplace with Logistics Integration:** The combination of a digital platform, real-time pricing, quality verification, and logistics services creates a comprehensive solution that can differentiate AgriLoop from less integrated competitors.\\n- **Scalable Model:** The platform approach and focus on regions with high agricultural output suggest potential for expansion into multiple geographies and crop types, supporting long-term growth.\\n\\n**2. Weaknesses:**\\n\\n- **Complex Logistics and Supply Chain Management:** Aggregating, verifying, and transporting diverse agricultural byproducts from dispersed farms to various buyers is operationally challenging and may require significant investment in infrastructure and coordination.\\n- **Farmer Adoption Barriers:** Small and medium-sized farmers may be resistant to adopting new technologies or changing established waste management practices, especially in regions with low digital literacy or limited internet access.\\n- **Quality and Consistency Issues:** Ensuring consistent quality and supply of byproducts to meet the requirements of processors and energy producers can be difficult, potentially undermining buyer trust and repeat business.\\n- **Competitive and Regulatory Risks:** Existing local waste aggregators, cooperatives, or government programs may already serve parts of this market, and evolving regulations around waste management could impact business operations or margins.\\n- **High Initial Capital and Operational Costs:** Building the platform, establishing logistics, and providing training/consulting services require substantial upfront investment, with uncertain timelines for achieving profitability.\\n\\n**3. Concluding Remark:**\\n\\nAgriLoop Circular Solutions presents a timely and innovative approach to agricultural waste management with strong market potential, but its success will depend on overcoming significant operational, adoption, and financial challenges.', additional_kwargs={'refusal': None}, response_metadata={'token_usage': {'completion_tokens': 444, 'prompt_tokens': 597, 'total_tokens': 1041, 'completion_tokens_details': {'accepted_prediction_tokens': 0, 'audio_tokens': 0, 'reasoning_tokens': 0, 'rejected_prediction_tokens': 0}, 'prompt_tokens_details': {'audio_tokens': 0, 'cached_tokens': 0}}, 'model_name': 'gpt-4.1-2025-04-14', 'system_fingerprint': 'fp_b3f1157249', 'id': 'chatcmpl-C0rkPUFIMM9KiBreYpfMQWNDQkwqy', 'service_tier': 'default', 'finish_reason': 'stop', 'logprobs': None}, id='run--8fb7e811-2da4-4419-ae17-16ece7e36bef-0', usage_metadata={'input_tokens': 597, 'output_tokens': 444, 'total_tokens': 1041, 'input_token_details': {'audio': 0, 'cache_read': 0}, 'output_token_details': {'audio': 0, 'reasoning': 0}}),\n",
       " AIMessage(content='**Business Name:** AgriLoop Circular Solutions\\n\\n**The Core Concept:**  \\nAgriLoop Circular Solutions is a tech-enabled platform that connects small and medium-sized farms with local food processors and bioenergy producers to create a closed-loop system for agricultural byproducts. By transforming crop residues and food waste into value-added products like organic fertilizers, animal feed, and biogas, AgriLoop helps farmers monetize their waste, reduces environmental impact, and supports sustainable agriculture.\\n\\n**The Problem:**  \\nA significant challenge in the agro sector is the inefficient management of agricultural byproducts and food waste. Farmers often burn crop residues or discard organic waste, leading to environmental pollution, loss of potential income, and missed opportunities for resource optimization. Meanwhile, food processors and energy producers struggle to source consistent, high-quality organic inputs for their operations.\\n\\n**The Solution:**  \\nAgriLoop offers a digital marketplace and logistics service that aggregates agricultural byproducts from local farms and matches them with buyers in the food processing, animal husbandry, and renewable energy sectors. The platform provides real-time pricing, quality verification, and transparent transactions. Additionally, AgriLoop offers on-site waste collection, processing (such as shredding or composting), and delivery services, ensuring that waste is efficiently converted into valuable products like organic fertilizers, animal feed, and biogas feedstock. This not only creates new revenue streams for farmers but also supports a circular economy in agriculture.\\n\\n**Target Audience:**  \\nThe ideal customers are small to medium-sized farmers (20-500 acres) in peri-urban and rural areas who produce significant crop residues or organic waste but lack the resources or knowledge to monetize it. Secondary customers include local food processors, livestock farmers, and renewable energy producers seeking reliable, sustainable sources of organic inputs. These customers are environmentally conscious, cost-sensitive, and interested in sustainable practices that improve profitability and reduce waste.\\n\\n**Industry:** Agro', additional_kwargs={'refusal': None}, response_metadata={'token_usage': {'completion_tokens': 377, 'prompt_tokens': 159, 'total_tokens': 536, 'completion_tokens_details': {'accepted_prediction_tokens': 0, 'audio_tokens': 0, 'reasoning_tokens': 0, 'rejected_prediction_tokens': 0}, 'prompt_tokens_details': {'audio_tokens': 0, 'cached_tokens': 0}}, 'model_name': 'gpt-4.1-2025-04-14', 'system_fingerprint': 'fp_b3f1157249', 'id': 'chatcmpl-C0rmsyCyl7OnMHkHJd1NbA64k0Ozs', 'service_tier': 'default', 'finish_reason': 'stop', 'logprobs': None}, id='run--0c40337b-2baa-48b3-9f5a-fb77fef18b08-0', usage_metadata={'input_tokens': 159, 'output_tokens': 377, 'total_tokens': 536, 'input_token_details': {'audio': 0, 'cache_read': 0}, 'output_token_details': {'audio': 0, 'reasoning': 0}}),\n",
       " AIMessage(content='**Business Name:** AgriLoop Circular Solutions\\n\\n**The Core Concept:**  \\nAgriLoop Circular Solutions is a tech-enabled platform that connects small and medium-sized farms with local food processors and bio-manufacturers to transform agricultural waste into high-value products such as organic fertilizers, animal feed, and bioplastics. By leveraging IoT tracking, logistics optimization, and a marketplace model, AgriLoop creates a closed-loop ecosystem that turns farm byproducts into new revenue streams while reducing environmental impact.\\n\\n**The Problem:**  \\nA significant portion of agricultural byproducts—such as fruit peels, crop residues, and husks—are either burned, left to rot, or disposed of inefficiently, leading to environmental pollution, greenhouse gas emissions, and lost economic opportunities for farmers. Small and medium-sized farms, in particular, lack the resources and networks to monetize their waste or access sustainable disposal solutions.\\n\\n**The Solution:**  \\nAgriLoop offers a digital platform where farmers can list their available agricultural byproducts in real time. The platform uses IoT sensors to track waste generation and quality, and matches supply with demand from local processors who can upcycle these materials into organic fertilizers, animal feed, or raw materials for bioplastics. AgriLoop manages the logistics, ensuring efficient collection and delivery, and provides transparent revenue sharing for participating farmers. The platform also offers analytics and sustainability reporting, helping users track their environmental impact and optimize operations.\\n\\n**Target Audience:**  \\nThe ideal customers are small to medium-sized farm owners and cooperatives (with 10–500 hectares of land) in regions with active food processing and bio-manufacturing industries. These farmers are environmentally conscious, seeking additional income streams, and open to adopting digital solutions. Secondary customers include local food processors, animal feed producers, and sustainable packaging manufacturers looking for reliable, traceable sources of agricultural byproducts.\\n\\n**Industry:** Agro', additional_kwargs={'refusal': None}, response_metadata={'token_usage': {'completion_tokens': 377, 'prompt_tokens': 159, 'total_tokens': 536, 'completion_tokens_details': {'accepted_prediction_tokens': 0, 'audio_tokens': 0, 'reasoning_tokens': 0, 'rejected_prediction_tokens': 0}, 'prompt_tokens_details': {'audio_tokens': 0, 'cached_tokens': 0}}, 'model_name': 'gpt-4.1-2025-04-14', 'system_fingerprint': 'fp_b3f1157249', 'id': 'chatcmpl-C0rpLBfgG18No6nxXa2UyuP2Yev35', 'service_tier': 'default', 'finish_reason': 'stop', 'logprobs': None}, id='run--7c767f7d-956d-4c53-a968-3150543d5954-0', usage_metadata={'input_tokens': 159, 'output_tokens': 377, 'total_tokens': 536, 'input_token_details': {'audio': 0, 'cache_read': 0}, 'output_token_details': {'audio': 0, 'reasoning': 0}})]"
      ]
     },
     "execution_count": 29,
     "metadata": {},
     "output_type": "execute_result"
    }
   ],
   "source": [
    "logs"
   ]
  },
  {
   "cell_type": "markdown",
   "metadata": {},
   "source": [
    "## 7. Experiment"
   ]
  },
  {
   "cell_type": "markdown",
   "metadata": {},
   "source": [
    "Now that you understood how it works, experiment with new things.\n",
    "- Improve memory\n",
    "- Explore the Runnables\n",
    "- Add More Complexity"
   ]
  }
 ],
 "metadata": {
  "kernelspec": {
   "display_name": ".venv",
   "language": "python",
   "name": "python3"
  },
  "language_info": {
   "codemirror_mode": {
    "name": "ipython",
    "version": 3
   },
   "file_extension": ".py",
   "mimetype": "text/x-python",
   "name": "python",
   "nbconvert_exporter": "python",
   "pygments_lexer": "ipython3",
   "version": "3.13.3"
  }
 },
 "nbformat": 4,
 "nbformat_minor": 2
}
