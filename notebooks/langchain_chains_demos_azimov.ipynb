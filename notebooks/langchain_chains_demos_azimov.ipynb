{
 "cells": [
  {
   "cell_type": "markdown",
   "id": "75122d16",
   "metadata": {},
   "source": [
    "# Chains - Encadeamento com Langchain\n",
    "___"
   ]
  },
  {
   "cell_type": "code",
   "execution_count": 8,
   "id": "ed4e5946",
   "metadata": {},
   "outputs": [],
   "source": [
    "import getpass\n",
    "import os\n",
    "\n",
    "if not os.environ.get(\"OPENAI_API_KEY\"):\n",
    "    os.environ[\"OPENAI_API_KEY\"] = getpass.getpass(\n",
    "        prompt=\"Digite sua chave de API do OpenAI: \"\n",
    "    )\n",
    "\n",
    "from langchain_openai import ChatOpenAI\n",
    "\n",
    "model = ChatOpenAI(model=\"gpt-3.5-turbo-0125\")"
   ]
  },
  {
   "cell_type": "code",
   "execution_count": 9,
   "id": "7e0a23ec",
   "metadata": {},
   "outputs": [],
   "source": [
    "from langchain_core.prompts import ChatPromptTemplate\n",
    "\n",
    "prompt = ChatPromptTemplate.from_template(\"Crie uma frase sobre o seguinte tema: {assunto}\")"
   ]
  },
  {
   "cell_type": "code",
   "execution_count": 10,
   "id": "aacfca9a",
   "metadata": {},
   "outputs": [],
   "source": [
    "chain = prompt | model"
   ]
  },
  {
   "cell_type": "code",
   "execution_count": 11,
   "id": "6ddcfb52",
   "metadata": {},
   "outputs": [],
   "source": [
    "response = chain.invoke({\"assunto\": \"inteligência artificial\"})"
   ]
  },
  {
   "cell_type": "code",
   "execution_count": 12,
   "id": "47705b63",
   "metadata": {},
   "outputs": [
    {
     "name": "stdout",
     "output_type": "stream",
     "text": [
      "A inteligência artificial está revolucionando o mundo, tornando possíveis feitos que antes só eram imaginados em filmes de ficção científica.\n"
     ]
    }
   ],
   "source": [
    "print(response.content)"
   ]
  },
  {
   "cell_type": "code",
   "execution_count": 13,
   "id": "996149ec",
   "metadata": {},
   "outputs": [],
   "source": [
    "prompt = ChatPromptTemplate.from_template(\"Crie uma frase sobre o seguinte tema: {assunto}\")\n",
    "chain = prompt | model"
   ]
  },
  {
   "cell_type": "markdown",
   "id": "1b4dab37",
   "metadata": {},
   "source": [
    "`Remover os metadados sem o uso do (print(response.content))`"
   ]
  },
  {
   "cell_type": "code",
   "execution_count": 14,
   "id": "f50b328c",
   "metadata": {},
   "outputs": [
    {
     "name": "stdout",
     "output_type": "stream",
     "text": [
      "Os gatinhos são seres adoráveis e cheios de personalidade, capazes de trazer alegria e amor para nossas vidas.\n"
     ]
    }
   ],
   "source": [
    "from langchain_core.output_parsers import StrOutputParser\n",
    "chain = prompt | model | StrOutputParser()\n",
    "response = chain.invoke({\"assunto\": \"gatinhos\"})\n",
    "print(chain.invoke({\"assunto\": \"gatinhos\"}))"
   ]
  },
  {
   "cell_type": "markdown",
   "id": "8326a61a",
   "metadata": {},
   "source": [
    "![alt text](image.png)"
   ]
  },
  {
   "cell_type": "markdown",
   "id": "c7e9a145",
   "metadata": {},
   "source": [
    "Fluxo de Execução:\n",
    "1. Prompt Template (`prompt`)\n",
    "    * Função: Formata a entrada do usuário em um prompt estruturado\n",
    "    * Input: Variáveis/texto bruto\n",
    "    * Output: Prompt formatado para o modelo\n",
    "\n",
    "2. Language Model (`model`)\n",
    "    * Função: Processa o prompt e gera resposta\n",
    "    * Input: Prompt formatado\n",
    "    * Output: Objeto de resposta do modelo (com metadados)\n",
    "3. Output Parser (StrOutputParser())\n",
    "    * Função: Extrai apenas o texto da resposta\n",
    "    * Input: Objeto completo do modelo\n",
    "    * Output: String limpa\n",
    "Operador Pipe (`|`)\n",
    "**LCEL**: LangChain Expression Language\n",
    "Conecta: Componentes sequencialmente\n",
    "Passa: Output de um como input do próximo"
   ]
  },
  {
   "cell_type": "code",
   "execution_count": 16,
   "id": "b95f4f5f",
   "metadata": {},
   "outputs": [
    {
     "name": "stdout",
     "output_type": "stream",
     "text": [
      "{\n",
      "    \"properties\": {\n",
      "        \"assunto\": {\n",
      "            \"title\": \"Assunto\",\n",
      "            \"type\": \"string\"\n",
      "        }\n",
      "    },\n",
      "    \"required\": [\n",
      "        \"assunto\"\n",
      "    ],\n",
      "    \"title\": \"PromptInput\",\n",
      "    \"type\": \"object\"\n",
      "}\n"
     ]
    }
   ],
   "source": [
    "import json\n",
    "print(json.dumps(prompt.input_schema.model_json_schema(), indent=4))"
   ]
  }
 ],
 "metadata": {
  "kernelspec": {
   "display_name": "study-langchain",
   "language": "python",
   "name": "python3"
  },
  "language_info": {
   "codemirror_mode": {
    "name": "ipython",
    "version": 3
   },
   "file_extension": ".py",
   "mimetype": "text/x-python",
   "name": "python",
   "nbconvert_exporter": "python",
   "pygments_lexer": "ipython3",
   "version": "3.13.3"
  }
 },
 "nbformat": 4,
 "nbformat_minor": 5
}
