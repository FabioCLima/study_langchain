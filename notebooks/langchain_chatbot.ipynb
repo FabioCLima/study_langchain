{
 "cells": [
  {
   "cell_type": "markdown",
   "id": "61b69a01",
   "metadata": {},
   "source": [
    "# Construindo um ChatBot from scratch \n",
    "____"
   ]
  },
  {
   "cell_type": "markdown",
   "id": "60b77b32",
   "metadata": {},
   "source": [
    "1. Identidade do Bot: \n",
    "    \n",
    "    -nome\n",
    "\n",
    "    -instruções (como o chatbot deve se comportar? e cabe também o role ?)"
   ]
  },
  {
   "cell_type": "code",
   "execution_count": null,
   "id": "b61d3fae",
   "metadata": {},
   "outputs": [
    {
     "ename": "",
     "evalue": "",
     "output_type": "error",
     "traceback": [
      "\u001b[1;31mO kernel falhou ao iniciar porque o ambiente do Python “study-langchain (Python -1.-1.-1)” não está mais disponível. Considere selecionar outro kernel ou atualizar a lista de Ambientes do Python."
     ]
    }
   ],
   "source": [
    "import os\n",
    "from dotenv import load_dotenv, find_dotenv\n",
    "from langchain_openai import ChatOpenAI"
   ]
  }
 ],
 "metadata": {
  "kernelspec": {
   "display_name": "study-langchain",
   "language": "python",
   "name": "python3"
  },
  "language_info": {
   "name": "python",
   "version": "-1.-1.-1"
  }
 },
 "nbformat": 4,
 "nbformat_minor": 5
}
