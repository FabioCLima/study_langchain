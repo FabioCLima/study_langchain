{
 "cells": [
  {
   "cell_type": "markdown",
   "metadata": {},
   "source": [
    "# RAG + Zero Prompting + Tools + Chain of Thought\n",
    "\n",
    "Este notebook demonstra um exemplo completo combinando:\n",
    "- **RAG**: Recuperação de informações de documentos\n",
    "- **Zero Prompting**: Sem exemplos no prompt\n",
    "- **Tools**: Ferramentas para cálculos\n",
    "- **Chain of Thought**: Raciocínio passo a passo"
   ]
  },
  {
   "cell_type": "code",
   "execution_count": null,
   "metadata": {},
   "outputs": [],
   "source": [
    "# Instalação das dependências\n",
    "# !pip install langchain langchain-openai faiss-cpu python-dotenv"
   ]
  },
  {
   "cell_type": "code",
   "execution_count": null,
   "metadata": {},
   "outputs": [],
   "source": [
    "import os\n",
    "from langchain.text_splitter import RecursiveCharacterTextSplitter\n",
    "from langchain.vectorstores import FAISS\n",
    "from langchain.embeddings.openai import OpenAIEmbeddings\n",
    "from langchain.llms import OpenAI\n",
    "from langchain.chains import RetrievalQA\n",
    "from langchain.tools import Tool\n",
    "from langchain.agents import initialize_agent, AgentType\n",
    "from langchain.schema import Document\n",
    "import math\n",
    "from dotenv import load_dotenv\n",
    "\n",
    "load_dotenv()"
   ]
  },
  {
   "cell_type": "markdown",
   "metadata": {},
   "source": [
    "## 1. Criando a Base de Conhecimento (RAG)\n",
    "\n",
    "Vamos criar documentos sobre física e matemática para nosso RAG:"
   ]
  },
  {
   "cell_type": "code",
   "execution_count": null,
   "metadata": {},
   "outputs": [],
   "source": [
    "# Documentos de exemplo para RAG\n",
    "documentos = [\n",
    "    \"A velocidade da luz no vácuo é 299.792.458 metros por segundo. É uma constante fundamental da física.\",\n",
    "    \"A fórmula da energia cinética é E = (1/2) * m * v², onde m é a massa e v é a velocidade.\",\n",
    "    \"A lei de Ohm estabelece que V = I * R, onde V é tensão, I é corrente e R é resistência.\",\n",
    "    \"O teorema de Pitágoras diz que em um triângulo retângulo, a² + b² = c², onde c é a hipotenusa.\",\n",
    "    \"A área de um círculo é π * r², onde r é o raio do círculo.\",\n",
    "    \"A força gravitacional entre dois objetos é F = G * (m1 * m2) / r², onde G é a constante gravitacional.\"\n",
    "]\n",
    "\n",
    "# Converter strings em Documents\n",
    "docs = [Document(page_content=doc) for doc in documentos]\n",
    "\n",
    "# Dividir textos em chunks menores\n",
    "text_splitter = RecursiveCharacterTextSplitter(\n",
    "    chunk_size=200,\n",
    "    chunk_overlap=20\n",
    ")\n",
    "textos = text_splitter.split_documents(docs)\n",
    "\n",
    "print(f\"Criados {len(textos)} chunks de texto\")"
   ]
  },
  {
   "cell_type": "code",
   "execution_count": null,
   "metadata": {},
   "outputs": [],
   "source": [
    "# Criar embeddings e store vetorial\n",
    "embeddings = OpenAIEmbeddings()\n",
    "vectorstore = FAISS.from_documents(textos, embeddings)\n",
    "\n",
    "print(\"Vectorstore criado com sucesso!\")"
   ]
  },
  {
   "cell_type": "markdown",
   "metadata": {},
   "source": [
    "## 2. Criando Tools (Ferramentas)\n",
    "\n",
    "Vamos criar ferramentas para cálculos matemáticos:"
   ]
  },
  {
   "cell_type": "code",
   "execution_count": null,
   "metadata": {},
   "outputs": [],
   "source": [
    "def calcular_energia_cinetica(massa: float, velocidade: float) -> float:\n",
    "    \"\"\"Calcula energia cinética usando E = (1/2) * m * v²\"\"\"\n",
    "    return 0.5 * massa * (velocidade ** 2)\n",
    "\n",
    "def calcular_area_circulo(raio: float) -> float:\n",
    "    \"\"\"Calcula área de um círculo usando π * r²\"\"\"\n",
    "    return math.pi * (raio ** 2)\n",
    "\n",
    "def teorema_pitagoras(a: float, b: float) -> float:\n",
    "    \"\"\"Calcula hipotenusa usando a² + b² = c²\"\"\"\n",
    "    return math.sqrt(a**2 + b**2)\n",
    "\n",
    "# Criar tools do LangChain\n",
    "tool_energia = Tool(\n",
    "    name=\"Calculadora_Energia_Cinetica\",\n",
    "    description=\"Calcula energia cinética. Use: 'massa,velocidade' (ex: '10,5' para 10kg e 5m/s)\",\n",
    "    func=lambda x: calcular_energia_cinetica(*[float(i) for i in x.split(',')])\n",
    ")\n",
    "\n",
    "tool_area = Tool(\n",
    "    name=\"Calculadora_Area_Circulo\",\n",
    "    description=\"Calcula área de círculo. Use apenas o raio (ex: '5' para raio=5)\",\n",
    "    func=lambda x: calcular_area_circulo(float(x))\n",
    ")\n",
    "\n",
    "tool_pitagoras = Tool(\n",
    "    name=\"Teorema_Pitagoras\",\n",
    "    description=\"Calcula hipotenusa. Use: 'cateto1,cateto2' (ex: '3,4')\",\n",
    "    func=lambda x: teorema_pitagoras(*[float(i) for i in x.split(',')])\n",
    ")\n",
    "\n",
    "tools = [tool_energia, tool_area, tool_pitagoras]"
   ]
  },
  {
   "cell_type": "markdown",
   "metadata": {},
   "source": [
    "## 3. Configurando RAG Chain\n",
    "\n",
    "Vamos criar uma chain que pode buscar informações nos documentos:"
   ]
  },
  {
   "cell_type": "code",
   "execution_count": null,
   "metadata": {},
   "outputs": [],
   "source": [
    "# Configurar LLM\n",
    "llm = OpenAI(temperature=0.1)\n",
    "\n",
    "# Criar retriever\n",
    "retriever = vectorstore.as_retriever(search_kwargs={\"k\": 2})\n",
    "\n",
    "# Criar RAG chain\n",
    "rag_chain = RetrievalQA.from_chain_type(\n",
    "    llm=llm,\n",
    "    chain_type=\"stuff\",\n",
    "    retriever=retriever,\n",
    "    return_source_documents=True\n",
    ")\n",
    "\n",
    "# Criar tool para RAG\n",
    "rag_tool = Tool(\n",
    "    name=\"Consulta_Base_Conhecimento\",\n",
    "    description=\"Busca informações na base de conhecimento sobre física e matemática\",\n",
    "    func=lambda x: rag_chain.run(x)\n",
    ")\n",
    "\n",
    "# Adicionar RAG tool à lista\n",
    "all_tools = tools + [rag_tool]"
   ]
  },
  {
   "cell_type": "markdown",
   "metadata": {},
   "source": [
    "## 4. Criando Agent com Chain of Thought\n",
    "\n",
    "Vamos criar um agente que combina RAG, tools e raciocínio passo a passo:"
   ]
  },
  {
   "cell_type": "code",
   "execution_count": null,
   "metadata": {},
   "outputs": [],
   "source": [
    "# Prompt que incentiva Chain of Thought (Zero Prompting)\n",
    "system_prompt = \"\"\"\n",
    "Você é um assistente de física e matemática que sempre:\n",
    "1. Primeiro busca informações relevantes na base de conhecimento\n",
    "2. Explica seu raciocínio passo a passo\n",
    "3. Usa ferramentas de cálculo quando necessário\n",
    "4. Mostra os cálculos e resultados claramente\n",
    "\n",
    "SEMPRE siga este processo de pensamento:\n",
    "- Passo 1: Identificar o que precisa ser resolvido\n",
    "- Passo 2: Buscar fórmulas ou conceitos relevantes\n",
    "- Passo 3: Aplicar cálculos se necessário\n",
    "- Passo 4: Verificar e explicar o resultado\n",
    "\"\"\"\n",
    "\n",
    "# Criar agent\n",
    "agent = initialize_agent(\n",
    "    tools=all_tools,\n",
    "    llm=llm,\n",
    "    agent=AgentType.ZERO_SHOT_REACT_DESCRIPTION,\n",
    "    verbose=True,\n",
    "    handle_parsing_errors=True\n",
    ")\n",
    "\n",
    "print(\"Agent configurado com sucesso!\")"
   ]
  },
  {
   "cell_type": "markdown",
   "metadata": {},
   "source": [
    "## 5. Exemplos Práticos\n",
    "\n",
    "Agora vamos testar nosso sistema completo:"
   ]
  },
  {
   "cell_type": "code",
   "execution_count": null,
   "metadata": {},
   "outputs": [],
   "source": [
    "# Exemplo 1: Pergunta que requer RAG + Chain of Thought\n",
    "pergunta1 = \"\"\"\n",
    "Explique a fórmula da energia cinética e calcule a energia cinética \n",
    "de um objeto de 5kg movendo-se a 10 m/s.\n",
    "\"\"\"\n",
    "\n",
    "print(\"=== EXEMPLO 1: RAG + CoT + Tool ===\\n\")\n",
    "resultado1 = agent.run(system_prompt + pergunta1)\n",
    "print(f\"\\nResultado: {resultado1}\")"
   ]
  },
  {
   "cell_type": "code",
   "execution_count": null,
   "metadata": {},
   "outputs": [],
   "source": [
    "# Exemplo 2: Problema geométrico\n",
    "pergunta2 = \"\"\"\n",
    "Preciso calcular a hipotenusa de um triângulo retângulo com catetos \n",
    "de 6 e 8 metros. Primeiro me explique o teorema envolvido.\n",
    "\"\"\"\n",
    "\n",
    "print(\"\\n=== EXEMPLO 2: Teorema de Pitágoras ===\\n\")\n",
    "resultado2 = agent.run(system_prompt + pergunta2)\n",
    "print(f\"\\nResultado: {resultado2}\")"
   ]
  },
  {
   "cell_type": "code",
   "execution_count": null,
   "metadata": {},
   "outputs": [],
   "source": [
    "# Exemplo 3: Problema de área\n",
    "pergunta3 = \"\"\"\n",
    "Qual é a fórmula para calcular a área de um círculo e qual seria \n",
    "a área de um círculo com raio de 3 metros?\n",
    "\"\"\"\n",
    "\n",
    "print(\"\\n=== EXEMPLO 3: Área do Círculo ===\\n\")\n",
    "resultado3 = agent.run(system_prompt + pergunta3)\n",
    "print(f\"\\nResultado: {resultado3}\")"
   ]
  },
  {
   "cell_type": "markdown",
   "metadata": {},
   "source": [
    "## 6. Análise dos Componentes\n",
    "\n",
    "### Como funciona cada parte:\n",
    "\n",
    "**RAG (Retrieval-Augmented Generation):**\n",
    "- Busca informações relevantes nos documentos indexados\n",
    "- Fornece contexto atualizado para o LLM\n",
    "- Reduz alucinações ao basear respostas em dados reais\n",
    "\n",
    "**Zero Prompting:**\n",
    "- Não usa exemplos específicos no prompt\n",
    "- Confia na capacidade natural do LLM de seguir instruções\n",
    "- Mais flexível que few-shot prompting\n",
    "\n",
    "**Tools:**\n",
    "- Permitem cálculos precisos\n",
    "- Estendem capacidades do LLM\n",
    "- Fornecem resultados determinísticos\n",
    "\n",
    "**Chain of Thought:**\n",
    "- Força o modelo a explicar seu raciocínio\n",
    "- Melhora a qualidade das respostas\n",
    "- Torna o processo transparente e auditável"
   ]
  },
  {
   "cell_type": "code",
   "execution_count": null,
   "metadata": {},
   "outputs": [],
   "source": [
    "# Teste final: Problema complexo combinando tudo\n",
    "pergunta_complexa = \"\"\"\n",
    "Um físico precisa resolver um problema: ele tem um objeto de 2kg \n",
    "movendo-se a 8 m/s. Ele quer saber:\n",
    "1. Qual é a energia cinética deste objeto?\n",
    "2. Se este objeto estivesse em um círculo de raio igual à velocidade (8m), \n",
    "   qual seria a área deste círculo?\n",
    "3. Explique as fórmulas utilizadas.\n",
    "\"\"\"\n",
    "\n",
    "print(\"\\n=== TESTE COMPLEXO: Combinando todos os conceitos ===\\n\")\n",
    "resultado_complexo = agent.run(system_prompt + pergunta_complexa)\n",
    "print(f\"\\nResultado: {resultado_complexo}\")"
   ]
  }
 ],
 "metadata": {
  "kernelspec": {
   "display_name": "Python 3",
   "language": "python",
   "name": "python3"
  },
  "language_info": {
   "codemirror_mode": {
    "name": "ipython",
    "version": 3
   },
   "file_extension": ".py",
   "mimetype": "text/x-python",
   "name": "python",
   "nbconvert_exporter": "python",
   "pygments_lexer": "ipython3",
   "version": "3.8.5"
  }
 },
 "nbformat": 4,
 "nbformat_minor": 4
}
