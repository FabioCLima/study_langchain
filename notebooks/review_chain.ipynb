{
 "cells": [
  {
   "cell_type": "code",
   "execution_count": null,
   "id": "1506b40f",
   "metadata": {},
   "outputs": [],
   "source": [
    "import os\n",
    "\n",
    "from dotenv import find_dotenv, load_dotenv\n",
    "from langchain_core.output_parsers import StrOutputParser\n",
    "from langchain_core.prompts import ChatPromptTemplate, PromptTemplate\n",
    "from langchain_core.runnables import (\n",
    "    RunnableLambda,\n",
    "    RunnableParallel,\n",
    "    RunnablePassthrough,\n",
    ")\n",
    "from langchain_openai import ChatOpenAI\n",
    "from pydantic import BaseModel, Field"
   ]
  },
  {
   "cell_type": "code",
   "execution_count": null,
   "id": "00d031c5",
   "metadata": {},
   "outputs": [],
   "source": [
    "# * Carrega as variáveis de ambiente\n",
    "_ = load_dotenv(find_dotenv())\n",
    "\n",
    "# * Verifica se a API key está configurada\n",
    "if not os.getenv(\"OPENAI_API_KEY\"):\n",
    "    raise ValueError(\"OPENAI_API_KEY não encontrada no arquivo .env\")\n",
    "\n",
    "# * Configura o modelo com parâmetros específicos\n",
    "model: ChatOpenAI = ChatOpenAI(\n",
    "    model=\"gpt-4.1\",\n",
    "    temperature=0.0,  # Controla a criatividade das respostas\n",
    ")  # type: ignore"
   ]
  },
  {
   "cell_type": "code",
   "execution_count": null,
   "id": "e566ffcb",
   "metadata": {},
   "outputs": [
    {
     "name": "stdout",
     "output_type": "stream",
     "text": [
      "Claro! Vamos entender a diferença entre **PromptTemplate** e **ChatPromptTemplate** no LangChain:\n",
      "\n",
      "---\n",
      "\n",
      "## **PromptTemplate**\n",
      "\n",
      "- **O que é?**  \n",
      "  É uma classe usada para criar prompts de texto simples, geralmente para modelos de linguagem tradicionais (como GPT-3, GPT-4 em modo completions).\n",
      "- **Como funciona?**  \n",
      "  Você define um template de string com variáveis, e depois preenche essas variáveis com valores específicos.\n",
      "- **Exemplo:**\n",
      "  ```python\n",
      "  from langchain.prompts import PromptTemplate\n",
      "\n",
      "  prompt = PromptTemplate(\n",
      "      input_variables=[\"produto\"],\n",
      "      template=\"Descreva as vantagens do produto {produto}.\"\n",
      "  )\n",
      "\n",
      "  print(prompt.format(produto=\"notebook\"))\n",
      "  # Saída: Descreva as vantagens do produto notebook.\n",
      "  ```\n",
      "\n",
      "- **Quando usar?**  \n",
      "  Quando você quer gerar um texto simples, sem estrutura de conversa (mensagens de usuário, assistente, sistema).\n",
      "\n",
      "---\n",
      "\n",
      "## **ChatPromptTemplate**\n",
      "\n",
      "- **O que é?**  \n",
      "  É uma classe para criar prompts estruturados como conversas, com múltiplas mensagens (usuário, assistente, sistema), ideal para modelos de chat (como GPT-3.5-turbo, GPT-4-turbo).\n",
      "- **Como funciona?**  \n",
      "  Você define uma sequência de mensagens, cada uma com um papel (role) e conteúdo, podendo interpolar variáveis.\n",
      "- **Exemplo:**\n",
      "  ```python\n",
      "  from langchain.prompts import ChatPromptTemplate\n",
      "\n",
      "  chat_prompt = ChatPromptTemplate.from_messages([\n",
      "      (\"system\", \"Você é um especialista em tecnologia.\"),\n",
      "      (\"user\", \"Quais as vantagens do produto {produto}?\")\n",
      "  ])\n",
      "\n",
      "  print(chat_prompt.format_messages(produto=\"notebook\"))\n",
      "  # Saída: [SystemMessage(content=\"Você é um especialista em tecnologia.\"),\n",
      "  #         HumanMessage(content=\"Quais as vantagens do produto notebook?\")]\n",
      "  ```\n",
      "\n",
      "- **Quando usar?**  \n",
      "  Quando você quer simular uma conversa, ou usar modelos otimizados para chat, aproveitando diferentes papéis (system, user, assistant).\n",
      "\n",
      "---\n",
      "\n",
      "## **Resumo**\n",
      "\n",
      "| PromptTemplate         | ChatPromptTemplate                |\n",
      "|-----------------------|-----------------------------------|\n",
      "| Prompt simples (texto)| Prompt estruturado (conversa/chat)|\n",
      "| Para completions      | Para chat models                  |\n",
      "| Uma string            | Lista de mensagens (roles)        |\n",
      "\n",
      "---\n",
      "\n",
      "**Dica:**  \n",
      "- Use **PromptTemplate** para tarefas simples de geração de texto.\n",
      "- Use **ChatPromptTemplate** para interações mais ricas, com múltiplas mensagens e papéis.\n",
      "\n",
      "Se quiser exemplos mais avançados ou código prático, só pedir!\n"
     ]
    }
   ],
   "source": [
    "prompt_tutor = ChatPromptTemplate.from_template(\n",
    "    \"Você é um tutor de langchain. Responda a pergunta: {pergunta}\"\n",
    ")\n",
    "\n",
    "output_parser = StrOutputParser()\n",
    "\n",
    "# Chain usando LCEL\n",
    "tutor_langchain = prompt_tutor | model | output_parser\n",
    "\n",
    "response = tutor_langchain.invoke({\"pergunta\": \"PromptTemplate x ChatPromptTemplate\"})\n",
    "print(response)"
   ]
  },
  {
   "cell_type": "code",
   "execution_count": null,
   "id": "352c728d",
   "metadata": {},
   "outputs": [
    {
     "name": "stdout",
     "output_type": "stream",
     "text": [
      "Claro! Vamos entender de forma simples:\n",
      "\n",
      "**O que é um \"workflow\" no Langchain?**  \n",
      "Um workflow é uma sequência de passos (ou tarefas) que você quer que o seu programa execute. No Langchain, cada passo pode ser uma \"chain\" (cadeia), que é como um bloco de processamento de informações.\n",
      "\n",
      "**O que é \"multi workflow com chain\"?**  \n",
      "É quando você monta vários fluxos de trabalho (workflows) diferentes, cada um com suas próprias chains, e faz com que eles funcionem juntos ou em paralelo.\n",
      "\n",
      "### Como funciona na prática?\n",
      "\n",
      "1. **Chains individuais:**  \n",
      "   Cada chain faz uma tarefa específica. Por exemplo:\n",
      "   - Uma chain para buscar informações.\n",
      "   - Outra chain para resumir textos.\n",
      "   - Outra para traduzir.\n",
      "\n",
      "2. **Combinando chains:**  \n",
      "   Você pode juntar várias chains em um workflow maior. Por exemplo:\n",
      "   - Primeiro busca a informação (chain 1).\n",
      "   - Depois resume (chain 2).\n",
      "   - Depois traduz (chain 3).\n",
      "\n",
      "3. **Multi workflow:**  \n",
      "   Você pode ter vários desses fluxos rodando ao mesmo tempo ou escolhendo qual usar dependendo da situação. Por exemplo:\n",
      "   - Se o usuário quer resumo, segue um workflow.\n",
      "   - Se quer tradução, segue outro.\n",
      "   - Ou pode rodar os dois ao mesmo tempo para tarefas diferentes.\n",
      "\n",
      "4. **Coordenação:**  \n",
      "   O Langchain tem ferramentas para organizar esses fluxos, como o **SequentialChain** (para rodar em sequência) ou **ParallelChain** (para rodar ao mesmo tempo).\n",
      "\n",
      "### Exemplo visual:\n",
      "\n",
      "```plaintext\n",
      "Usuário faz uma pergunta\n",
      "        |\n",
      "   [Workflow 1]                [Workflow 2]\n",
      "   Busca -> Resume -> Traduz   Busca -> Analisa Sentimento\n",
      "        |                           |\n",
      "   Resposta final             Resposta final\n",
      "```\n",
      "\n",
      "### Resumindo:\n",
      "- **Multi workflow com chain** é usar vários fluxos de tarefas (chains) diferentes, juntos ou em paralelo, para resolver problemas mais complexos de forma organizada e flexível no Langchain.\n",
      "\n",
      "Se quiser um exemplo de código, posso mostrar também!\n"
     ]
    }
   ],
   "source": [
    "# Template com múltiplas variávies\n",
    "prompt_profissao = ChatPromptTemplate.from_template(\"\"\"\n",
    "    Você é um {profissao} especializado em {assunto}.\n",
    "    Responda a seguinte pergunta de forma {estilo}:\n",
    "\n",
    "    Pergunta: {question}\n",
    "\"\"\")\n",
    "parser = StrOutputParser()\n",
    "chain_profissao = prompt_profissao | model | parser\n",
    "\n",
    "response = chain_profissao.invoke(\n",
    "    {\n",
    "        \"profissao\": \"Professor\",\n",
    "        \"assunto\": \"Langchain\",\n",
    "        \"estilo\": \"didática e simples\",\n",
    "        \"question\": \"Como funciona multi workflow com chain?\",\n",
    "    }\n",
    ")\n",
    "print(response)"
   ]
  },
  {
   "cell_type": "code",
   "execution_count": null,
   "id": "776f0982",
   "metadata": {},
   "outputs": [],
   "source": [
    "logs = []\n",
    "parser = StrOutputParser()\n",
    "parser_and_log_output_chain = RunnableParallel(\n",
    "    output=parser, log=RunnableLambda(lambda x: logs.append(x))\n",
    ")"
   ]
  },
  {
   "cell_type": "code",
   "execution_count": null,
   "id": "921a59e4",
   "metadata": {},
   "outputs": [],
   "source": [
    "idea_prompt = PromptTemplate(\n",
    "    template=(\n",
    "        \"\"\"\n",
    "    Você um consultor de negócios online creativo.\n",
    "    Crie uma ideia inovadora para um novo negócio da industria: {industria}.\n",
    "    Forneça uma descrição concisa da ideia.\n",
    "    \"\"\"\n",
    "    )\n",
    ")"
   ]
  },
  {
   "cell_type": "code",
   "execution_count": null,
   "id": "a549d8b5",
   "metadata": {},
   "outputs": [],
   "source": [
    "idea_chain = idea_prompt | model | parser_and_log_output_chain"
   ]
  },
  {
   "cell_type": "code",
   "execution_count": null,
   "id": "fe140297",
   "metadata": {},
   "outputs": [],
   "source": [
    "idea_response = idea_chain.invoke(\"Agentes de IA-produção de café\")"
   ]
  },
  {
   "cell_type": "code",
   "execution_count": null,
   "id": "9f014ddc",
   "metadata": {},
   "outputs": [
    {
     "data": {
      "text/plain": [
       "'**Ideia de Negócio: CoffeeAI – Agentes de IA para Cafeterias Inteligentes**\\n\\n**Descrição Concisa:**  \\nA CoffeeAI oferece uma plataforma de agentes de inteligência artificial especializados na automação e otimização de cafeterias e torrefações. Os agentes de IA gerenciam todo o ciclo de produção do café: desde o controle inteligente do estoque de grãos, passando pela automação do processo de torra e preparo, até o atendimento personalizado ao cliente (recomendações de blends, sugestões de métodos de preparo e interação via chatbot). A solução integra sensores IoT para monitoramento em tempo real da qualidade do café e utiliza machine learning para prever tendências de consumo, reduzindo desperdícios e aumentando a satisfação do cliente. Cafeterias podem, assim, operar de forma mais eficiente, sustentável e inovadora, destacando-se no mercado com experiências únicas e personalizadas.'"
      ]
     },
     "execution_count": 12,
     "metadata": {},
     "output_type": "execute_result"
    }
   ],
   "source": [
    "idea_response[\"output\"]"
   ]
  },
  {
   "cell_type": "code",
   "execution_count": null,
   "id": "162086e5",
   "metadata": {},
   "outputs": [
    {
     "data": {
      "text/plain": [
       "[AIMessage(content='**Ideia de Negócio: CoffeeAI – Agentes de IA para Cafeterias Inteligentes**\\n\\n**Descrição Concisa:**  \\nA CoffeeAI oferece uma plataforma de agentes de inteligência artificial especializados na automação e otimização de cafeterias e torrefações. Os agentes de IA gerenciam todo o ciclo de produção do café: desde o controle inteligente do estoque de grãos, passando pela automação do processo de torra e preparo, até o atendimento personalizado ao cliente (recomendações de blends, sugestões de métodos de preparo e interação via chatbot). A solução integra sensores IoT para monitoramento em tempo real da qualidade do café e utiliza machine learning para prever tendências de consumo, reduzindo desperdícios e aumentando a satisfação do cliente. Cafeterias podem, assim, operar de forma mais eficiente, sustentável e inovadora, destacando-se no mercado com experiências únicas e personalizadas.', additional_kwargs={'refusal': None}, response_metadata={'token_usage': {'completion_tokens': 182, 'prompt_tokens': 53, 'total_tokens': 235, 'completion_tokens_details': {'accepted_prediction_tokens': 0, 'audio_tokens': 0, 'reasoning_tokens': 0, 'rejected_prediction_tokens': 0}, 'prompt_tokens_details': {'audio_tokens': 0, 'cached_tokens': 0}}, 'model_name': 'gpt-4.1-2025-04-14', 'system_fingerprint': 'fp_51e1070cf2', 'id': 'chatcmpl-C1FgXKFDgOTqygzPqblVovWac4ULP', 'service_tier': 'default', 'finish_reason': 'stop', 'logprobs': None}, id='run--3499d336-e9ec-47ea-ba17-7e3d5f3ec794-0', usage_metadata={'input_tokens': 53, 'output_tokens': 182, 'total_tokens': 235, 'input_token_details': {'audio': 0, 'cache_read': 0}, 'output_token_details': {'audio': 0, 'reasoning': 0}})]"
      ]
     },
     "execution_count": 13,
     "metadata": {},
     "output_type": "execute_result"
    }
   ],
   "source": [
    "logs"
   ]
  },
  {
   "cell_type": "code",
   "execution_count": null,
   "id": "810eb71e",
   "metadata": {},
   "outputs": [
    {
     "name": "stdout",
     "output_type": "stream",
     "text": [
      "**Ideia de Negócio: CoffeeAI – Agentes de IA para Cafeterias Inteligentes**\n",
      "\n",
      "**Descrição Concisa:**  \n",
      "A CoffeeAI oferece uma plataforma de agentes de inteligência artificial especializados na automação e otimização de cafeterias e torrefações. Os agentes de IA gerenciam todo o ciclo de produção do café: desde o controle inteligente do estoque de grãos, passando pela automação do processo de torra e preparo, até o atendimento personalizado ao cliente (recomendações de blends, sugestões de métodos de preparo e interação via chatbot). A solução integra sensores IoT para monitoramento em tempo real da qualidade do café e utiliza machine learning para prever tendências de consumo, reduzindo desperdícios e aumentando a satisfação do cliente. Cafeterias podem, assim, operar de forma mais eficiente, sustentável e inovadora, destacando-se no mercado com experiências únicas e personalizadas.\n"
     ]
    }
   ],
   "source": [
    "for message in logs:\n",
    "    print(message.content)"
   ]
  },
  {
   "cell_type": "code",
   "execution_count": null,
   "id": "43cfdbc2",
   "metadata": {},
   "outputs": [],
   "source": [
    "analysis_prompt = PromptTemplate(\n",
    "    template=\"\"\"\n",
    "    Analise a seguinte ideia de negócio: {idea}.\n",
    "    Identifique 3 pontos fortes e 3 potenciais problemas na ideia.\n",
    "    \"\"\"\n",
    ")"
   ]
  },
  {
   "cell_type": "code",
   "execution_count": null,
   "id": "f000a836",
   "metadata": {},
   "outputs": [],
   "source": [
    "analysis_chain = analysis_prompt | model | parser_and_log_output_chain"
   ]
  },
  {
   "cell_type": "code",
   "execution_count": null,
   "id": "b17c46eb",
   "metadata": {},
   "outputs": [],
   "source": [
    "analysis_result = analysis_chain.invoke(idea_response[\"output\"])"
   ]
  },
  {
   "cell_type": "code",
   "execution_count": null,
   "id": "60a9c80f",
   "metadata": {},
   "outputs": [
    {
     "data": {
      "text/plain": [
       "[AIMessage(content='**Ideia de Negócio: CoffeeAI – Agentes de IA para Cafeterias Inteligentes**\\n\\n**Descrição Concisa:**  \\nA CoffeeAI oferece uma plataforma de agentes de inteligência artificial especializados na automação e otimização de cafeterias e torrefações. Os agentes de IA gerenciam todo o ciclo de produção do café: desde o controle inteligente do estoque de grãos, passando pela automação do processo de torra e preparo, até o atendimento personalizado ao cliente (recomendações de blends, sugestões de métodos de preparo e interação via chatbot). A solução integra sensores IoT para monitoramento em tempo real da qualidade do café e utiliza machine learning para prever tendências de consumo, reduzindo desperdícios e aumentando a satisfação do cliente. Cafeterias podem, assim, operar de forma mais eficiente, sustentável e inovadora, destacando-se no mercado com experiências únicas e personalizadas.', additional_kwargs={'refusal': None}, response_metadata={'token_usage': {'completion_tokens': 182, 'prompt_tokens': 53, 'total_tokens': 235, 'completion_tokens_details': {'accepted_prediction_tokens': 0, 'audio_tokens': 0, 'reasoning_tokens': 0, 'rejected_prediction_tokens': 0}, 'prompt_tokens_details': {'audio_tokens': 0, 'cached_tokens': 0}}, 'model_name': 'gpt-4.1-2025-04-14', 'system_fingerprint': 'fp_51e1070cf2', 'id': 'chatcmpl-C1FgXKFDgOTqygzPqblVovWac4ULP', 'service_tier': 'default', 'finish_reason': 'stop', 'logprobs': None}, id='run--3499d336-e9ec-47ea-ba17-7e3d5f3ec794-0', usage_metadata={'input_tokens': 53, 'output_tokens': 182, 'total_tokens': 235, 'input_token_details': {'audio': 0, 'cache_read': 0}, 'output_token_details': {'audio': 0, 'reasoning': 0}}),\n",
       " AIMessage(content='**Pontos Fortes:**\\n\\n1. **Automação e Eficiência Operacional:**  \\n   A proposta de usar agentes de IA para gerenciar estoque, automação da torra e preparo, além do atendimento ao cliente, pode reduzir custos operacionais, minimizar erros humanos e otimizar processos, tornando a cafeteria mais eficiente e lucrativa.\\n\\n2. **Personalização da Experiência do Cliente:**  \\n   O uso de IA para recomendações personalizadas e interação via chatbot pode aumentar a satisfação e fidelização dos clientes, criando uma experiência diferenciada e inovadora em relação à concorrência.\\n\\n3. **Redução de Desperdícios e Sustentabilidade:**  \\n   O monitoramento em tempo real e a previsão de tendências de consumo ajudam a evitar excessos de estoque e desperdício de grãos, contribuindo para uma operação mais sustentável e com menor impacto ambiental.\\n\\n---\\n\\n**Potenciais Problemas:**\\n\\n1. **Alto Custo de Implementação Inicial:**  \\n   A integração de sensores IoT, sistemas de IA e automação pode exigir um investimento inicial elevado, o que pode ser um impeditivo para pequenas e médias cafeterias.\\n\\n2. **Resistência Cultural e de Mercado:**  \\n   Proprietários, funcionários e até clientes podem resistir à adoção de tecnologia avançada em um ambiente tradicionalmente artesanal e humano, temendo perda de autenticidade ou empregos.\\n\\n3. **Complexidade Técnica e Manutenção:**  \\n   A operação e manutenção de sistemas integrados de IA e IoT exigem conhecimento técnico especializado. Falhas técnicas podem impactar negativamente a operação, e a dependência de tecnologia pode ser um risco caso não haja suporte adequado.', additional_kwargs={'refusal': None}, response_metadata={'token_usage': {'completion_tokens': 338, 'prompt_tokens': 216, 'total_tokens': 554, 'completion_tokens_details': {'accepted_prediction_tokens': 0, 'audio_tokens': 0, 'reasoning_tokens': 0, 'rejected_prediction_tokens': 0}, 'prompt_tokens_details': {'audio_tokens': 0, 'cached_tokens': 0}}, 'model_name': 'gpt-4.1-2025-04-14', 'system_fingerprint': 'fp_b3f1157249', 'id': 'chatcmpl-C1GRtk41WKQf8qWgZclo3mNKWkvMh', 'service_tier': 'default', 'finish_reason': 'stop', 'logprobs': None}, id='run--0416e036-05be-4868-a19f-541a2e661dc3-0', usage_metadata={'input_tokens': 216, 'output_tokens': 338, 'total_tokens': 554, 'input_token_details': {'audio': 0, 'cache_read': 0}, 'output_token_details': {'audio': 0, 'reasoning': 0}})]"
      ]
     },
     "execution_count": 19,
     "metadata": {},
     "output_type": "execute_result"
    }
   ],
   "source": [
    "logs"
   ]
  },
  {
   "cell_type": "code",
   "execution_count": null,
   "id": "3695ba1a",
   "metadata": {},
   "outputs": [
    {
     "data": {
      "text/plain": [
       "'**Pontos Fortes:**\\n\\n1. **Automação e Eficiência Operacional:**  \\n   A proposta de usar agentes de IA para gerenciar estoque, automação da torra e preparo, além do atendimento ao cliente, pode reduzir custos operacionais, minimizar erros humanos e otimizar processos, tornando a cafeteria mais eficiente e lucrativa.\\n\\n2. **Personalização da Experiência do Cliente:**  \\n   O uso de IA para recomendações personalizadas e interação via chatbot pode aumentar a satisfação e fidelização dos clientes, criando uma experiência diferenciada e inovadora em relação à concorrência.\\n\\n3. **Redução de Desperdícios e Sustentabilidade:**  \\n   O monitoramento em tempo real e a previsão de tendências de consumo ajudam a evitar excessos de estoque e desperdício de grãos, contribuindo para uma operação mais sustentável e com menor impacto ambiental.\\n\\n---\\n\\n**Potenciais Problemas:**\\n\\n1. **Alto Custo de Implementação Inicial:**  \\n   A integração de sensores IoT, sistemas de IA e automação pode exigir um investimento inicial elevado, o que pode ser um impeditivo para pequenas e médias cafeterias.\\n\\n2. **Resistência Cultural e de Mercado:**  \\n   Proprietários, funcionários e até clientes podem resistir à adoção de tecnologia avançada em um ambiente tradicionalmente artesanal e humano, temendo perda de autenticidade ou empregos.\\n\\n3. **Complexidade Técnica e Manutenção:**  \\n   A operação e manutenção de sistemas integrados de IA e IoT exigem conhecimento técnico especializado. Falhas técnicas podem impactar negativamente a operação, e a dependência de tecnologia pode ser um risco caso não haja suporte adequado.'"
      ]
     },
     "execution_count": 21,
     "metadata": {},
     "output_type": "execute_result"
    }
   ],
   "source": [
    "analysis_result[\"output\"]"
   ]
  },
  {
   "cell_type": "code",
   "execution_count": null,
   "id": "d4e25313",
   "metadata": {},
   "outputs": [
    {
     "name": "stdout",
     "output_type": "stream",
     "text": [
      "**Ideia de Negócio: CoffeeAI – Agentes de IA para Cafeterias Inteligentes**\n",
      "\n",
      "**Descrição Concisa:**  \n",
      "A CoffeeAI oferece uma plataforma de agentes de inteligência artificial especializados na automação e otimização de cafeterias e torrefações. Os agentes de IA gerenciam todo o ciclo de produção do café: desde o controle inteligente do estoque de grãos, passando pela automação do processo de torra e preparo, até o atendimento personalizado ao cliente (recomendações de blends, sugestões de métodos de preparo e interação via chatbot). A solução integra sensores IoT para monitoramento em tempo real da qualidade do café e utiliza machine learning para prever tendências de consumo, reduzindo desperdícios e aumentando a satisfação do cliente. Cafeterias podem, assim, operar de forma mais eficiente, sustentável e inovadora, destacando-se no mercado com experiências únicas e personalizadas.\n",
      "**Pontos Fortes:**\n",
      "\n",
      "1. **Automação e Eficiência Operacional:**  \n",
      "   A proposta de usar agentes de IA para gerenciar estoque, automação da torra e preparo, além do atendimento ao cliente, pode reduzir custos operacionais, minimizar erros humanos e otimizar processos, tornando a cafeteria mais eficiente e lucrativa.\n",
      "\n",
      "2. **Personalização da Experiência do Cliente:**  \n",
      "   O uso de IA para recomendações personalizadas e interação via chatbot pode aumentar a satisfação e fidelização dos clientes, criando uma experiência diferenciada e inovadora em relação à concorrência.\n",
      "\n",
      "3. **Redução de Desperdícios e Sustentabilidade:**  \n",
      "   O monitoramento em tempo real e a previsão de tendências de consumo ajudam a evitar excessos de estoque e desperdício de grãos, contribuindo para uma operação mais sustentável e com menor impacto ambiental.\n",
      "\n",
      "---\n",
      "\n",
      "**Potenciais Problemas:**\n",
      "\n",
      "1. **Alto Custo de Implementação Inicial:**  \n",
      "   A integração de sensores IoT, sistemas de IA e automação pode exigir um investimento inicial elevado, o que pode ser um impeditivo para pequenas e médias cafeterias.\n",
      "\n",
      "2. **Resistência Cultural e de Mercado:**  \n",
      "   Proprietários, funcionários e até clientes podem resistir à adoção de tecnologia avançada em um ambiente tradicionalmente artesanal e humano, temendo perda de autenticidade ou empregos.\n",
      "\n",
      "3. **Complexidade Técnica e Manutenção:**  \n",
      "   A operação e manutenção de sistemas integrados de IA e IoT exigem conhecimento técnico especializado. Falhas técnicas podem impactar negativamente a operação, e a dependência de tecnologia pode ser um risco caso não haja suporte adequado.\n"
     ]
    }
   ],
   "source": [
    "for message in logs:\n",
    "    print(message.content)"
   ]
  },
  {
   "cell_type": "code",
   "execution_count": null,
   "id": "26299469",
   "metadata": {},
   "outputs": [],
   "source": [
    "report_prompt = PromptTemplate(\n",
    "    template=\"\"\"\n",
    "    Aqui é a análise de negócio:\n",
    "    Destaque os pontos fortes e fracos: {output}\n",
    "    Crie um relatório de negócio estruturado.\n",
    "    \"\"\"\n",
    ")"
   ]
  },
  {
   "cell_type": "code",
   "execution_count": null,
   "id": "1419894f",
   "metadata": {},
   "outputs": [],
   "source": [
    "class RelatorioAnalise(BaseModel):\n",
    "    \"\"\"Pontos fortes e fracos da nova ideia de négocio\"\"\"\n",
    "\n",
    "    pontos_fortes: list = Field(\n",
    "        default=[], description=\"Lista dos pontos fortes do negócio\"\n",
    "    )\n",
    "    pontos_fracos: list = Field(default=[], description=\"lista dos pontos fracos\")"
   ]
  },
  {
   "cell_type": "code",
   "execution_count": null,
   "id": "5c279dc3",
   "metadata": {},
   "outputs": [],
   "source": [
    "report_chain = report_prompt | model.with_structured_output(\n",
    "    RelatorioAnalise, method=\"function_calling\"\n",
    ")"
   ]
  },
  {
   "cell_type": "code",
   "execution_count": null,
   "id": "fac2cfaf",
   "metadata": {},
   "outputs": [],
   "source": [
    "report_result = report_chain.invoke(analysis_result[\"output\"])"
   ]
  },
  {
   "cell_type": "code",
   "execution_count": null,
   "id": "4af6b254",
   "metadata": {},
   "outputs": [
    {
     "data": {
      "text/plain": [
       "RelatorioAnalise(pontos_fortes=['Automação e Eficiência Operacional: Redução de custos, minimização de erros humanos e otimização de processos por meio de agentes de IA.', 'Personalização da Experiência do Cliente: Recomendações personalizadas e interação via chatbot aumentam satisfação e fidelização.', 'Redução de Desperdícios e Sustentabilidade: Monitoramento em tempo real e previsão de consumo evitam excessos de estoque e desperdício, promovendo sustentabilidade.'], pontos_fracos=['Alto Custo de Implementação Inicial: Investimento elevado em sensores IoT, IA e automação pode ser impeditivo para pequenos negócios.', 'Resistência Cultural e de Mercado: Possível resistência de proprietários, funcionários e clientes à adoção de tecnologia em um ambiente tradicional.', 'Complexidade Técnica e Manutenção: Necessidade de conhecimento técnico especializado e riscos operacionais em caso de falhas ou falta de suporte.'])"
      ]
     },
     "execution_count": 27,
     "metadata": {},
     "output_type": "execute_result"
    }
   ],
   "source": [
    "report_result"
   ]
  },
  {
   "cell_type": "code",
   "execution_count": null,
   "id": "d4049914",
   "metadata": {},
   "outputs": [
    {
     "data": {
      "text/plain": [
       "[AIMessage(content='**Ideia de Negócio: CoffeeAI – Agentes de IA para Cafeterias Inteligentes**\\n\\n**Descrição Concisa:**  \\nA CoffeeAI oferece uma plataforma de agentes de inteligência artificial especializados na automação e otimização de cafeterias e torrefações. Os agentes de IA gerenciam todo o ciclo de produção do café: desde o controle inteligente do estoque de grãos, passando pela automação do processo de torra e preparo, até o atendimento personalizado ao cliente (recomendações de blends, sugestões de métodos de preparo e interação via chatbot). A solução integra sensores IoT para monitoramento em tempo real da qualidade do café e utiliza machine learning para prever tendências de consumo, reduzindo desperdícios e aumentando a satisfação do cliente. Cafeterias podem, assim, operar de forma mais eficiente, sustentável e inovadora, destacando-se no mercado com experiências únicas e personalizadas.', additional_kwargs={'refusal': None}, response_metadata={'token_usage': {'completion_tokens': 182, 'prompt_tokens': 53, 'total_tokens': 235, 'completion_tokens_details': {'accepted_prediction_tokens': 0, 'audio_tokens': 0, 'reasoning_tokens': 0, 'rejected_prediction_tokens': 0}, 'prompt_tokens_details': {'audio_tokens': 0, 'cached_tokens': 0}}, 'model_name': 'gpt-4.1-2025-04-14', 'system_fingerprint': 'fp_51e1070cf2', 'id': 'chatcmpl-C1FgXKFDgOTqygzPqblVovWac4ULP', 'service_tier': 'default', 'finish_reason': 'stop', 'logprobs': None}, id='run--3499d336-e9ec-47ea-ba17-7e3d5f3ec794-0', usage_metadata={'input_tokens': 53, 'output_tokens': 182, 'total_tokens': 235, 'input_token_details': {'audio': 0, 'cache_read': 0}, 'output_token_details': {'audio': 0, 'reasoning': 0}}),\n",
       " AIMessage(content='**Pontos Fortes:**\\n\\n1. **Automação e Eficiência Operacional:**  \\n   A proposta de usar agentes de IA para gerenciar estoque, automação da torra e preparo, além do atendimento ao cliente, pode reduzir custos operacionais, minimizar erros humanos e otimizar processos, tornando a cafeteria mais eficiente e lucrativa.\\n\\n2. **Personalização da Experiência do Cliente:**  \\n   O uso de IA para recomendações personalizadas e interação via chatbot pode aumentar a satisfação e fidelização dos clientes, criando uma experiência diferenciada e inovadora em relação à concorrência.\\n\\n3. **Redução de Desperdícios e Sustentabilidade:**  \\n   O monitoramento em tempo real e a previsão de tendências de consumo ajudam a evitar excessos de estoque e desperdício de grãos, contribuindo para uma operação mais sustentável e com menor impacto ambiental.\\n\\n---\\n\\n**Potenciais Problemas:**\\n\\n1. **Alto Custo de Implementação Inicial:**  \\n   A integração de sensores IoT, sistemas de IA e automação pode exigir um investimento inicial elevado, o que pode ser um impeditivo para pequenas e médias cafeterias.\\n\\n2. **Resistência Cultural e de Mercado:**  \\n   Proprietários, funcionários e até clientes podem resistir à adoção de tecnologia avançada em um ambiente tradicionalmente artesanal e humano, temendo perda de autenticidade ou empregos.\\n\\n3. **Complexidade Técnica e Manutenção:**  \\n   A operação e manutenção de sistemas integrados de IA e IoT exigem conhecimento técnico especializado. Falhas técnicas podem impactar negativamente a operação, e a dependência de tecnologia pode ser um risco caso não haja suporte adequado.', additional_kwargs={'refusal': None}, response_metadata={'token_usage': {'completion_tokens': 338, 'prompt_tokens': 216, 'total_tokens': 554, 'completion_tokens_details': {'accepted_prediction_tokens': 0, 'audio_tokens': 0, 'reasoning_tokens': 0, 'rejected_prediction_tokens': 0}, 'prompt_tokens_details': {'audio_tokens': 0, 'cached_tokens': 0}}, 'model_name': 'gpt-4.1-2025-04-14', 'system_fingerprint': 'fp_b3f1157249', 'id': 'chatcmpl-C1GRtk41WKQf8qWgZclo3mNKWkvMh', 'service_tier': 'default', 'finish_reason': 'stop', 'logprobs': None}, id='run--0416e036-05be-4868-a19f-541a2e661dc3-0', usage_metadata={'input_tokens': 216, 'output_tokens': 338, 'total_tokens': 554, 'input_token_details': {'audio': 0, 'cache_read': 0}, 'output_token_details': {'audio': 0, 'reasoning': 0}})]"
      ]
     },
     "execution_count": 28,
     "metadata": {},
     "output_type": "execute_result"
    }
   ],
   "source": [
    "logs"
   ]
  },
  {
   "cell_type": "code",
   "execution_count": null,
   "id": "83c24662",
   "metadata": {},
   "outputs": [
    {
     "name": "stdout",
     "output_type": "stream",
     "text": [
      "**Ideia de Negócio: CoffeeAI – Agentes de IA para Cafeterias Inteligentes**\n",
      "\n",
      "**Descrição Concisa:**  \n",
      "A CoffeeAI oferece uma plataforma de agentes de inteligência artificial especializados na automação e otimização de cafeterias e torrefações. Os agentes de IA gerenciam todo o ciclo de produção do café: desde o controle inteligente do estoque de grãos, passando pela automação do processo de torra e preparo, até o atendimento personalizado ao cliente (recomendações de blends, sugestões de métodos de preparo e interação via chatbot). A solução integra sensores IoT para monitoramento em tempo real da qualidade do café e utiliza machine learning para prever tendências de consumo, reduzindo desperdícios e aumentando a satisfação do cliente. Cafeterias podem, assim, operar de forma mais eficiente, sustentável e inovadora, destacando-se no mercado com experiências únicas e personalizadas.\n",
      "**Pontos Fortes:**\n",
      "\n",
      "1. **Automação e Eficiência Operacional:**  \n",
      "   A proposta de usar agentes de IA para gerenciar estoque, automação da torra e preparo, além do atendimento ao cliente, pode reduzir custos operacionais, minimizar erros humanos e otimizar processos, tornando a cafeteria mais eficiente e lucrativa.\n",
      "\n",
      "2. **Personalização da Experiência do Cliente:**  \n",
      "   O uso de IA para recomendações personalizadas e interação via chatbot pode aumentar a satisfação e fidelização dos clientes, criando uma experiência diferenciada e inovadora em relação à concorrência.\n",
      "\n",
      "3. **Redução de Desperdícios e Sustentabilidade:**  \n",
      "   O monitoramento em tempo real e a previsão de tendências de consumo ajudam a evitar excessos de estoque e desperdício de grãos, contribuindo para uma operação mais sustentável e com menor impacto ambiental.\n",
      "\n",
      "---\n",
      "\n",
      "**Potenciais Problemas:**\n",
      "\n",
      "1. **Alto Custo de Implementação Inicial:**  \n",
      "   A integração de sensores IoT, sistemas de IA e automação pode exigir um investimento inicial elevado, o que pode ser um impeditivo para pequenas e médias cafeterias.\n",
      "\n",
      "2. **Resistência Cultural e de Mercado:**  \n",
      "   Proprietários, funcionários e até clientes podem resistir à adoção de tecnologia avançada em um ambiente tradicionalmente artesanal e humano, temendo perda de autenticidade ou empregos.\n",
      "\n",
      "3. **Complexidade Técnica e Manutenção:**  \n",
      "   A operação e manutenção de sistemas integrados de IA e IoT exigem conhecimento técnico especializado. Falhas técnicas podem impactar negativamente a operação, e a dependência de tecnologia pode ser um risco caso não haja suporte adequado.\n"
     ]
    }
   ],
   "source": [
    "for message in logs:\n",
    "    print(message.content)"
   ]
  },
  {
   "cell_type": "code",
   "execution_count": null,
   "id": "1d339417",
   "metadata": {},
   "outputs": [
    {
     "data": {
      "text/plain": [
       "['Automação e Eficiência Operacional: Redução de custos, minimização de erros humanos e otimização de processos por meio de agentes de IA.',\n",
       " 'Personalização da Experiência do Cliente: Recomendações personalizadas e interação via chatbot aumentam satisfação e fidelização.',\n",
       " 'Redução de Desperdícios e Sustentabilidade: Monitoramento em tempo real e previsão de consumo evitam excessos de estoque e desperdício, promovendo sustentabilidade.']"
      ]
     },
     "execution_count": 30,
     "metadata": {},
     "output_type": "execute_result"
    }
   ],
   "source": [
    "report_result.pontos_fortes"
   ]
  },
  {
   "cell_type": "code",
   "execution_count": null,
   "id": "61e400f0",
   "metadata": {},
   "outputs": [
    {
     "data": {
      "text/plain": [
       "['Alto Custo de Implementação Inicial: Investimento elevado em sensores IoT, IA e automação pode ser impeditivo para pequenos negócios.',\n",
       " 'Resistência Cultural e de Mercado: Possível resistência de proprietários, funcionários e clientes à adoção de tecnologia em um ambiente tradicional.',\n",
       " 'Complexidade Técnica e Manutenção: Necessidade de conhecimento técnico especializado e riscos operacionais em caso de falhas ou falta de suporte.']"
      ]
     },
     "execution_count": 31,
     "metadata": {},
     "output_type": "execute_result"
    }
   ],
   "source": [
    "report_result.pontos_fracos"
   ]
  },
  {
   "cell_type": "code",
   "execution_count": null,
   "id": "1746cfd9",
   "metadata": {},
   "outputs": [],
   "source": [
    "A2A_chain = (\n",
    "    RunnablePassthrough()\n",
    "    | idea_chain\n",
    "    | RunnableParallel(idea=RunnablePassthrough())\n",
    "    | analysis_chain\n",
    "    | report_chain\n",
    ")"
   ]
  },
  {
   "cell_type": "code",
   "execution_count": null,
   "id": "946f8ecc",
   "metadata": {},
   "outputs": [
    {
     "name": "stdout",
     "output_type": "stream",
     "text": [
      "            +------------------+         \n",
      "            | PassthroughInput |         \n",
      "            +------------------+         \n",
      "                      *                  \n",
      "                      *                  \n",
      "                      *                  \n",
      "              +-------------+            \n",
      "              | Passthrough |            \n",
      "              +-------------+            \n",
      "                      *                  \n",
      "                      *                  \n",
      "                      *                  \n",
      "             +----------------+          \n",
      "             | PromptTemplate |          \n",
      "             +----------------+          \n",
      "                      *                  \n",
      "                      *                  \n",
      "                      *                  \n",
      "               +------------+            \n",
      "               | ChatOpenAI |            \n",
      "               +------------+            \n",
      "                      *                  \n",
      "                      *                  \n",
      "                      *                  \n",
      "       +---------------------------+     \n",
      "       | Parallel<output,log>Input |     \n",
      "       +---------------------------+     \n",
      "               ***         ***           \n",
      "              *               *          \n",
      "            **                 **        \n",
      "+-----------------+          +--------+  \n",
      "| StrOutputParser |          | Lambda |  \n",
      "+-----------------+          +--------+  \n",
      "               ***         ***           \n",
      "                  *       *              \n",
      "                   **   **               \n",
      "       +----------------------------+    \n",
      "       | Parallel<output,log>Output |    \n",
      "       +----------------------------+    \n",
      "                      *                  \n",
      "                      *                  \n",
      "                      *                  \n",
      "              +-------------+            \n",
      "              | Passthrough |            \n",
      "              +-------------+            \n",
      "                      *                  \n",
      "                      *                  \n",
      "                      *                  \n",
      "             +----------------+          \n",
      "             | PromptTemplate |          \n",
      "             +----------------+          \n",
      "                      *                  \n",
      "                      *                  \n",
      "                      *                  \n",
      "               +------------+            \n",
      "               | ChatOpenAI |            \n",
      "               +------------+            \n",
      "                      *                  \n",
      "                      *                  \n",
      "                      *                  \n",
      "       +---------------------------+     \n",
      "       | Parallel<output,log>Input |     \n",
      "       +---------------------------+     \n",
      "               ***         ***           \n",
      "              *               *          \n",
      "            **                 **        \n",
      "+-----------------+          +--------+  \n",
      "| StrOutputParser |          | Lambda |  \n",
      "+-----------------+          +--------+  \n",
      "               ***         ***           \n",
      "                  *       *              \n",
      "                   **   **               \n",
      "       +----------------------------+    \n",
      "       | Parallel<output,log>Output |    \n",
      "       +----------------------------+    \n",
      "                      *                  \n",
      "                      *                  \n",
      "                      *                  \n",
      "             +----------------+          \n",
      "             | PromptTemplate |          \n",
      "             +----------------+          \n",
      "                      *                  \n",
      "                      *                  \n",
      "                      *                  \n",
      "               +------------+            \n",
      "               | ChatOpenAI |            \n",
      "               +------------+            \n",
      "                      *                  \n",
      "                      *                  \n",
      "                      *                  \n",
      "          +---------------------+        \n",
      "          | PydanticToolsParser |        \n",
      "          +---------------------+        \n",
      "                      *                  \n",
      "                      *                  \n",
      "                      *                  \n",
      "       +---------------------------+     \n",
      "       | PydanticToolsParserOutput |     \n",
      "       +---------------------------+     \n"
     ]
    }
   ],
   "source": [
    "A2A_chain.get_graph().print_ascii()"
   ]
  },
  {
   "cell_type": "code",
   "execution_count": null,
   "id": "42373dff",
   "metadata": {},
   "outputs": [],
   "source": [
    "A2A_result = A2A_chain.invoke(\"restaurante\")"
   ]
  },
  {
   "cell_type": "code",
   "execution_count": null,
   "id": "7eeba2de",
   "metadata": {},
   "outputs": [
    {
     "data": {
      "text/plain": [
       "RelatorioAnalise(pontos_fortes=['Experiência exclusiva e inovadora, diferenciando-se dos restaurantes tradicionais.', 'Alcance de novos públicos e mercados ao explorar diferentes bairros e parcerias.', 'Alto engajamento nas redes sociais, criando comunidade e divulgação orgânica.'], pontos_fracos=['Logística complexa e custos operacionais elevados devido à itinerância.', 'Dificuldade em garantir consistência e qualidade em cada edição.', 'Risco de baixa previsibilidade de demanda, podendo gerar baixa ocupação ou desperdício.'])"
      ]
     },
     "execution_count": 35,
     "metadata": {},
     "output_type": "execute_result"
    }
   ],
   "source": [
    "A2A_result"
   ]
  }
 ],
 "metadata": {
  "kernelspec": {
   "display_name": "study_langchain",
   "language": "python",
   "name": "python3"
  },
  "language_info": {
   "codemirror_mode": {
    "name": "ipython",
    "version": 3
   },
   "file_extension": ".py",
   "mimetype": "text/x-python",
   "name": "python",
   "nbconvert_exporter": "python",
   "pygments_lexer": "ipython3",
   "version": "3.13.3"
  }
 },
 "nbformat": 4,
 "nbformat_minor": 5
}
