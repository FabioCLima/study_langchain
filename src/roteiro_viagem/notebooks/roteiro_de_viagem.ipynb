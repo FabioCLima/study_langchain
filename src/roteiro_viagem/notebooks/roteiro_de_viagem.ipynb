{
 "cells": [
  {
   "cell_type": "markdown",
   "id": "0a908a53",
   "metadata": {},
   "source": [
    "## Introdução: A Floresta e as Árvores\n",
    "\n",
    "\n",
    "Imagine que nosso projeto é uma linha de montagem em uma fábrica. O cliente (usuário) chega com um pedido (\"quero férias na praia\"), e nosso trabalho é entregar um produto final (um roteiro completo). Cada chain é uma estação de trabalho especializada nessa linha de montagem.\n",
    "\n",
    "Nosso fluxo é:\n",
    "\n",
    "Input do Usuário: \"Gosto de trekking em montanhas com clima ameno.\"\n",
    "\n",
    "Estação 1 (chain_destino): Pega o interesse e decide o melhor destino.\n",
    "\n",
    "Estação 2 (chain_restaurantes): Pega o destino e sugere restaurantes.\n",
    "\n",
    "Estação 3 (chain_passeios): Pega o mesmo destino e sugere passeios.\n",
    "\n",
    "Produto Final: Agrupa tudo e entrega ao usuário.\n",
    "\n",
    "O orchestrador.py é o gerente da fábrica, garantindo que o produto passe de uma estação para a outra na ordem correta."
   ]
  },
  {
   "cell_type": "markdown",
   "id": "98aa143a",
   "metadata": {},
   "source": [
    "### LCEL - LangChain Expression Language\n",
    "\n",
    "`prompt | modelo | parser = chain`"
   ]
  },
  {
   "cell_type": "markdown",
   "id": "89b9132d",
   "metadata": {},
   "source": [
    "#### Chain Destino"
   ]
  },
  {
   "cell_type": "code",
   "execution_count": 10,
   "id": "700ed81b",
   "metadata": {},
   "outputs": [],
   "source": [
    "# --- 1. Dependências e Configuração ---\n",
    "\n",
    "from dotenv import find_dotenv, load_dotenv\n",
    "from langchain_core.output_parsers import JsonOutputParser, PydanticOutputParser\n",
    "from langchain_core.prompts import ChatPromptTemplate\n",
    "from langchain_openai import ChatOpenAI\n",
    "from pydantic import BaseModel, Field\n"
   ]
  },
  {
   "cell_type": "code",
   "execution_count": 2,
   "id": "9a30add8",
   "metadata": {},
   "outputs": [
    {
     "data": {
      "text/plain": [
       "True"
      ]
     },
     "execution_count": 2,
     "metadata": {},
     "output_type": "execute_result"
    }
   ],
   "source": [
    "# Carregar variáveis de ambiente (SUGESTÃO: Crie um arquivo .env na raiz do seu projeto)\n",
    "load_dotenv(find_dotenv())"
   ]
  },
  {
   "cell_type": "code",
   "execution_count": 3,
   "id": "fdca7337",
   "metadata": {},
   "outputs": [],
   "source": [
    "# --- 2. Definindo a Estrutura de Saída (O Molho) ---\n",
    "# Usamos Pydantic para dizer à LLM EXATAMENTE como queremos a resposta.\n",
    "# Isso garante um output consistente e fácil de usar no resto do programa.\n",
    "class Destino(BaseModel):\n",
    "    cidade: str = Field(description=\"Nome da cidade recomendada.\")\n",
    "    motivo: str = Field(description=\"Motivo da recomendação da cidade.\")\n",
    "\n",
    "\n",
    "# O Parser é quem \"ensina\" o modelo sobre a estrutura e depois \"lê\" a resposta do modelo.\n",
    "parser = JsonOutputParser(pydantic_object=Destino)"
   ]
  },
  {
   "cell_type": "code",
   "execution_count": 4,
   "id": "d0852bf0",
   "metadata": {},
   "outputs": [],
   "source": [
    "# --- 3. Criando o Modelo (O Recheio) ---\n",
    "# Aqui instanciamos o cérebro da operação.\n",
    "# Melhor configuração do modelo\n",
    "model = ChatOpenAI(\n",
    "    model=\"gpt-4o-mini\",  # Mais econômico para testes\n",
    "    temperature=0.5,\n",
    "    max_tokens=500,\n",
    "    request_timeout=30\n",
    ")"
   ]
  },
  {
   "cell_type": "code",
   "execution_count": 5,
   "id": "57c262a0",
   "metadata": {},
   "outputs": [],
   "source": [
    "# --- 4. Criando o Template do Prompt (O Pão) ---\n",
    "# Este é o nosso roteiro de instruções para o modelo.\n",
    "# A variável {interesse} será preenchida pelo usuário.\n",
    "# A variável {format_instructions} será preenchida pelo nosso Parser.\n",
    "prompt = ChatPromptTemplate.from_template(\n",
    "    \"\"\"\n",
    "    O usuário informou um interesse principal de atividade: \"{interesse}\".\n",
    "    Sua tarefa é recomendar uma cidade no Brasil onde essa atividade\n",
    "    seja muito popular e bem estruturada.\n",
    "\n",
    "    Responda APENAS com o objeto JSON solicitado.\n",
    "\n",
    "    {format_instructions}\n",
    "    \"\"\",\n",
    "    partial_variables={\"format_instructions\": parser.get_format_instructions()},\n",
    ")\n"
   ]
  },
  {
   "cell_type": "code",
   "execution_count": 6,
   "id": "57b71211",
   "metadata": {},
   "outputs": [
    {
     "name": "stdout",
     "output_type": "stream",
     "text": [
      "--- Resultado da Chain Destino ---\n",
      "Tipo do resultado: <class 'dict'>\n"
     ]
    }
   ],
   "source": [
    "# --- 5. Montando a Chain com LCEL (O Sanduíche!) ---\n",
    "# A barra vertical \"|\" é o \"e depois faça isso\". É a essência do LCEL.\n",
    "# 1. Pegue o input e coloque no prompt.\n",
    "# 2. Envie o prompt preenchido para o modelo.\n",
    "# 3. Pegue a resposta do modelo e passe para o parser.\n",
    "chain_destino = prompt | model | parser\n",
    "\n",
    "# --- 6. Executando a Chain ---\n",
    "interesse_usuario = {\"interesse\": \"trekking em chapadas\"}\n",
    "resultado = chain_destino.invoke(interesse_usuario)\n",
    "\n",
    "print(\"--- Resultado da Chain Destino ---\")\n",
    "print(f\"Tipo do resultado: {type(resultado)}\")"
   ]
  },
  {
   "cell_type": "code",
   "execution_count": 7,
   "id": "1a534a52",
   "metadata": {},
   "outputs": [
    {
     "name": "stdout",
     "output_type": "stream",
     "text": [
      "{\n",
      "    \"cidade\": \"Chapada dos Guimarães\",\n",
      "    \"motivo\": \"A cidade é famosa por suas trilhas deslumbrantes, belíssimas chapadas e uma infraestrutura bem desenvolvida para os amantes do trekking.\"\n",
      "}\n"
     ]
    }
   ],
   "source": [
    "import json\n",
    "\n",
    "resultado_formatado = json.dumps(\n",
    "    resultado,\n",
    "    indent=4,\n",
    "    ensure_ascii=False  # * Essencial para exibir caracteres como 'ç' e 'ã' corretamente\n",
    ")\n",
    "print(resultado_formatado)"
   ]
  },
  {
   "cell_type": "markdown",
   "id": "b9286257",
   "metadata": {},
   "source": [
    "### Restaurante\n",
    "___\n"
   ]
  },
  {
   "cell_type": "code",
   "execution_count": 8,
   "id": "0c3c499c",
   "metadata": {},
   "outputs": [],
   "source": [
    "class Restaurante(BaseModel):\n",
    "    nome: str = Field(description=\"Nome do restaurante.\")\n",
    "    tipo: str = Field(description=\"Tipo de culinária do restaurante.\")\n",
    "    descricao: str = Field(description=\"Descrição do restaurante.\")\n",
    "\n",
    "\n",
    "class ListaRestaurantes(BaseModel):\n",
    "    restaurantes: list[Restaurante]"
   ]
  },
  {
   "cell_type": "code",
   "execution_count": 11,
   "id": "5b220f64",
   "metadata": {},
   "outputs": [],
   "source": [
    "parser = PydanticOutputParser(pydantic_object=ListaRestaurantes)\n",
    "\n",
    "prompt = ChatPromptTemplate.from_template(\n",
    "        \"\"\"\n",
    "    Você é um assistente especialista em gastronomia e trabalha para uma agência de viagens.\n",
    "\n",
    "    Para a cidade {cidade}, sugira uma lista contendo:\n",
    "    - 3 restaurantes de comida caseira de boa qualidade\n",
    "    - 3 restaurantes mais sofisticados\n",
    "\n",
    "    {format_instructions}\n",
    "    \"\"\",\n",
    "        partial_variables={\"format_instructions\": parser.get_format_instructions()}\n",
    ")"
   ]
  },
  {
   "cell_type": "code",
   "execution_count": 12,
   "id": "92589a19",
   "metadata": {},
   "outputs": [
    {
     "name": "stdout",
     "output_type": "stream",
     "text": [
      "Cidade recomendada: Chapada dos Guimarães\n"
     ]
    }
   ],
   "source": [
    "cidade = resultado[\"cidade\"]\n",
    "print(f\"Cidade recomendada: {cidade}\")"
   ]
  },
  {
   "cell_type": "code",
   "execution_count": 13,
   "id": "58cefc5e",
   "metadata": {},
   "outputs": [
    {
     "name": "stdout",
     "output_type": "stream",
     "text": [
      "restaurantes=[Restaurante(nome='Restaurante Bom Apetite', tipo='Comida Caseira', descricao='Um ambiente acolhedor que serve pratos caseiros feitos com ingredientes frescos da região, ideal para quem busca uma refeição saborosa e reconfortante.'), Restaurante(nome='Sabor do Campo', tipo='Comida Caseira', descricao='Restaurante familiar que oferece uma variedade de pratos típicos, preparados com carinho e receitas tradicionais, perfeito para almoços em família.'), Restaurante(nome='Casa da Comida', tipo='Comida Caseira', descricao='Um local charmoso que destaca a culinária regional, com pratos feitos em fogão a lenha e uma seleção de sobremesas caseiras irresistíveis.'), Restaurante(nome='Café do Cerrado', tipo='Gastronomia Sofisticada', descricao='Um restaurante elegante que combina sabores locais com técnicas contemporâneas, oferecendo uma experiência gastronômica única com um menu sazonal.'), Restaurante(nome='Ouro Verde', tipo='Gastronomia Sofisticada', descricao='Com uma vista deslumbrante, este restaurante oferece pratos requintados que valorizam ingredientes locais, perfeito para um jantar romântico ou uma celebração especial.'), Restaurante(nome='Canto do Sabiá', tipo='Gastronomia Sofisticada', descricao='Um espaço sofisticado que proporciona uma experiência gastronômica de alto nível, com um menu elaborado que mescla a culinária regional com influências internacionais.')]\n"
     ]
    }
   ],
   "source": [
    "chain = prompt | model | parser\n",
    "resultado = chain.invoke({\"cidade\": cidade})\n",
    "print(resultado)"
   ]
  },
  {
   "cell_type": "code",
   "execution_count": 14,
   "id": "e0c01630",
   "metadata": {},
   "outputs": [
    {
     "name": "stdout",
     "output_type": "stream",
     "text": [
      "<class '__main__.ListaRestaurantes'>\n"
     ]
    }
   ],
   "source": [
    "print(type(resultado))"
   ]
  },
  {
   "cell_type": "code",
   "execution_count": 15,
   "id": "4cf08f52",
   "metadata": {},
   "outputs": [
    {
     "name": "stdout",
     "output_type": "stream",
     "text": [
      "--- Lista de Restaurantes ---\n",
      "Cidade: Chapada dos Guimarães\n",
      "\n",
      "🍽️  RESTAURANTES DE COMIDA CASEIRA:\n",
      "----------------------------------------\n",
      "1. Restaurante Bom Apetite\n",
      "   Tipo: Comida Caseira\n",
      "   Descrição: Um ambiente acolhedor que serve pratos caseiros feitos com ingredientes frescos da região, ideal para quem busca uma refeição saborosa e reconfortante.\n",
      "\n",
      "2. Sabor do Campo\n",
      "   Tipo: Comida Caseira\n",
      "   Descrição: Restaurante familiar que oferece uma variedade de pratos típicos, preparados com carinho e receitas tradicionais, perfeito para almoços em família.\n",
      "\n",
      "3. Casa da Comida\n",
      "   Tipo: Comida Caseira\n",
      "   Descrição: Um local charmoso que destaca a culinária regional, com pratos feitos em fogão a lenha e uma seleção de sobremesas caseiras irresistíveis.\n",
      "\n",
      "✨ RESTAURANTES SOFISTICADOS:\n",
      "----------------------------------------\n",
      "1. Café do Cerrado\n",
      "   Tipo: Gastronomia Sofisticada\n",
      "   Descrição: Um restaurante elegante que combina sabores locais com técnicas contemporâneas, oferecendo uma experiência gastronômica única com um menu sazonal.\n",
      "\n",
      "2. Ouro Verde\n",
      "   Tipo: Gastronomia Sofisticada\n",
      "   Descrição: Com uma vista deslumbrante, este restaurante oferece pratos requintados que valorizam ingredientes locais, perfeito para um jantar romântico ou uma celebração especial.\n",
      "\n",
      "3. Canto do Sabiá\n",
      "   Tipo: Gastronomia Sofisticada\n",
      "   Descrição: Um espaço sofisticado que proporciona uma experiência gastronômica de alto nível, com um menu elaborado que mescla a culinária regional com influências internacionais.\n",
      "\n"
     ]
    }
   ],
   "source": [
    "# ... existing code ...\n",
    "print(\"--- Lista de Restaurantes ---\")\n",
    "print(f\"Cidade: {cidade}\")\n",
    "print()\n",
    "\n",
    "# Restaurantes de comida caseira\n",
    "print(\"🍽️  RESTAURANTES DE COMIDA CASEIRA:\")\n",
    "print(\"-\" * 40)\n",
    "for i, restaurante in enumerate(resultado.restaurantes[:3], 1):\n",
    "    print(f\"{i}. {restaurante.nome}\")\n",
    "    print(f\"   Tipo: {restaurante.tipo}\")\n",
    "    print(f\"   Descrição: {restaurante.descricao}\")\n",
    "    print()\n",
    "\n",
    "# Restaurantes sofisticados\n",
    "print(\"✨ RESTAURANTES SOFISTICADOS:\")\n",
    "print(\"-\" * 40)\n",
    "for i, restaurante in enumerate(resultado.restaurantes[3:], 1):\n",
    "    print(f\"{i}. {restaurante.nome}\")\n",
    "    print(f\"   Tipo: {restaurante.tipo}\")\n",
    "    print(f\"   Descrição: {restaurante.descricao}\")\n",
    "    print()"
   ]
  },
  {
   "cell_type": "markdown",
   "id": "feed1f2f",
   "metadata": {},
   "source": [
    "### Passeios e ou Atividades Culturais\n",
    "___"
   ]
  },
  {
   "cell_type": "code",
   "execution_count": 16,
   "id": "6a69dd97",
   "metadata": {},
   "outputs": [],
   "source": [
    "# * Estrutura de Dados\n",
    "# * Chain 3 - Atrações\n",
    "class Atracao(BaseModel):\n",
    "    \"\"\"Representa uma única atração turística.\n",
    "\n",
    "    Attributes:\n",
    "        nome (str): O nome da atração.\n",
    "        descricao (str): Uma breve descrição da atração.\n",
    "\n",
    "    \"\"\"\n",
    "\n",
    "    nome: str\n",
    "    descricao: str\n",
    "\n",
    "\n",
    "class ListaAtracoes(BaseModel):\n",
    "    \"\"\"Representa uma lista de atrações turísticas.\n",
    "\n",
    "    Attributes:\n",
    "        atracoes (list[Atracao]): Uma lista de objetos Atracao.\n",
    "\n",
    "    \"\"\"\n",
    "\n",
    "    atracoes: list[Atracao]"
   ]
  },
  {
   "cell_type": "code",
   "execution_count": 17,
   "id": "a3da0157",
   "metadata": {},
   "outputs": [],
   "source": [
    "parser = PydanticOutputParser(pydantic_object=ListaAtracoes)\n",
    "prompt = ChatPromptTemplate.from_template(\n",
    "        \"\"\"\n",
    "        Sugira 3 passeios culturais na cidade {cidade}.\n",
    "        Para cada passeio, forneça:\n",
    "        - nome: nome do passeio\n",
    "        - descricao: descrição detalhada do passeio\n",
    "\n",
    "        {format_instructions}\n",
    "        \"\"\",\n",
    "        partial_variables={\"format_instructions\": parser.get_format_instructions()}\n",
    "    )\n",
    "chain = prompt | model | parser\n",
    "resultado = chain.invoke({\"cidade\": cidade})"
   ]
  },
  {
   "cell_type": "code",
   "execution_count": 18,
   "id": "866ccd50",
   "metadata": {},
   "outputs": [
    {
     "name": "stdout",
     "output_type": "stream",
     "text": [
      "<class '__main__.ListaAtracoes'>\n"
     ]
    }
   ],
   "source": [
    "print(type(resultado))"
   ]
  },
  {
   "cell_type": "code",
   "execution_count": 19,
   "id": "497679dc",
   "metadata": {},
   "outputs": [
    {
     "name": "stdout",
     "output_type": "stream",
     "text": [
      "============================================================\n",
      "�� PASSEIOS CULTURAIS EM CHAPADA DOS GUIMARÃES\n",
      "============================================================\n",
      "\n",
      "1. Parque Nacional da Chapada dos Guimarães\n",
      "   Um dos principais atrativos da região, o Parque Nacional da Chapada dos Guimarães é conhecido por suas impressionantes formações rochosas, cachoeiras e uma rica biodiversidade. Durante o passeio, os visitantes podem explorar trilhas que levam a mirantes com vistas deslumbrantes do pôr do sol, além de conhecer a famosa Cachoeira Véu de Noiva. O parque também é um ótimo lugar para observar aves e outros animais silvestres.\n",
      "--------------------------------------------------\n",
      "\n",
      "2. Cidade Histórica de Chapada dos Guimarães\n",
      "   Este passeio oferece uma imersão na história e cultura local. Os visitantes podem caminhar pelas ruas de paralelepípedos da cidade, admirando a arquitetura colonial e os casarões históricos. O tour inclui visitas a igrejas, como a Igreja de Nossa Senhora do Rosário, e a Praça da Matriz, onde é possível conhecer mais sobre a história da fundação da cidade e sua importância na época colonial.\n",
      "--------------------------------------------------\n",
      "\n",
      "3. Museu de História Natural\n",
      "   O Museu de História Natural de Chapada dos Guimarães é um espaço dedicado à preservação e à educação ambiental. O passeio inclui exposições sobre a fauna e a flora da região, além de fósseis e artefatos arqueológicos. Os visitantes podem aprender sobre a geologia da Chapada e a importância da conservação dos ecossistemas locais, tornando-se uma experiência enriquecedora para todas as idades.\n",
      "--------------------------------------------------\n"
     ]
    }
   ],
   "source": [
    "# ... existing code ...\n",
    "print(\"=\" * 60)\n",
    "print(f\"�� PASSEIOS CULTURAIS EM {cidade.upper()}\")\n",
    "print(\"=\" * 60)\n",
    "\n",
    "for i, atracao in enumerate(resultado.atracoes, 1):\n",
    "    print(f\"\\n{i}. {atracao.nome}\")\n",
    "    print(f\"   {atracao.descricao}\")\n",
    "    print(\"-\" * 50)"
   ]
  },
  {
   "cell_type": "code",
   "execution_count": null,
   "id": "1f87170c",
   "metadata": {},
   "outputs": [],
   "source": []
  }
 ],
 "metadata": {
  "kernelspec": {
   "display_name": ".venv",
   "language": "python",
   "name": "python3"
  },
  "language_info": {
   "codemirror_mode": {
    "name": "ipython",
    "version": 3
   },
   "file_extension": ".py",
   "mimetype": "text/x-python",
   "name": "python",
   "nbconvert_exporter": "python",
   "pygments_lexer": "ipython3",
   "version": "3.13.3"
  }
 },
 "nbformat": 4,
 "nbformat_minor": 5
}
