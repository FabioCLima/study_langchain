{
 "cells": [
  {
   "cell_type": "markdown",
   "id": "16503865",
   "metadata": {},
   "source": [
    "# Lesson 2: Pydantic Basics\n",
    "\n",
    "In this lesson, you'll learn the fundamentals of Pydantic models for data validation using a customer support system as your example application. You'll see how to define data models, validate user input, and handle validation errors gracefully.\n",
    "\n",
    "By the end of this lesson, you'll be able to:\n",
    "- Create Pydantic models to validate user input data\n",
    "- Handle validation errors with proper error handling\n",
    "- Use optional fields and field constraints in your models\n",
    "- Work with JSON data validation methods\n",
    "\n",
    "---"
   ]
  },
  {
   "cell_type": "markdown",
   "id": "6606ef88",
   "metadata": {},
   "source": [
    "### Resumo das Ideias Chave do Notebook\n",
    "\n",
    "O notebook ensina, de forma prática, como usar Pydantic para garantir a qualidade dos dados que entram em um sistema. A ideia central é simples: **\"Declare a estrutura dos seus dados com classes Python e deixe o Pydantic fazer o trabalho pesado de validação.\"**\n",
    "\n",
    "Os principais conceitos que ele aborda são:\n",
    "\n",
    "1.  **Declaração Estruturada de Dados com `BaseModel`**: Em vez de trabalhar com dicionários Python \"soltos\" e ter que verificar manualmente se as chaves existem (`'name' in data`), você define uma classe que herda de `pydantic.BaseModel`. Essa classe se torna a \"verdade única\" sobre a estrutura de dados esperada. É auto-documentável e clara.\n",
    "\n",
    "2.  **Validação e Coerção Automática de Tipos**: O Pydantic não apenas verifica se um campo é do tipo correto, mas também tenta \"forçar\" (coerção) os dados para o tipo esperado, se for razoável. O notebook demonstra isso perfeitamente:\n",
    "    * Uma string de data como `\"2025-12-31\"` é automaticamente convertida para um objeto `datetime.date`.\n",
    "    * Um `order_id` passado como a string `\"12345\"` é convertido para o inteiro `12345`.\n",
    "    * Ele também usa tipos especializados como `EmailStr` para validações complexas prontas para uso.\n",
    "\n",
    "3.  **Tratamento de Erros Centralizado com `ValidationError`**: Quando os dados não podem ser validados ou convertidos, o Pydantic não quebra seu programa de forma inesperada. Ele levanta uma única exceção, `ValidationError`, que contém uma lista detalhada de todos os erros encontrados. A função `validate_user_input` do notebook é um exemplo perfeito de como capturar essa exceção e apresentar os erros de forma amigável, tornando a aplicação muito mais robusta.\n",
    "\n",
    "4.  **Flexibilidade com Campos Opcionais e Restrições**: Nem todos os dados são obrigatórios. O notebook mostra como usar `Optional` para campos que podem ou não estar presentes. Além disso, introduz o `Field` para adicionar regras de negócio diretamente na definição do modelo (ex: `order_id` deve ser um número entre 10000 e 99999). Isso move a lógica de validação para perto da definição do dado, tornando o código mais limpo.\n",
    "\n",
    "5.  **Manipulação Eficiente de JSON**: A lição mostra a forma correta e moderna de lidar com dados JSON. Em vez de fazer `json.loads(data)` e depois passar o dicionário para o modelo, você pode usar o método `UserInput.model_validate_json(json_data)`. Isso é mais performático e direto, combinando o parsing do JSON e a validação em um único passo.\n",
    "\n",
    "---\n",
    "\n",
    "### Aplicação em LangChain e LangGraph\n",
    "\n",
    "Agora, a parte mais importante: por que tudo isso é fundamental para LangChain?\n",
    "\n",
    "LLMs são, por natureza, geradores de texto não estruturado. Para construir aplicações confiáveis, precisamos forçar essa saída de texto a se conformar com uma estrutura de dados bem definida. **Pydantic é a principal ferramenta para criar essa estrutura.**\n",
    "\n",
    "1.  **Structured Output (Saída Estruturada)**:\n",
    "    * **Cenário**: Você pede a um LLM para extrair informações de um e-mail de cliente e quer a resposta em um formato JSON específico.\n",
    "    * **Aplicação Pydantic**: Você define um `BaseModel` Pydantic com os campos que deseja (ex: `nome_cliente`, `numero_pedido`, `sentimento`). Em LangChain, você usa o `PydanticOutputParser` e passa seu modelo Pydantic a ele. O LangChain automaticamente gera um prompt que instrui o LLM a formatar sua resposta de acordo com o esquema do seu modelo Pydantic. Depois, ele valida a saída do LLM e a entrega para você como uma instância da sua classe Pydantic, já validada e com os tipos corretos. Isso garante que a saída do LLM seja sempre utilizável pelo resto do seu código.\n",
    "\n",
    "2.  **Definição de Ferramentas (Tools) para Agentes**:\n",
    "    * **Cenário**: Você está construindo um agente que pode usar ferramentas, como uma função para buscar informações de um pedido em um banco de dados.\n",
    "    * **Aplicação Pydantic**: A melhor prática é definir os argumentos que sua ferramenta espera usando um `BaseModel` Pydantic. Isso serve como um \"esquema\" para o LLM. O agente usará esse esquema para entender que, para chamar a ferramenta `buscar_pedido`, ele precisa fornecer um argumento chamado `order_id` que deve ser um inteiro. Isso torna a chamada de funções (function calling) muito mais confiável.\n",
    "\n",
    "3.  **Definição do Estado em LangGraph**:\n",
    "    * **Cenário**: Em LangGraph, você constrói grafos de execução onde o estado (informações) flui de um nó para outro.\n",
    "    * **Aplicação Pydantic**: A forma mais robusta de definir o `State` do seu grafo é usando um `BaseModel` Pydantic (ou um `TypedDict`, que é similar). Cada campo no seu modelo Pydantic representa uma parte do estado da aplicação (ex: `email_original`, `resumo`, `dados_extraidos`). Isso funciona como um **contrato de dados** entre os nós do grafo. Se um nó é responsável por preencher o campo `resumo`, o Pydantic garante que ele será uma string, evitando que o próximo nó quebre ao tentar usá-lo.\n",
    "\n",
    "Em resumo, o que você aprendeu neste notebook é a base para transformar protótipos de LangChain que funcionam \"na maioria das vezes\" em sistemas de produção que são **confiáveis, previsíveis e fáceis de manter**."
   ]
  },
  {
   "cell_type": "code",
   "execution_count": 1,
   "id": "313faba4",
   "metadata": {
    "height": 64
   },
   "outputs": [],
   "source": [
    "# Import libraries needed for the lesson\n",
    "from typing import Any\n",
    "from pydantic import BaseModel, ValidationError, EmailStr\n",
    "import json"
   ]
  },
  {
   "cell_type": "markdown",
   "id": "abffb4e5",
   "metadata": {},
   "source": [
    "### Define a UserInput Pydantic model and populate it with data"
   ]
  },
  {
   "cell_type": "code",
   "execution_count": 2,
   "id": "22fb4703",
   "metadata": {
    "height": 98
   },
   "outputs": [],
   "source": [
    "# Create a Pydantic model for validating user input\n",
    "class UserInput(BaseModel):\n",
    "    \"\"\"A Pydantic model for validating user input data.\n",
    "    \n",
    "    This class represents user input containing personal information and a query.\n",
    "    It uses Pydantic for automatic validation and serialization of the input data.\n",
    "    \n",
    "    Attributes:\n",
    "        name (str): The full name of the user. Must be a non-empty string.\n",
    "        email (EmailStr): A valid email address. Automatically validated for\n",
    "        proper email format using Pydantic's EmailStr type.\n",
    "        query (str): The user's question or request. Must be a non-empty string.\n",
    "    \n",
    "    Example:\n",
    "        >>> user_data = UserInput(\n",
    "        ...     name=\"João Silva\",\n",
    "        ...     email=\"joao.silva@email.com\",\n",
    "        ...     query=\"Como posso aprender Python?\"\n",
    "        ... )\n",
    "        >>> print(user_data.name)\n",
    "        João Silva\n",
    "        >>> print(user_data.email)\n",
    "        joao.silva@email.com\n",
    "    \n",
    "    Raises:\n",
    "        ValidationError: If any of the provided values don't meet the validation\n",
    "            criteria (e.g., invalid email format, empty strings).\n",
    "    \n",
    "    Note:\n",
    "        This class inherits from Pydantic's BaseModel, which provides automatic\n",
    "        validation, serialization, and deserialization capabilities.\n",
    "    \"\"\"\n",
    "    name: str\n",
    "    email: EmailStr\n",
    "    query: str"
   ]
  },
  {
   "cell_type": "code",
   "execution_count": 3,
   "id": "f66ecbe4",
   "metadata": {
    "height": 132
   },
   "outputs": [
    {
     "name": "stdout",
     "output_type": "stream",
     "text": [
      "name='Joe User' email='joe.user@example.com' query='I forgot my password.'\n"
     ]
    }
   ],
   "source": [
    "# Create a model instance\n",
    "user_input = UserInput(\n",
    "    name=\"Joe User\", \n",
    "    email=\"joe.user@example.com\", \n",
    "    query=\"I forgot my password.\"\n",
    ")\n",
    "print(user_input)"
   ]
  },
  {
   "cell_type": "markdown",
   "id": "983e9422",
   "metadata": {},
   "source": [
    "### Note: the following cell will produce a validation error. You can correct the error by following along with the video, or just proceed with the rest of the notebook as cells below do not depend on this cell. "
   ]
  },
  {
   "cell_type": "code",
   "execution_count": 4,
   "id": "971c9900",
   "metadata": {
    "height": 132
   },
   "outputs": [
    {
     "ename": "ValidationError",
     "evalue": "1 validation error for UserInput\nemail\n  value is not a valid email address: An email address must have an @-sign. [type=value_error, input_value='not-an-email', input_type=str]",
     "output_type": "error",
     "traceback": [
      "\u001b[31m---------------------------------------------------------------------------\u001b[39m",
      "\u001b[31mValidationError\u001b[39m                           Traceback (most recent call last)",
      "\u001b[36mCell\u001b[39m\u001b[36m \u001b[39m\u001b[32mIn[4]\u001b[39m\u001b[32m, line 2\u001b[39m\n\u001b[32m      1\u001b[39m \u001b[38;5;66;03m# Attempt to create another model instance with an invalid email\u001b[39;00m\n\u001b[32m----> \u001b[39m\u001b[32m2\u001b[39m user_input = \u001b[43mUserInput\u001b[49m\u001b[43m(\u001b[49m\n\u001b[32m      3\u001b[39m \u001b[43m    \u001b[49m\u001b[43mname\u001b[49m\u001b[43m=\u001b[49m\u001b[33;43m\"\u001b[39;49m\u001b[33;43mJoe User\u001b[39;49m\u001b[33;43m\"\u001b[39;49m\u001b[43m,\u001b[49m\u001b[43m \u001b[49m\n\u001b[32m      4\u001b[39m \u001b[43m    \u001b[49m\u001b[43memail\u001b[49m\u001b[43m=\u001b[49m\u001b[33;43m\"\u001b[39;49m\u001b[33;43mnot-an-email\u001b[39;49m\u001b[33;43m\"\u001b[39;49m\u001b[43m,\u001b[49m\u001b[43m \u001b[49m\n\u001b[32m      5\u001b[39m \u001b[43m    \u001b[49m\u001b[43mquery\u001b[49m\u001b[43m=\u001b[49m\u001b[33;43m\"\u001b[39;49m\u001b[33;43mI forgot my password.\u001b[39;49m\u001b[33;43m\"\u001b[39;49m\n\u001b[32m      6\u001b[39m \u001b[43m)\u001b[49m\n\u001b[32m      7\u001b[39m \u001b[38;5;28mprint\u001b[39m(user_input)\n",
      "\u001b[36mFile \u001b[39m\u001b[32m~/Workdir/langchain/study_langchain/.venv/lib/python3.13/site-packages/pydantic/main.py:253\u001b[39m, in \u001b[36mBaseModel.__init__\u001b[39m\u001b[34m(self, **data)\u001b[39m\n\u001b[32m    251\u001b[39m \u001b[38;5;66;03m# `__tracebackhide__` tells pytest and some other tools to omit this function from tracebacks\u001b[39;00m\n\u001b[32m    252\u001b[39m __tracebackhide__ = \u001b[38;5;28;01mTrue\u001b[39;00m\n\u001b[32m--> \u001b[39m\u001b[32m253\u001b[39m validated_self = \u001b[38;5;28;43mself\u001b[39;49m\u001b[43m.\u001b[49m\u001b[43m__pydantic_validator__\u001b[49m\u001b[43m.\u001b[49m\u001b[43mvalidate_python\u001b[49m\u001b[43m(\u001b[49m\u001b[43mdata\u001b[49m\u001b[43m,\u001b[49m\u001b[43m \u001b[49m\u001b[43mself_instance\u001b[49m\u001b[43m=\u001b[49m\u001b[38;5;28;43mself\u001b[39;49m\u001b[43m)\u001b[49m\n\u001b[32m    254\u001b[39m \u001b[38;5;28;01mif\u001b[39;00m \u001b[38;5;28mself\u001b[39m \u001b[38;5;129;01mis\u001b[39;00m \u001b[38;5;129;01mnot\u001b[39;00m validated_self:\n\u001b[32m    255\u001b[39m     warnings.warn(\n\u001b[32m    256\u001b[39m         \u001b[33m'\u001b[39m\u001b[33mA custom validator is returning a value other than `self`.\u001b[39m\u001b[38;5;130;01m\\n\u001b[39;00m\u001b[33m'\u001b[39m\n\u001b[32m    257\u001b[39m         \u001b[33m\"\u001b[39m\u001b[33mReturning anything other than `self` from a top level model validator isn\u001b[39m\u001b[33m'\u001b[39m\u001b[33mt supported when validating via `__init__`.\u001b[39m\u001b[38;5;130;01m\\n\u001b[39;00m\u001b[33m\"\u001b[39m\n\u001b[32m    258\u001b[39m         \u001b[33m'\u001b[39m\u001b[33mSee the `model_validator` docs (https://docs.pydantic.dev/latest/concepts/validators/#model-validators) for more details.\u001b[39m\u001b[33m'\u001b[39m,\n\u001b[32m    259\u001b[39m         stacklevel=\u001b[32m2\u001b[39m,\n\u001b[32m    260\u001b[39m     )\n",
      "\u001b[31mValidationError\u001b[39m: 1 validation error for UserInput\nemail\n  value is not a valid email address: An email address must have an @-sign. [type=value_error, input_value='not-an-email', input_type=str]"
     ]
    }
   ],
   "source": [
    "# Attempt to create another model instance with an invalid email\n",
    "user_input = UserInput(\n",
    "    name=\"Joe User\", \n",
    "    email=\"not-an-email\", \n",
    "    query=\"I forgot my password.\"\n",
    ")\n",
    "print(user_input)"
   ]
  },
  {
   "cell_type": "markdown",
   "id": "747bcdd0",
   "metadata": {},
   "source": [
    "### Define a function for error handling and try different inputs"
   ]
  },
  {
   "cell_type": "code",
   "execution_count": 5,
   "id": "a482a1a0",
   "metadata": {
    "height": 251
   },
   "outputs": [],
   "source": [
    "# Define a function to handle user input validation safely\n",
    "def validate_user_input(input_data: dict[str, Any])-> UserInput | None:\n",
    "    \"\"\"Validate user input data and create a UserInput model instance.\n",
    "    \n",
    "    This function attempts to create and validate a UserInput instance from\n",
    "    the provided dictionary data. It handles validation errors gracefully by\n",
    "    printing user-friendly error messages and returning None on failure.\n",
    "    \n",
    "    Args:\n",
    "        input_data: A dictionary containing user input data with keys 'name',\n",
    "            'email', and 'query'. All values should be strings, with 'email'\n",
    "            being a valid email address format.\n",
    "    \n",
    "    Returns:\n",
    "        A validated UserInput instance if validation succeeds, None if\n",
    "        validation fails due to invalid data format or missing required fields.\n",
    "    \n",
    "    Raises:\n",
    "        ValidationError: Caught internally and converted to user-friendly\n",
    "            error messages. The function will not propagate this exception.\n",
    "    \n",
    "    Example:\n",
    "        >>> data = {\n",
    "        ...     \"name\": \"Maria Santos\",\n",
    "        ...     \"email\": \"maria@example.com\",\n",
    "        ...     \"query\": \"How to learn Python?\"\n",
    "        ... }\n",
    "        >>> result = validate_user_input(data)\n",
    "        ✅ Valid user input created:\n",
    "        {\n",
    "          \"name\": \"Maria Santos\",\n",
    "          \"email\": \"maria@example.com\",\n",
    "          \"query\": \"How to learn Python?\"\n",
    "        }\n",
    "        >>> isinstance(result, UserInput)\n",
    "        True\n",
    "        \n",
    "        >>> invalid_data = {\"name\": \"\", \"email\": \"invalid\", \"query\": \"\"}\n",
    "        >>> result = validate_user_input(invalid_data)\n",
    "        ❌ Validation error occurred:\n",
    "          - name: String should have at least 1 character\n",
    "          - email: value is not a valid email address\n",
    "        >>> result is None\n",
    "        True\n",
    "    \n",
    "    Note:\n",
    "        This function prints validation results directly to stdout. Consider\n",
    "        using logging for production applications instead of print statements.\n",
    "    \"\"\"\n",
    "    try:\n",
    "        # Attempt to create a UserInput model instance from user input data\n",
    "        user_input = UserInput(**input_data)\n",
    "        print(f\"✅ Valid user input created:\")\n",
    "        print(f\"{user_input.model_dump_json(indent=2)}\")\n",
    "        return user_input\n",
    "    except ValidationError as e:\n",
    "        # Capture and display validation errors in a readable format\n",
    "        print(f\"❌ Validation error occurred:\")\n",
    "        for error in e.errors():\n",
    "            print(f\"  - {error['loc'][0]}: {error['msg']}\")\n",
    "        return None"
   ]
  },
  {
   "cell_type": "markdown",
   "id": "73c831ff",
   "metadata": {},
   "source": [
    "O construtor da classe UserInput espera receber os argumentos assim:\n",
    "```python\n",
    "user_input = UserInput(name=\"Maria\", email=\"maria@example.com\", query=\"...\")\n",
    "```\n",
    "Contudo os dados estão em um dicionário:\n",
    "```python\n",
    "input_data = {\n",
    "    \"name\": \"Maria\",\n",
    "    \"email\": \"maria@example.com\",\n",
    "    \"query\": \"...\"\n",
    "}\n",
    "```\n",
    "A linha UserInput(**input_data) é um atalho elegante que faz o Python **\"desempacotar\"** o dicionário input_data, transformando cada par de chave-valor em um argumento de palavra-chave.\n",
    "\n",
    "Portanto, o código:\n",
    "```python\n",
    "user_input = UserInput(**input_data)\n",
    "```\n",
    "É exatamente equivalente a:\n",
    "```python\n",
    "user_input = UserInput(\n",
    "    name=input_data[\"name\"], \n",
    "    email=input_data[\"email\"], \n",
    "    query=input_data[\"query\"]\n",
    ")\n",
    "```\n"
   ]
  },
  {
   "cell_type": "code",
   "execution_count": 6,
   "id": "d19e0606",
   "metadata": {
    "height": 149
   },
   "outputs": [
    {
     "name": "stdout",
     "output_type": "stream",
     "text": [
      "✅ Valid user input created:\n",
      "{\n",
      "  \"name\": \"Joe User\",\n",
      "  \"email\": \"joe.user@example.com\",\n",
      "  \"query\": \"I forgot my password.\"\n",
      "}\n"
     ]
    }
   ],
   "source": [
    "# Create an instance of UserInput using validate_user_input() function\n",
    "input_data = {\n",
    "    \"name\": \"Joe User\", \n",
    "    \"email\": \"joe.user@example.com\",\n",
    "    \"query\": \"I forgot my password.\"\n",
    "}\n",
    "\n",
    "user_input = validate_user_input(input_data)"
   ]
  },
  {
   "cell_type": "code",
   "execution_count": 7,
   "id": "1847c1c2",
   "metadata": {
    "height": 132
   },
   "outputs": [
    {
     "name": "stdout",
     "output_type": "stream",
     "text": [
      "❌ Validation error occurred:\n",
      "  - query: Field required\n"
     ]
    }
   ],
   "source": [
    "# Attempt to create an instance of UserInput with missing query field\n",
    "input_data = {\n",
    "    \"name\": \"Joe User\", \n",
    "    \"email\": \"joe.user@example.com\"\n",
    "}\n",
    "\n",
    "user_input = validate_user_input(input_data)"
   ]
  },
  {
   "cell_type": "markdown",
   "id": "6cc0e095",
   "metadata": {},
   "source": [
    "### Update your UserInput data model with additional fields and experiment with different input data"
   ]
  },
  {
   "cell_type": "code",
   "execution_count": 8,
   "id": "2e1a33ab",
   "metadata": {
    "height": 302
   },
   "outputs": [],
   "source": [
    "# Import additional libraries for enhanced validation\n",
    "from pydantic import Field\n",
    "from typing import Optional\n",
    "from datetime import date\n",
    "\n",
    "# Define a new UserInput model with optional fields\n",
    "class UserInput(BaseModel):\n",
    "    \"\"\"Enhanced Pydantic model for validating user input with optional fields.\n",
    "    \n",
    "    This class represents comprehensive user input data including personal \n",
    "    information, queries, and optional order details. It uses Pydantic's Field\n",
    "    for advanced validation rules and constraints.\n",
    "    \n",
    "    Attributes:\n",
    "        name (str): The full name of the user. Required field.\n",
    "        email (EmailStr): A valid email address. Automatically validated for \n",
    "            proper email format.\n",
    "        query (str): The user's question or request. Required field.\n",
    "        order_id (Optional[int]): An optional 5-digit order number. Must be \n",
    "            between 10000-99999 (cannot start with 0). Defaults to None.\n",
    "        purchase_date (Optional[date]): An optional purchase date. Accepts \n",
    "            ISO format dates (YYYY-MM-DD). Defaults to None.\n",
    "    \n",
    "    Examples:\n",
    "        Basic usage with required fields only:\n",
    "        >>> user = UserInput(\n",
    "        ...     name=\"Ana Silva\",\n",
    "        ...     email=\"ana@example.com\",\n",
    "        ...     query=\"Preciso de ajuda com meu pedido\"\n",
    "        ... )\n",
    "        \n",
    "        Complete usage with all fields:\n",
    "        >>> from datetime import date\n",
    "        >>> user = UserInput(\n",
    "        ...     name=\"Carlos Oliveira\",\n",
    "        ...     email=\"carlos@example.com\",\n",
    "        ...     query=\"Status do pedido\",\n",
    "        ...     order_id=12345,\n",
    "        ...     purchase_date=date(2024, 1, 15)\n",
    "        ... )\n",
    "        \n",
    "        Invalid order_id (will raise ValidationError):\n",
    "        >>> user = UserInput(\n",
    "        ...     name=\"Test User\",\n",
    "        ...     email=\"test@example.com\", \n",
    "        ...     query=\"Test query\",\n",
    "        ...     order_id=123  # Too small, must be 5 digits\n",
    "        ... )\n",
    "    \n",
    "    Raises:\n",
    "        ValidationError: If any validation constraint is violated:\n",
    "            - Invalid email format\n",
    "            - order_id outside range 10000-99999\n",
    "            - Invalid date format for purchase_date\n",
    "    \n",
    "    Note:\n",
    "        This class leverages Pydantic's Field for advanced validation.\n",
    "        Optional fields can be omitted and will default to None.\n",
    "    \"\"\"\n",
    "    name: str\n",
    "    email: EmailStr\n",
    "    query: str\n",
    "    order_id: Optional[int] = Field(\n",
    "        None,\n",
    "        description=\"5-digit order number (cannot start with 0)\",\n",
    "        ge=10000,\n",
    "        le=99999\n",
    "    )\n",
    "    purchase_date: Optional[date] = None"
   ]
  },
  {
   "cell_type": "markdown",
   "id": "b5373912",
   "metadata": {},
   "source": [
    "### O Método `Field` do Pydantic\n",
    "O Field é uma função especial do Pydantic que permite definir validações avançadas \n",
    "e metadados para os campos do modelo.\n",
    "\n",
    "```python\n",
    "campo: tipo = Field(valor_default, **configurações)\n",
    "```\n",
    "* Parâmetros Principais do `Field`\n",
    "1. Default value\n",
    "    ```python\n",
    "    order_id: Optional[int] = Field(None, ...)  # None é o valor padrão\n",
    "    ```\n",
    "2. Description - documentação do campo\n",
    "    ```python\n",
    "    Field(description=\"5-digit order number (cannot start with 0)\")\n",
    "    ```\n",
    "    * Propósito: Documenta o campo para desenvolvedores e documentação automática\n",
    "    * Uso: Aparece em schemas JSON, documentação OpenAI, etc\n",
    "\n",
    "3. ge - Greater than or Equal (Maior ou Igual)\n",
    "    ```python\n",
    "    Field(ge=10000)  # order_id >= 10000\n",
    "    ```\n",
    "    * Aplicação: Números(int, float)\n",
    "    * Validação: Garante que o valor seja maior ou igual ao especificado\n",
    "\n",
    "4. le - Less than or Equal (Menor ou Igual)\n",
    "    ```python\n",
    "    Field(le=99999)  # order_id <= 99999\n",
    "    ```\n",
    "    * Aplicação: Números(int, float)\n",
    "    * Validação: Garante que o valor seja menor ou igual ao especificado\n",
    "\n",
    "Outros Parâmetros Úteis do Field\n",
    "Para Strings:\n",
    "```python\n",
    "name: str = Field(\n",
    "    min_length=2,        # Mínimo 2 caracteres\n",
    "    max_length=100,      # Máximo 100 caracteres\n",
    "    regex=r\"^[A-Za-z\\s]+$\"  # Apenas letras e espaços\n",
    ")\n",
    "```\n",
    "Para Números:\n",
    "```python\n",
    "price: float = Field(\n",
    "    gt=0,           # Greater than (maior que)\n",
    "    lt=1000000,     # Less than (menor que)\n",
    "    decimal_places=2  # Máximo 2 casas decimais\n",
    ")\n",
    "```\n",
    "Para listas:\n",
    "```python\n",
    "tags: List[str] = Field(\n",
    "    min_items=1,    # Mínimo 1 item\n",
    "    max_items=10    # Máximo 10 itens\n",
    ")\n",
    "``` \n",
    "Conclusão: O `Field` transforma validação de dados de uma tarefa manual e propensa a erros em um processo declarativo e automático! 🚀"
   ]
  },
  {
   "cell_type": "code",
   "execution_count": 9,
   "id": "59d39791",
   "metadata": {
    "height": 166
   },
   "outputs": [
    {
     "name": "stdout",
     "output_type": "stream",
     "text": [
      "✅ Valid user input created:\n",
      "{\n",
      "  \"name\": \"Joe User\",\n",
      "  \"email\": \"joe.user@example.com\",\n",
      "  \"query\": \"I forgot my password.\",\n",
      "  \"order_id\": null,\n",
      "  \"purchase_date\": null\n",
      "}\n"
     ]
    }
   ],
   "source": [
    "# Define a dictionary with required fields only\n",
    "input_data = {\n",
    "    \"name\": \"Joe User\",\n",
    "    \"email\": \"joe.user@example.com\",\n",
    "    \"query\": \"I forgot my password.\"\n",
    "}\n",
    "\n",
    "# Validate the user input data\n",
    "user_input = validate_user_input(input_data)"
   ]
  },
  {
   "cell_type": "code",
   "execution_count": 10,
   "id": "db39c3ae",
   "metadata": {
    "height": 30
   },
   "outputs": [
    {
     "name": "stdout",
     "output_type": "stream",
     "text": [
      "name='Joe User' email='joe.user@example.com' query='I forgot my password.' order_id=None purchase_date=None\n"
     ]
    }
   ],
   "source": [
    "print(user_input)"
   ]
  },
  {
   "cell_type": "code",
   "execution_count": 11,
   "id": "c31dbc88",
   "metadata": {},
   "outputs": [
    {
     "name": "stdout",
     "output_type": "stream",
     "text": [
      "{\n",
      "  \"name\": \"Joe User\",\n",
      "  \"email\": \"joe.user@example.com\",\n",
      "  \"query\": \"I forgot my password.\",\n",
      "  \"order_id\": null,\n",
      "  \"purchase_date\": null\n",
      "}\n"
     ]
    }
   ],
   "source": [
    "print(user_input.model_dump_json(indent=2))"
   ]
  },
  {
   "cell_type": "code",
   "execution_count": 12,
   "id": "d2d23e5e",
   "metadata": {},
   "outputs": [
    {
     "data": {
      "text/plain": [
       "{'name': 'Joe User',\n",
       " 'email': 'joe.user@example.com',\n",
       " 'query': 'I forgot my password.',\n",
       " 'order_id': None,\n",
       " 'purchase_date': None}"
      ]
     },
     "execution_count": 12,
     "metadata": {},
     "output_type": "execute_result"
    }
   ],
   "source": [
    "user_input.model_dump()  # Dict Python"
   ]
  },
  {
   "cell_type": "code",
   "execution_count": 13,
   "id": "54589363",
   "metadata": {
    "height": 217
   },
   "outputs": [
    {
     "name": "stdout",
     "output_type": "stream",
     "text": [
      "✅ Valid user input created:\n",
      "{\n",
      "  \"name\": \"Joe User\",\n",
      "  \"email\": \"joe.user@example.com\",\n",
      "  \"query\": \"I bought a laptop carrying case and it turned out to be \\n             the wrong size. I need to return it.\",\n",
      "  \"order_id\": 12345,\n",
      "  \"purchase_date\": \"2025-12-31\"\n",
      "}\n"
     ]
    }
   ],
   "source": [
    "# Define a dictionary with all fields including optional ones\n",
    "input_data = {\n",
    "    \"name\": \"Joe User\",\n",
    "    \"email\": \"joe.user@example.com\",\n",
    "    \"query\": f\"\"\"I bought a laptop carrying case and it turned out to be \n",
    "             the wrong size. I need to return it.\"\"\",\n",
    "    \"order_id\": 12345,\n",
    "    \"purchase_date\": date(2025, 12, 31)\n",
    "}\n",
    "\n",
    "# Validate the user input data\n",
    "user_input = validate_user_input(input_data)"
   ]
  },
  {
   "cell_type": "code",
   "execution_count": 14,
   "id": "fa20287b",
   "metadata": {
    "height": 251
   },
   "outputs": [
    {
     "name": "stdout",
     "output_type": "stream",
     "text": [
      "✅ Valid user input created:\n",
      "{\n",
      "  \"name\": \"Joe User\",\n",
      "  \"email\": \"joe.user@example.com\",\n",
      "  \"query\": \"I bought a laptop carrying case and it turned out to be \\n             the wrong size. I need to return it.\",\n",
      "  \"order_id\": 12345,\n",
      "  \"purchase_date\": \"2025-12-31\"\n",
      "}\n"
     ]
    }
   ],
   "source": [
    "# Define a dictionary with all fields and including additional ones\n",
    "input_data = {\n",
    "    \"name\": \"Joe User\",\n",
    "    \"email\": \"joe.user@example.com\",\n",
    "    \"query\": f\"\"\"I bought a laptop carrying case and it turned out to be \n",
    "             the wrong size. I need to return it.\"\"\",\n",
    "    \"order_id\": 12345,\n",
    "    \"purchase_date\": date(2025, 12, 31),\n",
    "    \"system_message\": \"logging status regarding order processing...\",\n",
    "    \"iteration\": 1 \n",
    "}\n",
    "\n",
    "# Validate the user input data\n",
    "user_input = validate_user_input(input_data)"
   ]
  },
  {
   "cell_type": "code",
   "execution_count": 15,
   "id": "b472fa30",
   "metadata": {
    "height": 30
   },
   "outputs": [
    {
     "name": "stdout",
     "output_type": "stream",
     "text": [
      "name='Joe User' email='joe.user@example.com' query='I bought a laptop carrying case and it turned out to be \\n             the wrong size. I need to return it.' order_id=12345 purchase_date=datetime.date(2025, 12, 31)\n"
     ]
    }
   ],
   "source": [
    "print(user_input)"
   ]
  },
  {
   "cell_type": "code",
   "execution_count": 16,
   "id": "dc62d5b6",
   "metadata": {
    "height": 200
   },
   "outputs": [
    {
     "name": "stdout",
     "output_type": "stream",
     "text": [
      "✅ Valid user input created:\n",
      "{\n",
      "  \"name\": \"Joe User\",\n",
      "  \"email\": \"joe.user@example.com\",\n",
      "  \"query\": \"I bought a laptop carrying case and it turned out to be \\n             the wrong size. I need to return it.\",\n",
      "  \"order_id\": 12345,\n",
      "  \"purchase_date\": \"2025-12-31\"\n",
      "}\n"
     ]
    }
   ],
   "source": [
    "# Create an instance of UserInput with valid data\n",
    "input_data = {\n",
    "    \"name\": \"Joe User\",\n",
    "    \"email\": \"joe.user@example.com\",\n",
    "    \"query\": f\"\"\"I bought a laptop carrying case and it turned out to be \n",
    "             the wrong size. I need to return it.\"\"\",\n",
    "    \"order_id\": 12345,\n",
    "    \"purchase_date\": \"2025-12-31\"\n",
    "}\n",
    "\n",
    "user_input = validate_user_input(input_data)"
   ]
  },
  {
   "cell_type": "code",
   "execution_count": 17,
   "id": "831a96c8",
   "metadata": {
    "height": 217
   },
   "outputs": [
    {
     "name": "stdout",
     "output_type": "stream",
     "text": [
      "✅ Valid user input created:\n",
      "{\n",
      "  \"name\": \"Joe User\",\n",
      "  \"email\": \"joe.user@example.com\",\n",
      "  \"query\": \"I bought a laptop carrying case and it turned out to be \\n             the wrong size. I need to return it.\",\n",
      "  \"order_id\": 12345,\n",
      "  \"purchase_date\": \"2025-12-31\"\n",
      "}\n"
     ]
    }
   ],
   "source": [
    "# Define order_id as a string\n",
    "input_data = {\n",
    "    \"name\": \"Joe User\",\n",
    "    \"email\": \"joe.user@example.com\",\n",
    "    \"query\": f\"\"\"I bought a laptop carrying case and it turned out to be \n",
    "             the wrong size. I need to return it.\"\"\",\n",
    "    \"order_id\": \"12345\",\n",
    "    \"purchase_date\": \"2025-12-31\"\n",
    "}\n",
    "\n",
    "# Validate the user input data\n",
    "user_input = validate_user_input(input_data)"
   ]
  },
  {
   "cell_type": "code",
   "execution_count": 18,
   "id": "008ba735",
   "metadata": {
    "height": 217
   },
   "outputs": [
    {
     "name": "stdout",
     "output_type": "stream",
     "text": [
      "❌ Validation error occurred:\n",
      "  - name: Input should be a valid string\n"
     ]
    }
   ],
   "source": [
    "# Define name field as an integer\n",
    "input_data = {\n",
    "    \"name\": 99999,\n",
    "    \"email\": \"joe.user@example.com\",\n",
    "    \"query\": f\"\"\"I bought a laptop carrying case and it turned out to be \n",
    "             the wrong size. I need to return it.\"\"\",\n",
    "    \"order_id\": 12345,\n",
    "    \"purchase_date\": \"2025-12-31\"\n",
    "}\n",
    "\n",
    "# Validate the user input data\n",
    "user_input = validate_user_input(input_data)"
   ]
  },
  {
   "cell_type": "markdown",
   "id": "0b5b6dfd",
   "metadata": {},
   "source": [
    "### Try starting with JSON data as input"
   ]
  },
  {
   "cell_type": "code",
   "execution_count": 19,
   "id": "5fced4d7",
   "metadata": {
    "height": 251
   },
   "outputs": [
    {
     "name": "stdout",
     "output_type": "stream",
     "text": [
      "Parsed JSON: {'name': 'Joe User', 'email': 'joe.user@example.com', 'query': 'I bought a keyboard and mouse and was overcharged.', 'order_id': 12345, 'purchase_date': '2025-12-31'}\n"
     ]
    }
   ],
   "source": [
    "# Define user input as JSON data\n",
    "json_data = '''\n",
    "{\n",
    "    \"name\": \"Joe User\",\n",
    "    \"email\": \"joe.user@example.com\",\n",
    "    \"query\": \"I bought a keyboard and mouse and was overcharged.\",\n",
    "    \"order_id\": 12345,\n",
    "    \"purchase_date\": \"2025-12-31\"\n",
    "}\n",
    "'''\n",
    "\n",
    "# Parse the JSON string into a Python dictionary\n",
    "input_data = json.loads(json_data)\n",
    "print(\"Parsed JSON:\", input_data)"
   ]
  },
  {
   "cell_type": "code",
   "execution_count": 20,
   "id": "854c71c3",
   "metadata": {},
   "outputs": [
    {
     "name": "stdout",
     "output_type": "stream",
     "text": [
      "{\n",
      "    \"name\": \"Joe User\",\n",
      "    \"email\": \"joe.user@example.com\",\n",
      "    \"query\": \"I bought a keyboard and mouse and was overcharged.\",\n",
      "    \"order_id\": 12345,\n",
      "    \"purchase_date\": \"2025-12-31\"\n",
      "}\n"
     ]
    }
   ],
   "source": [
    "import json\n",
    "# Parse the JSON string into a Python dictionary\n",
    "input_data = json.loads(json_data)\n",
    "\n",
    "# Converte o dicionário de volta para uma string JSON formatada\n",
    "# O parâmetro 'indent=4' adiciona 4 espaços de indentação para cada nível\n",
    "pretty_json = json.dumps(input_data, indent=4)\n",
    "\n",
    "print(pretty_json)"
   ]
  },
  {
   "cell_type": "code",
   "execution_count": 21,
   "id": "cfa83a9c",
   "metadata": {
    "height": 47
   },
   "outputs": [
    {
     "name": "stdout",
     "output_type": "stream",
     "text": [
      "✅ Valid user input created:\n",
      "{\n",
      "  \"name\": \"Joe User\",\n",
      "  \"email\": \"joe.user@example.com\",\n",
      "  \"query\": \"I bought a keyboard and mouse and was overcharged.\",\n",
      "  \"order_id\": 12345,\n",
      "  \"purchase_date\": \"2025-12-31\"\n",
      "}\n"
     ]
    }
   ],
   "source": [
    "# Validate the user iput data\n",
    "user_input = validate_user_input(input_data)"
   ]
  },
  {
   "cell_type": "code",
   "execution_count": 22,
   "id": "15c0bf4f",
   "metadata": {
    "height": 251
   },
   "outputs": [
    {
     "name": "stdout",
     "output_type": "stream",
     "text": [
      "Parsed JSON: {'name': 'Joe User', 'email': 'joe.user@example.com', 'query': 'My account has been locked for some reason.', 'order_id': '12345', 'purchase_date': '2025-12-31'}\n"
     ]
    }
   ],
   "source": [
    "# Try different JSON input\n",
    "json_data = '''\n",
    "{\n",
    "    \"name\": \"Joe User\",\n",
    "    \"email\": \"joe.user@example.com\",\n",
    "    \"query\": \"My account has been locked for some reason.\",\n",
    "    \"order_id\": \"12345\",\n",
    "    \"purchase_date\": \"2025-12-31\"\n",
    "}\n",
    "'''\n",
    "\n",
    "# Parse the JSON into a Python dictionary\n",
    "input_data = json.loads(json_data)\n",
    "print(\"Parsed JSON:\", input_data)"
   ]
  },
  {
   "cell_type": "code",
   "execution_count": 23,
   "id": "da043b60",
   "metadata": {
    "height": 47
   },
   "outputs": [
    {
     "name": "stdout",
     "output_type": "stream",
     "text": [
      "✅ Valid user input created:\n",
      "{\n",
      "  \"name\": \"Joe User\",\n",
      "  \"email\": \"joe.user@example.com\",\n",
      "  \"query\": \"My account has been locked for some reason.\",\n",
      "  \"order_id\": 12345,\n",
      "  \"purchase_date\": \"2025-12-31\"\n",
      "}\n"
     ]
    }
   ],
   "source": [
    "# Validate the customer support data from JSON with non-standard formats\n",
    "user_input = validate_user_input(input_data)"
   ]
  },
  {
   "cell_type": "markdown",
   "id": "7a6c4b1b",
   "metadata": {},
   "source": [
    "### Try the `model_validate_json` method"
   ]
  },
  {
   "cell_type": "markdown",
   "id": "b7564a7d",
   "metadata": {},
   "source": [
    "### Note: the following cell will produce a validation error. You can correct the error by following along with the video. "
   ]
  },
  {
   "cell_type": "code",
   "execution_count": 24,
   "id": "adad952a",
   "metadata": {
    "height": 79
   },
   "outputs": [
    {
     "name": "stdout",
     "output_type": "stream",
     "text": [
      "{\n",
      "  \"name\": \"Joe User\",\n",
      "  \"email\": \"joe.user@example.com\",\n",
      "  \"query\": \"My account has been locked for some reason.\",\n",
      "  \"order_id\": 12345,\n",
      "  \"purchase_date\": \"2025-12-31\"\n",
      "}\n"
     ]
    }
   ],
   "source": [
    "#! Parse JSON and validate user input data in one step using model_validate_json method\n",
    "user_input = UserInput.model_validate_json(json_data)\n",
    "print(user_input.model_dump_json(indent=2))"
   ]
  },
  {
   "cell_type": "markdown",
   "id": "31772700",
   "metadata": {},
   "source": [
    "---\n",
    "\n",
    "## Conclusion\n",
    "\n",
    "In this lesson, you learned how to use Pydantic models to validate user input for a customer support scenario. By defining clear data models and handling validation errors, you can ensure your code only works with well-formed data. This approach helps you build more robust and reliable applications, and sets the stage for more advanced validation and structured output in future lessons."
   ]
  }
 ],
 "metadata": {
  "kernelspec": {
   "display_name": ".venv",
   "language": "python",
   "name": "python3"
  },
  "language_info": {
   "codemirror_mode": {
    "name": "ipython",
    "version": 3
   },
   "file_extension": ".py",
   "mimetype": "text/x-python",
   "name": "python",
   "nbconvert_exporter": "python",
   "pygments_lexer": "ipython3",
   "version": "3.13.3"
  }
 },
 "nbformat": 4,
 "nbformat_minor": 5
}
