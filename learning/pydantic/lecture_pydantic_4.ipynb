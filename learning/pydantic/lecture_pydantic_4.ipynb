{
 "cells": [
  {
   "cell_type": "markdown",
   "metadata": {},
   "source": [
    "# Lesson: Usando Pydantic com OpenAI\n",
    "\n",
    "Nesta lição vamos aprender como usar **modelos Pydantic** para estruturar e validar saídas diretamente de LLMs da OpenAI.\n",
    "\n",
    "Objetivos:\n",
    "- Eliminar parsing manual de strings.\n",
    "- Garantir respostas estruturadas e validadas.\n",
    "- Construir **data models claros** que refletem os resultados esperados.\n",
    "- Usar as bibliotecas modernas `instructor` e `pydantic_ai` para simplificar o processo."
   ]
  },
  {
   "cell_type": "markdown",
   "metadata": {},
   "source": [
    "## 1. Setup\n",
    "\n",
    "Instale as bibliotecas necessárias:\n",
    "\n",
    "```bash\n",
    "pip install openai pydantic instructor pydantic-ai\n",
    "```\n",
    "\n",
    "E configure sua **OpenAI API Key** como variável de ambiente:\n",
    "\n",
    "```bash\n",
    "export OPENAI_API_KEY=\"sua_chave_aqui\"\n",
    "```"
   ]
  },
  {
   "cell_type": "code",
   "execution_count": null,
   "metadata": {},
   "outputs": [
    {
     "ename": "OpenAIError",
     "evalue": "The api_key client option must be set either by passing api_key to the client or by setting the OPENAI_API_KEY environment variable",
     "output_type": "error",
     "traceback": [
      "\u001b[31m---------------------------------------------------------------------------\u001b[39m",
      "\u001b[31mOpenAIError\u001b[39m                               Traceback (most recent call last)",
      "\u001b[36mCell\u001b[39m\u001b[36m \u001b[39m\u001b[32mIn[1]\u001b[39m\u001b[32m, line 6\u001b[39m\n\u001b[32m      3\u001b[39m \u001b[38;5;28;01mfrom\u001b[39;00m\u001b[38;5;250m \u001b[39m\u001b[34;01mopenai\u001b[39;00m\u001b[38;5;250m \u001b[39m\u001b[38;5;28;01mimport\u001b[39;00m OpenAI\n\u001b[32m      5\u001b[39m \u001b[38;5;66;03m# Inicializa o cliente OpenAI\u001b[39;00m\n\u001b[32m----> \u001b[39m\u001b[32m6\u001b[39m client = \u001b[43mOpenAI\u001b[49m\u001b[43m(\u001b[49m\u001b[43mapi_key\u001b[49m\u001b[43m=\u001b[49m\u001b[43mos\u001b[49m\u001b[43m.\u001b[49m\u001b[43mgetenv\u001b[49m\u001b[43m(\u001b[49m\u001b[33;43m\"\u001b[39;49m\u001b[33;43mOPENAI_API_KEY\u001b[39;49m\u001b[33;43m\"\u001b[39;49m\u001b[43m)\u001b[49m\u001b[43m)\u001b[49m\n",
      "\u001b[36mFile \u001b[39m\u001b[32m~/Workdir/langchain/study_langchain/.venv/lib/python3.13/site-packages/openai/_client.py:130\u001b[39m, in \u001b[36mOpenAI.__init__\u001b[39m\u001b[34m(self, api_key, organization, project, webhook_secret, base_url, websocket_base_url, timeout, max_retries, default_headers, default_query, http_client, _strict_response_validation)\u001b[39m\n\u001b[32m    128\u001b[39m     api_key = os.environ.get(\u001b[33m\"\u001b[39m\u001b[33mOPENAI_API_KEY\u001b[39m\u001b[33m\"\u001b[39m)\n\u001b[32m    129\u001b[39m \u001b[38;5;28;01mif\u001b[39;00m api_key \u001b[38;5;129;01mis\u001b[39;00m \u001b[38;5;28;01mNone\u001b[39;00m:\n\u001b[32m--> \u001b[39m\u001b[32m130\u001b[39m     \u001b[38;5;28;01mraise\u001b[39;00m OpenAIError(\n\u001b[32m    131\u001b[39m         \u001b[33m\"\u001b[39m\u001b[33mThe api_key client option must be set either by passing api_key to the client or by setting the OPENAI_API_KEY environment variable\u001b[39m\u001b[33m\"\u001b[39m\n\u001b[32m    132\u001b[39m     )\n\u001b[32m    133\u001b[39m \u001b[38;5;28mself\u001b[39m.api_key = api_key\n\u001b[32m    135\u001b[39m \u001b[38;5;28;01mif\u001b[39;00m organization \u001b[38;5;129;01mis\u001b[39;00m \u001b[38;5;28;01mNone\u001b[39;00m:\n",
      "\u001b[31mOpenAIError\u001b[39m: The api_key client option must be set either by passing api_key to the client or by setting the OPENAI_API_KEY environment variable"
     ]
    }
   ],
   "source": [
    "import os\n",
    "\n",
    "from openai import OpenAI\n",
    "\n",
    "# Inicializa o cliente OpenAI\n",
    "client = OpenAI(api_key=os.getenv(\"OPENAI_API_KEY\"))"
   ]
  },
  {
   "cell_type": "markdown",
   "metadata": {},
   "source": [
    "## 2. Exemplo com Pydantic + Instructor\n",
    "\n",
    "Aqui vamos criar um modelo de dados `Person` e pedir ao LLM para preencher com informações.\n",
    "A biblioteca `instructor` permite passar o modelo Pydantic diretamente para o cliente OpenAI."
   ]
  },
  {
   "cell_type": "code",
   "execution_count": null,
   "metadata": {},
   "outputs": [],
   "source": [
    "import instructor\n",
    "from pydantic import BaseModel\n",
    "\n",
    "\n",
    "# Definindo um modelo de dados\n",
    "class Person(BaseModel):\n",
    "    name: str\n",
    "    age: int\n",
    "    city: str\n",
    "\n",
    "\n",
    "# Habilita instructor no cliente\n",
    "client = instructor.patch(client)\n",
    "\n",
    "# Solicita ao modelo\n",
    "person = client.chat.completions.create(\n",
    "    model=\"gpt-4o\",\n",
    "    messages=[\n",
    "        {\n",
    "            \"role\": \"user\",\n",
    "            \"content\": \"Crie uma pessoa fictícia com nome, idade e cidade.\",\n",
    "        }\n",
    "    ],\n",
    "    response_model=Person,\n",
    ")\n",
    "\n",
    "print(person)"
   ]
  },
  {
   "cell_type": "markdown",
   "metadata": {},
   "source": [
    "## 3. Exemplo com Pydantic_AI\n",
    "\n",
    "A biblioteca `pydantic_ai` oferece uma forma ainda mais simplificada de conectar Pydantic + LLMs.\n",
    "Aqui, pediremos ao modelo uma lista estruturada de **livros recomendados**."
   ]
  },
  {
   "cell_type": "code",
   "execution_count": null,
   "metadata": {},
   "outputs": [],
   "source": [
    "from pydantic_ai import Agent\n",
    "\n",
    "\n",
    "class Book(BaseModel):\n",
    "    title: str\n",
    "    author: str\n",
    "    year: int\n",
    "\n",
    "\n",
    "# Criando um agente baseado no modelo gpt-4o\n",
    "agent = Agent(\"gpt-4o\", response_format=list[Book])\n",
    "\n",
    "books = agent.run(\"Liste 3 livros de ficção científica importantes.\")\n",
    "\n",
    "for b in books:\n",
    "    print(b)"
   ]
  },
  {
   "cell_type": "markdown",
   "metadata": {},
   "source": [
    "## 4. Exemplo prático: Sugestões de restaurantes\n",
    "\n",
    "Aqui criamos um modelo mais elaborado que retorna uma lista estruturada de restaurantes sugeridos pelo modelo."
   ]
  },
  {
   "cell_type": "code",
   "execution_count": null,
   "metadata": {},
   "outputs": [],
   "source": [
    "class Restaurant(BaseModel):\n",
    "    name: str\n",
    "    cuisine: str\n",
    "    rating: float\n",
    "    city: str\n",
    "\n",
    "\n",
    "agent = Agent(\"gpt-4o\", response_format=list[Restaurant])\n",
    "\n",
    "restaurants = agent.run(\n",
    "    \"Sugira 3 restaurantes famosos em São Paulo com nome, tipo de cozinha, nota (0-5) e cidade.\"\n",
    ")\n",
    "\n",
    "for r in restaurants:\n",
    "    print(r)"
   ]
  },
  {
   "cell_type": "markdown",
   "metadata": {},
   "source": [
    "## 5. Conclusão\n",
    "\n",
    "- Usando **Pydantic** + **LLMs**, conseguimos saídas já estruturadas e validadas.\n",
    "- Com `instructor`, passamos o modelo Pydantic direto no `response_model`.\n",
    "- Com `pydantic_ai`, definimos o esquema de saída no próprio agente.\n",
    "- Benefícios: código mais robusto, fácil de manter e com menos erros de parsing manual."
   ]
  }
 ],
 "metadata": {
  "kernelspec": {
   "display_name": "study_langchain",
   "language": "python",
   "name": "python3"
  },
  "language_info": {
   "codemirror_mode": {
    "name": "ipython",
    "version": 3
   },
   "file_extension": ".py",
   "mimetype": "text/x-python",
   "name": "python",
   "nbconvert_exporter": "python",
   "pygments_lexer": "ipython3",
   "version": "3.13.3"
  }
 },
 "nbformat": 4,
 "nbformat_minor": 5
}
