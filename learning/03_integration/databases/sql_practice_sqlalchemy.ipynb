{
 "cells": [
  {
   "cell_type": "markdown",
   "id": "acf90bed",
   "metadata": {},
   "source": [
    "## Practicando sqlalchemy no python\n"
   ]
  },
  {
   "cell_type": "code",
   "execution_count": null,
   "id": "75c37868",
   "metadata": {},
   "outputs": [],
   "source": [
    "import pandas as pd \n",
    "import sqlalchemy as sql \n",
    "from sqlalchemy import create_engine, text\n",
    "from sqlalchemy.engine import Engine"
   ]
  }
 ],
 "metadata": {
  "kernelspec": {
   "display_name": "study_langchain",
   "language": "python",
   "name": "python3"
  },
  "language_info": {
   "name": "python",
   "version": "-1.-1.-1"
  }
 },
 "nbformat": 4,
 "nbformat_minor": 5
}
