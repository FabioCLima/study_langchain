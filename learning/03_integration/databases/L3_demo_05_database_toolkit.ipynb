{
 "cells": [
  {
   "cell_type": "code",
   "execution_count": 1,
   "metadata": {},
   "outputs": [],
   "source": [
    "import pandas as pd\n",
    "import sqlalchemy\n",
    "from langchain_core.runnables.config import RunnableConfig\n",
    "from langchain_core.tools import tool  #type: ignore\n",
    "from sqlalchemy import create_engine, text\n",
    "from sqlalchemy.engine.base import Engine"
   ]
  },
  {
   "cell_type": "markdown",
   "metadata": {},
   "source": [
    "* A função create_engine do SQLAlchemy para nos conectarmos ao banco de dados, que é um arquivo local chamado `sales.db`.\n",
    "* Estabelecer a ponte de comunicação entre nosso código Python e o banco de dados. A variável db_engine agora representa essa conexão ativa."
   ]
  },
  {
   "cell_type": "code",
   "execution_count": 2,
   "metadata": {},
   "outputs": [],
   "source": [
    "db_engine = create_engine(\"sqlite:///sales.db\")"
   ]
  },
  {
   "cell_type": "markdown",
   "metadata": {},
   "source": [
    "As células abaixo 3 a 6 exploram o banco de dados.\n",
    "\n",
    "O Código: Primeiro, criamos um objeto `inspector` para \"olhar dentro\" do banco de dados. Em seguida, usamos esse `inspetor` para listar os nomes das **tabelas** e depois para obter os detalhes das colunas de uma tabela específica, a **\"sales\"**. Por fim, extraímos apenas os nomes das colunas para uma lista.\n",
    "\n",
    "O Objetivo: **Antes de fazer perguntas, precisamos saber o que há no banco de dados. Esta é a fase de reconhecimento. Estamos descobrindo quais tabelas existem e qual é a estrutura delas.**"
   ]
  },
  {
   "cell_type": "code",
   "execution_count": 3,
   "metadata": {},
   "outputs": [],
   "source": [
    "inspector = sqlalchemy.inspect(db_engine)"
   ]
  },
  {
   "cell_type": "code",
   "execution_count": 4,
   "metadata": {},
   "outputs": [
    {
     "data": {
      "text/plain": [
       "['sales']"
      ]
     },
     "execution_count": 4,
     "metadata": {},
     "output_type": "execute_result"
    }
   ],
   "source": [
    "inspector.get_table_names()"
   ]
  },
  {
   "cell_type": "code",
   "execution_count": 5,
   "metadata": {},
   "outputs": [
    {
     "data": {
      "text/plain": [
       "[{'name': 'id',\n",
       "  'type': INTEGER(),\n",
       "  'nullable': False,\n",
       "  'default': None,\n",
       "  'primary_key': 1},\n",
       " {'name': 'transaction_date',\n",
       "  'type': DATE(),\n",
       "  'nullable': False,\n",
       "  'default': None,\n",
       "  'primary_key': 0},\n",
       " {'name': 'model',\n",
       "  'type': VARCHAR(length=50),\n",
       "  'nullable': False,\n",
       "  'default': None,\n",
       "  'primary_key': 0},\n",
       " {'name': 'price',\n",
       "  'type': FLOAT(),\n",
       "  'nullable': False,\n",
       "  'default': None,\n",
       "  'primary_key': 0},\n",
       " {'name': 'quantity',\n",
       "  'type': INTEGER(),\n",
       "  'nullable': True,\n",
       "  'default': None,\n",
       "  'primary_key': 0},\n",
       " {'name': 'customer_id',\n",
       "  'type': INTEGER(),\n",
       "  'nullable': True,\n",
       "  'default': None,\n",
       "  'primary_key': 0}]"
      ]
     },
     "execution_count": 5,
     "metadata": {},
     "output_type": "execute_result"
    }
   ],
   "source": [
    "table_name = \"sales\"\n",
    "inspector.get_columns(table_name)"
   ]
  },
  {
   "cell_type": "code",
   "execution_count": 6,
   "metadata": {},
   "outputs": [
    {
     "data": {
      "text/plain": [
       "['id', 'transaction_date', 'model', 'price', 'quantity', 'customer_id']"
      ]
     },
     "execution_count": 6,
     "metadata": {},
     "output_type": "execute_result"
    }
   ],
   "source": [
    "schema = inspector.get_columns(table_name)\n",
    "column_names = [column[\"name\"] for column in schema]\n",
    "column_names"
   ]
  },
  {
   "cell_type": "markdown",
   "metadata": {},
   "source": [
    "As células 7-10: Executando uma query de teste\n",
    "\n",
    "**O Código**: Construímos uma string SQL para selecionar as 10 primeiras linhas da tabela \"sales\". Usamos o db_engine para executar essa query e guardar o resultado na variável answer. A célula 9 mostra o resultado \"cru\" (uma lista de tuplas). A célula 10 usa o Pandas para mostrar esse mesmo resultado de forma organizada.\n",
    "\n",
    "**O Objetivo**: Validar nossa conexão e entender o formato dos dados. A comparação entre a saída da célula 9 e 10 demonstra claramente o valor do Pandas para a legibilidade."
   ]
  },
  {
   "cell_type": "code",
   "execution_count": 7,
   "metadata": {},
   "outputs": [],
   "source": [
    "sql = f\"SELECT * FROM {table_name} LIMIT 10\""
   ]
  },
  {
   "cell_type": "code",
   "execution_count": null,
   "metadata": {},
   "outputs": [],
   "source": [
    "with db_engine.begin() as connection:\n",
    "    answer = connection.execute(text(sql)).fetchall()"
   ]
  },
  {
   "cell_type": "code",
   "execution_count": null,
   "metadata": {},
   "outputs": [],
   "source": [
    "answer"
   ]
  },
  {
   "cell_type": "code",
   "execution_count": null,
   "metadata": {},
   "outputs": [],
   "source": [
    "pd.DataFrame(answer, columns=column_names)"
   ]
  },
  {
   "cell_type": "markdown",
   "metadata": {},
   "source": [
    "**Tools**"
   ]
  },
  {
   "cell_type": "code",
   "execution_count": null,
   "metadata": {},
   "outputs": [],
   "source": [
    "@tool\n",
    "def list_tables_tool(config: RunnableConfig) -> list[str]:\n",
    "    \"\"\"List all tables in database\n",
    "    \"\"\"\n",
    "    db_engine: Engine = config.get(\"configurable\", {}).get(\"db_engine\")\n",
    "    inspector = sqlalchemy.inspect(db_engine)\n",
    "\n",
    "    return inspector.get_table_names()"
   ]
  },
  {
   "cell_type": "code",
   "execution_count": null,
   "metadata": {},
   "outputs": [],
   "source": [
    "@tool\n",
    "def get_table_schema_tool(table_name: str, config: RunnableConfig) -> list[str]:\n",
    "    \"\"\"Get schema information about a table. Returns a list of dictionaries.\n",
    "    - name is the column name\n",
    "    - type is the column type\n",
    "    - nullable is whether the column is nullable or not\n",
    "    - default is the default value of the column\n",
    "    - primary_key is whether the column is a primary key or not\n",
    "\n",
    "    Args:\n",
    "        table_name (str): Table name\n",
    "\n",
    "    \"\"\"\n",
    "    db_engine: Engine = config.get(\"configurable\", {}).get(\"db_engine\")\n",
    "    inspector = sqlalchemy.inspect(db_engine)\n",
    "\n",
    "    return inspector.get_columns(table_name)\n"
   ]
  },
  {
   "cell_type": "code",
   "execution_count": null,
   "metadata": {},
   "outputs": [],
   "source": [
    "@tool\n",
    "def execute_sql_tool(query: str, config: RunnableConfig) -> int:\n",
    "    \"\"\"Execute SQL query and return result.\n",
    "    This will automatically connect to the database and execute the query.\n",
    "    However, if the query is not valid, an error will be raised\n",
    "\n",
    "    Args:\n",
    "        query (str): SQL query\n",
    "\n",
    "    \"\"\"\n",
    "    db_engine: Engine = config.get(\"configurable\", {}).get(\"db_engine\")\n",
    "    with db_engine.begin() as connection:\n",
    "        answer = connection.execute(text(query)).fetchall()\n",
    "\n",
    "    return answer"
   ]
  },
  {
   "cell_type": "code",
   "execution_count": null,
   "metadata": {},
   "outputs": [],
   "source": [
    "db_engine = create_engine(\"sqlite:///sales.db\")"
   ]
  },
  {
   "cell_type": "code",
   "execution_count": null,
   "metadata": {},
   "outputs": [],
   "source": [
    "config = {\"configurable\": {\"db_engine\": db_engine}}"
   ]
  },
  {
   "cell_type": "code",
   "execution_count": null,
   "metadata": {},
   "outputs": [],
   "source": [
    "tables = list_tables_tool.invoke({}, config)\n",
    "tables"
   ]
  },
  {
   "cell_type": "code",
   "execution_count": null,
   "metadata": {},
   "outputs": [],
   "source": [
    "schemas = {\n",
    "    table: get_table_schema_tool.invoke({\n",
    "            \"table_name\": table\n",
    "        }, config)\n",
    "    for table in tables\n",
    "}\n",
    "schemas"
   ]
  },
  {
   "cell_type": "code",
   "execution_count": null,
   "metadata": {},
   "outputs": [],
   "source": [
    "sql = f\"SELECT * FROM {tables[0]} LIMIT 10\"\n",
    "result = execute_sql_tool.invoke({\"query\": sql}, config)\n",
    "result"
   ]
  },
  {
   "cell_type": "code",
   "execution_count": null,
   "metadata": {},
   "outputs": [],
   "source": []
  }
 ],
 "metadata": {
  "kernelspec": {
   "display_name": ".venv",
   "language": "python",
   "name": "python3"
  },
  "language_info": {
   "codemirror_mode": {
    "name": "ipython",
    "version": 3
   },
   "file_extension": ".py",
   "mimetype": "text/x-python",
   "name": "python",
   "nbconvert_exporter": "python",
   "pygments_lexer": "ipython3",
   "version": "3.13.3"
  }
 },
 "nbformat": 4,
 "nbformat_minor": 2
}
